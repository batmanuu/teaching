{
 "cells": [
  {
   "cell_type": "markdown",
   "metadata": {},
   "source": [
    "# Nível 1 - Variáveis simples"
   ]
  },
  {
   "cell_type": "markdown",
   "metadata": {},
   "source": [
    "## Soma de 2 números"
   ]
  },
  {
   "cell_type": "markdown",
   "metadata": {},
   "source": [
    "Crie duas variáveis int, `a` e `b`, atribua os valores `5` e `6` a elas, respectivamente, e imprima a soma delas."
   ]
  },
  {
   "cell_type": "code",
   "execution_count": null,
   "metadata": {},
   "outputs": [],
   "source": [
    "a = 5\n",
    "b = 6"
   ]
  },
  {
   "cell_type": "markdown",
   "metadata": {},
   "source": [
    "## Acesso a caractere"
   ]
  },
  {
   "cell_type": "markdown",
   "metadata": {},
   "source": [
    "Crie uma variável string, `texto`, atribua o valor `\"Python\"` a ela, e imprima o terceiro caractere da string. Resolução:"
   ]
  },
  {
   "cell_type": "code",
   "execution_count": null,
   "metadata": {},
   "outputs": [],
   "source": []
  },
  {
   "cell_type": "markdown",
   "metadata": {},
   "source": [
    "## Cálculo de Área de um Círculo"
   ]
  },
  {
   "cell_type": "markdown",
   "metadata": {},
   "source": [
    "Faça um programa em Python que calcule a área de um círculode raio = 10, e o programa deve utilizar a fórmula da área do círculo (π * raio**2).  \n",
    "Dica: import math para pi"
   ]
  },
  {
   "cell_type": "code",
   "execution_count": null,
   "metadata": {},
   "outputs": [],
   "source": [
    "import math\n",
    "\n",
    "raio = 10"
   ]
  },
  {
   "cell_type": "markdown",
   "metadata": {},
   "source": [
    "## 2. Comparação de Números"
   ]
  },
  {
   "cell_type": "markdown",
   "metadata": {},
   "source": [
    "Escreva um programa que verifique se num=1 e num=2 são iguais ou qual é o maior entre eles."
   ]
  },
  {
   "cell_type": "code",
   "execution_count": null,
   "metadata": {},
   "outputs": [],
   "source": []
  },
  {
   "cell_type": "markdown",
   "metadata": {},
   "source": [
    " ## 3. Conversão de Temperatura"
   ]
  },
  {
   "cell_type": "markdown",
   "metadata": {},
   "source": [
    "Faça um programa que converta a temperatura de 10 graus Celsius para Fahrenheit. O programa deve mostrar o equivalente em Fahrenheit.  \n",
    "Dica: (celsius * 9/5) + 32"
   ]
  },
  {
   "cell_type": "code",
   "execution_count": null,
   "metadata": {},
   "outputs": [],
   "source": [
    "celsius = float(10.0)"
   ]
  },
  {
   "cell_type": "markdown",
   "metadata": {},
   "source": [
    "## 4. Concatenação de Strings"
   ]
  },
  {
   "cell_type": "markdown",
   "metadata": {},
   "source": [
    "Escreva um programa que, dado o nome e o sobrenome do usuário ser Thales Valente, imprima uma saudação com o nome completo.\n",
    "Dica: use concatenacao de string"
   ]
  },
  {
   "cell_type": "code",
   "execution_count": null,
   "metadata": {},
   "outputs": [],
   "source": []
  },
  {
   "cell_type": "markdown",
   "metadata": {},
   "source": [
    "## 5. Verificação de Paridade"
   ]
  },
  {
   "cell_type": "markdown",
   "metadata": {},
   "source": [
    "Desenvolva um programa que dado número inteiro numero=10 determine se ele é par ou ímpar."
   ]
  },
  {
   "cell_type": "code",
   "execution_count": null,
   "metadata": {},
   "outputs": [],
   "source": [
    "numero = 10"
   ]
  },
  {
   "cell_type": "markdown",
   "metadata": {},
   "source": [
    "## 6. Cálculo de Média Aritmética"
   ]
  },
  {
   "cell_type": "markdown",
   "metadata": {},
   "source": [
    "Escreva um programa que calcule a média aritmética de três números decimais num1=10, num2=25, num3=30.50"
   ]
  },
  {
   "cell_type": "code",
   "execution_count": null,
   "metadata": {},
   "outputs": [],
   "source": []
  },
  {
   "cell_type": "markdown",
   "metadata": {},
   "source": [
    "# Nível 2 - Listas"
   ]
  },
  {
   "cell_type": "markdown",
   "metadata": {},
   "source": [
    "## Remoção de Elementos Específicos"
   ]
  },
  {
   "cell_type": "markdown",
   "metadata": {},
   "source": [
    "Dada a lista numeros = [5, 3, 8, 6, 3, 2, 9, 3, 7], escreva um programa que remova todas as ocorrências do número 3 e imprima a lista resultante.  \n",
    "Dica: voce pode usar compressao de lista"
   ]
  },
  {
   "cell_type": "code",
   "execution_count": null,
   "metadata": {},
   "outputs": [],
   "source": []
  },
  {
   "cell_type": "markdown",
   "metadata": {},
   "source": [
    "## Elementos Comuns entre Duas Listas"
   ]
  },
  {
   "cell_type": "markdown",
   "metadata": {},
   "source": [
    "Considere as listas lista1 = [1, 2, 3, 4, 5] e lista2 = [4, 5, 6, 7]. Escreva um programa que encontre os elementos comuns entre lista1 e lista2."
   ]
  },
  {
   "cell_type": "code",
   "execution_count": null,
   "metadata": {},
   "outputs": [],
   "source": [
    "lista1 = [1, 2, 3, 4, 5]\n",
    "lista2 = [4, 5, 6, 7]"
   ]
  },
  {
   "cell_type": "markdown",
   "metadata": {},
   "source": [
    "## Inverter Lista"
   ]
  },
  {
   "cell_type": "markdown",
   "metadata": {},
   "source": [
    "Dada a lista elementos = ['a', 'b', 'c', 'd', 'e'], escreva um programa que inverta a ordem dos elementos na lista sem usar métodos integrados ou fatiamento.  \n",
    "Dica: use sort() + reverse ou revert() ou percorra lista na ordem inversa com for ou compressao de lista"
   ]
  },
  {
   "cell_type": "code",
   "execution_count": null,
   "metadata": {},
   "outputs": [],
   "source": []
  },
  {
   "cell_type": "markdown",
   "metadata": {},
   "source": [
    "##  Contagem de Elementos"
   ]
  },
  {
   "cell_type": "markdown",
   "metadata": {},
   "source": [
    "Para a lista valores = [1, 4, 2, 4, 5, 4, 2, 1], escreva um programa que conte quantas vezes o número 4 aparece.  \n",
    "Dica: use count()"
   ]
  },
  {
   "cell_type": "code",
   "execution_count": null,
   "metadata": {},
   "outputs": [],
   "source": []
  },
  {
   "cell_type": "markdown",
   "metadata": {},
   "source": [
    "## Filtrar Elementos Pares e Somá-los"
   ]
  },
  {
   "cell_type": "markdown",
   "metadata": {},
   "source": [
    "Dada a lista numeros = [1, 2, 3, 4, 5, 6, 7, 8, 9], escreva um programa que filtre os números pares e calcule a soma desses números pares.  \n",
    "Dica: use compressao de lista e sum()"
   ]
  },
  {
   "cell_type": "code",
   "execution_count": null,
   "metadata": {},
   "outputs": [],
   "source": [
    "numeros = [1, 2, 3, 4, 5, 6, 7, 8, 9]\n",
    "pares = [num for num in numeros if num % 2 == 0]\n",
    "soma_pares = sum(pares)\n",
    "print(soma_pares)"
   ]
  },
  {
   "cell_type": "markdown",
   "metadata": {},
   "source": [
    "## Frequência de Termos"
   ]
  },
  {
   "cell_type": "markdown",
   "metadata": {},
   "source": [
    "Dada a lista de palavras palavras = ['mineração', 'dados', 'informação', 'dados', 'mineração', 'ciência'], escreva um programa que calcule e imprima a frequência de cada palavra na lista."
   ]
  },
  {
   "cell_type": "code",
   "execution_count": null,
   "metadata": {},
   "outputs": [],
   "source": [
    "palavras = ['mineração', 'dados', 'informação', 'dados', 'mineração', 'ciência']\n",
    "frequencia = {}\n"
   ]
  },
  {
   "cell_type": "markdown",
   "metadata": {},
   "source": [
    "## Normalização de Dados"
   ]
  },
  {
   "cell_type": "markdown",
   "metadata": {},
   "source": [
    "Dada a lista de valores valores = [150, 200, 250, 300, 350, 400], escreva um programa que normalize os dados subtraindo o mínimo e dividindo pela amplitude (diferença entre o máximo e o mínimo)."
   ]
  },
  {
   "cell_type": "code",
   "execution_count": null,
   "metadata": {},
   "outputs": [],
   "source": [
    "valores = [150, 200, 250, 300, 350, 400]\n",
    "min_val = min(valores)\n",
    "max_val = max(valores)"
   ]
  },
  {
   "cell_type": "markdown",
   "metadata": {},
   "source": [
    "## Extração de Subconjunto"
   ]
  },
  {
   "cell_type": "markdown",
   "metadata": {},
   "source": [
    "Suponha uma lista de dados dados = [12, 15, 7, 9, 11, 13, 17, 14, 16, 10]. Escreva um programa que extraia um subconjunto dos dados contendo apenas os elementos nas posições ímpares (considerando a indexação começando em 0)."
   ]
  },
  {
   "cell_type": "code",
   "execution_count": null,
   "metadata": {},
   "outputs": [],
   "source": [
    "dados = [12, 15, 7, 9, 11, 13, 17, 14, 16, 10]"
   ]
  },
  {
   "cell_type": "markdown",
   "metadata": {},
   "source": [
    "# Nivel 3 - Tuplas"
   ]
  },
  {
   "cell_type": "markdown",
   "metadata": {},
   "source": [
    "## Comparação de Tuplas modo 1"
   ]
  },
  {
   "cell_type": "markdown",
   "metadata": {},
   "source": [
    "Dadas as tuplas de dados dados_a = (23, 48, 15, 22) e dados_b = (15, 48, 23, 22), escreva um programa que verifique se as duas tuplas contêm os mesmos elementos, independentemente da ordem.  \n",
    "Dica: ordene as tuplas usando sorted() e compare elmento a elemento. Da de resolver com for, compressao de lista e comparacao direta tambem"
   ]
  },
  {
   "cell_type": "code",
   "execution_count": null,
   "metadata": {},
   "outputs": [],
   "source": [
    "dados_a = (23, 48, 15, 22)\n",
    "dados_b = (15, 48, 23, 22)\n"
   ]
  },
  {
   "cell_type": "markdown",
   "metadata": {},
   "source": [
    "## Comparacao de Tuplas modo 2"
   ]
  },
  {
   "cell_type": "markdown",
   "metadata": {},
   "source": [
    "Dadas as tuplas dados1 = (20, 30, 40) e dados2 = (30, 40, 50), escreva um programa que compare os elementos de mesma posição nas duas tuplas e imprima quantas vezes os elementos de dados1 são menores que os de dados2.  \n",
    "Dica. Combine descompactacao para que x1, x2 receba as variaveis de ambas as duplas, que voce pode percorrer ao mesmotempo usando zip. Nao esqueca de comparar os valores. Da pra resolver tudo em uma linha de codigo usando conceitos de compressao de lista e a funcao sum()"
   ]
  },
  {
   "cell_type": "code",
   "execution_count": null,
   "metadata": {},
   "outputs": [],
   "source": []
  },
  {
   "cell_type": "markdown",
   "metadata": {},
   "source": [
    "## Contagem em Tuplas"
   ]
  },
  {
   "cell_type": "markdown",
   "metadata": {},
   "source": [
    "Dada uma tupla de dados valores = (4, 5, 6, 7, 8, 9, 10, 4, 5, 6), escreva um programa que determine a frequência de cada elemento e imprima cada elemento junto com sua frequência.  \n",
    "Dica: use set() para eliminar os repetidos e percorrer o novo conjunto. Dai voce pode, para cada elemento, usar count(elemento), armazenando esses valores em uma lista"
   ]
  },
  {
   "cell_type": "code",
   "execution_count": null,
   "metadata": {},
   "outputs": [],
   "source": [
    "valores = (4, 5, 6, 7, 8, 9, 10, 4, 5, 6)\n",
    "elementos_sem_repeticao = set(valores)\n",
    "frequencia = []"
   ]
  },
  {
   "cell_type": "markdown",
   "metadata": {},
   "source": [
    "## Concatenação e Ordenação de Tuplas"
   ]
  },
  {
   "cell_type": "markdown",
   "metadata": {},
   "source": [
    "Dadas duas tuplas tupla1 = (9, 3, 6, 2) e tupla2 = (5, 7, 4, 8), escreva um programa que concatene as duas tuplas e, em seguida, crie uma nova tupla com todos os elementos ordenados em ordem crescente.\n",
    "Dica: use sorted() para ordenar"
   ]
  },
  {
   "cell_type": "code",
   "execution_count": null,
   "metadata": {},
   "outputs": [],
   "source": [
    "tupla1 = (9, 3, 6, 2)\n",
    "tupla2 = (5, 7, 4, 8)"
   ]
  },
  {
   "cell_type": "markdown",
   "metadata": {},
   "source": [
    "# Nivel 4 - Dicionarios"
   ]
  },
  {
   "cell_type": "markdown",
   "metadata": {},
   "source": [
    "## Atualizando Valores em um Dicionário"
   ]
  },
  {
   "cell_type": "markdown",
   "metadata": {},
   "source": [
    "Considere o dicionário estoque = {'maçãs': 30, 'bananas': 45, 'laranjas': 25}. Escreva um programa que adicione 10 unidades ao estoque de 'maçãs' e subtraia 5 unidades do estoque de 'bananas'."
   ]
  },
  {
   "cell_type": "code",
   "execution_count": null,
   "metadata": {},
   "outputs": [],
   "source": []
  },
  {
   "cell_type": "markdown",
   "metadata": {},
   "source": [
    "## Filtrando Dicionário por Valor"
   ]
  },
  {
   "cell_type": "markdown",
   "metadata": {},
   "source": [
    "Dado o dicionário notas = {'Ana': 88, 'Bruno': 95, 'Carlos': 77, 'Diana': 69}, escreva um programa que gere um novo dicionário com os alunos que têm nota superior a 80."
   ]
  },
  {
   "cell_type": "code",
   "execution_count": 5,
   "metadata": {},
   "outputs": [],
   "source": [
    "notas = {'Ana': 88, 'Bruno': 95, 'Carlos': 77, 'Diana': 69}"
   ]
  },
  {
   "cell_type": "markdown",
   "metadata": {},
   "source": [
    "## Contando Ocorrências em Lista"
   ]
  },
  {
   "cell_type": "markdown",
   "metadata": {},
   "source": [
    "Dada a lista palavras = ['maçã', 'banana', 'cereja', 'banana', 'cereja', 'cereja', 'maçã'], escreva um programa que crie um dicionário onde as chaves são as palavras únicas e os valores são a contagem de suas ocorrências na lista."
   ]
  },
  {
   "cell_type": "code",
   "execution_count": 4,
   "metadata": {},
   "outputs": [],
   "source": [
    "palavras = ['maçã', 'banana', 'cereja', 'banana', 'cereja', 'cereja', 'maçã']\n",
    "contagem = {}"
   ]
  },
  {
   "cell_type": "markdown",
   "metadata": {},
   "source": [
    "## Invertendo Chave-Valor"
   ]
  },
  {
   "cell_type": "markdown",
   "metadata": {},
   "source": [
    "Dado o dicionário codigo_cores = {'vermelho': '#FF0000', 'verde': '#008000', 'azul': '#0000FF'}, escreva um programa que inverta as chaves e os valores do dicionário."
   ]
  },
  {
   "cell_type": "code",
   "execution_count": 3,
   "metadata": {},
   "outputs": [],
   "source": [
    "codigo_cores = {'vermelho': '#FF0000', 'verde': '#008000', 'azul': '#0000FF'}\n"
   ]
  },
  {
   "cell_type": "markdown",
   "metadata": {},
   "source": [
    "## Agrupando por Valor"
   ]
  },
  {
   "cell_type": "markdown",
   "metadata": {},
   "source": [
    "Dado o dicionário itens = {'maçã': 'fruta', 'cenoura': 'legume', 'banana': 'fruta', 'beterraba': 'legume'}, escreva um programa que organize os itens em um novo dicionário agrupados por tipo (fruta, legume, etc.)."
   ]
  },
  {
   "cell_type": "code",
   "execution_count": 2,
   "metadata": {},
   "outputs": [
    {
     "ename": "IndentationError",
     "evalue": "expected an indented block (1017851494.py, line 3)",
     "output_type": "error",
     "traceback": [
      "\u001b[1;36m  Cell \u001b[1;32mIn[2], line 3\u001b[1;36m\u001b[0m\n\u001b[1;33m    for item, tipo in itens.items():\u001b[0m\n\u001b[1;37m                                    ^\u001b[0m\n\u001b[1;31mIndentationError\u001b[0m\u001b[1;31m:\u001b[0m expected an indented block\n"
     ]
    }
   ],
   "source": [
    "itens = {'maçã': 'fruta', 'cenoura': 'legume', 'banana': 'fruta', 'beterraba': 'legume'}\n",
    "agrupados = {}\n",
    "for item, tipo in itens.items():"
   ]
  },
  {
   "cell_type": "markdown",
   "metadata": {},
   "source": [
    "# Nível 5 - Avançado / Todos os conceitos"
   ]
  },
  {
   "cell_type": "markdown",
   "metadata": {},
   "source": [
    "## Contagem de Termos"
   ]
  },
  {
   "cell_type": "markdown",
   "metadata": {},
   "source": [
    "Dado um conjunto de dados em forma de lista de strings tweets = [\"Big data é o futuro\", \"Mineração de dados com Python\", \"Python e big data na indústria 4.0\"], escreva um programa que conte a frequência de cada palavra, ignorando a distinção entre maiúsculas e minúsculas.  \n",
    "Dica: O programa processa cada tweet, dividindo-o em palavras e contando a frequência de cada uma, considerando todas as palavras em minúsculas para unificar a contagem."
   ]
  },
  {
   "cell_type": "code",
   "execution_count": null,
   "metadata": {},
   "outputs": [],
   "source": [
    "tweets = [\"Big data é o futuro\", \"Mineração de dados com Python\", \"Python e big data na indústria 4.0\"]\n",
    "contagem = {}\n",
    "for frase in tweets:"
   ]
  },
  {
   "cell_type": "markdown",
   "metadata": {},
   "source": [
    "## Diferença de Conjuntos"
   ]
  },
  {
   "cell_type": "markdown",
   "metadata": {},
   "source": [
    "Considere duas listas de dados, lista1 = [1, 2, 3, 4, 5] e lista2 = [4, 5, 6, 7, 8]. Escreva um programa que determine os elementos presentes em lista1 que não estão em lista2.  \n",
    "Dica: O programa usa compreensão de lista para encontrar os elementos que estão em lista1 mas não em lista2, representando a diferença entre os conjuntos."
   ]
  },
  {
   "cell_type": "code",
   "execution_count": 1,
   "metadata": {},
   "outputs": [],
   "source": [
    "lista1 = [1, 2, 3, 4, 5]\n",
    "lista2 = [4, 5, 6, 7, 8]"
   ]
  },
  {
   "cell_type": "markdown",
   "metadata": {},
   "source": [
    "## Filtragem e Ordenação"
   ]
  },
  {
   "cell_type": "markdown",
   "metadata": {},
   "source": [
    "Dada uma lista de tuplas representando produtos e seus preços, produtos_precos = [('maçã', 1.50), ('banana', 3.20), ('cenoura', 0.95), ('batata', 1.10)], escreva um programa que filtre os produtos com preço superior a $1.00 e ordene-os pelo preço em ordem crescente.  \n",
    "Dica: O programa filtra as tuplas onde o preço do produto é superior a $1.00 e, em seguida, ordena os produtos filtrados pelo preço em ordem crescente."
   ]
  },
  {
   "cell_type": "code",
   "execution_count": null,
   "metadata": {},
   "outputs": [],
   "source": [
    "produtos_precos = [('maçã', 1.50), ('banana', 3.20), ('cenoura', 0.95), ('batata', 1.10)]"
   ]
  },
  {
   "cell_type": "markdown",
   "metadata": {},
   "source": [
    "## Análise de Sentimento Simples"
   ]
  },
  {
   "cell_type": "markdown",
   "metadata": {},
   "source": [
    "Considere uma lista de comentários de um produto, comentarios = [\"Bom produto\", \"Qualidade ruim\", \"Vale a pena\", \"Não gostei\", \"Recomendo\"]. Escreva um programa que classifique cada comentário como positivo ou negativo, baseando-se na presença de palavras-chave positivas (['bom', 'vale', 'recomendo']) ou negativas (['ruim', 'não']) e imprima o resultado da análise.\n",
    "Dica: O programa percorre a lista de comentarios, verificando se contêm palavras-chave positivas ou negativas. Cada comentário é classificado como \"Positivo\", \"Negativo\" ou \"Neutro\" (se não contiver palavras-chave de nenhuma das categorias) e o resultado é armazenado em um dicionário analise, associando cada comentário à sua classificação.\n"
   ]
  },
  {
   "cell_type": "code",
   "execution_count": null,
   "metadata": {},
   "outputs": [],
   "source": [
    "comentarios = [\"Bom produto\", \"Qualidade ruim\", \"Vale a pena\", \"Não gostei\", \"Recomendo\"]\n",
    "palavras_positivas = ['bom', 'vale', 'recomendo']\n",
    "palavras_negativas = ['ruim', 'não']\n",
    "\n",
    "analise = {}"
   ]
  }
 ],
 "metadata": {
  "kernelspec": {
   "display_name": "moda",
   "language": "python",
   "name": "python3"
  },
  "language_info": {
   "codemirror_mode": {
    "name": "ipython",
    "version": 3
   },
   "file_extension": ".py",
   "mimetype": "text/x-python",
   "name": "python",
   "nbconvert_exporter": "python",
   "pygments_lexer": "ipython3",
   "version": "3.9.17"
  }
 },
 "nbformat": 4,
 "nbformat_minor": 2
}
