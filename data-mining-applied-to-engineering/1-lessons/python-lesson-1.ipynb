{
  "cells": [
    {
      "cell_type": "markdown",
      "metadata": {
        "id": "view-in-github"
      },
      "source": [
        "<a href=\"https://github.com/thalesvalente/teaching/blob/main/data-mining-applied-to-engineering/1-lessons/python-lesson-1.ipynb\" target=\"_parent\"><img src=\"https://colab.research.google.com/assets/colab-badge.svg\" alt=\"Open In Colab\"/></a>"
      ]
    },
    {
      "cell_type": "markdown",
      "metadata": {
        "id": "r5yNOA_LDQIk"
      },
      "source": [
        "# 0 Mini tutorial python para iniciantes\n",
        "\n",
        "Olá! Hoje vamos  iniciar os primeiros passos para criar códigos em python. A intenção deste material é fornecer direções e dicas básicas. Não ensinar de fato. Pode ser meio corrido, mas dúvidas podem ser tiradas com www.google.com. E claro, thales.l.a.valente@gmail.com ;).   \n",
        "Vamos ao que interessa. Aqui você terá a direção para iniciar seus estudos relacionados aos seguinte ítens.\n",
        "- Colab\n",
        "- Python (básico e as bibliotecas pandas, matplotlib e numpy)\n",
        "- Vetorização em python (não é nada disso que você está pensando :) Vamos com calma!)\n",
        "\n",
        "Então, vamos ser rápidos! Em 6 horas totalmente dedicadas você poderá aprender a se localizar em tudo (não decorar) se focar!\n",
        "Oriento vocês a não tentarem ler tudo pois não terão tempo! Como programadores, temos olhos de águia e temos a capacidade de identificar rápido os códigos  (nossas presas) que precisamos. Então, utilize e devenvolva essa habilidade para capturar as informações de acordo com a necessidade. Let´s go!!!"
      ]
    },
    {
      "cell_type": "markdown",
      "metadata": {
        "id": "4U0oubIoGLFI"
      },
      "source": [
        "## 1. Colab\n",
        "Colab é uma ferramenta do google que já fornece um \"ambiente pronto\"  e gratuito para você começar a desenvolver seus códigos python. Ou seja, você tem disponível:\n",
        "- Hadware (GPU, CPU, RAM e disco)\n",
        "- Bibliotecas pré-instaladas (matplot, numpy,, tensorflow, keras,  opencv....lib $n$)\n",
        "- Um ambiente notebook jupyter\n",
        "- Integração com o google drive\n",
        "\n",
        "\n"
      ]
    },
    {
      "cell_type": "markdown",
      "metadata": {
        "id": "MqOs550CI3mK"
      },
      "source": [
        "## 1.1 Hardware\n",
        "\n",
        "Os recursos de hardware disponíveis são limitados. No entanto, são bem satisfatórios para iniciar inclusive projetos com análises de dados, redes neurais.\n",
        "Abra o link abaixo e execute a página em modo playground. Executar em modo playground é uma forma de você executar códigos sem salvar dados ou realizar modificações permanentes no código. Para executar em modo playground faça:\n",
        "- clique no link > procure o botão \"Open in playground\" > clique > execute os códigos que desejar\n",
        "\n",
        "link: https://colab.research.google.com/drive/151805XTDg--dgHb3-AXJCpnWaqRhop_2"
      ]
    },
    {
      "cell_type": "markdown",
      "metadata": {
        "id": "EvQrzYVdKnsl"
      },
      "source": [
        "## 1.2 Bibliotecas pré-instaladas\n",
        "\n",
        "Isso mesmo. O Colab nos fornece diversas bibliotecas python. Isso significa que você pode pular os passos de instalação de um ambiente de programação e configuração. Para verificar as bibliotecas pré-intaladas, execute a célula de abaixo.  \n",
        "Vale ressaltar que você também pode instalar bibliotecas de sua preferência :), como ilustrado em https://colab.research.google.com/notebooks/snippets/importing_libraries.ipynb\n"
      ]
    },
    {
      "cell_type": "code",
      "execution_count": 1,
      "metadata": {
        "colab": {
          "base_uri": "https://localhost:8080/"
        },
        "id": "yOEr_vRHM8vC",
        "outputId": "a4bc2ad7-d9ee-42f6-c27d-884b83582dcd"
      },
      "outputs": [
        {
          "output_type": "stream",
          "name": "stdout",
          "text": [
            "absl-py==1.4.0\n",
            "aiohttp==3.9.3\n",
            "aiosignal==1.3.1\n",
            "alabaster==0.7.16\n",
            "albumentations==1.3.1\n",
            "altair==4.2.2\n",
            "annotated-types==0.6.0\n",
            "anyio==3.7.1\n",
            "appdirs==1.4.4\n",
            "argon2-cffi==23.1.0\n",
            "argon2-cffi-bindings==21.2.0\n",
            "array-record==0.5.0\n",
            "arviz==0.15.1\n",
            "astropy==5.3.4\n",
            "astunparse==1.6.3\n",
            "async-timeout==4.0.3\n",
            "atpublic==4.0\n",
            "attrs==23.2.0\n",
            "audioread==3.0.1\n",
            "autograd==1.6.2\n",
            "Babel==2.14.0\n",
            "backcall==0.2.0\n",
            "beautifulsoup4==4.12.3\n",
            "bidict==0.23.1\n",
            "bigframes==0.26.0\n",
            "bleach==6.1.0\n",
            "blinker==1.4\n",
            "blis==0.7.11\n",
            "blosc2==2.0.0\n",
            "bokeh==3.3.4\n",
            "bqplot==0.12.43\n",
            "branca==0.7.1\n",
            "build==1.1.1\n",
            "CacheControl==0.14.0\n",
            "cachetools==5.3.3\n",
            "catalogue==2.0.10\n",
            "certifi==2024.2.2\n",
            "cffi==1.16.0\n",
            "chardet==5.2.0\n",
            "charset-normalizer==3.3.2\n",
            "chex==0.1.86\n",
            "click==8.1.7\n",
            "click-plugins==1.1.1\n",
            "cligj==0.7.2\n",
            "cloudpathlib==0.16.0\n",
            "cloudpickle==2.2.1\n",
            "cmake==3.27.9\n",
            "cmdstanpy==1.2.1\n",
            "colorcet==3.1.0\n",
            "colorlover==0.3.0\n",
            "colour==0.1.5\n",
            "community==1.0.0b1\n",
            "confection==0.1.4\n",
            "cons==0.4.6\n",
            "contextlib2==21.6.0\n",
            "contourpy==1.2.0\n",
            "cryptography==42.0.5\n",
            "cufflinks==0.17.3\n",
            "cupy-cuda12x==12.2.0\n",
            "cvxopt==1.3.2\n",
            "cvxpy==1.3.3\n",
            "cycler==0.12.1\n",
            "cymem==2.0.8\n",
            "Cython==3.0.9\n",
            "dask==2023.8.1\n",
            "datascience==0.17.6\n",
            "db-dtypes==1.2.0\n",
            "dbus-python==1.2.18\n",
            "debugpy==1.6.6\n",
            "decorator==4.4.2\n",
            "defusedxml==0.7.1\n",
            "distributed==2023.8.1\n",
            "distro==1.7.0\n",
            "dlib==19.24.2\n",
            "dm-tree==0.1.8\n",
            "docutils==0.18.1\n",
            "dopamine-rl==4.0.6\n",
            "duckdb==0.9.2\n",
            "earthengine-api==0.1.394\n",
            "easydict==1.13\n",
            "ecos==2.0.13\n",
            "editdistance==0.6.2\n",
            "eerepr==0.0.4\n",
            "en-core-web-sm @ https://github.com/explosion/spacy-models/releases/download/en_core_web_sm-3.7.1/en_core_web_sm-3.7.1-py3-none-any.whl#sha256=86cc141f63942d4b2c5fcee06630fd6f904788d2f0ab005cce45aadb8fb73889\n",
            "entrypoints==0.4\n",
            "et-xmlfile==1.1.0\n",
            "etils==1.7.0\n",
            "etuples==0.3.9\n",
            "exceptiongroup==1.2.0\n",
            "fastai==2.7.14\n",
            "fastcore==1.5.29\n",
            "fastdownload==0.0.7\n",
            "fastjsonschema==2.19.1\n",
            "fastprogress==1.0.3\n",
            "fastrlock==0.8.2\n",
            "filelock==3.13.1\n",
            "fiona==1.9.6\n",
            "firebase-admin==5.3.0\n",
            "Flask==2.2.5\n",
            "flatbuffers==24.3.7\n",
            "flax==0.8.2\n",
            "folium==0.14.0\n",
            "fonttools==4.50.0\n",
            "frozendict==2.4.0\n",
            "frozenlist==1.4.1\n",
            "fsspec==2023.6.0\n",
            "future==0.18.3\n",
            "gast==0.5.4\n",
            "gcsfs==2023.6.0\n",
            "GDAL==3.6.4\n",
            "gdown==4.7.3\n",
            "geemap==0.32.0\n",
            "gensim==4.3.2\n",
            "geocoder==1.38.1\n",
            "geographiclib==2.0\n",
            "geopandas==0.13.2\n",
            "geopy==2.3.0\n",
            "gin-config==0.5.0\n",
            "glob2==0.7\n",
            "google==2.0.3\n",
            "google-ai-generativelanguage==0.4.0\n",
            "google-api-core==2.11.1\n",
            "google-api-python-client==2.84.0\n",
            "google-auth==2.27.0\n",
            "google-auth-httplib2==0.1.1\n",
            "google-auth-oauthlib==1.2.0\n",
            "google-cloud-aiplatform==1.44.0\n",
            "google-cloud-bigquery==3.12.0\n",
            "google-cloud-bigquery-connection==1.12.1\n",
            "google-cloud-bigquery-storage==2.24.0\n",
            "google-cloud-core==2.3.3\n",
            "google-cloud-datastore==2.15.2\n",
            "google-cloud-firestore==2.11.1\n",
            "google-cloud-functions==1.13.3\n",
            "google-cloud-iam==2.14.3\n",
            "google-cloud-language==2.13.3\n",
            "google-cloud-resource-manager==1.12.3\n",
            "google-cloud-storage==2.8.0\n",
            "google-cloud-translate==3.11.3\n",
            "google-colab @ file:///colabtools/dist/google-colab-1.0.0.tar.gz#sha256=d8fcf015dcffcb45e54b3ecd8d9224597c29a077981269122df14a0fea3ce212\n",
            "google-crc32c==1.5.0\n",
            "google-generativeai==0.3.2\n",
            "google-pasta==0.2.0\n",
            "google-resumable-media==2.7.0\n",
            "googleapis-common-protos==1.63.0\n",
            "googledrivedownloader==0.4\n",
            "graphviz==0.20.2\n",
            "greenlet==3.0.3\n",
            "grpc-google-iam-v1==0.13.0\n",
            "grpcio==1.62.1\n",
            "grpcio-status==1.48.2\n",
            "gspread==3.4.2\n",
            "gspread-dataframe==3.3.1\n",
            "gym==0.25.2\n",
            "gym-notices==0.0.8\n",
            "h5netcdf==1.3.0\n",
            "h5py==3.9.0\n",
            "holidays==0.45\n",
            "holoviews==1.17.1\n",
            "html5lib==1.1\n",
            "httpimport==1.3.1\n",
            "httplib2==0.22.0\n",
            "huggingface-hub==0.20.3\n",
            "humanize==4.7.0\n",
            "hyperopt==0.2.7\n",
            "ibis-framework==8.0.0\n",
            "idna==3.6\n",
            "imageio==2.31.6\n",
            "imageio-ffmpeg==0.4.9\n",
            "imagesize==1.4.1\n",
            "imbalanced-learn==0.10.1\n",
            "imgaug==0.4.0\n",
            "importlib_metadata==7.0.2\n",
            "importlib_resources==6.3.2\n",
            "imutils==0.5.4\n",
            "inflect==7.0.0\n",
            "iniconfig==2.0.0\n",
            "intel-openmp==2023.2.4\n",
            "ipyevents==2.0.2\n",
            "ipyfilechooser==0.6.0\n",
            "ipykernel==5.5.6\n",
            "ipyleaflet==0.18.2\n",
            "ipython==7.34.0\n",
            "ipython-genutils==0.2.0\n",
            "ipython-sql==0.5.0\n",
            "ipytree==0.2.2\n",
            "ipywidgets==7.7.1\n",
            "itsdangerous==2.1.2\n",
            "jax==0.4.23\n",
            "jaxlib @ https://storage.googleapis.com/jax-releases/cuda12/jaxlib-0.4.23+cuda12.cudnn89-cp310-cp310-manylinux2014_x86_64.whl#sha256=8e42000672599e7ec0ea7f551acfcc95dcdd0e22b05a1d1f12f97b56a9fce4a8\n",
            "jeepney==0.7.1\n",
            "jieba==0.42.1\n",
            "Jinja2==3.1.3\n",
            "joblib==1.3.2\n",
            "jsonpickle==3.0.3\n",
            "jsonschema==4.19.2\n",
            "jsonschema-specifications==2023.12.1\n",
            "jupyter-client==6.1.12\n",
            "jupyter-console==6.1.0\n",
            "jupyter-server==1.24.0\n",
            "jupyter_core==5.7.2\n",
            "jupyterlab_pygments==0.3.0\n",
            "jupyterlab_widgets==3.0.10\n",
            "kaggle==1.5.16\n",
            "kagglehub==0.2.0\n",
            "keras==2.15.0\n",
            "keyring==23.5.0\n",
            "kiwisolver==1.4.5\n",
            "langcodes==3.3.0\n",
            "launchpadlib==1.10.16\n",
            "lazr.restfulclient==0.14.4\n",
            "lazr.uri==1.0.6\n",
            "lazy_loader==0.3\n",
            "libclang==18.1.1\n",
            "librosa==0.10.1\n",
            "lightgbm==4.1.0\n",
            "linkify-it-py==2.0.3\n",
            "llvmlite==0.41.1\n",
            "locket==1.0.0\n",
            "logical-unification==0.4.6\n",
            "lxml==4.9.4\n",
            "malloy==2023.1067\n",
            "Markdown==3.6\n",
            "markdown-it-py==3.0.0\n",
            "MarkupSafe==2.1.5\n",
            "matplotlib==3.7.1\n",
            "matplotlib-inline==0.1.6\n",
            "matplotlib-venn==0.11.10\n",
            "mdit-py-plugins==0.4.0\n",
            "mdurl==0.1.2\n",
            "miniKanren==1.0.3\n",
            "missingno==0.5.2\n",
            "mistune==0.8.4\n",
            "mizani==0.9.3\n",
            "mkl==2023.2.0\n",
            "ml-dtypes==0.2.0\n",
            "mlxtend==0.22.0\n",
            "more-itertools==10.1.0\n",
            "moviepy==1.0.3\n",
            "mpmath==1.3.0\n",
            "msgpack==1.0.8\n",
            "multidict==6.0.5\n",
            "multipledispatch==1.0.0\n",
            "multitasking==0.0.11\n",
            "murmurhash==1.0.10\n",
            "music21==9.1.0\n",
            "natsort==8.4.0\n",
            "nbclassic==1.0.0\n",
            "nbclient==0.10.0\n",
            "nbconvert==6.5.4\n",
            "nbformat==5.10.3\n",
            "nest-asyncio==1.6.0\n",
            "networkx==3.2.1\n",
            "nibabel==4.0.2\n",
            "nltk==3.8.1\n",
            "notebook==6.5.5\n",
            "notebook_shim==0.2.4\n",
            "numba==0.58.1\n",
            "numexpr==2.9.0\n",
            "numpy==1.25.2\n",
            "oauth2client==4.1.3\n",
            "oauthlib==3.2.2\n",
            "opencv-contrib-python==4.8.0.76\n",
            "opencv-python==4.8.0.76\n",
            "opencv-python-headless==4.9.0.80\n",
            "openpyxl==3.1.2\n",
            "opt-einsum==3.3.0\n",
            "optax==0.2.1\n",
            "orbax-checkpoint==0.4.4\n",
            "osqp==0.6.2.post8\n",
            "packaging==24.0\n",
            "pandas==1.5.3\n",
            "pandas-datareader==0.10.0\n",
            "pandas-gbq==0.19.2\n",
            "pandas-stubs==1.5.3.230304\n",
            "pandocfilters==1.5.1\n",
            "panel==1.3.8\n",
            "param==2.0.2\n",
            "parso==0.8.3\n",
            "parsy==2.1\n",
            "partd==1.4.1\n",
            "pathlib==1.0.1\n",
            "patsy==0.5.6\n",
            "peewee==3.17.1\n",
            "pexpect==4.9.0\n",
            "pickleshare==0.7.5\n",
            "Pillow==9.4.0\n",
            "pip-tools==6.13.0\n",
            "platformdirs==4.2.0\n",
            "plotly==5.15.0\n",
            "plotnine==0.12.4\n",
            "pluggy==1.4.0\n",
            "polars==0.20.2\n",
            "pooch==1.8.1\n",
            "portpicker==1.5.2\n",
            "prefetch-generator==1.0.3\n",
            "preshed==3.0.9\n",
            "prettytable==3.10.0\n",
            "proglog==0.1.10\n",
            "progressbar2==4.2.0\n",
            "prometheus_client==0.20.0\n",
            "promise==2.3\n",
            "prompt-toolkit==3.0.43\n",
            "prophet==1.1.5\n",
            "proto-plus==1.23.0\n",
            "protobuf==3.20.3\n",
            "psutil==5.9.5\n",
            "psycopg2==2.9.9\n",
            "ptyprocess==0.7.0\n",
            "py-cpuinfo==9.0.0\n",
            "py4j==0.10.9.7\n",
            "pyarrow==14.0.2\n",
            "pyarrow-hotfix==0.6\n",
            "pyasn1==0.5.1\n",
            "pyasn1-modules==0.3.0\n",
            "pycocotools==2.0.7\n",
            "pycparser==2.21\n",
            "pydantic==2.6.4\n",
            "pydantic_core==2.16.3\n",
            "pydata-google-auth==1.8.2\n",
            "pydot==1.4.2\n",
            "pydot-ng==2.0.0\n",
            "pydotplus==2.0.2\n",
            "PyDrive==1.3.1\n",
            "PyDrive2==1.6.3\n",
            "pyerfa==2.0.1.1\n",
            "pygame==2.5.2\n",
            "Pygments==2.16.1\n",
            "PyGObject==3.42.1\n",
            "PyJWT==2.3.0\n",
            "pymc==5.10.4\n",
            "pymystem3==0.2.0\n",
            "PyOpenGL==3.1.7\n",
            "pyOpenSSL==24.1.0\n",
            "pyparsing==3.1.2\n",
            "pyperclip==1.8.2\n",
            "pyproj==3.6.1\n",
            "pyproject_hooks==1.0.0\n",
            "pyshp==2.3.1\n",
            "PySocks==1.7.1\n",
            "pytensor==2.18.6\n",
            "pytest==7.4.4\n",
            "python-apt @ file:///backend-container/containers/python_apt-0.0.0-cp310-cp310-linux_x86_64.whl#sha256=b209c7165d6061963abe611492f8c91c3bcef4b7a6600f966bab58900c63fefa\n",
            "python-box==7.1.1\n",
            "python-dateutil==2.8.2\n",
            "python-louvain==0.16\n",
            "python-slugify==8.0.4\n",
            "python-utils==3.8.2\n",
            "pytz==2023.4\n",
            "pyviz_comms==3.0.1\n",
            "PyWavelets==1.5.0\n",
            "PyYAML==6.0.1\n",
            "pyzmq==23.2.1\n",
            "qdldl==0.1.7.post0\n",
            "qudida==0.0.4\n",
            "ratelim==0.1.6\n",
            "referencing==0.34.0\n",
            "regex==2023.12.25\n",
            "requests==2.31.0\n",
            "requests-oauthlib==1.4.0\n",
            "requirements-parser==0.5.0\n",
            "rich==13.7.1\n",
            "rpds-py==0.18.0\n",
            "rpy2==3.4.2\n",
            "rsa==4.9\n",
            "safetensors==0.4.2\n",
            "scikit-image==0.19.3\n",
            "scikit-learn==1.2.2\n",
            "scipy==1.11.4\n",
            "scooby==0.9.2\n",
            "scs==3.2.4.post1\n",
            "seaborn==0.13.1\n",
            "SecretStorage==3.3.1\n",
            "Send2Trash==1.8.2\n",
            "sentencepiece==0.1.99\n",
            "shapely==2.0.3\n",
            "six==1.16.0\n",
            "sklearn-pandas==2.2.0\n",
            "smart-open==6.4.0\n",
            "sniffio==1.3.1\n",
            "snowballstemmer==2.2.0\n",
            "sortedcontainers==2.4.0\n",
            "soundfile==0.12.1\n",
            "soupsieve==2.5\n",
            "soxr==0.3.7\n",
            "spacy==3.7.4\n",
            "spacy-legacy==3.0.12\n",
            "spacy-loggers==1.0.5\n",
            "Sphinx==5.0.2\n",
            "sphinxcontrib-applehelp==1.0.8\n",
            "sphinxcontrib-devhelp==1.0.6\n",
            "sphinxcontrib-htmlhelp==2.0.5\n",
            "sphinxcontrib-jsmath==1.0.1\n",
            "sphinxcontrib-qthelp==1.0.7\n",
            "sphinxcontrib-serializinghtml==1.1.10\n",
            "SQLAlchemy==2.0.28\n",
            "sqlglot==20.11.0\n",
            "sqlparse==0.4.4\n",
            "srsly==2.4.8\n",
            "stanio==0.3.0\n",
            "statsmodels==0.14.1\n",
            "sympy==1.12\n",
            "tables==3.8.0\n",
            "tabulate==0.9.0\n",
            "tbb==2021.11.0\n",
            "tblib==3.0.0\n",
            "tenacity==8.2.3\n",
            "tensorboard==2.15.2\n",
            "tensorboard-data-server==0.7.2\n",
            "tensorflow==2.15.0\n",
            "tensorflow-datasets==4.9.4\n",
            "tensorflow-estimator==2.15.0\n",
            "tensorflow-gcs-config==2.15.0\n",
            "tensorflow-hub==0.16.1\n",
            "tensorflow-io-gcs-filesystem==0.36.0\n",
            "tensorflow-metadata==1.14.0\n",
            "tensorflow-probability==0.23.0\n",
            "tensorstore==0.1.45\n",
            "termcolor==2.4.0\n",
            "terminado==0.18.1\n",
            "text-unidecode==1.3\n",
            "textblob==0.17.1\n",
            "tf-slim==1.1.0\n",
            "tf_keras==2.15.1\n",
            "thinc==8.2.3\n",
            "threadpoolctl==3.3.0\n",
            "tifffile==2024.2.12\n",
            "tinycss2==1.2.1\n",
            "tokenizers==0.15.2\n",
            "toml==0.10.2\n",
            "tomli==2.0.1\n",
            "toolz==0.12.1\n",
            "torch @ https://download.pytorch.org/whl/cu121/torch-2.2.1%2Bcu121-cp310-cp310-linux_x86_64.whl#sha256=1adf430f01ff649c848ac021785e18007b0714fdde68e4e65bd0c640bf3fb8e1\n",
            "torchaudio @ https://download.pytorch.org/whl/cu121/torchaudio-2.2.1%2Bcu121-cp310-cp310-linux_x86_64.whl#sha256=23f6236429e2bf676b820e8e7221a1d58aaf908bff2ba2665aa852df71a97961\n",
            "torchdata==0.7.1\n",
            "torchsummary==1.5.1\n",
            "torchtext==0.17.1\n",
            "torchvision @ https://download.pytorch.org/whl/cu121/torchvision-0.17.1%2Bcu121-cp310-cp310-linux_x86_64.whl#sha256=27af47915f6e762c1d44e58e8088d22ac97445668f9f793524032b2baf4f34bd\n",
            "tornado==6.3.3\n",
            "tqdm==4.66.2\n",
            "traitlets==5.7.1\n",
            "traittypes==0.2.1\n",
            "transformers==4.38.2\n",
            "triton==2.2.0\n",
            "tweepy==4.14.0\n",
            "typer==0.9.0\n",
            "types-pytz==2024.1.0.20240203\n",
            "types-setuptools==69.2.0.20240317\n",
            "typing_extensions==4.10.0\n",
            "tzlocal==5.2\n",
            "uc-micro-py==1.0.3\n",
            "uritemplate==4.1.1\n",
            "urllib3==2.0.7\n",
            "vega-datasets==0.9.0\n",
            "wadllib==1.3.6\n",
            "wasabi==1.1.2\n",
            "wcwidth==0.2.13\n",
            "weasel==0.3.4\n",
            "webcolors==1.13\n",
            "webencodings==0.5.1\n",
            "websocket-client==1.7.0\n",
            "Werkzeug==3.0.1\n",
            "widgetsnbextension==3.6.6\n",
            "wordcloud==1.9.3\n",
            "wrapt==1.14.1\n",
            "xarray==2023.7.0\n",
            "xarray-einstats==0.7.0\n",
            "xgboost==2.0.3\n",
            "xlrd==2.0.1\n",
            "xyzservices==2023.10.1\n",
            "yarl==1.9.4\n",
            "yellowbrick==1.5\n",
            "yfinance==0.2.37\n",
            "zict==3.0.0\n",
            "zipp==3.18.1\n"
          ]
        }
      ],
      "source": [
        "!pip freeze"
      ]
    },
    {
      "cell_type": "markdown",
      "metadata": {
        "id": "q25ccJaoLNqY"
      },
      "source": [
        "#### Gestores de Pacotes em Python"
      ]
    },
    {
      "cell_type": "markdown",
      "metadata": {
        "id": "nhc0GgPiLNqZ"
      },
      "source": [
        "Python possui diversos gestores de pacotes, sendo os mais conhecidos o `pip` e o `conda`.\n",
        "- **pip**: É o gestor de pacotes padrão do Python, utilizado para instalar pacotes do Python Package Index (PyPI).\n",
        "- **conda**: É um gestor de pacotes de código aberto que suporta várias linguagens, e é usado principalmente para instalar, executar e atualizar pacotes e suas dependências."
      ]
    },
    {
      "cell_type": "markdown",
      "metadata": {
        "id": "m5Rl-UH0LNqZ"
      },
      "source": [
        "#### Instalando Bibliotecas com pip e conda"
      ]
    },
    {
      "cell_type": "markdown",
      "metadata": {
        "id": "-RtPd52zLNqZ"
      },
      "source": [
        "Para instalar uma biblioteca em Python dentro do colab, você pode usar tanto o `!pip` quanto o `!conda`. Vamos ver como cada um funciona:\n",
        "\n",
        "- Usando `pip`:\n",
        "  ```bash\n",
        "  !pip install numpy\n",
        "  ```\n",
        "- Usando `conda`:\n",
        "  ```bash\n",
        "  !conda install numpy\n",
        "  ```\n",
        "Ambos irão instalar a biblioteca `numpy`, mas podem gerenciar as dependências de maneira diferente."
      ]
    },
    {
      "cell_type": "code",
      "source": [
        "!pip install scikit-learn"
      ],
      "metadata": {
        "colab": {
          "base_uri": "https://localhost:8080/"
        },
        "id": "DSfem47FOUw8",
        "outputId": "4d29926c-495f-438c-d7e0-7fa5cb33653d"
      },
      "execution_count": 5,
      "outputs": [
        {
          "output_type": "stream",
          "name": "stdout",
          "text": [
            "Requirement already satisfied: scikit-learn in /usr/local/lib/python3.10/dist-packages (1.2.2)\n",
            "Requirement already satisfied: numpy>=1.17.3 in /usr/local/lib/python3.10/dist-packages (from scikit-learn) (1.25.2)\n",
            "Requirement already satisfied: scipy>=1.3.2 in /usr/local/lib/python3.10/dist-packages (from scikit-learn) (1.11.4)\n",
            "Requirement already satisfied: joblib>=1.1.1 in /usr/local/lib/python3.10/dist-packages (from scikit-learn) (1.3.2)\n",
            "Requirement already satisfied: threadpoolctl>=2.0.0 in /usr/local/lib/python3.10/dist-packages (from scikit-learn) (3.3.0)\n"
          ]
        }
      ]
    },
    {
      "cell_type": "markdown",
      "metadata": {
        "id": "6wT0wHjzDZr2"
      },
      "source": [
        "## 1.3 Ambiente notebook jupyter\n",
        "Vamos falar o básico que você precisa saber e o resto é ler documentação. Basicamente existem dois tipos de célula (markdowncells - bloco onde você escreve o que deseja)\n",
        "- Markdowns: como esta célula, você pode inserir texto, fórmulas usando [mathjax](https://www.mathjax.org/#samples) (fórmulas matemáticas like a latex) e inserir figuras, links e etc usando html e outras ferramentas. Recomendo [este link](https://jupyter-notebook.readthedocs.io/en/latest/examples/Notebook/examples_index.html).\n",
        "- Code:  onde você digita seu código e executa\n",
        "\n",
        "As células podem ser executadas separadamente. No entanto, devem ser executadas em ordem caso o código contida em uma seja pré-requisito para outra (exemplo: importar bibliotecas, métodos definidos em células anteriores, etc)"
      ]
    },
    {
      "cell_type": "markdown",
      "metadata": {
        "id": "l3H3clkWLNqZ"
      },
      "source": [
        "#### Usando Markdown em Jupyter Notebooks\n",
        "Markdown é uma linguagem de marcação leve que você pode usar para adicionar elementos de formatação a documentos de texto simples. É muito usado em Jupyter Notebooks, GitHub, blogs, e outros sistemas que convertem Markdown em HTML.\n",
        "\n",
        "Exemplos Básicos de Markdown\n",
        "- **Títulos**: Para criar um título, adicione um ou mais `#` antes do seu texto. Por exemplo, `# Título 1`, `## Título 2`.\n",
        "- **Listas**: Para fazer uma lista, simplesmente use `-` ou `*` seguido de um espaço antes do item da lista.\n",
        "- **Ênfase**: Use `*itálico*` para itálico e `**negrito**` para negrito.\n",
        "- **Links**: Para adicionar um link, use a sintaxe `[texto do link](URL)`.\n",
        "\n",
        "Usando MathJax para Fórmulas Matemáticas\n",
        "MathJax é uma biblioteca JavaScript que permite a exibição de fórmulas matemáticas em páginas web. Em Jupyter Notebooks, você pode usar MathJax escrevendo expressões matemáticas entre dois sinais de dólar (`$`).\n",
        "\n",
        "Exemplos de Fórmulas Matemáticas\n",
        "- Equação linear: $y = mx + b$\n",
        "- Equação quadrática: $ax^2 + bx + c = 0$\n",
        "- Integral: $\\int_0^\\infty e^{-x}dx = 1$\n",
        "- Somatório: $\\sum_{i=1}^{n} i = rac{n(n+1)}{2}$\n"
      ]
    },
    {
      "cell_type": "markdown",
      "metadata": {
        "id": "J8hi-h8MFJ1B"
      },
      "source": [
        "## 1.4 Integração com o google drive\n",
        "\n",
        "Isso mesmo! Você pode usar seu drive pessoal para armazenar seus códigos.\n",
        "Segue o link que ensina como carregar imagens contidas no google drive. A mesma idéia serve para outros arquivos. Abra a [Seção 1.2](1cP5PfC83AQCThrBMrCZUh4T-BaA6zcH7#scrollTo=GFcO1obYVKwi) deste outro material :)"
      ]
    },
    {
      "cell_type": "code",
      "execution_count": 9,
      "metadata": {
        "colab": {
          "base_uri": "https://localhost:8080/"
        },
        "id": "WBu2nY_k_VV2",
        "outputId": "58195ba7-443c-43c1-fac7-d17cf481c407"
      },
      "outputs": [
        {
          "output_type": "stream",
          "name": "stdout",
          "text": [
            "Mounted at /content/gdrive\n"
          ]
        }
      ],
      "source": [
        "from google.colab import drive\n",
        "import io\n",
        "\n",
        "drive.mount('/content/gdrive')"
      ]
    },
    {
      "cell_type": "markdown",
      "metadata": {
        "id": "P0YO0x-BIQ2k"
      },
      "source": [
        "# 2. Python (básico e as bibliotecas pandas, matplotlib e numpy)\n",
        "\n",
        "Nesta seção serão apresentadas 2 tipos de direções principais:\n",
        "- Links úteis\n",
        "- Exemplos básicos\n",
        "\n",
        "Vamos ser rápidos e práticos. Mãos a obra :)"
      ]
    },
    {
      "cell_type": "markdown",
      "metadata": {
        "id": "VAU2q34DIsA0"
      },
      "source": [
        "###1.2.1 Links úteis\n",
        "\n",
        "- Exemplos básicos de Python\n",
        "  - exemplos rápidos: [1](https://www.makeuseof.com/tag/basic-python-examples-learn-fast/)\n",
        "  - exemplos mais completos: [2](https://www.geeksforgeeks.org/python-programming-examples/#simple) e [3](https://www.tutorialspoint.com/python_programming_examples/2)\n",
        "- Pandas\n",
        "  - exemplos rápidos: [1- com exercícios e soluções](https://www.datacamp.com/community/tutorials/pandas-tutorial-dataframe-python) e [2](https://www.learndatasci.com/tutorials/python-pandas-tutorial-complete-introduction-for-beginners/)  \n",
        "  - [ler arquivos do excel](https://pandas.pydata.org/pandas-docs/stable/generated/pandas.read_excel.html)\n",
        "  - [documentação](https://pandas.pydata.org/pandas-docs/stable/getting_started/10min.html)\n",
        "- Matplotlib  \n",
        "  - [2D](https://matplotlib.org/tutorials/introductory/sample_plots.html)\n",
        "  - [3D](https://matplotlib.org/mpl_toolkits/mplot3d/tutorial.html)\n",
        "- Numpy\n",
        "  - exemplos rápidos: [1](https://docs.scipy.org/doc/numpy-1.13.0/user/quickstart.html)  \n",
        "  - [documentação](https://matplotlib.org/contents.html)\n",
        "- [Numpy + pandas](https://www.hackerearth.com/pt-br/practice/machine-learning/data-manipulation-visualisation-r-python/tutorial-data-manipulation-numpy-pandas-python/tutorial/)\n",
        "\n",
        "Importante: é imprescindível a utilização do numpy para fazer o trabalho. O numpy possui rotinas matemáticas otimizadas e também facilita muito trabalhar com vetores e matrizes. **CONSELHO: Não tente fazer as operações na \"mão\"!**  \n",
        "Veremos mais detalhes na Seção sobre XXX"
      ]
    },
    {
      "cell_type": "markdown",
      "metadata": {
        "id": "FyxQ_ffrLNqa"
      },
      "source": [
        "## 2.1 Tipos de Variáveis\n",
        "Em Python, as variáveis podem armazenar dados de diferentes tipos, incluindo números, textos, listas, tuplas, dicionários e muito mais. Aqui estão alguns dos tipos de variáveis mais simples:"
      ]
    },
    {
      "cell_type": "markdown",
      "metadata": {
        "id": "3DE2xG4PLNqa"
      },
      "source": [
        "### 2.1.1 Variáveis Simples"
      ]
    },
    {
      "cell_type": "markdown",
      "metadata": {
        "id": "4Qs8Hgw8LNqb"
      },
      "source": [
        "- Inteiros (`int`): São números inteiros, sem parte decimal."
      ]
    },
    {
      "cell_type": "code",
      "execution_count": 24,
      "metadata": {
        "colab": {
          "base_uri": "https://localhost:8080/"
        },
        "id": "P3N0dj7bLNqb",
        "outputId": "f493b450-e57b-4cfe-f084-443b97864c64"
      },
      "outputs": [
        {
          "output_type": "execute_result",
          "data": {
            "text/plain": [
              "25"
            ]
          },
          "metadata": {},
          "execution_count": 24
        }
      ],
      "source": [
        "idade = 25\n",
        "idade"
      ]
    },
    {
      "cell_type": "markdown",
      "metadata": {
        "id": "0YPCiTkFLNqb"
      },
      "source": [
        "- Ponto flutuante (`float`): São números reais que incluem uma parte decimal."
      ]
    },
    {
      "cell_type": "code",
      "execution_count": 25,
      "metadata": {
        "colab": {
          "base_uri": "https://localhost:8080/"
        },
        "id": "GGyb-7HPLNqb",
        "outputId": "68134e2a-6068-42ee-cfb9-65224335b054"
      },
      "outputs": [
        {
          "output_type": "execute_result",
          "data": {
            "text/plain": [
              "3.5"
            ]
          },
          "metadata": {},
          "execution_count": 25
        }
      ],
      "source": [
        "altura = 1.75\n",
        "altura + altura"
      ]
    },
    {
      "cell_type": "markdown",
      "metadata": {
        "id": "IQ9BxEUrLNqb"
      },
      "source": [
        "- Strings (`str`): Representam texto, ou seja, sequências de caracteres."
      ]
    },
    {
      "cell_type": "code",
      "execution_count": 26,
      "metadata": {
        "colab": {
          "base_uri": "https://localhost:8080/",
          "height": 35
        },
        "id": "WiKoZuusLNqb",
        "outputId": "1d9b77fc-5c6c-4c74-df82-e75460b09688"
      },
      "outputs": [
        {
          "output_type": "execute_result",
          "data": {
            "text/plain": [
              "'João'"
            ],
            "application/vnd.google.colaboratory.intrinsic+json": {
              "type": "string"
            }
          },
          "metadata": {},
          "execution_count": 26
        }
      ],
      "source": [
        "nome = \"João\"\n",
        "nome"
      ]
    },
    {
      "cell_type": "code",
      "execution_count": 27,
      "metadata": {
        "colab": {
          "base_uri": "https://localhost:8080/",
          "height": 35
        },
        "id": "UnNeXgynLNqb",
        "outputId": "780fa204-2ef6-4a3c-94f9-f9547ea4c5a7"
      },
      "outputs": [
        {
          "output_type": "execute_result",
          "data": {
            "text/plain": [
              "'1.75 1.75 '"
            ],
            "application/vnd.google.colaboratory.intrinsic+json": {
              "type": "string"
            }
          },
          "metadata": {},
          "execution_count": 27
        }
      ],
      "source": [
        "altura = \"1.75 \"\n",
        "altura + altura"
      ]
    },
    {
      "cell_type": "markdown",
      "metadata": {
        "id": "lBtxXUO5LNqc"
      },
      "source": [
        "- Lógicas (`booleanas`): São aquelas que retornam ou armazenam valor verdadeiro ou falso. Usadas para comparação"
      ]
    },
    {
      "cell_type": "code",
      "execution_count": 28,
      "metadata": {
        "colab": {
          "base_uri": "https://localhost:8080/"
        },
        "id": "wg9-xKL6LNqc",
        "outputId": "c498dce3-2f6c-431d-e7bd-ce254eb4c8e7"
      },
      "outputs": [
        {
          "output_type": "execute_result",
          "data": {
            "text/plain": [
              "True"
            ]
          },
          "metadata": {},
          "execution_count": 28
        }
      ],
      "source": [
        "maior_idade = True\n",
        "maior_idade"
      ]
    },
    {
      "cell_type": "markdown",
      "metadata": {
        "id": "0z6OpNtJLNqc"
      },
      "source": [
        "#### 2.1.1.1 Operações Matemáticas com variáveis simples"
      ]
    },
    {
      "cell_type": "markdown",
      "metadata": {
        "id": "3dQn47cCLNqc"
      },
      "source": [
        "Python suporta operações matemáticas básicas como adição, subtração, multiplicação, divisão, etc.\n",
        "- Adição (`+`): Soma dois números.\n",
        "- Subtração (`-`): Subtrai um número de outro.\n",
        "- Multiplicação (`*`): Multiplica dois números.\n",
        "- Divisão (`/`): Divide um número por outro.\n",
        "- Divisão inteira (`//`): Divide um número por outro, mas arredonda para baixo para o inteiro mais próximo.\n",
        "- Módulo (`%`): Retorna o resto da divisão.\n",
        "- Exponenciação (`**`): Eleva um número a potência de outro."
      ]
    },
    {
      "cell_type": "code",
      "execution_count": 33,
      "metadata": {
        "colab": {
          "base_uri": "https://localhost:8080/"
        },
        "id": "wfsqol9qLNqc",
        "outputId": "43bc59bf-6fa5-4285-f2ad-c1f650ff7488"
      },
      "outputs": [
        {
          "output_type": "stream",
          "name": "stdout",
          "text": [
            "Soma: 8\n",
            "Diferença: 8\n",
            "Produto: 28\n",
            "Quociente: 4.0\n",
            "Divisão Inteira: 3\n",
            "Resto: 1\n",
            "Potência: 8\n"
          ]
        }
      ],
      "source": [
        "soma = 5 + 3  # Resultado é 8\n",
        "diferenca = 10 - 2  # Resultado é 8\n",
        "produto = 4 * 7  # Resultado é 28\n",
        "quociente = 20 / 5  # Resultado é 4.0\n",
        "divisao_inteira = 7 // 2  # Resultado é 3\n",
        "resto = 7 % 3  # Resultado é 1\n",
        "potencia = 2 ** 3  # Resultado é 8\n",
        "print(f\"Soma: {soma}\\nDiferença: {diferenca}\\nProduto: {produto}\\nQuociente: {quociente}\\nDivisão Inteira: {divisao_inteira}\\nResto: {resto}\\nPotência: {potencia}\")"
      ]
    },
    {
      "cell_type": "markdown",
      "metadata": {
        "id": "djagdn8_LNqc"
      },
      "source": [
        "#### 2.1.1.2 Operações Lógicas com variáveis simples"
      ]
    },
    {
      "cell_type": "markdown",
      "metadata": {
        "id": "WqUig6PPLNqc"
      },
      "source": [
        "Operações lógicas são usadas para comparar valores, resultando em `True` (verdadeiro) ou `False` (falso).\n",
        "- Igual (`==`): Verifica se dois valores são iguais.\n",
        "- Diferente (`!=`): Verifica se dois valores são diferentes.\n",
        "- Menor que (`<`): Verifica se o primeiro valor é menor que o segundo.\n",
        "- Maior ou igual (`>=`): Verifica se o primeiro valor é maior ou igual ao segundo.\n",
        "- Menor ou igual (`<=`): Verifica se o primeiro valor é menor ou igual ao segundo."
      ]
    },
    {
      "cell_type": "code",
      "execution_count": 34,
      "metadata": {
        "colab": {
          "base_uri": "https://localhost:8080/"
        },
        "id": "Fskmm4qaLNqd",
        "outputId": "c3346a2b-bd13-48d7-ce27-e43deb055288"
      },
      "outputs": [
        {
          "output_type": "stream",
          "name": "stdout",
          "text": [
            "Igualdade: 5 é igual a 3 ?\n",
            "R: False\n",
            "Diferença: 5 é diferente de 3 ?\n",
            "R: True\n",
            "Maior: 5 é maior que 3 ?\n",
            "R: True\n",
            "Menor: 5 é menor que 3 ?\n",
            "R: False\n",
            "Maior Igual: 5 é maior ou igual a 3 ?\n",
            "R: True\n",
            "Menor Igual: 5 é menor ou igual a 3 ?\n",
            "R: False\n"
          ]
        }
      ],
      "source": [
        "igualdade = (5 == 3)  # Resultado é False\n",
        "diferenca = (5 != 3)  # Resultado é True\n",
        "maior = (5 > 3)  # Resultado é True\n",
        "menor = (5 < 3)  # Resultado é False\n",
        "maior_igual = (5 >= 3)  # Resultado é True\n",
        "menor_igual = (5 <= 3)  # Resultado é False\n",
        "print(f\"Igualdade: 5 é igual a 3 ?\\nR: {igualdade}\\nDiferença: 5 é diferente de 3 ?\\nR: {diferenca}\\nMaior: 5 é maior que 3 ?\\nR: {maior}\\nMenor: 5 é menor que 3 ?\\nR: {menor}\\nMaior Igual: 5 é maior ou igual a 3 ?\\nR: {maior_igual}\\nMenor Igual: 5 é menor ou igual a 3 ?\\nR: {menor_igual}\")"
      ]
    },
    {
      "cell_type": "markdown",
      "metadata": {
        "id": "blpP8MfvLNqd"
      },
      "source": [
        "#### 2.1.1.3 Operações com Strings"
      ]
    },
    {
      "cell_type": "markdown",
      "metadata": {
        "id": "wY0H6X6hLNqd"
      },
      "source": [
        "Operações com strings são fundamentais em Python, pois permitem manipular texto de diversas maneiras. Vamos explorar algumas das operações mais comuns com strings:\n",
        "\n",
        "- Concatenação: a concatenação é o processo de combinar strings. Isso é feito usando o operador `+`.\n",
        "- Repetição: uma string pode ser repetida várias vezes usando o operador `*`.\n",
        "- Acessando caracteres: cada caractere em uma string pode ser acessado usando seu `índice`, começando do `zero`. Você também pode acessar subconjuntos de caracteres (substrings) usando a `notação de fatia`."
      ]
    },
    {
      "cell_type": "code",
      "execution_count": 39,
      "metadata": {
        "colab": {
          "base_uri": "https://localhost:8080/"
        },
        "id": "1dEwHROVLNqd",
        "outputId": "f99e4664-a759-4dca-91aa-336adeee5ca6"
      },
      "outputs": [
        {
          "output_type": "stream",
          "name": "stdout",
          "text": [
            "Nome Completo: Maria Silva\n",
            "Risada Longa: ha ha ha \n",
            "Primeira Letra: M\n",
            "Sub: ari\n",
            "Sub2: Maria\n",
            "Sub3: Silva\n"
          ]
        }
      ],
      "source": [
        "primeiro_nome = \"Maria\"\n",
        "sobrenome = \"Silva\"\n",
        "nome_completo = primeiro_nome + \" \" + sobrenome  # Resultado é \"Maria Silva\"\n",
        "print(f\"Nome Completo: {nome_completo}\")\n",
        "\n",
        "risada = \"ha \"\n",
        "risada_longa = risada * 3  # Resultado é \"hahaha\"\n",
        "print(f\"Risada Longa: {risada_longa}\")\n",
        "\n",
        "letra = nome_completo[0]  # Resultado é \"M\"\n",
        "sub = nome_completo[1:4]  # Resultado é \"ari\"\n",
        "print(f\"Primeira Letra: {letra}\\nSub: {sub}\")\n",
        "\n",
        "sub2 = nome_completo[:5]  # Resultado é \"Maria\"\n",
        "sub3 = nome_completo[6:]  # Resultado é \"Silva\"\n",
        "print(f\"Sub2: {sub2}\\nSub3: {sub3}\")\n"
      ]
    },
    {
      "cell_type": "markdown",
      "metadata": {
        "id": "cycfWwJNLNqd"
      },
      "source": [
        "- Comprimento de uma string: a função `len()` retorna o número de caracteres em uma string.\n",
        "- Strings em minúsculas e maiúsculas: o método `.lower()` converte todos os caracteres em uma string para minúsculas, e `.upper()` converte todos os caracteres para maiúsculas.\n",
        "- Pesquisa de substrings: o método `.find()` retorna o índice da primeira ocorrência de uma substring em uma string. Se a substring não for encontrada, ele retorna `-1`.\n",
        "- Divisão de strings: o método `.split()` divide uma string em uma lista de strings, usando um delimitador especificado.\n",
        "- Verificação de substrings: para verificar se uma substring está presente dentro de uma string, você pode usar o operador `in`."
      ]
    },
    {
      "cell_type": "code",
      "execution_count": 41,
      "metadata": {
        "colab": {
          "base_uri": "https://localhost:8080/"
        },
        "id": "6U7toXWbLNqd",
        "outputId": "88f14d55-5d80-44a8-d0ea-0db03e62cc30"
      },
      "outputs": [
        {
          "output_type": "stream",
          "name": "stdout",
          "text": [
            "Comprimento: 11\n",
            "Minuscula: maria silva\n",
            "Maiuscula: MARIA SILVA\n",
            "Indice: 6\n",
            "Nome Alternativo: Ana Silva\n",
            "Palavras: ['Maria', 'Silva']\n",
            "Contem: True\n"
          ]
        }
      ],
      "source": [
        "comprimento = len(nome_completo)  # Resultado é 11 para \"Maria Silva\"\n",
        "minuscula = nome_completo.lower()  # Resultado é \"maria silva\"\n",
        "maiuscula = nome_completo.upper()  # Resultado é \"MARIA SILVA\"\n",
        "indice = nome_completo.find(\"Silva\")  # Resultado é 6\n",
        "nome_alternativo = nome_completo.replace(\"Maria\", \"Ana\")  # Resultado é \"Ana Silva\"\n",
        "palavras = nome_completo.split(\" \")  # Resultado é ['Maria', 'Silva']\n",
        "contem = \"Silva\" in nome_completo  # Resultado é True\n",
        "\n",
        "print(f\"Comprimento: {comprimento}\\nMinuscula: {minuscula}\\nMaiuscula: {maiuscula}\\nIndice: {indice}\\nNome Alternativo: {nome_alternativo}\\nPalavras: {palavras}\\nContem: {contem}\")"
      ]
    },
    {
      "cell_type": "markdown",
      "metadata": {
        "id": "ohIvaPoHLNqd"
      },
      "source": [
        "### 2.1.2 Listas"
      ]
    },
    {
      "cell_type": "markdown",
      "metadata": {
        "id": "eSakGkO6LNqe"
      },
      "source": [
        "Bem-vindos à aula sobre listas em Python! As listas são uma das estruturas de dados mais fundamentais e poderosas em Python.\n",
        "Hoje, vamos explorar como criar, manipular e aplicar listas em diversas situações.\n",
        "\n",
        "Uma lista em Python é uma coleção ordenada e mutável de elementos. Cada elemento dentro de uma lista é chamado de item."
      ]
    },
    {
      "cell_type": "code",
      "execution_count": 42,
      "metadata": {
        "colab": {
          "base_uri": "https://localhost:8080/"
        },
        "id": "OKNYpBRnLNqe",
        "outputId": "5e7ef9ab-385a-4074-a40a-82b295d90983"
      },
      "outputs": [
        {
          "output_type": "stream",
          "name": "stdout",
          "text": [
            "['maçã', 'banana', 'cereja']\n"
          ]
        }
      ],
      "source": [
        "# - Criando Listas\n",
        "# Para criar uma lista, você coloca todos os itens dentro de colchetes [], separados por vírgulas.\n",
        "frutas = [\"maçã\", \"banana\", \"cereja\"]\n",
        "print(frutas)"
      ]
    },
    {
      "cell_type": "code",
      "execution_count": 43,
      "metadata": {
        "colab": {
          "base_uri": "https://localhost:8080/"
        },
        "id": "9tF01DDhLNqe",
        "outputId": "ca0ff01b-15fd-46b2-9409-519d1c961880"
      },
      "outputs": [
        {
          "output_type": "stream",
          "name": "stdout",
          "text": [
            "maçã\n"
          ]
        }
      ],
      "source": [
        "# - Acessando Elementos da Lista\n",
        "# Você pode acessar elementos de uma lista referenciando o índice dos itens. Os índices em Python começam em 0.\n",
        "print(frutas[0])  # Acessa o primeiro elemento: 'maçã'"
      ]
    },
    {
      "cell_type": "code",
      "execution_count": 47,
      "metadata": {
        "colab": {
          "base_uri": "https://localhost:8080/"
        },
        "id": "04fMBECBLNqe",
        "outputId": "5de66dda-ca1d-4cbe-a433-f59030013f96"
      },
      "outputs": [
        {
          "output_type": "stream",
          "name": "stdout",
          "text": [
            "cereja\n"
          ]
        }
      ],
      "source": [
        "# - Índices Negativos\n",
        "# Índices negativos acessam a lista a partir do final.\n",
        "print(frutas[-1])  # Acessa o último elemento: 'cereja'"
      ]
    },
    {
      "cell_type": "markdown",
      "metadata": {
        "id": "yD0DAvrYLNqe"
      },
      "source": [
        "#### 2.1.2.1 Modificando Listas"
      ]
    },
    {
      "cell_type": "markdown",
      "metadata": {
        "id": "9dxEmbgcLNqe"
      },
      "source": [
        "Listas são mutáveis, o que significa que você pode alterar seus elementos."
      ]
    },
    {
      "cell_type": "code",
      "execution_count": 48,
      "metadata": {
        "colab": {
          "base_uri": "https://localhost:8080/"
        },
        "id": "9bKrPhFeLNqe",
        "outputId": "3aa9775f-b6bb-43ed-d2ff-1d85cbae56a1"
      },
      "outputs": [
        {
          "output_type": "stream",
          "name": "stdout",
          "text": [
            "Lista modificada: ['maçã', 'laranja', 'cereja']\n",
            "Lista com novo item: ['maçã', 'laranja', 'cereja', 'manga']\n",
            "Lista com item kiwi inserido na posição 1: ['maçã', 'kiwi', 'laranja', 'cereja', 'manga']\n",
            "Lista com item removido: ['maçã', 'kiwi', 'cereja', 'manga']\n",
            "Lista com item removido: ['maçã', 'cereja', 'manga']\n",
            "Item removido: kiwi\n"
          ]
        }
      ],
      "source": [
        "# - Alterando Valores\n",
        "# Para alterar o valor de um item específico, referencie o índice do item:\n",
        "frutas[1] = \"laranja\"\n",
        "print(f\"Lista modificada: {frutas}\")  # ['maçã', 'laranja', 'cereja']\n",
        "\n",
        "# - Adicionando Elementos\n",
        "# Para adicionar um item ao final da lista, use o método append():\n",
        "frutas.append(\"manga\")\n",
        "print(f\"Lista com novo item: {frutas}\")  # ['maçã', 'laranja', 'cereja', 'manga']\n",
        "\n",
        "# - Inserindo Elementos\n",
        "# Para inserir elementos em uma posição específica, use insert():\n",
        "frutas.insert(1, \"kiwi\")\n",
        "print(f\"Lista com item kiwi inserido na posição 1: {frutas}\")  # ['maçã', 'kiwi', 'laranja', 'cereja', 'manga']\n",
        "\n",
        "# - Removendo Elementos\n",
        "# Para remover um item específico, use o método remove():\n",
        "frutas.remove(\"laranja\")\n",
        "print(f\"Lista com item removido: {frutas}\")  # ['maçã', 'kiwi', 'cereja', 'manga']\n",
        "\n",
        "# - Removendo por Índice\n",
        "# Para remover um item em um índice específico, use pop():\n",
        "removido = frutas.pop(1)  # Remove 'kiwi'\n",
        "print(f\"Lista com item removido: {frutas}\")  # ['maçã', 'cereja', 'manga']\n",
        "print(f\"Item removido: {removido}\")  # 'kiwi'\n"
      ]
    },
    {
      "cell_type": "markdown",
      "metadata": {
        "id": "P9jcXosMLNqf"
      },
      "source": [
        "#### 2.1.2.2 Outras Operações"
      ]
    },
    {
      "cell_type": "markdown",
      "metadata": {
        "id": "Q_hUuJKmLNqf"
      },
      "source": [
        "Existem várias funções integradas em Python que você pode usar em listas."
      ]
    },
    {
      "cell_type": "code",
      "execution_count": 50,
      "metadata": {
        "colab": {
          "base_uri": "https://localhost:8080/"
        },
        "id": "a4BB2mXsLNqf",
        "outputId": "c314f2b5-73d4-46ab-ae66-24a40618433d"
      },
      "outputs": [
        {
          "output_type": "stream",
          "name": "stdout",
          "text": [
            "Tamanho da lista: 3\n",
            "maçã\n",
            "banana\n",
            "cereja\n",
            "Sim, 'maçã' está na lista de frutas\n",
            "Lista de compras: ['maçã', 'banana', 'cereja', 'batata', 'cenoura']\n",
            "Lista de frutas ordenada: ['banana', 'cereja', 'maçã']\n",
            "Lista de frutas invertida: ['maçã', 'cereja', 'banana']\n",
            "Lista de frutas ordenada por tamanho da palavra: ['maçã', 'cereja', 'banana']\n",
            "Lista de frutas ordenada por tamanho da palavra invertida: ['cereja', 'banana', 'maçã']\n",
            "Lista de frutas e vegetais: ['cereja', 'banana', 'maçã', 'batata', 'cenoura']\n",
            "Índice do item 'banana': 1\n",
            "Quantidade de 'banana' na lista: 1\n",
            "Cópia da lista de frutas: ['cereja', 'banana', 'maçã', 'batata', 'cenoura']\n",
            "Lista de frutas copiada e limpa: []\n",
            "Lista aninhada: ['maçã', ['banana', ['cereja', 'kiwi']]]\n",
            "banana\n",
            "cereja\n"
          ]
        }
      ],
      "source": [
        "# -Tamanho da Lista\n",
        "# Para encontrar o tamanho de uma lista, use len():\n",
        "frutas = [\"maçã\", \"banana\", \"cereja\"]\n",
        "print(f\"Tamanho da lista: {len(frutas)}\")  # 3\n",
        "\n",
        "# - Iterando uma Lista\n",
        "# Você pode usar um loop for para iterar sobre uma lista:\n",
        "for fruta in frutas:\n",
        "  print(fruta)\n",
        "\n",
        "# - Verificando se um Item Existe\n",
        "# Para verificar se um item está presente em uma lista, use o operador in:~\n",
        "if \"maçã\" in frutas:\n",
        "  print(\"Sim, 'maçã' está na lista de frutas\")\n",
        "\n",
        "# - Concatenando Listas\n",
        "# Para juntar duas listas, use o operador +:\n",
        "vegetais = [\"batata\", \"cenoura\"]\n",
        "compras = frutas + vegetais\n",
        "print(f\"Lista de compras: {compras}\")  # ['maçã', 'banana', 'cereja', 'batata', 'cenoura']\n",
        "\n",
        "# - Métodos de Lista\n",
        "# Python tem um conjunto de métodos embutidos que você pode usar em listas.\n",
        "# sort: Ordena a lista alfabeticamente\n",
        "frutas.sort()\n",
        "print(f\"Lista de frutas ordenada: {frutas}\")  # ['banana', 'cereja', 'maçã']\n",
        "\n",
        "# reverse: Inverte a ordem da lista\n",
        "frutas.reverse()\n",
        "print(f\"Lista de frutas invertida: {frutas}\")  # ['maçã', 'cereja', 'banana']\n",
        "\n",
        "# sort com critério específico\n",
        "frutas.sort(key=len)\n",
        "print(f\"Lista de frutas ordenada por tamanho da palavra: {frutas}\")  # ['maçã', 'banana', 'cereja']\n",
        "\n",
        "# reverse com critério específico\n",
        "frutas.sort(key=len, reverse=True)\n",
        "print(f\"Lista de frutas ordenada por tamanho da palavra invertida: {frutas}\")  # ['cereja', 'banana', 'maçã']\n",
        "\n",
        "# extend: Adiciona elementos de uma lista a outra lista\n",
        "frutas.extend(vegetais)\n",
        "print(f\"Lista de frutas e vegetais: {frutas}\")  # ['cereja', 'banana', 'maçã', 'batata', 'cenoura']\n",
        "\n",
        "# index: Retorna o índice do primeiro elemento com o valor especificado\n",
        "indice = frutas.index(\"banana\")\n",
        "print(f\"Índice do item 'banana': {indice}\")  # 1\n",
        "\n",
        "# count: Retorna o número de elementos com o valor especificado\n",
        "quantidade = frutas.count(\"banana\")\n",
        "print(f\"Quantidade de 'banana' na lista: {quantidade}\")  # 1\n",
        "\n",
        "# copy: Retorna uma cópia da lista\n",
        "copia = frutas.copy()\n",
        "print(f\"Cópia da lista de frutas: {copia}\")  # ['cereja', 'banana', 'maçã', 'batata', 'cenoura']\n",
        "\n",
        "# clear: Remove todos os elementos da lista\n",
        "copia.clear()\n",
        "print(f\"Lista de frutas copiada e limpa: {copia}\")  # []\n",
        "\n",
        "# - Listas Aninhadas\n",
        "# Uma lista pode conter qualquer tipo de dado, incluindo outras listas. Essas listas aninhadas são chamadas de listas aninhadas.\n",
        "lista_aninhada = [\"maçã\", [\"banana\", [\"cereja\", \"kiwi\"]]]\n",
        "print(f\"Lista aninhada: {lista_aninhada}\")  # ['maçã', ['banana', ['cereja', 'kiwi']]']\n",
        "\n",
        "# - Acessando Itens de Listas Aninhadas\n",
        "# Para acessar itens em listas aninhadas, use colchetes para especificar a posição de cada item.\n",
        "print(lista_aninhada[1][0])  # 'banana'\n",
        "print(lista_aninhada[1][1][0])  # 'cereja'\n",
        "\n"
      ]
    },
    {
      "cell_type": "markdown",
      "metadata": {
        "id": "0cP4pNTyLNqf"
      },
      "source": [
        "#### 2.1.2.3 Listas Mistas"
      ]
    },
    {
      "cell_type": "markdown",
      "metadata": {
        "id": "o0UBAmx-LNqf"
      },
      "source": [
        "Em Python, uma lista pode conter elementos de diferentes tipos, tornando-as estruturas de dados muito flexíveis."
      ]
    },
    {
      "cell_type": "code",
      "execution_count": 52,
      "metadata": {
        "colab": {
          "base_uri": "https://localhost:8080/"
        },
        "id": "c3d-GEBHLNqf",
        "outputId": "1f37dec8-b874-4f86-adb4-353dc5fac542"
      },
      "outputs": [
        {
          "output_type": "stream",
          "name": "stdout",
          "text": [
            "Lista Mista: [42, 'texto', 3.14, [1, 2, 3], True]\n",
            "Primeiro elemento: 42\n",
            "Segundo elemento: texto\n",
            "Terceiro elemento: 3.14\n",
            "Primeiro elemento da lista aninhada: 1\n",
            "Lista Mista modificada: [42, 'novo texto', 3.14, [1, 2, 3], True]\n",
            "Lista Mista com novos elementos: [42, 'novo texto', 'outro elemento', 3.14, [1, 2, 3], True, False]\n",
            "Lista Mista com itens removidos: [42, 'novo texto', 3.14, True, False]\n",
            "Item removido: [1, 2, 3]\n",
            "Elemento: 42 / Tipo: <class 'int'>\n",
            "String: NOVO TEXTO\n",
            "Elemento: 3.14 / Tipo: <class 'float'>\n",
            "Elemento: True / Tipo: <class 'bool'>\n",
            "Elemento: False / Tipo: <class 'bool'>\n"
          ]
        }
      ],
      "source": [
        "# Neste exemplo, lista_mista contém um inteiro, uma string, um float, outra lista e um booleano.\n",
        "lista_mista = [42, \"texto\", 3.14, [1, 2, 3], True]\n",
        "print(f\"Lista Mista: {lista_mista}\")\n",
        "\n",
        "# - Acessando Elementos da Lista Mista\n",
        "# Você pode acessar elementos individuais da lista da mesma forma que faria com listas homogêneas.\n",
        "print(f\"Primeiro elemento: {lista_mista[0]}\")  # 42\n",
        "print(f\"Segundo elemento: {lista_mista[1]}\")  # 'texto'\n",
        "print(f\"Terceiro elemento: {lista_mista[2]}\")  # 3.14\n",
        "\n",
        "# - Acessando Elementos de uma Lista Aninhada Mista\n",
        "# Para acessar um elemento dentro de uma lista aninhada, você usa uma segunda indexação.\n",
        "print(f\"Primeiro elemento da lista aninhada: {lista_mista[3][0]}\")  # 1\n",
        "\n",
        "# Modificando Listas Mistas\n",
        "# Você pode modificar elementos individuais da lista da mesma forma que faria com listas homogêneas.\n",
        "lista_mista[1] = \"novo texto\"\n",
        "print(f\"Lista Mista modificada: {lista_mista}\")  # [42, 'novo texto', 3.14, [1, 2, 3], True]\n",
        "\n",
        "# Adicionando Elementos\n",
        "# Elementos podem ser adicionados ao final da lista com append() ou em uma posição específica com insert().\n",
        "lista_mista.append(False)\n",
        "lista_mista.insert(2, \"outro elemento\")\n",
        "print(f\"Lista Mista com novos elementos: {lista_mista}\")  # [42, 'novo texto', 'outro elemento', 3.14, [1, 2, 3], True, False]\n",
        "\n",
        "# Removendo Elementos de Listas Mistas\n",
        "# Use remove() para excluir um item específico ou pop() para remover um item em um índice específico.\n",
        "lista_mista.remove(\"outro elemento\")\n",
        "removido = lista_mista.pop(3)  # Remove o item no índice 3\n",
        "print(f\"Lista Mista com itens removidos: {lista_mista}\")  # [42, 'novo texto', 3.14, [1, 2, 3], True, False]\n",
        "print(f\"Item removido: {removido}\")  # 'outro elemento'\n",
        "\n",
        "# Tratando Elementos de Diferentes Tipos\n",
        "# Em uma iteração, você pode querer tratar elementos de tipos diferentes de maneira distinta.\n",
        "for elemento in lista_mista:\n",
        "    if isinstance(elemento, str):\n",
        "        print(f\"String: {elemento.upper()}\")  # Converte para maiúsculas\n",
        "    elif isinstance(elemento, list):\n",
        "        print([x * 2 for x in elemento])  # Multiplica números por 2\n",
        "    else:\n",
        "        print(f\"Elemento: {elemento} / Tipo: {type(elemento)}\") # Exibe o elemento e seu tipo"
      ]
    },
    {
      "cell_type": "markdown",
      "metadata": {
        "id": "sHW9EQd_LNqg"
      },
      "source": [
        "#### 2.1.2.4 Compreensão de Listas (List Comprehension) em Python"
      ]
    },
    {
      "cell_type": "markdown",
      "metadata": {
        "id": "x1FUOantLNqg"
      },
      "source": [
        "Olá, estudantes! Hoje, vamos mergulhar no poderoso conceito de compreensão de listas em Python, uma ferramenta que não só simplifica o código, mas também o torna mais rápido e elegante. Preparados para fortalecer suas habilidades em Python? Vamos lá!\n",
        "\n",
        "<b>- O que é Compreensão de Lista?</b>\n",
        "<p>Compreensão de listas é uma forma concisa de criar listas em Python. Ela permite gerar uma nova lista aplicando uma expressão a cada item de uma sequência iterável, tudo em uma única linha de código.</p>\n",
        "<b>- Sintaxe Básica de Compreensão de Lista</b>\n",
        "<p>A sintaxe básica de uma compreensão de lista é:<p>\n",
        "\n",
        "```python\n",
        "[`nova_expressao` for `item` in `iteravel` if `condicao`]\n",
        "\n",
        "- `nova_expressao`: O valor que será adicionado à nova lista.\n",
        "- `item`: Variável que representa cada elemento do iterável.\n",
        "- `iteravel`: Uma sequência de elementos que a compreensão irá percorrer.\n",
        "- `condicao`: Uma condição opcional para filtrar elementos do iterável."
      ]
    },
    {
      "cell_type": "code",
      "execution_count": 54,
      "metadata": {
        "colab": {
          "base_uri": "https://localhost:8080/"
        },
        "id": "9jC1mTONLNqg",
        "outputId": "f311df00-cb47-4570-d075-6e2df55902c7"
      },
      "outputs": [
        {
          "output_type": "stream",
          "name": "stdout",
          "text": [
            "Números: [0, 1, 2, 3, 4, 5, 6, 7, 8, 9]\n",
            "Pares: [0, 2, 4, 6, 8]\n",
            "Quadrados: [0, 1, 4, 9, 16, 25, 36, 49, 64, 81]\n",
            "Quadrados dos Pares: [0, 4, 16, 36, 64]\n"
          ]
        }
      ],
      "source": [
        "# Exemplo de compreensão de lista\n",
        "# Imprimir elementos em uma lista usando list comprehension\n",
        "numeros = [x for x in range(10)]\n",
        "print(f\"Números: {numeros}\")  # [0, 1, 2, 3, 4, 5, 6, 7, 8, 9]\n",
        "\n",
        "# Filtrando elementos\n",
        "pares = [x for x in range(10) if x % 2 == 0]\n",
        "print(f\"Pares: {pares}\")  # [0, 2, 4, 6, 8]\n",
        "\n",
        "# Forma manual de filtrar os pares\n",
        "# pares = []\n",
        "# for x in range(10):\n",
        "#  if (x % 2 == 0):\n",
        "#    pares.append(x)\n",
        "\n",
        "# Aplicando Operações\n",
        "quadrados = [x**2 for x in range(10)]\n",
        "print(f\"Quadrados: {quadrados}\")  # [0, 1, 4, 9, 16, 25, 36, 49, 64, 81]\n",
        "\n",
        "# Filtrando elementos e aplicado operações ao mesmo tempo\n",
        "quadrados_pares = [x**2 for x in range(10) if x % 2 == 0]\n",
        "print(f\"Quadrados dos Pares: {quadrados_pares}\")  # [0, 4, 16, 36, 64]"
      ]
    },
    {
      "cell_type": "markdown",
      "metadata": {
        "id": "VEFjXj7CLNqg"
      },
      "source": [
        "A compreensão de listas pode ser usada para operações mais complexas, como manipulações de strings ou cálculos mais elaborados."
      ]
    },
    {
      "cell_type": "code",
      "execution_count": null,
      "metadata": {
        "id": "-ADhD0fnLNqg",
        "outputId": "253f76d3-8027-4cb7-91a9-ea13d9e02ec0"
      },
      "outputs": [
        {
          "name": "stdout",
          "output_type": "stream",
          "text": [
            "['nohtyP', 'é', 'levírcni']\n"
          ]
        }
      ],
      "source": [
        "palavras = [\"Python\", \"é\", \"incrível\"]\n",
        "invertidas = [palavra[::-1] for palavra in palavras]\n",
        "print(invertidas)"
      ]
    },
    {
      "cell_type": "code",
      "execution_count": null,
      "metadata": {
        "id": "H_qLnytSLNqg",
        "outputId": "7855010d-bb82-4ed4-f74e-ea0fcfe3abfa"
      },
      "outputs": [
        {
          "name": "stdout",
          "output_type": "stream",
          "text": [
            "[[1, 4, 7], [2, 5, 8], [3, 6, 9]]\n"
          ]
        }
      ],
      "source": [
        "matriz = [[1, 2, 3], [4, 5, 6], [7, 8, 9]]\n",
        "transposta = [[linha[i] for linha in matriz] for i in range(3)]\n",
        "print(transposta)\n",
        "# i=0\n",
        "# linha[0] = 1\n",
        "# linha[0] = 4\n",
        "# linha[0] = 7\n",
        "# i=1\n",
        "# linha[1] = 2\n",
        "# linha[1] = 5\n",
        "# linha[1] = 8\n",
        "# i=2\n",
        "# linha[2] = 3\n",
        "# linha[2] = 6\n",
        "# linha[2] = 9"
      ]
    },
    {
      "cell_type": "markdown",
      "metadata": {
        "id": "-wny1g_TLNqh"
      },
      "source": [
        "- <span style=\"font-family: Consolas; font-size: 14px; font-weight: bold;\">matriz = [[1, 2, 3], [4, 5, 6], [7, 8, 9]]</span>: Define uma matriz 3x3 como uma lista de listas, onde cada sublista representa uma linha da matriz.\n",
        "- <span style=\"font-family: Consolas; font-size: 14px; font-weight: bold;\">transposta = [[linha[i] for linha in matriz] for i in range(3)]</span>: Esta é uma compreensão de lista aninhada que cria a matriz transposta.\n",
        "- A parte externa da compreensão de lista, [... for i in range(3)], cria uma nova linha para cada coluna da matriz original (3 colunas neste caso).\n",
        "- A parte interna, [linha[i] for linha in matriz], percorre cada linha da matriz original, pegando o i-ésimo elemento de cada linha. Isso efetivamente gera as colunas da matriz transposta.\n",
        "- print(transposta): Exibe a matriz transposta, que é [[1, 4, 7], [2, 5, 8], [3, 6, 9]]. Aqui, as linhas da matriz original tornam-se colunas na matriz transposta."
      ]
    },
    {
      "cell_type": "markdown",
      "metadata": {
        "id": "0oJIUEhlLNqh"
      },
      "source": [
        "### 2.1.3 Tuplas"
      ]
    },
    {
      "cell_type": "markdown",
      "metadata": {
        "id": "yFSGwV2KLNqh"
      },
      "source": [
        "#### 2.1.3.1 Criação e acesso de tuplas"
      ]
    },
    {
      "cell_type": "markdown",
      "metadata": {
        "id": "3-nLTM43LNqh"
      },
      "source": [
        "\n",
        "Agora Vamos explorar as tuplas em Python, uma estrutura de dados importante que é similar às listas, mas com uma característica chave: imutabilidade. Vamos entender o que isso significa e como você pode utilizar tuplas em seus programas.\n",
        "\n",
        "1. **O que são Tuplas**  \n",
        "Uma tupla é uma coleção _`ordenada`_ de elementos, semelhante a uma lista. No entanto, uma vez criada, os elementos de uma tupla _`não podem ser alterados`_. Isso significa que tuplas são _`imutáveis`_.\n",
        "\n",
        "1. **Criando Tuplas**  \n",
        "- Uma tupla é definida colocando todos os itens (elementos) dentro de `()`, separados por `,`.\n",
        "- Tuplas também podem ser criadas sem `()`, apenas separando os itens por `,`.\n",
        "- Tuplas podem ser criadas com apenas 1 ítem ou vazias"
      ]
    },
    {
      "cell_type": "code",
      "execution_count": null,
      "metadata": {
        "id": "JSXkP5SRLNqh",
        "outputId": "f3f7195b-46b9-421a-f306-e2c87b9b6723"
      },
      "outputs": [
        {
          "name": "stdout",
          "output_type": "stream",
          "text": [
            "Minha Tupla: (1, 'olá', 3.14)\n",
            "Outra Tupla: ('python', 42, 3.14)\n",
            "Tupla com um único item: ('maçã',)\n",
            "Tupla vazia: ()\n"
          ]
        }
      ],
      "source": [
        "# Criando uma tupla com múltiplos elementos\n",
        "minha_tupla = (1, \"olá\", 3.14)\n",
        "print(f\"Minha Tupla: {minha_tupla}\")\n",
        "\n",
        "# Criando uma tupla sem usar parênteses\n",
        "outra_tupla = \"python\", 42, 3.14\n",
        "print(f\"Outra Tupla: {outra_tupla}\")\n",
        "\n",
        "# Tuplas com um único item\n",
        "# Para criar uma tupla com apenas um item, você precisa incluir uma vírgula, mesmo que haja apenas um valor\n",
        "t9 = (\"maçã\",)\n",
        "print(f\"Tupla com um único item: {t9}\")  # Saída: ('maçã',)\n",
        "\n",
        "# Criando uma tupla vazia\n",
        "tupla_vazia = ()\n",
        "print(f\"Tupla vazia: {tupla_vazia}\")"
      ]
    },
    {
      "cell_type": "markdown",
      "metadata": {
        "id": "-SAeBqrVLNqh"
      },
      "source": [
        "3. **Acessando Tuplas**  \n",
        "O acesso aos elementos de uma tupla é feito da mesma forma que nas listas, utilizando índices entre colchetes:"
      ]
    },
    {
      "cell_type": "code",
      "execution_count": null,
      "metadata": {
        "id": "s2jReiZALNqh",
        "outputId": "986f4dd4-34e2-4a7c-8aca-13f21d69a87f"
      },
      "outputs": [
        {
          "name": "stdout",
          "output_type": "stream",
          "text": [
            "O segundo elemento da tupla é: olá\n"
          ]
        }
      ],
      "source": [
        "minha_tupla = (1, \"olá\", 3.14)\n",
        "print(f\"O segundo elemento da tupla é: {minha_tupla[1]}\")"
      ]
    },
    {
      "cell_type": "markdown",
      "metadata": {
        "id": "Gd24e2W0LNqi"
      },
      "source": [
        "#### 2.1.3.2 Imutabilidade"
      ]
    },
    {
      "cell_type": "markdown",
      "metadata": {
        "id": "UZJB6R0dLNqi"
      },
      "source": [
        "A principal diferença entre listas e tuplas é que, enquanto você pode alterar, adicionar ou remover elementos de uma lista, uma tupla não permite tais operações.  \n",
        "Tentar modificar diretamente um elemento de uma tupla resultará em um erro."
      ]
    },
    {
      "cell_type": "code",
      "execution_count": 55,
      "metadata": {
        "colab": {
          "base_uri": "https://localhost:8080/"
        },
        "id": "KkbAUln-LNqi",
        "outputId": "4a6d4186-d372-4c93-cc51-7df20d08346b"
      },
      "outputs": [
        {
          "output_type": "stream",
          "name": "stdout",
          "text": [
            "[1, 200, 3]\n"
          ]
        }
      ],
      "source": [
        "minha_lista = [1, 2, 3]\n",
        "minha_lista[1] = 200  # Permite alteração\n",
        "print(minha_lista)  # Saída: [1, 200, 3]"
      ]
    },
    {
      "cell_type": "code",
      "execution_count": 56,
      "metadata": {
        "colab": {
          "base_uri": "https://localhost:8080/",
          "height": 159
        },
        "id": "tayDpPCiLNqi",
        "outputId": "8660fc85-eccf-48dc-c5fd-35799a9587b6"
      },
      "outputs": [
        {
          "output_type": "error",
          "ename": "TypeError",
          "evalue": "'tuple' object does not support item assignment",
          "traceback": [
            "\u001b[0;31m---------------------------------------------------------------------------\u001b[0m",
            "\u001b[0;31mTypeError\u001b[0m                                 Traceback (most recent call last)",
            "\u001b[0;32m<ipython-input-56-4630a40a2259>\u001b[0m in \u001b[0;36m<cell line: 2>\u001b[0;34m()\u001b[0m\n\u001b[1;32m      1\u001b[0m \u001b[0mminha_tupla\u001b[0m \u001b[0;34m=\u001b[0m \u001b[0;34m(\u001b[0m\u001b[0;36m1\u001b[0m\u001b[0;34m,\u001b[0m \u001b[0;34m\"olá\"\u001b[0m\u001b[0;34m,\u001b[0m \u001b[0;36m3.14\u001b[0m\u001b[0;34m)\u001b[0m\u001b[0;34m\u001b[0m\u001b[0;34m\u001b[0m\u001b[0m\n\u001b[0;32m----> 2\u001b[0;31m \u001b[0mminha_tupla\u001b[0m\u001b[0;34m[\u001b[0m\u001b[0;36m1\u001b[0m\u001b[0;34m]\u001b[0m \u001b[0;34m=\u001b[0m \u001b[0;34m\"mundo\"\u001b[0m  \u001b[0;31m# Gera um TypeError\u001b[0m\u001b[0;34m\u001b[0m\u001b[0;34m\u001b[0m\u001b[0m\n\u001b[0m",
            "\u001b[0;31mTypeError\u001b[0m: 'tuple' object does not support item assignment"
          ]
        }
      ],
      "source": [
        "minha_tupla = (1, \"olá\", 3.14)\n",
        "minha_tupla[1] = \"mundo\"  # Gera um TypeError"
      ]
    },
    {
      "cell_type": "markdown",
      "metadata": {
        "id": "H9ibRPJQLNqi"
      },
      "source": [
        "#### 2.1.3.3 Porque e quando usar"
      ]
    },
    {
      "cell_type": "markdown",
      "metadata": {
        "id": "P03t4tnaLNqi"
      },
      "source": [
        "Tuplas são usadas quando você quer _`garantir que os dados não sejam modificados`_.   \n",
        "Elas são mais _`rápidas`_ que as listas e podem ser usadas como chaves em dicionários, enquanto listas não podem.\n",
        "\n",
        "- Exemplo de Uso  \n",
        "Tuplas são _`ideais para representar dados que vêm como pares ou conjuntos fixos de elementos`_, como coordenadas (latitude, longitude) ou informações que não devem mudar, como datas de nascimento."
      ]
    },
    {
      "cell_type": "code",
      "execution_count": null,
      "metadata": {
        "id": "-zLJFSj6LNqj",
        "outputId": "138703dd-c8e7-43b2-8292-21158aedceaf"
      },
      "outputs": [
        {
          "name": "stdout",
          "output_type": "stream",
          "text": [
            "Coordenadas: (40.7128, -74.006)\n"
          ]
        }
      ],
      "source": [
        "coordenadas = (40.7128, -74.0060)\n",
        "print(f\"Coordenadas: {coordenadas}\")"
      ]
    },
    {
      "cell_type": "markdown",
      "metadata": {
        "id": "jZuw4pXrLNqj"
      },
      "source": [
        "#### 2.1.3.4 Operações com tuplas"
      ]
    },
    {
      "cell_type": "markdown",
      "metadata": {
        "id": "4wuZP0J8LNqj"
      },
      "source": [
        "Embora não possa modificar os elementos de uma tupla, você pode realizar outras operações, tais como:\n",
        "- contar elementos\n",
        "- encontrar posição de elementos\n",
        "- concatenar\n",
        "- repetir\n",
        "- realizar verificações"
      ]
    },
    {
      "cell_type": "code",
      "execution_count": 57,
      "metadata": {
        "colab": {
          "base_uri": "https://localhost:8080/"
        },
        "id": "QsPdlBa7LNqj",
        "outputId": "2b07c4dd-fc50-448d-e196-7a8b2486329d"
      },
      "outputs": [
        {
          "output_type": "stream",
          "name": "stdout",
          "text": [
            "Quantidade de 2 na tupla: 3\n",
            "Índice da primeira ocorrência de 2: 1\n",
            "Tupla concatenada: (1, 2, 3, 4, 5, 6)\n",
            "Tupla repetida: (1, 2, 3, 1, 2, 3, 1, 2, 3)\n",
            "2 está na tupla\n",
            "Primeiro item da tupla: 1\n"
          ]
        }
      ],
      "source": [
        "# - Contagem e busca\n",
        "t = (1, 2, 3, 2, 4, 2)\n",
        "print(f\"Quantidade de 2 na tupla: {t.count(2)}\")  # Conta o número de ocorrências do número 2\n",
        "print(f\"Índice da primeira ocorrência de 2: {t.index(2)}\")  # Retorna o índice da primeira ocorrência de 2\n",
        "\n",
        "# - Concatenando Tuplas\n",
        "# Você pode concatenar duas tuplas usando o operador '+':\n",
        "t1 = (1, 2, 3)\n",
        "t2 = (4, 5, 6)\n",
        "t3 = t1 + t2\n",
        "print(f\"Tupla concatenada: {t3}\")  # (1, 2, 3, 4, 5, 6)\n",
        "\n",
        "# - Repetindo Tuplas\n",
        "# Você pode repetir os elementos de uma tupla usando o operador '*':\n",
        "t4 = t1 * 3\n",
        "print(f\"Tupla repetida: {t4}\")  # (1, 2, 3, 1, 2, 3, 1, 2, 3)\n",
        "\n",
        "# - Verificando se um Item Existe\n",
        "# Para determinar se um item está presente na tupla, você pode usar a palavra-chave 'in':\n",
        "if 2 in t1:\n",
        "    print(\"2 está na tupla\")\n",
        "\n",
        "# - Acessando Itens da Tupla\n",
        "# Você pode acessar itens da tupla referenciando o índice:\n",
        "print(f\"Primeiro item da tupla: {t1[0]}\")  # 1\n"
      ]
    },
    {
      "cell_type": "markdown",
      "metadata": {
        "id": "IUVF5oTTLNqj"
      },
      "source": [
        "Como exemplos de operações mais complexas, podemos citar:\n",
        "- aninhar\n",
        "- tamanho da tupla\n",
        "- encotrar máximo e mínimo\n",
        "- conversão de lista para tupla\n",
        "- conversão de tupla para lista\n",
        "- empacotar e desempacotar valores"
      ]
    },
    {
      "cell_type": "code",
      "execution_count": 60,
      "metadata": {
        "colab": {
          "base_uri": "https://localhost:8080/"
        },
        "id": "OH3-OYJ1LNqj",
        "outputId": "0a33fede-f76a-443b-9d82-a78a2ea34898"
      },
      "outputs": [
        {
          "output_type": "stream",
          "name": "stdout",
          "text": [
            "Tupla aninhada: ((1, 2, 3), (4, 5, 6))\n",
            "Tamanho da tupla: 3\n",
            "Maior valor na tupla: 3\n",
            "Menor valor na tupla: 1\n",
            "Tupla convertida de lista: (1, 2, 3, 4, 5)\n",
            "Lista: ['vermelho', 'verde', 'azul']\n",
            "Valores desempacotados: a=1, b=2, c=3\n",
            "Tupla empacotada: (4, 2, 3)\n"
          ]
        }
      ],
      "source": [
        "# - Tuplas Aninhadas\n",
        "# As tuplas podem conter outras tuplas como elementos:\n",
        "t5 = (t1, t2)\n",
        "print(f\"Tupla aninhada: {t5}\")  # ((1, 2, 3), (4, 5, 6))\n",
        "\n",
        "# - Tamanho da Tupla\n",
        "# Você pode obter o número de elementos em uma tupla com a função len():\n",
        "print(f\"Tamanho da tupla: {len(t1)}\")  # 3\n",
        "\n",
        "# - Máximo e Mínimo\n",
        "# Você pode obter o maior e o menor valor em uma tupla com as funções max() e min():\n",
        "print(f\"Maior valor na tupla: {max(t1)}\")  # 3\n",
        "print(f\"Menor valor na tupla: {min(t1)}\")  # 1\n",
        "\n",
        "# - Conversão de Lista para Tupla\n",
        "# Você pode converter uma lista em uma tupla com a função tuple():\n",
        "lista = [1, 2, 3, 4, 5]\n",
        "t6 = tuple(lista)\n",
        "print(f\"Tupla convertida de lista: {t6}\")  # (1, 2, 3, 4, 5)\n",
        "\n",
        "# Definindo uma tupla\n",
        "cores = ('vermelho', 'verde', 'azul')\n",
        "# Convertendo a tupla para uma lista\n",
        "lista_cores = list(cores)\n",
        "print(f\"Lista: {lista_cores}\")  # ['vermelho', 'verde', 'azul']\n",
        "\n",
        "# - Desempacotamento de Tupla\n",
        "# Você pode desempacotar uma tupla atribuindo-a a uma lista de variáveis:\n",
        "t1 = (1, 2, 3)\n",
        "a, b, c = t1\n",
        "print(f\"Valores desempacotados: a={a}, b={b}, c={c}\")  # a=1, b=2, c=3\n",
        "a=4\n",
        "# - Empacotamento de Tupla\n",
        "# Quando criamos uma tupla, o processo é chamado de empacotamento:\n",
        "t7 = a, b, c\n",
        "print(f\"Tupla empacotada: {t7}\")  # (1, 2, 3)"
      ]
    },
    {
      "cell_type": "markdown",
      "metadata": {
        "id": "UXonLtQiLNqk"
      },
      "source": [
        "#### 2.1.3.5 Operações avançadas com tuplas"
      ]
    },
    {
      "cell_type": "markdown",
      "metadata": {
        "id": "F3y0RE2WLNqk"
      },
      "source": [
        "Vamos explorar como podemos utilizar laços (loops) com tuplas em Python, demonstrando algumas operações úteis:\n",
        "- **Iterar sobre tuplas**  \n",
        "    - Você pode percorrer cada elemento de uma tupla usando um laço _`for`_. Isso é útil para acessar e manipular cada item individualmente.\n",
        "- **Tuplas em laços de índice**  \n",
        "    - Se você precisar do índice dos elementos enquanto itera, pode usar _`enumerate()`_.\n",
        "- **Laços e Tuplas Aninhadas**  \n",
        "    - Se uma tupla contém outras tuplas, você pode usar _`desempacotamento`_ para acessr os valores.\n",
        "- **Combinando Tuplas com zip()**  \n",
        "    - O _`zip()`_ é útil para combinar elementos de duas ou mais tuplas em um laço."
      ]
    },
    {
      "cell_type": "code",
      "execution_count": 65,
      "metadata": {
        "colab": {
          "base_uri": "https://localhost:8080/"
        },
        "id": "llqCV8cKLNqk",
        "outputId": "a8bc7862-2dcb-4d01-ea2f-1c4992e36019"
      },
      "outputs": [
        {
          "output_type": "stream",
          "name": "stdout",
          "text": [
            "Cor: vermelho\n",
            "Cor: verde\n",
            "Cor: azul\n"
          ]
        }
      ],
      "source": [
        "# Definindo uma tupla\n",
        "cores = ('vermelho', 'verde', 'azul')\n",
        "\n",
        "# Iterando sobre a tupla\n",
        "i=0\n",
        "for cor in cores:\n",
        "    print(f\"Cor: {cor}\")"
      ]
    },
    {
      "cell_type": "code",
      "execution_count": 62,
      "metadata": {
        "colab": {
          "base_uri": "https://localhost:8080/"
        },
        "id": "U_kn4OUxLNqk",
        "outputId": "b68505e3-cfda-4412-bec8-792f246cc5d6"
      },
      "outputs": [
        {
          "output_type": "stream",
          "name": "stdout",
          "text": [
            "0: vermelho\n",
            "1: verde\n",
            "2: azul\n"
          ]
        }
      ],
      "source": [
        "# Iterando com índice e valor\n",
        "for indice, cor in enumerate(cores):\n",
        "    print(f\"{indice}: {cor}\")"
      ]
    },
    {
      "cell_type": "code",
      "execution_count": 66,
      "metadata": {
        "colab": {
          "base_uri": "https://localhost:8080/"
        },
        "id": "Ne5gqbJ9LNqk",
        "outputId": "0273d3af-0016-4cf4-f92e-87bfd5bba8da"
      },
      "outputs": [
        {
          "output_type": "stream",
          "name": "stdout",
          "text": [
            "Coordenadas: x=1, y=2\n",
            "Coordenadas: x=3, y=4\n",
            "Coordenadas: x=5, y=6\n"
          ]
        }
      ],
      "source": [
        "# Tupla aninhada\n",
        "pontos = ((1, 2), (3, 4), (5, 6))\n",
        "\n",
        "# Iterando sobre uma tupla aninhada\n",
        "for ponto in pontos:\n",
        "    x, y = ponto\n",
        "    print(f\"Coordenadas: x={x}, y={y}\")"
      ]
    },
    {
      "cell_type": "code",
      "execution_count": 67,
      "metadata": {
        "colab": {
          "base_uri": "https://localhost:8080/"
        },
        "id": "aaIWDgHYLNqk",
        "outputId": "aef75845-400b-4bb8-ceca-257c50dfa841"
      },
      "outputs": [
        {
          "output_type": "stream",
          "name": "stdout",
          "text": [
            "1: a\n",
            "2: b\n",
            "3: c\n"
          ]
        }
      ],
      "source": [
        "# Duas tuplas\n",
        "números = (1, 2, 3)\n",
        "letras = ('a', 'b', 'c')\n",
        "\n",
        "# Combinando elementos das tuplas\n",
        "for número, letra in zip(números, letras):\n",
        "    print(f\"{número}: {letra}\")"
      ]
    },
    {
      "cell_type": "markdown",
      "metadata": {
        "id": "JY2V5zpmLNqk"
      },
      "source": [
        "### 2.1.4 Dicionários"
      ]
    },
    {
      "cell_type": "markdown",
      "metadata": {
        "id": "AIPFCAhfLNql"
      },
      "source": [
        "Agora vamos explorar uma das estruturas de dados mais poderosas e flexíveis em Python: os `dicionários`. Dicionários em Python são `coleções desordenadas` de itens. Cada item nos dicionários é armazenado como um `par de chave e valor`, facilitando a rápida recuperação de dados."
      ]
    },
    {
      "cell_type": "markdown",
      "metadata": {
        "id": "0Hh2k6sfLNql"
      },
      "source": [
        "#### 2.1.4.1 Criação e acesso"
      ]
    },
    {
      "cell_type": "markdown",
      "metadata": {
        "id": "YHEfCSSULNql"
      },
      "source": [
        "Um dicionário é criado colocando elementos dentro de `{}`, separados por `,`, onde cada elemento é um par `chave:valor`.  \n",
        "Podemos também criar dicionários vazios usando apenas `{}` vazias."
      ]
    },
    {
      "cell_type": "code",
      "execution_count": 68,
      "metadata": {
        "colab": {
          "base_uri": "https://localhost:8080/"
        },
        "id": "pmIkjwP1LNql",
        "outputId": "0082b3c8-4d03-401d-a775-68808849c22b"
      },
      "outputs": [
        {
          "output_type": "stream",
          "name": "stdout",
          "text": [
            "Dicionário: {'nome': 'João', 'idade': 30, 'cidade': 'São Paulo'}\n",
            "Dicionário vazio: {}\n"
          ]
        }
      ],
      "source": [
        "# Criando um dicionário\n",
        "meu_dicionario = {'nome': 'João', 'idade': 30, 'cidade': 'São Paulo'}\n",
        "print(f\"Dicionário: {meu_dicionario}\")\n",
        "\n",
        "# Criando um dicionário vazio\n",
        "dicionario_vazio = {}\n",
        "print(f\"Dicionário vazio: {dicionario_vazio}\")"
      ]
    },
    {
      "cell_type": "markdown",
      "metadata": {
        "id": "qEltz7puLNql"
      },
      "source": [
        "Você pode `acessar o item` de um dicionário **referenciando** sua `{}`"
      ]
    },
    {
      "cell_type": "code",
      "execution_count": 69,
      "metadata": {
        "colab": {
          "base_uri": "https://localhost:8080/"
        },
        "id": "AEPaU7qWLNql",
        "outputId": "2110eaf0-f2d7-4117-b60c-2b67b6f0a7ab"
      },
      "outputs": [
        {
          "output_type": "stream",
          "name": "stdout",
          "text": [
            "Idade de João: 30\n"
          ]
        }
      ],
      "source": [
        "# Acessando Itens\n",
        "print(f\"Idade de João: {meu_dicionario['idade']}\")  # Mustang"
      ]
    },
    {
      "cell_type": "markdown",
      "metadata": {
        "id": "xv_P5zJVLNql"
      },
      "source": [
        "Você pode obter uma visão das chaves e valores de um dicionário usando os métodos _`keys()`_ e _`values()`_."
      ]
    },
    {
      "cell_type": "code",
      "execution_count": null,
      "metadata": {
        "id": "5mGb5VvrLNql",
        "outputId": "c3e934fe-ea8a-4fb5-bae8-e0dab98d2f38"
      },
      "outputs": [
        {
          "name": "stdout",
          "output_type": "stream",
          "text": [
            "dict_keys(['nome', 'idade', 'cidade'])\n",
            "dict_values(['João', 30, 'São Paulo'])\n"
          ]
        }
      ],
      "source": [
        "# Obtendo todas as chaves\n",
        "chaves = meu_dicionario.keys()\n",
        "print(chaves)\n",
        "\n",
        "# Obtendo todos os valores\n",
        "valores = meu_dicionario.values()\n",
        "print(valores)"
      ]
    },
    {
      "cell_type": "markdown",
      "metadata": {
        "id": "FSlloj0xLNql"
      },
      "source": [
        "Dicionários podem conter outros dicionários, o que é conhecido como dicionários `aninhados`"
      ]
    },
    {
      "cell_type": "code",
      "execution_count": 70,
      "metadata": {
        "colab": {
          "base_uri": "https://localhost:8080/"
        },
        "id": "An8YUCDRLNqm",
        "outputId": "74627cff-bb92-4bb8-db14-3668741e2aa4"
      },
      "outputs": [
        {
          "output_type": "stream",
          "name": "stdout",
          "text": [
            "nome da rua de João: Rua Central\n"
          ]
        }
      ],
      "source": [
        "# Dicionário aninhado\n",
        "meu_dicionario = {\n",
        "    'nome': 'João',\n",
        "    'idade': 30,\n",
        "    'endereço': {\n",
        "        'rua': 'Rua Central',\n",
        "        'numero': '1000'\n",
        "    }\n",
        "}\n",
        "\n",
        "# Acessando elementos de um dicionário aninhado\n",
        "print(f\"nome da rua de João: {meu_dicionario['endereço']['rua']}\")  # Rua Central"
      ]
    },
    {
      "cell_type": "markdown",
      "metadata": {
        "id": "6DbY5UyyLNqm"
      },
      "source": [
        "#### 2.1.4.2 Modificando um dicionário"
      ]
    },
    {
      "cell_type": "markdown",
      "metadata": {
        "id": "nOBtka3YLNqm"
      },
      "source": [
        "1. **Adicionando e Modificando Itens**  \n",
        "Dicionários são `mutáveis`, permitindo adicionar e modificar elementos:"
      ]
    },
    {
      "cell_type": "code",
      "execution_count": 73,
      "metadata": {
        "colab": {
          "base_uri": "https://localhost:8080/"
        },
        "id": "3W8AXee9LNqm",
        "outputId": "26c6c840-2b46-459e-f26b-64eb5987fe71"
      },
      "outputs": [
        {
          "output_type": "stream",
          "name": "stdout",
          "text": [
            "{'nome': 'João', 'idade': 30, 'cidade': 'São Paulo', 'profissão': 'Engenheiro'}\n",
            "{'nome': 'João', 'idade': 35, 'cidade': 'São Paulo', 'profissão': 'Engenheiro'}\n"
          ]
        }
      ],
      "source": [
        "# Adicionando um novo par chave-valor\n",
        "meu_dicionario = {'nome': 'João', 'idade': 30, 'cidade': 'São Paulo'}\n",
        "meu_dicionario['profissão'] = 'Engenheiro'\n",
        "print(meu_dicionario)\n",
        "\n",
        "# Modificando um valor existente\n",
        "meu_dicionario['idade'] = 35\n",
        "print(meu_dicionario)"
      ]
    },
    {
      "cell_type": "markdown",
      "metadata": {
        "id": "ZUaclXerLNqm"
      },
      "source": [
        "2. **Removendo Itens**   \n",
        "Você pode remover itens de um dicionário usando o método _`pop()`_ ou a palavra-chave _`del`_:"
      ]
    },
    {
      "cell_type": "code",
      "execution_count": 77,
      "metadata": {
        "colab": {
          "base_uri": "https://localhost:8080/",
          "height": 193
        },
        "id": "5Drl-MI2LNqm",
        "outputId": "bf1fec1e-8ae3-44af-d204-5ee7115c39fc"
      },
      "outputs": [
        {
          "output_type": "stream",
          "name": "stdout",
          "text": [
            "{'nome': 'João', 'cidade': 'São Paulo'}\n"
          ]
        },
        {
          "output_type": "error",
          "ename": "NameError",
          "evalue": "name 'meu_dicionario' is not defined",
          "traceback": [
            "\u001b[0;31m---------------------------------------------------------------------------\u001b[0m",
            "\u001b[0;31mNameError\u001b[0m                                 Traceback (most recent call last)",
            "\u001b[0;32m<ipython-input-77-56aa2b32b39c>\u001b[0m in \u001b[0;36m<cell line: 8>\u001b[0;34m()\u001b[0m\n\u001b[1;32m      6\u001b[0m \u001b[0;31m# Removendo um item com del\u001b[0m\u001b[0;34m\u001b[0m\u001b[0;34m\u001b[0m\u001b[0m\n\u001b[1;32m      7\u001b[0m \u001b[0;32mdel\u001b[0m \u001b[0mmeu_dicionario\u001b[0m\u001b[0;34m\u001b[0m\u001b[0;34m\u001b[0m\u001b[0m\n\u001b[0;32m----> 8\u001b[0;31m \u001b[0mprint\u001b[0m\u001b[0;34m(\u001b[0m\u001b[0mmeu_dicionario\u001b[0m\u001b[0;34m)\u001b[0m\u001b[0;34m\u001b[0m\u001b[0;34m\u001b[0m\u001b[0m\n\u001b[0m",
            "\u001b[0;31mNameError\u001b[0m: name 'meu_dicionario' is not defined"
          ]
        }
      ],
      "source": [
        "# Removendo um item com pop()\n",
        "meu_dicionario = {'nome': 'João', 'idade': 30, 'cidade': 'São Paulo'}\n",
        "meu_dicionario.pop('idade')\n",
        "print(meu_dicionario)\n",
        "\n",
        "# Removendo um item com del\n",
        "del meu_dicionario\n",
        "print(meu_dicionario)"
      ]
    },
    {
      "cell_type": "markdown",
      "metadata": {
        "id": "oYkyuahaLNqm"
      },
      "source": [
        "#### 2.1.4.3 Operações com dicionário"
      ]
    },
    {
      "cell_type": "markdown",
      "metadata": {
        "id": "VNBqH64zLNqm"
      },
      "source": [
        "1. **Iterando sobre Dicionários**  \n",
        "Dicionários podem ser iterados de várias maneiras:\n",
        "    - chaves\n",
        "    - valores\n",
        "    - pares chaves-valores"
      ]
    },
    {
      "cell_type": "code",
      "execution_count": 78,
      "metadata": {
        "colab": {
          "base_uri": "https://localhost:8080/"
        },
        "id": "JUgnYlC-LNqn",
        "outputId": "a4d54b09-db6a-4983-d135-840fcb94effa"
      },
      "outputs": [
        {
          "output_type": "stream",
          "name": "stdout",
          "text": [
            "- Interando por chaves\n",
            "chave: nome\n",
            "chave: idade\n",
            "chave: cidade\n",
            "- Interando por valores\n",
            "valor: João\n",
            "valor: 30\n",
            "valor: São Paulo\n",
            "- Interando por par chave-valor\n",
            "chave: nome / valor: João\n",
            "chave: idade / valor: 30\n",
            "chave: cidade / valor: São Paulo\n"
          ]
        }
      ],
      "source": [
        "meu_dicionario = {'nome': 'João', 'idade': 30, 'cidade': 'São Paulo'}\n",
        "# Iterando pelas chaves\n",
        "print(f\"- Interando por chaves\")\n",
        "for chave in meu_dicionario:\n",
        "    print(f\"chave: {chave}\")\n",
        "\n",
        "# Iterando pelos valores\n",
        "print(f\"- Interando por valores\")\n",
        "for valor in meu_dicionario.values():\n",
        "    print(f\"valor: {valor}\")\n",
        "\n",
        "# Iterando pelos pares chave-valor\n",
        "print(f\"- Interando por par chave-valor\")\n",
        "for chave, valor in meu_dicionario.items():\n",
        "    print(f\"chave: {chave} / valor: {valor}\")"
      ]
    },
    {
      "cell_type": "markdown",
      "metadata": {
        "id": "FR69-9oALNqn"
      },
      "source": [
        "2. **Iterando sobre Dicionários usando compreensão de lista**  \n",
        "Você pode usar a compreensão de lista (list comprehension) para criar listas a partir das chaves, valores ou itens de um dicionário."
      ]
    },
    {
      "cell_type": "code",
      "execution_count": 79,
      "metadata": {
        "colab": {
          "base_uri": "https://localhost:8080/"
        },
        "id": "XorJazBLLNqn",
        "outputId": "51d1e7f5-9d04-44d8-99b5-417123f891c5"
      },
      "outputs": [
        {
          "output_type": "stream",
          "name": "stdout",
          "text": [
            "['nome', 'idade', 'cidade']\n",
            "['João', 30, 'São Paulo']\n"
          ]
        }
      ],
      "source": [
        "# Criando uma lista de chaves\n",
        "chaves_lista = [chave for chave in meu_dicionario]\n",
        "print(chaves_lista)\n",
        "\n",
        "# Criando uma lista de valores\n",
        "valores_lista = [valor for valor in meu_dicionario.values()]\n",
        "print(valores_lista)"
      ]
    },
    {
      "cell_type": "markdown",
      "metadata": {
        "id": "I-yf6Y6fLNqn"
      },
      "source": [
        "3. **Operações de busca em dicionários**  \n",
        "Você pode realizar busca em dicionário usando:\n",
        "    - a palavra reservada _`in`_\n",
        "        Para verificar se uma chave ou valor existe em um dicionário, você pode usar o operador in.  \n",
        "        Isso é útil para evitar erros ao tentar acessar chaves que podem não estar presentes no dicionário.\n",
        "    - usar o método _`get()`_  \n",
        "        Para buscar um item em um dicionário sem o risco de encontrar um erro caso a chave não exista, use o método _`get()`_  \n",
        "        Esse método retorna `None` (ou um valor padrão definido) se a chave não estiver no dicionário.\n",
        "        "
      ]
    },
    {
      "cell_type": "code",
      "execution_count": 82,
      "metadata": {
        "colab": {
          "base_uri": "https://localhost:8080/"
        },
        "id": "cje8NN56LNqn",
        "outputId": "820a0c29-685f-4445-c30a-0cf708e1a118"
      },
      "outputs": [
        {
          "output_type": "stream",
          "name": "stdout",
          "text": [
            "Nome está no dicionário.\n",
            "Um dos valores é 30.\n",
            "João vive na Rua Central.\n",
            "None\n",
            "Não especificado\n"
          ]
        }
      ],
      "source": [
        "# Dicionário aninhado\n",
        "meu_dicionario = {\n",
        "    'nome': 'João',\n",
        "    'idade': 30,\n",
        "    'endereço': {\n",
        "        'rua': 'Rua Central',\n",
        "        'numero': '1000'\n",
        "    }\n",
        "}\n",
        "\n",
        "# Verificando a existência de uma chave\n",
        "if 'nome' in meu_dicionario:\n",
        "    print(\"Nome está no dicionário.\")\n",
        "\n",
        "# Verificando a existência de um valor\n",
        "if 30 in meu_dicionario.values():\n",
        "    print(\"Um dos valores é 30.\")\n",
        "\n",
        "# Verificando a existência de um valor em subdicionário\n",
        "if 'Rua Central' in meu_dicionario['endereço'].values():\n",
        "    print(\"João vive na Rua Central.\")\n",
        "\n",
        "# Buscando um valor com get()\n",
        "profissao = meu_dicionario.get('profissão')\n",
        "print(profissao)  # Retorna 'Não especificado' se 'profissão' não estiver presente\n",
        "\n",
        "# Se buscasse profissao com if seria assim\n",
        "if 'profissão' in meu_dicionario:\n",
        "    profissao = meu_dicionario['profissão']\n",
        "else:\n",
        "    profissao = 'Não especificado'\n",
        "print(profissao)\n"
      ]
    },
    {
      "cell_type": "markdown",
      "metadata": {
        "id": "FXhwXhnQLNqn"
      },
      "source": [
        "#### 2.1.4.4 Conceitos Avançados"
      ]
    },
    {
      "cell_type": "markdown",
      "metadata": {
        "id": "0H7tcfnKLNqn"
      },
      "source": [
        "1. **Uso de Tuplas como Chaves**  \n",
        "    - Dicionários podem usar tuplas como chaves, já que tuplas são imutáveis e, portanto, hashable. Isso é útil quando você precisa de uma chave composta por múltiplos valores."
      ]
    },
    {
      "cell_type": "code",
      "execution_count": 83,
      "metadata": {
        "colab": {
          "base_uri": "https://localhost:8080/"
        },
        "id": "u5dgClXjLNqo",
        "outputId": "ddeafacc-55b5-4a02-8fc2-838e6dd90542"
      },
      "outputs": [
        {
          "output_type": "stream",
          "name": "stdout",
          "text": [
            "A localização (40.7128, -74.0060) é Nova Iorque.\n"
          ]
        }
      ],
      "source": [
        "# Dicionário usando tuplas como chaves\n",
        "coordenadas = {\n",
        "    (40.7128, -74.0060): \"Nova Iorque\",\n",
        "    (51.5074, -0.1278): \"Londres\"\n",
        "}\n",
        "\n",
        "# Acessando um valor usando uma chave tupla\n",
        "local = coordenadas.get((40.7128, -74.0060))\n",
        "print(f\"A localização (40.7128, -74.0060) é {local}.\")"
      ]
    },
    {
      "cell_type": "markdown",
      "metadata": {
        "id": "9zamaOT5LNqo"
      },
      "source": [
        "2. **Dicionários coleções**  \n",
        "    - Para mostrar como podemos ter coleções em dicionários, especialmente quando queremos armazenar informações sobre mais de uma pessoa, podemos estruturar o dicionário de forma que cada chave represente uma pessoa, e o valor associado a essa chave seja outro dicionário contendo detalhes sobre a pessoa. Vamos modificar o exemplo para incluir informações sobre múltiplas pessoas:"
      ]
    },
    {
      "cell_type": "code",
      "execution_count": 84,
      "metadata": {
        "colab": {
          "base_uri": "https://localhost:8080/"
        },
        "id": "I696OGZOLNqo",
        "outputId": "9c9a7827-aabd-4c66-cc05-5431dafa03bd"
      },
      "outputs": [
        {
          "output_type": "stream",
          "name": "stdout",
          "text": [
            "Rua de João: Rua Central\n",
            "Rua de Maria: Rua Lateral\n",
            "\n",
            "Nome: João\n",
            "idade: 30\n",
            "endereço:\n",
            "  rua: Rua Central\n",
            "  numero: 1000\n",
            "\n",
            "Nome: Maria\n",
            "idade: 25\n",
            "endereço:\n",
            "  rua: Rua Lateral\n",
            "  numero: 500\n"
          ]
        }
      ],
      "source": [
        "# Dicionário aninhado com informações sobre várias pessoas\n",
        "pessoas = {\n",
        "    'João': {\n",
        "        'idade': 30,\n",
        "        'endereço': {\n",
        "            'rua': 'Rua Central',\n",
        "            'numero': 1000\n",
        "        }\n",
        "    },\n",
        "    'Maria': {\n",
        "        'idade': 25,\n",
        "        'endereço': {\n",
        "            'rua': 'Rua Lateral',\n",
        "            'numero': 500\n",
        "        }\n",
        "    }\n",
        "}\n",
        "\n",
        "# Acessando elementos de um dicionário aninhado\n",
        "print(f\"Rua de João: {pessoas['João']['endereço']['rua']}\")\n",
        "print(f\"Rua de Maria: {pessoas['Maria']['endereço']['rua']}\")\n",
        "\n",
        "# Imprimindo informações formatadas linha a linha\n",
        "for nome, info in pessoas.items():\n",
        "    print(f\"\\nNome: {nome}\")\n",
        "    for chave, valor in info.items():\n",
        "        if isinstance(valor, dict):\n",
        "            print(f\"{chave}:\")\n",
        "            for subchave, subvalor in valor.items():\n",
        "                print(f\"  {subchave}: {subvalor}\")\n",
        "        else:\n",
        "            print(f\"{chave}: {valor}\")"
      ]
    },
    {
      "cell_type": "markdown",
      "metadata": {
        "id": "BSw5VC7MaeVG"
      },
      "source": [
        "# Créditos\n",
        "-----------------------------------------------------------------------------------------------------------------------------\n",
        "*   @author Thales Valente\n",
        "*   @contact: thales.l.a.valente@gmail.com\n",
        "*   @date last version:     03/2024.\n",
        "*   @version 2.0\n",
        "*   @github link: https://github.com/thalesvalente/\n",
        "*\n",
        "*   @Copyright/License\n",
        "*   Educational Material\n",
        "*   All the products under this license are free software: they can be used for both academic and commercial purposes at absolutely no cost.\n",
        "*   There are no paperwork, no royalties, no GNU-like \"copyleft\" restrictions, either. Just download and use it.\n",
        "*   They are licensed under the terms of the MIT license reproduced below, and so are compatible with GPL and also qualifies as Open Source software.\n",
        "*   They are not in the public domain. The legal details are below.\n",
        "*\n",
        "*   The spirit of this license is that you are free to use this material for any purpose at no cost without having to ask us.\n",
        "*   The only requirement is that if you do use them, then you should give us credit by including the copyright notice below somewhere in your material.\n",
        "*\n",
        "*   Copyright © 2024 Educational Material\n",
        "*\n",
        "*   Permission is hereby granted, free of charge, to any person obtaining a copy of this material without restriction, including without limitation the rights to use, copy, modify, merge, publish, distribute, sub license, and/or sell copies of this Material, and to permit persons to whom the Material is furnished to do so, subject to the following conditions:\n",
        "*\n",
        "*   The above copyright notice and this permission notice shall be included in all copies or suavlantial portions of the material.\n",
        "*\n",
        "*   THE MATERIAL IS PROVIDED \"AS IS\", WITHOUT WARRANTY OF ANY KIND, EXPRESS OR IMPLIED, INCLUDING BUT NOT LIMITED TO THE WARRANTIES OF MERCHANTABILITY,  FITNESS FOR A PARTICULAR PURPOSE AND NONINFRINGEMENT. IN NO EVENT SHALL THE AUTHORS OR COPYRIGHT HOLDERS BE LIABLE FOR ANY CLAIM, DAMAGES OR OTHER LIABILITY, WHETHER IN AN ACTION OF CONTRACT, TORT OR OTHERWISE, ARISING FROM, OUT OF OR IN CONNECTION WITH THE MATERIAL OR THE USE OR OTHER DEALINGS IN THE MATERIAL.\n",
        "-----------------------------------------------------------------------------------------------------------------------------\n",
        "-----------------------------------------------------------------------------------------------------------------------------"
      ]
    }
  ],
  "metadata": {
    "colab": {
      "collapsed_sections": [
        "EvQrzYVdKnsl",
        "6wT0wHjzDZr2",
        "J8hi-h8MFJ1B",
        "FyxQ_ffrLNqa",
        "3DE2xG4PLNqa",
        "0z6OpNtJLNqc",
        "djagdn8_LNqc",
        "blpP8MfvLNqd",
        "ohIvaPoHLNqd",
        "yD0DAvrYLNqe",
        "P9jcXosMLNqf",
        "0cP4pNTyLNqf",
        "sHW9EQd_LNqg",
        "0oJIUEhlLNqh",
        "yFSGwV2KLNqh",
        "Gd24e2W0LNqi",
        "H9ibRPJQLNqi",
        "jZuw4pXrLNqj",
        "UXonLtQiLNqk",
        "JY2V5zpmLNqk",
        "0Hh2k6sfLNql",
        "6DbY5UyyLNqm",
        "oYkyuahaLNqm",
        "FXhwXhnQLNqn"
      ],
      "provenance": [],
      "toc_visible": true
    },
    "kernelspec": {
      "display_name": "moda",
      "language": "python",
      "name": "python3"
    },
    "language_info": {
      "codemirror_mode": {
        "name": "ipython",
        "version": 3
      },
      "file_extension": ".py",
      "mimetype": "text/x-python",
      "name": "python",
      "nbconvert_exporter": "python",
      "pygments_lexer": "ipython3",
      "version": "3.9.17"
    }
  },
  "nbformat": 4,
  "nbformat_minor": 0
}