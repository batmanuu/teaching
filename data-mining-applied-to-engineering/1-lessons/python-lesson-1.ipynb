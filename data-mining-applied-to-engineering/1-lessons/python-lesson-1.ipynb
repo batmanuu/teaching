{
  "cells": [
    {
      "cell_type": "markdown",
      "metadata": {
        "colab_type": "text",
        "id": "view-in-github"
      },
      "source": [
        "<a href=\"https://colab.research.google.com/github/thalesvalente/machinelearning/blob/master/Mini_Tutorial_Python.ipynb\" target=\"_parent\"><img src=\"https://colab.research.google.com/assets/colab-badge.svg\" alt=\"Open In Colab\"/></a>"
      ]
    },
    {
      "cell_type": "markdown",
      "metadata": {
        "colab_type": "text",
        "id": "r5yNOA_LDQIk"
      },
      "source": [
        "# 0 Mini tutorial python para iniciantes\n",
        "\n",
        "Olá! Hoje vamos  iniciar os primeiros passos para criar códigos em python. A intenção deste material é fornecer direções e dicas básicas. Não ensinar de fato. Pode ser meio corrido, mas dúvidas podem ser tiradas com www.google.com. E claro, thales.l.a.valente@gmail.com ;).   \n",
        "Vamos ao que interessa. Aqui você terá a direção para iniciar seus estudos relacionados aos seguinte ítens.\n",
        "- Colab\n",
        "- Python (básico e as bibliotecas pandas, matplotlib e numpy)\n",
        "- Vetorização em python (não é nada disso que você está pensando :) Vamos com calma!)\n",
        "\n",
        "Então, vamos ser rápidos! Em 6 horas totalmente dedicadas você poderá aprender a se localizar em tudo (não decorar) se focar! \n",
        "Oriento vocês a não tentarem ler tudo pois não terão tempo! Como programadores, temos olhos de águia e temos a capacidade de identificar rápido os códigos  (nossas presas) que precisamos. Então, utilize e devenvolva essa habilidade para capturar as informações de acordo com a necessidade. Let´s go!!!"
      ]
    },
    {
      "cell_type": "markdown",
      "metadata": {
        "colab_type": "text",
        "id": "4U0oubIoGLFI"
      },
      "source": [
        "## 1. Colab\n",
        "Colab é uma ferramenta do google que já fornece um \"ambiente pronto\"  e gratuito para você começar a desenvolver seus códigos python. Ou seja, você tem disponível:\n",
        "- Hadware (GPU, CPU, RAM e disco)\n",
        "- Bibliotecas pré-instaladas (matplot, numpy,, tensorflow, keras,  opencv....lib $n$)\n",
        "- Um ambiente notebook jupyter\n",
        "- Integração com o google drive\n",
        "\n",
        "\n"
      ]
    },
    {
      "cell_type": "markdown",
      "metadata": {
        "colab_type": "text",
        "id": "MqOs550CI3mK"
      },
      "source": [
        "## 1.1 Hardware\n",
        "\n",
        "Os recursos de hardware disponíveis são limitados. No entanto, são bem satisfatórios para iniciar inclusive projetos com análises de dados, redes neurais.\n",
        "Abra o link abaixo e execute a página em modo playground. Executar em modo playground é uma forma de você executar códigos sem salvar dados ou realizar modificações permanentes no código. Para executar em modo playground faça:\n",
        "- clique no link > procure o botão \"Open in playground\" > clique > execute os códigos que desejar\n",
        "\n",
        "link: https://colab.research.google.com/drive/151805XTDg--dgHb3-AXJCpnWaqRhop_2"
      ]
    },
    {
      "cell_type": "markdown",
      "metadata": {
        "colab_type": "text",
        "id": "EvQrzYVdKnsl"
      },
      "source": [
        "## 1.2 Bibliotecas pré-instaladas\n",
        "\n",
        "Isso mesmo. O Colab nos fornece diversas bibliotecas python. Isso significa que você pode pular os passos de instalação de um ambiente de programação e configuração. Para verificar as bibliotecas pré-intaladas, execute a célula de abaixo.  \n",
        "Vale ressaltar que você também pode instalar bibliotecas de sua preferência :), como ilustrado em https://colab.research.google.com/notebooks/snippets/importing_libraries.ipynb\n"
      ]
    },
    {
      "cell_type": "code",
      "execution_count": null,
      "metadata": {
        "colab": {},
        "colab_type": "code",
        "id": "yOEr_vRHM8vC"
      },
      "outputs": [],
      "source": [
        "!pip freeze"
      ]
    },
    {
      "cell_type": "markdown",
      "metadata": {},
      "source": [
        "#### Gestores de Pacotes em Python"
      ]
    },
    {
      "cell_type": "markdown",
      "metadata": {},
      "source": [
        "Python possui diversos gestores de pacotes, sendo os mais conhecidos o `pip` e o `conda`.\n",
        "- **pip**: É o gestor de pacotes padrão do Python, utilizado para instalar pacotes do Python Package Index (PyPI).\n",
        "- **conda**: É um gestor de pacotes de código aberto que suporta várias linguagens, e é usado principalmente para instalar, executar e atualizar pacotes e suas dependências."
      ]
    },
    {
      "cell_type": "markdown",
      "metadata": {},
      "source": [
        "#### Instalando Bibliotecas com pip e conda"
      ]
    },
    {
      "cell_type": "markdown",
      "metadata": {},
      "source": [
        "Para instalar uma biblioteca em Python dentro do colab, você pode usar tanto o `!pip` quanto o `!conda`. Vamos ver como cada um funciona:\n",
        "\n",
        "- Usando `pip`:\n",
        "  ```bash\n",
        "  !pip install numpy\n",
        "  ```\n",
        "- Usando `conda`:\n",
        "  ```bash\n",
        "  !conda install numpy\n",
        "  ```\n",
        "Ambos irão instalar a biblioteca `numpy`, mas podem gerenciar as dependências de maneira diferente."
      ]
    },
    {
      "cell_type": "markdown",
      "metadata": {
        "colab_type": "text",
        "id": "6wT0wHjzDZr2"
      },
      "source": [
        "## 1.3 Ambiente notebook jupyter\n",
        "Vamos falar o básico que você precisa saber e o resto é ler documentação. Basicamente existem dois tipos de célula (markdowncells - bloco onde você escreve o que deseja)\n",
        "- Markdowns: como esta célula, você pode inserir texto, fórmulas usando [mathjax](https://www.mathjax.org/#samples) (fórmulas matemáticas like a latex) e inserir figuras, links e etc usando html e outras ferramentas. Recomendo [este link](https://jupyter-notebook.readthedocs.io/en/latest/examples/Notebook/examples_index.html).\n",
        "- Code:  onde você digita seu código e executa\n",
        "\n",
        "As células podem ser executadas separadamente. No entanto, devem ser executadas em ordem caso o código contida em uma seja pré-requisito para outra (exemplo: importar bibliotecas, métodos definidos em células anteriores, etc)"
      ]
    },
    {
      "cell_type": "markdown",
      "metadata": {},
      "source": [
        "#### Usando Markdown em Jupyter Notebooks\n",
        "Markdown é uma linguagem de marcação leve que você pode usar para adicionar elementos de formatação a documentos de texto simples. É muito usado em Jupyter Notebooks, GitHub, blogs, e outros sistemas que convertem Markdown em HTML.\n",
        "\n",
        "Exemplos Básicos de Markdown\n",
        "- **Títulos**: Para criar um título, adicione um ou mais `#` antes do seu texto. Por exemplo, `# Título 1`, `## Título 2`.\n",
        "- **Listas**: Para fazer uma lista, simplesmente use `-` ou `*` seguido de um espaço antes do item da lista.\n",
        "- **Ênfase**: Use `*itálico*` para itálico e `**negrito**` para negrito.\n",
        "- **Links**: Para adicionar um link, use a sintaxe `[texto do link](URL)`.\n",
        "\n",
        "Usando MathJax para Fórmulas Matemáticas\n",
        "MathJax é uma biblioteca JavaScript que permite a exibição de fórmulas matemáticas em páginas web. Em Jupyter Notebooks, você pode usar MathJax escrevendo expressões matemáticas entre dois sinais de dólar (`$`).\n",
        "\n",
        "Exemplos de Fórmulas Matemáticas\n",
        "- Equação linear: $y = mx + b$\n",
        "- Equação quadrática: $ax^2 + bx + c = 0$\n",
        "- Integral: $\\int_0^\\infty e^{-x}dx = 1$\n",
        "- Somatório: $\\sum_{i=1}^{n} i = \f\n",
        "rac{n(n+1)}{2}$\n"
      ]
    },
    {
      "cell_type": "markdown",
      "metadata": {
        "colab_type": "text",
        "id": "J8hi-h8MFJ1B"
      },
      "source": [
        "## 1.4 Integração com o google drive\n",
        "\n",
        "Isso mesmo! Você pode usar seu drive pessoal para armazenar seus códigos.\n",
        "Segue o link que ensina como carregar imagens contidas no google drive. A mesma idéia serve para outros arquivos. Abra a [Seção 1.2](1cP5PfC83AQCThrBMrCZUh4T-BaA6zcH7#scrollTo=GFcO1obYVKwi) deste outro material :)"
      ]
    },
    {
      "cell_type": "code",
      "execution_count": null,
      "metadata": {
        "colab": {
          "base_uri": "https://localhost:8080/",
          "height": 122
        },
        "colab_type": "code",
        "id": "WBu2nY_k_VV2",
        "outputId": "842b1f83-822a-46ee-c3d9-66f1965f163a"
      },
      "outputs": [
        {
          "name": "stdout",
          "output_type": "stream",
          "text": [
            "Go to this URL in a browser: https://accounts.google.com/o/oauth2/auth?client_id=947318989803-6bn6qk8qdgf4n4g3pfee6491hc0brc4i.apps.googleusercontent.com&redirect_uri=urn%3Aietf%3Awg%3Aoauth%3A2.0%3Aoob&scope=email%20https%3A%2F%2Fwww.googleapis.com%2Fauth%2Fdocs.test%20https%3A%2F%2Fwww.googleapis.com%2Fauth%2Fdrive%20https%3A%2F%2Fwww.googleapis.com%2Fauth%2Fdrive.photos.readonly%20https%3A%2F%2Fwww.googleapis.com%2Fauth%2Fpeopleapi.readonly&response_type=code\n",
            "\n",
            "Enter your authorization code:\n",
            "··········\n",
            "Mounted at /content/gdrive\n"
          ]
        }
      ],
      "source": [
        "from google.colab import drive\n",
        "import io\n",
        "\n",
        "drive.mount('/content/gdrive')"
      ]
    },
    {
      "cell_type": "markdown",
      "metadata": {
        "colab_type": "text",
        "id": "P0YO0x-BIQ2k"
      },
      "source": [
        "# 2. Python (básico e as bibliotecas pandas, matplotlib e numpy)\n",
        "\n",
        "Nesta seção serão apresentadas 2 tipos de direções principais:\n",
        "- Links úteis\n",
        "- Exemplos básicos\n",
        "\n",
        "Vamos ser rápidos e práticos. Mãos a obra :)"
      ]
    },
    {
      "cell_type": "markdown",
      "metadata": {
        "colab_type": "text",
        "id": "VAU2q34DIsA0"
      },
      "source": [
        "###1.2.1 Links úteis\n",
        "\n",
        "- Exemplos básicos de Python\n",
        "  - exemplos rápidos: [1](https://www.makeuseof.com/tag/basic-python-examples-learn-fast/)\n",
        "  - exemplos mais completos: [2](https://www.geeksforgeeks.org/python-programming-examples/#simple) e [3](https://www.tutorialspoint.com/python_programming_examples/2)\n",
        "- Pandas\n",
        "  - exemplos rápidos: [1- com exercícios e soluções](https://www.datacamp.com/community/tutorials/pandas-tutorial-dataframe-python) e [2](https://www.learndatasci.com/tutorials/python-pandas-tutorial-complete-introduction-for-beginners/)  \n",
        "  - [ler arquivos do excel](https://pandas.pydata.org/pandas-docs/stable/generated/pandas.read_excel.html)\n",
        "  - [documentação](https://pandas.pydata.org/pandas-docs/stable/getting_started/10min.html)\n",
        "- Matplotlib  \n",
        "  - [2D](https://matplotlib.org/tutorials/introductory/sample_plots.html)\n",
        "  - [3D](https://matplotlib.org/mpl_toolkits/mplot3d/tutorial.html)\n",
        "- Numpy\n",
        "  - exemplos rápidos: [1](https://docs.scipy.org/doc/numpy-1.13.0/user/quickstart.html)  \n",
        "  - [documentação](https://matplotlib.org/contents.html)\n",
        "- [Numpy + pandas](https://www.hackerearth.com/pt-br/practice/machine-learning/data-manipulation-visualisation-r-python/tutorial-data-manipulation-numpy-pandas-python/tutorial/)\n",
        "\n",
        "Importante: é imprescindível a utilização do numpy para fazer o trabalho. O numpy possui rotinas matemáticas otimizadas e também facilita muito trabalhar com vetores e matrizes. **CONSELHO: Não tente fazer as operações na \"mão\"!**  \n",
        "Veremos mais detalhes na Seção sobre XXX"
      ]
    },
    {
      "cell_type": "markdown",
      "metadata": {},
      "source": [
        "## 2.1 Tipos de Variáveis\n",
        "Em Python, as variáveis podem armazenar dados de diferentes tipos, incluindo números, textos, listas, tuplas, dicionários e muito mais. Aqui estão alguns dos tipos de variáveis mais simples:"
      ]
    },
    {
      "cell_type": "markdown",
      "metadata": {},
      "source": [
        "### 2.1.1 Variáveis Simples"
      ]
    },
    {
      "cell_type": "markdown",
      "metadata": {},
      "source": [
        "- Inteiros (`int`): São números inteiros, sem parte decimal."
      ]
    },
    {
      "cell_type": "code",
      "execution_count": 1,
      "metadata": {},
      "outputs": [
        {
          "data": {
            "text/plain": [
              "25"
            ]
          },
          "execution_count": 1,
          "metadata": {},
          "output_type": "execute_result"
        }
      ],
      "source": [
        "idade = 25\n",
        "idade"
      ]
    },
    {
      "cell_type": "markdown",
      "metadata": {},
      "source": [
        "- Ponto flutuante (`float`): São números reais que incluem uma parte decimal."
      ]
    },
    {
      "cell_type": "code",
      "execution_count": 7,
      "metadata": {},
      "outputs": [
        {
          "data": {
            "text/plain": [
              "3.5"
            ]
          },
          "execution_count": 7,
          "metadata": {},
          "output_type": "execute_result"
        }
      ],
      "source": [
        "altura = 1.75\n",
        "altura + altura"
      ]
    },
    {
      "cell_type": "markdown",
      "metadata": {},
      "source": [
        "- Strings (`str`): Representam texto, ou seja, sequências de caracteres."
      ]
    },
    {
      "cell_type": "code",
      "execution_count": 5,
      "metadata": {},
      "outputs": [
        {
          "data": {
            "text/plain": [
              "'João'"
            ]
          },
          "execution_count": 5,
          "metadata": {},
          "output_type": "execute_result"
        }
      ],
      "source": [
        "nome = \"João\"\n",
        "nome"
      ]
    },
    {
      "cell_type": "code",
      "execution_count": 8,
      "metadata": {},
      "outputs": [
        {
          "data": {
            "text/plain": [
              "'1.75 1.75 '"
            ]
          },
          "execution_count": 8,
          "metadata": {},
          "output_type": "execute_result"
        }
      ],
      "source": [
        "altura = \"1.75 \"\n",
        "altura + altura"
      ]
    },
    {
      "cell_type": "markdown",
      "metadata": {},
      "source": [
        "- Lógicas (`booleanas`): São aquelas que retornam ou armazenam valor verdadeiro ou falso. Usadas para comparação"
      ]
    },
    {
      "cell_type": "code",
      "execution_count": 10,
      "metadata": {},
      "outputs": [
        {
          "data": {
            "text/plain": [
              "True"
            ]
          },
          "execution_count": 10,
          "metadata": {},
          "output_type": "execute_result"
        }
      ],
      "source": [
        "maior_idade = True\n",
        "maior_idade"
      ]
    },
    {
      "cell_type": "markdown",
      "metadata": {},
      "source": [
        "#### 2.1.1.1 Operações Matemáticas com variáveis simples"
      ]
    },
    {
      "cell_type": "markdown",
      "metadata": {},
      "source": [
        "Python suporta operações matemáticas básicas como adição, subtração, multiplicação, divisão, etc.\n",
        "- Adição (`+`): Soma dois números.\n",
        "- Subtração (`-`): Subtrai um número de outro.\n",
        "- Multiplicação (`*`): Multiplica dois números.\n",
        "- Divisão (`/`): Divide um número por outro.\n",
        "- Divisão inteira (`//`): Divide um número por outro, mas arredonda para baixo para o inteiro mais próximo.\n",
        "- Módulo (`%`): Retorna o resto da divisão.\n",
        "- Exponenciação (`**`): Eleva um número a potência de outro."
      ]
    },
    {
      "cell_type": "code",
      "execution_count": 14,
      "metadata": {},
      "outputs": [
        {
          "name": "stdout",
          "output_type": "stream",
          "text": [
            "Soma: 8\n",
            "Diferença: 8\n",
            "Produto: 28\n",
            "Quociente: 4.0\n",
            "Divisão Inteira: 3\n",
            "Resto: 1\n",
            "Potência: 8\n"
          ]
        }
      ],
      "source": [
        "soma = 5 + 3  # Resultado é 8\n",
        "diferenca = 10 - 2  # Resultado é 8\n",
        "produto = 4 * 7  # Resultado é 28\n",
        "quociente = 20 / 5  # Resultado é 4.0\n",
        "divisao_inteira = 7 // 2  # Resultado é 3\n",
        "resto = 7 % 3  # Resultado é 1\n",
        "potencia = 2 ** 3  # Resultado é 8\n",
        "print(f\"Soma: {soma}\\nDiferença: {diferenca}\\nProduto: {produto}\\nQuociente: {quociente}\\nDivisão Inteira: {divisao_inteira}\\nResto: {resto}\\nPotência: {potencia}\")"
      ]
    },
    {
      "cell_type": "markdown",
      "metadata": {},
      "source": [
        "#### 2.1.1.2 Operações Lógicas com variáveis simples"
      ]
    },
    {
      "cell_type": "markdown",
      "metadata": {},
      "source": [
        "Operações lógicas são usadas para comparar valores, resultando em `True` (verdadeiro) ou `False` (falso).\n",
        "- Igual (`==`): Verifica se dois valores são iguais.\n",
        "- Diferente (`!=`): Verifica se dois valores são diferentes.\n",
        "- Menor que (`<`): Verifica se o primeiro valor é menor que o segundo.\n",
        "- Maior ou igual (`>=`): Verifica se o primeiro valor é maior ou igual ao segundo.\n",
        "- Menor ou igual (`<=`): Verifica se o primeiro valor é menor ou igual ao segundo."
      ]
    },
    {
      "cell_type": "code",
      "execution_count": 23,
      "metadata": {},
      "outputs": [
        {
          "name": "stdout",
          "output_type": "stream",
          "text": [
            "Igualdade: 5 é igual a 3 ?\n",
            "R: False\n",
            "Diferença: 5 é diferente de 3 ?\n",
            "R: True\n",
            "Maior: 5 é maior que 3 ?\n",
            "R: True\n",
            "Menor: 5 é menor que 3 ?\n",
            "R: False\n",
            "Maior Igual: 5 é maior ou igual a 3 ?\n",
            "R: True\n",
            "Menor Igual: 5 é menor ou igual a 3 ?\n",
            "R: False\n"
          ]
        }
      ],
      "source": [
        "igualdade = (5 == 3)  # Resultado é False\n",
        "diferenca = (5 != 3)  # Resultado é True\n",
        "maior = (5 > 3)  # Resultado é True\n",
        "menor = (5 < 3)  # Resultado é False\n",
        "maior_igual = (5 >= 3)  # Resultado é True\n",
        "menor_igual = (5 <= 3)  # Resultado é False\n",
        "print(f\"Igualdade: 5 é igual a 3 ?\\nR: {igualdade}\\nDiferença: 5 é diferente de 3 ?\\nR: {diferenca}\\nMaior: 5 é maior que 3 ?\\nR: {maior}\\nMenor: 5 é menor que 3 ?\\nR: {menor}\\nMaior Igual: 5 é maior ou igual a 3 ?\\nR: {maior_igual}\\nMenor Igual: 5 é menor ou igual a 3 ?\\nR: {menor_igual}\")"
      ]
    },
    {
      "cell_type": "markdown",
      "metadata": {},
      "source": [
        "#### 2.1.1.3 Operações com Strings"
      ]
    },
    {
      "cell_type": "markdown",
      "metadata": {},
      "source": [
        "Operações com strings são fundamentais em Python, pois permitem manipular texto de diversas maneiras. Vamos explorar algumas das operações mais comuns com strings:\n",
        "\n",
        "- Concatenação: a concatenação é o processo de combinar strings. Isso é feito usando o operador `+`.\n",
        "- Repetição: uma string pode ser repetida várias vezes usando o operador `*`.\n",
        "- Acessando caracteres: cada caractere em uma string pode ser acessado usando seu `índice`, começando do `zero`. Você também pode acessar subconjuntos de caracteres (substrings) usando a `notação de fatia`."
      ]
    },
    {
      "cell_type": "code",
      "execution_count": 27,
      "metadata": {},
      "outputs": [
        {
          "name": "stdout",
          "output_type": "stream",
          "text": [
            "Nome Completo: Maria Silva\n",
            "Risada Longa: hahaha\n",
            "Primeira Letra: M\n",
            "Sub: ari\n",
            "Sub2: Maria\n",
            "Sub3: Silva\n"
          ]
        }
      ],
      "source": [
        "primeiro_nome = \"Maria\"\n",
        "sobrenome = \"Silva\"\n",
        "nome_completo = primeiro_nome + \" \" + sobrenome  # Resultado é \"Maria Silva\"\n",
        "print(f\"Nome Completo: {nome_completo}\")\n",
        "\n",
        "risada = \"ha\"\n",
        "risada_longa = risada * 3  # Resultado é \"hahaha\"\n",
        "print(f\"Risada Longa: {risada_longa}\")\n",
        "\n",
        "letra = nome_completo[0]  # Resultado é \"M\"\n",
        "sub = nome_completo[1:4]  # Resultado é \"ari\"\n",
        "print(f\"Primeira Letra: {letra}\\nSub: {sub}\")\n",
        "\n",
        "sub2 = nome_completo[:5]  # Resultado é \"Maria\"\n",
        "sub3 = nome_completo[6:]  # Resultado é \"Silva\"\n",
        "print(f\"Sub2: {sub2}\\nSub3: {sub3}\")\n"
      ]
    },
    {
      "cell_type": "markdown",
      "metadata": {},
      "source": [
        "- Comprimento de uma string: a função `len()` retorna o número de caracteres em uma string.\n",
        "- Strings em minúsculas e maiúsculas: o método `.lower()` converte todos os caracteres em uma string para minúsculas, e `.upper()` converte todos os caracteres para maiúsculas.\n",
        "- Pesquisa de substrings: o método `.find()` retorna o índice da primeira ocorrência de uma substring em uma string. Se a substring não for encontrada, ele retorna `-1`.\n",
        "- Divisão de strings: o método `.split()` divide uma string em uma lista de strings, usando um delimitador especificado.\n",
        "- Verificação de substrings: para verificar se uma substring está presente dentro de uma string, você pode usar o operador `in`."
      ]
    },
    {
      "cell_type": "code",
      "execution_count": 28,
      "metadata": {},
      "outputs": [
        {
          "name": "stdout",
          "output_type": "stream",
          "text": [
            "Comprimento: 11\n",
            "Minuscula: maria silva\n",
            "Maiuscula: MARIA SILVA\n",
            "Indice: 6\n",
            "Nome Alternativo: Ana Silva\n",
            "Palavras: ['Maria', 'Silva']\n",
            "Contem: True\n"
          ]
        }
      ],
      "source": [
        "comprimento = len(nome_completo)  # Resultado é 11 para \"Maria Silva\"\n",
        "minuscula = nome_completo.lower()  # Resultado é \"maria silva\"\n",
        "maiuscula = nome_completo.upper()  # Resultado é \"MARIA SILVA\"\n",
        "indice = nome_completo.find(\"Silva\")  # Resultado é 6\n",
        "nome_alternativo = nome_completo.replace(\"Maria\", \"Ana\")  # Resultado é \"Ana Silva\"\n",
        "palavras = nome_completo.split(\" \")  # Resultado é ['Maria', 'Silva']\n",
        "contem = \"Silva\" in nome_completo  # Resultado é True\n",
        "\n",
        "print(f\"Comprimento: {comprimento}\\nMinuscula: {minuscula}\\nMaiuscula: {maiuscula}\\nIndice: {indice}\\nNome Alternativo: {nome_alternativo}\\nPalavras: {palavras}\\nContem: {contem}\")"
      ]
    },
    {
      "cell_type": "markdown",
      "metadata": {},
      "source": [
        "### 2.1.2 Listas"
      ]
    },
    {
      "cell_type": "markdown",
      "metadata": {},
      "source": [
        "Bem-vindos à aula sobre listas em Python! As listas são uma das estruturas de dados mais fundamentais e poderosas em Python. \n",
        "Hoje, vamos explorar como criar, manipular e aplicar listas em diversas situações.\n",
        "\n",
        "Uma lista em Python é uma coleção ordenada e mutável de elementos. Cada elemento dentro de uma lista é chamado de item."
      ]
    },
    {
      "cell_type": "code",
      "execution_count": null,
      "metadata": {},
      "outputs": [],
      "source": [
        "# - Criando Listas\n",
        "# Para criar uma lista, você coloca todos os itens dentro de colchetes [], separados por vírgulas.\n",
        "frutas = [\"maçã\", \"banana\", \"cereja\"]\n",
        "print(frutas)"
      ]
    },
    {
      "cell_type": "code",
      "execution_count": null,
      "metadata": {},
      "outputs": [],
      "source": [
        "# - Acessando Elementos da Lista\n",
        "# Você pode acessar elementos de uma lista referenciando o índice dos itens. Os índices em Python começam em 0.\n",
        "print(frutas[0])  # Acessa o primeiro elemento: 'maçã'"
      ]
    },
    {
      "cell_type": "code",
      "execution_count": null,
      "metadata": {},
      "outputs": [],
      "source": [
        "# - Índices Negativos\n",
        "# Índices negativos acessam a lista a partir do final.\n",
        "print(frutas[-1])  # Acessa o último elemento: 'cereja'"
      ]
    },
    {
      "cell_type": "markdown",
      "metadata": {},
      "source": [
        "#### 2.1.2.1 Modificando Listas"
      ]
    },
    {
      "cell_type": "markdown",
      "metadata": {},
      "source": [
        "Listas são mutáveis, o que significa que você pode alterar seus elementos."
      ]
    },
    {
      "cell_type": "code",
      "execution_count": null,
      "metadata": {},
      "outputs": [],
      "source": [
        "# - Alterando Valores\n",
        "# Para alterar o valor de um item específico, referencie o índice do item:\n",
        "frutas[1] = \"laranja\"\n",
        "print(f\"Lista modificada: {frutas}\")  # ['maçã', 'laranja', 'cereja']\n",
        "\n",
        "# - Adicionando Elementos\n",
        "# Para adicionar um item ao final da lista, use o método append():\n",
        "frutas.append(\"manga\")\n",
        "print(f\"Lista com novo item: {frutas}\")  # ['maçã', 'laranja', 'cereja', 'manga']\n",
        "\n",
        "# - Inserindo Elementos\n",
        "# Para inserir elementos em uma posição específica, use insert():\n",
        "frutas.insert(1, \"kiwi\")\n",
        "print(f\"Lista com item kiwi inserido na posição 1: {frutas}\")  # ['maçã', 'kiwi', 'laranja', 'cereja', 'manga']\n",
        "\n",
        "# - Removendo Elementos\n",
        "# Para remover um item específico, use o método remove():\n",
        "frutas.remove(\"laranja\")\n",
        "print(f\"Lista com item removido: {frutas}\")  # ['maçã', 'cereja', 'manga']\n",
        "\n",
        "# - Removendo por Índice\n",
        "# Para remover um item em um índice específico, use pop():\n",
        "removido = frutas.pop(1)  # Remove 'laranja'\n",
        "print(f\"Lista com item removido: {frutas}\")  # ['maçã', 'manga']\n",
        "print(f\"Item removido: {removido}\")  # 'laranja'\n"
      ]
    },
    {
      "cell_type": "markdown",
      "metadata": {},
      "source": [
        "#### 2.1.2.2 Outras Operações"
      ]
    },
    {
      "cell_type": "markdown",
      "metadata": {},
      "source": [
        "Existem várias funções integradas em Python que você pode usar em listas."
      ]
    },
    {
      "cell_type": "code",
      "execution_count": 30,
      "metadata": {},
      "outputs": [
        {
          "name": "stdout",
          "output_type": "stream",
          "text": [
            "Tamanho da lista: 3\n",
            "maçã\n",
            "banana\n",
            "cereja\n",
            "Sim, 'maçã' está na lista de frutas\n",
            "Lista de compras: ['maçã', 'banana', 'cereja', 'batata', 'cenoura']\n",
            "Lista de frutas ordenada: ['banana', 'cereja', 'maçã']\n",
            "Lista de frutas invertida: ['maçã', 'cereja', 'banana']\n",
            "Lista de frutas ordenada por tamanho da palavra: ['maçã', 'cereja', 'banana']\n",
            "Lista de frutas ordenada por tamanho da palavra invertida: ['cereja', 'banana', 'maçã']\n",
            "Lista de frutas e vegetais: ['cereja', 'banana', 'maçã', 'batata', 'cenoura']\n",
            "Índice do item 'banana': 1\n",
            "Quantidade de 'banana' na lista: 1\n",
            "Cópia da lista de frutas: ['cereja', 'banana', 'maçã', 'batata', 'cenoura']\n",
            "Lista de frutas copiada e limpa: []\n",
            "Lista aninhada: ['maçã', ['banana', ['cereja', 'kiwi']]]\n",
            "banana\n",
            "cereja\n"
          ]
        }
      ],
      "source": [
        "# -Tamanho da Lista\n",
        "# Para encontrar o tamanho de uma lista, use len():\n",
        "frutas = [\"maçã\", \"banana\", \"cereja\"]\n",
        "print(f\"Tamanho da lista: {len(frutas)}\")  # 3\n",
        "\n",
        "# - Iterando uma Lista\n",
        "# Você pode usar um loop for para iterar sobre uma lista:\n",
        "for fruta in frutas:\n",
        "  print(fruta)\n",
        "\n",
        "# - Verificando se um Item Existe\n",
        "# Para verificar se um item está presente em uma lista, use o operador in:~\n",
        "if \"maçã\" in frutas:\n",
        "  print(\"Sim, 'maçã' está na lista de frutas\")\n",
        "\n",
        "# - Concatenando Listas\n",
        "# Para juntar duas listas, use o operador +:\n",
        "vegetais = [\"batata\", \"cenoura\"]\n",
        "compras = frutas + vegetais\n",
        "print(f\"Lista de compras: {compras}\")  # ['maçã', 'banana', 'cereja', 'batata', 'cenoura']\n",
        "\n",
        "# - Métodos de Lista\n",
        "# Python tem um conjunto de métodos embutidos que você pode usar em listas.\n",
        "# sort: Ordena a lista alfabeticamente\n",
        "frutas.sort()\n",
        "print(f\"Lista de frutas ordenada: {frutas}\")  # ['banana', 'cereja', 'maçã']\n",
        "\n",
        "# reverse: Inverte a ordem da lista\n",
        "frutas.reverse()\n",
        "print(f\"Lista de frutas invertida: {frutas}\")  # ['maçã', 'cereja', 'banana']\n",
        "\n",
        "# sort com critério específico\n",
        "frutas.sort(key=len)\n",
        "print(f\"Lista de frutas ordenada por tamanho da palavra: {frutas}\")  # ['maçã', 'banana', 'cereja']\n",
        "\n",
        "# reverse com critério específico\n",
        "frutas.sort(key=len, reverse=True)\n",
        "print(f\"Lista de frutas ordenada por tamanho da palavra invertida: {frutas}\")  # ['cereja', 'banana', 'maçã']\n",
        "\n",
        "# extend: Adiciona elementos de uma lista a outra lista\n",
        "frutas.extend(vegetais)\n",
        "print(f\"Lista de frutas e vegetais: {frutas}\")  # ['maçã', 'cereja', 'banana', 'batata', 'cenoura']\n",
        "\n",
        "# index: Retorna o índice do primeiro elemento com o valor especificado\n",
        "indice = frutas.index(\"banana\")\n",
        "print(f\"Índice do item 'banana': {indice}\")  # 2\n",
        "\n",
        "# count: Retorna o número de elementos com o valor especificado\n",
        "quantidade = frutas.count(\"banana\")\n",
        "print(f\"Quantidade de 'banana' na lista: {quantidade}\")  # 1\n",
        "\n",
        "# copy: Retorna uma cópia da lista\n",
        "copia = frutas.copy()\n",
        "print(f\"Cópia da lista de frutas: {copia}\")  # ['maçã', 'cereja', 'banana']\n",
        "\n",
        "# clear: Remove todos os elementos da lista\n",
        "copia.clear()\n",
        "print(f\"Lista de frutas copiada e limpa: {copia}\")  # []\n",
        "\n",
        "# - Listas Aninhadas\n",
        "# Uma lista pode conter qualquer tipo de dado, incluindo outras listas. Essas listas aninhadas são chamadas de listas aninhadas.\n",
        "lista_aninhada = [\"maçã\", [\"banana\", [\"cereja\", \"kiwi\"]]]\n",
        "print(f\"Lista aninhada: {lista_aninhada}\")  # ['maçã', ['banana', ['cereja', 'kiwi']]']\n",
        "\n",
        "# - Acessando Itens de Listas Aninhadas\n",
        "# Para acessar itens em listas aninhadas, use colchetes para especificar a posição de cada item.\n",
        "print(lista_aninhada[1][0])  # 'banana'\n",
        "print(lista_aninhada[1][1][0])  # 'cereja'\n",
        "\n"
      ]
    },
    {
      "cell_type": "markdown",
      "metadata": {},
      "source": [
        "#### 2.1.2.3 Listas Mistas"
      ]
    },
    {
      "cell_type": "markdown",
      "metadata": {},
      "source": [
        "Em Python, uma lista pode conter elementos de diferentes tipos, tornando-as estruturas de dados muito flexíveis."
      ]
    },
    {
      "cell_type": "code",
      "execution_count": 31,
      "metadata": {},
      "outputs": [
        {
          "name": "stdout",
          "output_type": "stream",
          "text": [
            "Lista Mista: [42, 'texto', 3.14, [1, 2, 3], True]\n",
            "Primeiro elemento: 42\n",
            "Segundo elemento: texto\n",
            "Terceiro elemento: 3.14\n",
            "Primeiro elemento da lista aninhada: 1\n",
            "Lista Mista modificada: [42, 'novo texto', 3.14, [1, 2, 3], True]\n",
            "Lista Mista com novos elementos: [42, 'novo texto', 'outro elemento', 3.14, [1, 2, 3], True, False]\n",
            "Lista Mista com itens removidos: [42, 'novo texto', 3.14, True, False]\n",
            "Item removido: [1, 2, 3]\n",
            "Elemento: 42 / Tipo: <class 'int'>\n",
            "String: NOVO TEXTO\n",
            "Elemento: 3.14 / Tipo: <class 'float'>\n",
            "Elemento: True / Tipo: <class 'bool'>\n",
            "Elemento: False / Tipo: <class 'bool'>\n"
          ]
        }
      ],
      "source": [
        "# Neste exemplo, lista_mista contém um inteiro, uma string, um float, outra lista e um booleano.\n",
        "lista_mista = [42, \"texto\", 3.14, [1, 2, 3], True]\n",
        "print(f\"Lista Mista: {lista_mista}\")\n",
        "\n",
        "# - Acessando Elementos da Lista Mista\n",
        "# Você pode acessar elementos individuais da lista da mesma forma que faria com listas homogêneas.\n",
        "print(f\"Primeiro elemento: {lista_mista[0]}\")  # 42\n",
        "print(f\"Segundo elemento: {lista_mista[1]}\")  # 'texto'\n",
        "print(f\"Terceiro elemento: {lista_mista[2]}\")  # 3.14\n",
        "\n",
        "# - Acessando Elementos de uma Lista Aninhada\n",
        "# Para acessar um elemento dentro de uma lista aninhada, você usa uma segunda indexação.\n",
        "print(f\"Primeiro elemento da lista aninhada: {lista_mista[3][0]}\")  # 1\n",
        "\n",
        "# Modificando Listas Mistas\n",
        "# Você pode modificar elementos individuais da lista da mesma forma que faria com listas homogêneas.\n",
        "lista_mista[1] = \"novo texto\"\n",
        "print(f\"Lista Mista modificada: {lista_mista}\")  # [42, 'novo texto', 3.14, [1, 2, 3], True]\n",
        "\n",
        "# Adicionando Elementos\n",
        "# Elementos podem ser adicionados ao final da lista com append() ou em uma posição específica com insert().\n",
        "lista_mista.append(False)\n",
        "lista_mista.insert(2, \"outro elemento\")\n",
        "print(f\"Lista Mista com novos elementos: {lista_mista}\")  # [42, 'novo texto', 'outro elemento', 3.14, [1, 2, 3], True, False]\n",
        "\n",
        "# Removendo Elementos de Listas Mistas\n",
        "# Use remove() para excluir um item específico ou pop() para remover um item em um índice específico.\n",
        "lista_mista.remove(\"outro elemento\")\n",
        "removido = lista_mista.pop(3)  # Remove o item no índice 3\n",
        "print(f\"Lista Mista com itens removidos: {lista_mista}\")  # [42, 'novo texto', 3.14, [1, 2, 3], True, False]\n",
        "print(f\"Item removido: {removido}\")  # 'outro elemento'\n",
        "\n",
        "# Tratando Elementos de Diferentes Tipos\n",
        "# Em uma iteração, você pode querer tratar elementos de tipos diferentes de maneira distinta.\n",
        "for elemento in lista_mista:\n",
        "    if isinstance(elemento, str):\n",
        "        print(f\"String: {elemento.upper()}\")  # Converte para maiúsculas\n",
        "    elif isinstance(elemento, list):\n",
        "        print([x * 2 for x in elemento])  # Multiplica números por 2\n",
        "    else:\n",
        "        print(f\"Elemento: {elemento} / Tipo: {type(elemento)}\") # Exibe o elemento e seu tipo"
      ]
    },
    {
      "cell_type": "markdown",
      "metadata": {},
      "source": [
        "#### 2.1.2.4 Compreensão de Listas (List Comprehension) em Python"
      ]
    },
    {
      "cell_type": "markdown",
      "metadata": {},
      "source": [
        "Olá, estudantes! Hoje, vamos mergulhar no poderoso conceito de compreensão de listas em Python, uma ferramenta que não só simplifica o código, mas também o torna mais rápido e elegante. Preparados para fortalecer suas habilidades em Python? Vamos lá!\n",
        "\n",
        "<b>- O que é Compreensão de Lista?</b>\n",
        "<p>Compreensão de listas é uma forma concisa de criar listas em Python. Ela permite gerar uma nova lista aplicando uma expressão a cada item de uma sequência iterável, tudo em uma única linha de código.</p>\n",
        "<b>- Sintaxe Básica de Compreensão de Lista</b>\n",
        "<p>A sintaxe básica de uma compreensão de lista é:<p>\n",
        "\n",
        "```python\n",
        "[`nova_expressao` for `item` in `iteravel` if `condicao`]\n",
        "\n",
        "- `nova_expressao`: O valor que será adicionado à nova lista.\n",
        "- `item`: Variável que representa cada elemento do iterável.\n",
        "- `iteravel`: Uma sequência de elementos que a compreensão irá percorrer.\n",
        "- `condicao`: Uma condição opcional para filtrar elementos do iterável."
      ]
    },
    {
      "cell_type": "code",
      "execution_count": 37,
      "metadata": {},
      "outputs": [
        {
          "name": "stdout",
          "output_type": "stream",
          "text": [
            "Números: [0, 1, 2, 3, 4, 5, 6, 7, 8, 9]\n",
            "Pares: [0, 2, 4, 6, 8]\n",
            "Quadrados: [0, 1, 4, 9, 16, 25, 36, 49, 64, 81]\n",
            "Quadrados dos Pares: [0, 4, 16, 36, 64]\n"
          ]
        }
      ],
      "source": [
        "# Exemplo de compreensão de lista\n",
        "# Imprimir elementos em uma lista usando list comprehension\n",
        "numeros = [x for x in range(10)]\n",
        "print(f\"Números: {numeros}\")  # [0, 1, 2, 3, 4, 5, 6, 7, 8, 9]\n",
        "\n",
        "# Filtrando elementos\n",
        "pares = [x for x in range(10) if x % 2 == 0]\n",
        "print(f\"Pares: {pares}\")  # [0, 2, 4, 6, 8]\n",
        "\n",
        "# Aplicando Operações\n",
        "quadrados = [x**2 for x in range(10)]\n",
        "print(f\"Quadrados: {quadrados}\")  # [0, 1, 4, 9, 16, 25, 36, 49, 64, 81]\n",
        "\n",
        "# Filtrando elementos e aplicado operações ao mesmo tempo\n",
        "quadrados_pares = [x**2 for x in range(10) if x % 2 == 0]\n",
        "print(f\"Quadrados dos Pares: {quadrados_pares}\")  # [0, 4, 16, 36, 64]"
      ]
    },
    {
      "cell_type": "markdown",
      "metadata": {},
      "source": [
        "A compreensão de listas pode ser usada para operações mais complexas, como manipulações de strings ou cálculos mais elaborados."
      ]
    },
    {
      "cell_type": "code",
      "execution_count": 38,
      "metadata": {},
      "outputs": [
        {
          "name": "stdout",
          "output_type": "stream",
          "text": [
            "['nohtyP', 'é', 'levírcni']\n"
          ]
        }
      ],
      "source": [
        "palavras = [\"Python\", \"é\", \"incrível\"]\n",
        "invertidas = [palavra[::-1] for palavra in palavras]\n",
        "print(invertidas)"
      ]
    },
    {
      "cell_type": "code",
      "execution_count": 39,
      "metadata": {},
      "outputs": [
        {
          "name": "stdout",
          "output_type": "stream",
          "text": [
            "[[1, 4, 7], [2, 5, 8], [3, 6, 9]]\n"
          ]
        }
      ],
      "source": [
        "matriz = [[1, 2, 3], [4, 5, 6], [7, 8, 9]]\n",
        "transposta = [[linha[i] for linha in matriz] for i in range(3)]\n",
        "print(transposta)"
      ]
    },
    {
      "cell_type": "markdown",
      "metadata": {},
      "source": [
        "- <span style=\"font-family: Consolas; font-size: 14px; font-weight: bold;\">matriz = [[1, 2, 3], [4, 5, 6], [7, 8, 9]]</span>: Define uma matriz 3x3 como uma lista de listas, onde cada sublista representa uma linha da matriz.\n",
        "- <span style=\"font-family: Consolas; font-size: 14px; font-weight: bold;\">transposta = [[linha[i] for linha in matriz] for i in range(3)]</span>: Esta é uma compreensão de lista aninhada que cria a matriz transposta.\n",
        "- A parte externa da compreensão de lista, [... for i in range(3)], cria uma nova linha para cada coluna da matriz original (3 colunas neste caso).\n",
        "- A parte interna, [linha[i] for linha in matriz], percorre cada linha da matriz original, pegando o i-ésimo elemento de cada linha. Isso efetivamente gera as colunas da matriz transposta.\n",
        "- print(transposta): Exibe a matriz transposta, que é [[1, 4, 7], [2, 5, 8], [3, 6, 9]]. Aqui, as linhas da matriz original tornam-se colunas na matriz transposta."
      ]
    },
    {
      "cell_type": "markdown",
      "metadata": {},
      "source": [
        "### 2.1.3 Tuplas"
      ]
    },
    {
      "cell_type": "markdown",
      "metadata": {},
      "source": [
        "#### 2.1.3.1 Criação e acesso de tuplas"
      ]
    },
    {
      "cell_type": "markdown",
      "metadata": {},
      "source": [
        "\n",
        "Agora Vamos explorar as tuplas em Python, uma estrutura de dados importante que é similar às listas, mas com uma característica chave: imutabilidade. Vamos entender o que isso significa e como você pode utilizar tuplas em seus programas.\n",
        "\n",
        "1. **O que são Tuplas**  \n",
        "Uma tupla é uma coleção _`ordenada`_ de elementos, semelhante a uma lista. No entanto, uma vez criada, os elementos de uma tupla _`não podem ser alterados`_. Isso significa que tuplas são _`imutáveis`_.\n",
        "\n",
        "1. **Criando Tuplas**  \n",
        "- Uma tupla é definida colocando todos os itens (elementos) dentro de `()`, separados por `,`.\n",
        "- Tuplas também podem ser criadas sem `()`, apenas separando os itens por `,`.\n",
        "- Tuplas podem ser criadas com apenas 1 ítem ou vazias"
      ]
    },
    {
      "cell_type": "code",
      "execution_count": 53,
      "metadata": {},
      "outputs": [
        {
          "name": "stdout",
          "output_type": "stream",
          "text": [
            "Minha Tupla: (1, 'olá', 3.14)\n",
            "Outra Tupla: ('python', 42, 3.14)\n",
            "Tupla com um único item: ('maçã',)\n",
            "Tupla vazia: ()\n"
          ]
        }
      ],
      "source": [
        "# Criando uma tupla com múltiplos elementos\n",
        "minha_tupla = (1, \"olá\", 3.14)\n",
        "print(f\"Minha Tupla: {minha_tupla}\")\n",
        "\n",
        "# Criando uma tupla sem usar parênteses\n",
        "outra_tupla = \"python\", 42, 3.14\n",
        "print(f\"Outra Tupla: {outra_tupla}\")\n",
        "\n",
        "# Tuplas com um único item\n",
        "# Para criar uma tupla com apenas um item, você precisa incluir uma vírgula, mesmo que haja apenas um valor\n",
        "t9 = (\"maçã\",)\n",
        "print(f\"Tupla com um único item: {t9}\")  # Saída: ('maçã',)\n",
        "\n",
        "# Criando uma tupla vazia\n",
        "tupla_vazia = ()\n",
        "print(f\"Tupla vazia: {tupla_vazia}\")"
      ]
    },
    {
      "cell_type": "markdown",
      "metadata": {},
      "source": [
        "3. **Acessando Tuplas**  \n",
        "O acesso aos elementos de uma tupla é feito da mesma forma que nas listas, utilizando índices entre colchetes:"
      ]
    },
    {
      "cell_type": "code",
      "execution_count": 43,
      "metadata": {},
      "outputs": [
        {
          "name": "stdout",
          "output_type": "stream",
          "text": [
            "O segundo elemento da tupla é: olá\n"
          ]
        }
      ],
      "source": [
        "minha_tupla = (1, \"olá\", 3.14)\n",
        "print(f\"O segundo elemento da tupla é: {minha_tupla[1]}\")"
      ]
    },
    {
      "cell_type": "markdown",
      "metadata": {},
      "source": [
        "#### 2.1.3.2 Imutabilidade"
      ]
    },
    {
      "cell_type": "markdown",
      "metadata": {},
      "source": [
        "A principal diferença entre listas e tuplas é que, enquanto você pode alterar, adicionar ou remover elementos de uma lista, uma tupla não permite tais operações.  \n",
        "Tentar modificar diretamente um elemento de uma tupla resultará em um erro."
      ]
    },
    {
      "cell_type": "code",
      "execution_count": 44,
      "metadata": {},
      "outputs": [
        {
          "name": "stdout",
          "output_type": "stream",
          "text": [
            "[1, 200, 3]\n"
          ]
        }
      ],
      "source": [
        "minha_lista = [1, 2, 3]\n",
        "minha_lista[1] = 200  # Permite alteração\n",
        "print(minha_lista)  # Saída: [1, 200, 3]"
      ]
    },
    {
      "cell_type": "code",
      "execution_count": 46,
      "metadata": {},
      "outputs": [
        {
          "ename": "TypeError",
          "evalue": "'tuple' object does not support item assignment",
          "output_type": "error",
          "traceback": [
            "\u001b[1;31m---------------------------------------------------------------------------\u001b[0m",
            "\u001b[1;31mTypeError\u001b[0m                                 Traceback (most recent call last)",
            "Cell \u001b[1;32mIn[46], line 2\u001b[0m\n\u001b[0;32m      1\u001b[0m minha_tupla \u001b[38;5;241m=\u001b[39m (\u001b[38;5;241m1\u001b[39m, \u001b[38;5;124m\"\u001b[39m\u001b[38;5;124molá\u001b[39m\u001b[38;5;124m\"\u001b[39m, \u001b[38;5;241m3.14\u001b[39m)\n\u001b[1;32m----> 2\u001b[0m minha_tupla[\u001b[38;5;241m1\u001b[39m] \u001b[38;5;241m=\u001b[39m \u001b[38;5;124m\"\u001b[39m\u001b[38;5;124mmundo\u001b[39m\u001b[38;5;124m\"\u001b[39m\n",
            "\u001b[1;31mTypeError\u001b[0m: 'tuple' object does not support item assignment"
          ]
        }
      ],
      "source": [
        "minha_tupla = (1, \"olá\", 3.14)\n",
        "minha_tupla[1] = \"mundo\"  # Gera um TypeError"
      ]
    },
    {
      "cell_type": "markdown",
      "metadata": {},
      "source": [
        "#### 2.1.3.3 Porque e quando usar"
      ]
    },
    {
      "cell_type": "markdown",
      "metadata": {},
      "source": [
        "Tuplas são usadas quando você quer _`garantir que os dados não sejam modificados`_.   \n",
        "Elas são mais _`rápidas`_ que as listas e podem ser usadas como chaves em dicionários, enquanto listas não podem.\n",
        "\n",
        "- Exemplo de Uso  \n",
        "Tuplas são _`ideais para representar dados que vêm como pares ou conjuntos fixos de elementos`_, como coordenadas (latitude, longitude) ou informações que não devem mudar, como datas de nascimento."
      ]
    },
    {
      "cell_type": "code",
      "execution_count": 48,
      "metadata": {},
      "outputs": [
        {
          "name": "stdout",
          "output_type": "stream",
          "text": [
            "Coordenadas: (40.7128, -74.006)\n"
          ]
        }
      ],
      "source": [
        "coordenadas = (40.7128, -74.0060)\n",
        "print(f\"Coordenadas: {coordenadas}\")"
      ]
    },
    {
      "cell_type": "markdown",
      "metadata": {},
      "source": [
        "#### 2.1.3.4 Operações com tuplas"
      ]
    },
    {
      "cell_type": "markdown",
      "metadata": {},
      "source": [
        "Embora não possa modificar os elementos de uma tupla, você pode realizar outras operações, tais como:\n",
        "- contar elementos\n",
        "- encontrar posição de elementos\n",
        "- concatenar\n",
        "- repetir\n",
        "- realizar verificações"
      ]
    },
    {
      "cell_type": "code",
      "execution_count": 50,
      "metadata": {},
      "outputs": [
        {
          "name": "stdout",
          "output_type": "stream",
          "text": [
            "Quantidade de 2 na tupla: 3\n",
            "Índice da primeira ocorrência de 2: 1\n",
            "Tupla concatenada: (1, 2, 3, 4, 5, 6)\n",
            "Tupla repetida: (1, 2, 3, 1, 2, 3, 1, 2, 3)\n",
            "2 está na tupla\n",
            "Primeiro item da tupla: 1\n",
            "Tupla aninhada: ((1, 2, 3), (4, 5, 6))\n"
          ]
        }
      ],
      "source": [
        "# - Contagem e busca\n",
        "t = (1, 2, 3, 2, 4, 2)\n",
        "print(f\"Quantidade de 2 na tupla: {t.count(2)}\")  # Conta o número de ocorrências do número 2\n",
        "print(f\"Índice da primeira ocorrência de 2: {t.index(2)}\")  # Retorna o índice da primeira ocorrência de 2\n",
        "\n",
        "# - Concatenando Tuplas\n",
        "# Você pode concatenar duas tuplas usando o operador '+':\n",
        "t1 = (1, 2, 3)\n",
        "t2 = (4, 5, 6)\n",
        "t3 = t1 + t2\n",
        "print(f\"Tupla concatenada: {t3}\")  # (1, 2, 3, 4, 5, 6)\n",
        "\n",
        "# - Repetindo Tuplas\n",
        "# Você pode repetir os elementos de uma tupla usando o operador '*':\n",
        "t4 = t1 * 3\n",
        "print(f\"Tupla repetida: {t4}\")  # (1, 2, 3, 1, 2, 3, 1, 2, 3)\n",
        "\n",
        "# - Verificando se um Item Existe\n",
        "# Para determinar se um item está presente na tupla, você pode usar a palavra-chave 'in':\n",
        "if 2 in t1:\n",
        "    print(\"2 está na tupla\")\n",
        "\n",
        "# - Acessando Itens da Tupla\n",
        "# Você pode acessar itens da tupla referenciando o índice:\n",
        "print(f\"Primeiro item da tupla: {t1[0]}\")  # 1\n"
      ]
    },
    {
      "cell_type": "markdown",
      "metadata": {},
      "source": [
        "Como exemplos de operações mais complexas, podemos citar:\n",
        "- aninhar\n",
        "- tamanho da tupla\n",
        "- encotrar máximo e mínimo\n",
        "- conversão de lista para tupla\n",
        "- conversão de tupla para lista\n",
        "- empacotar e desempacotar valores"
      ]
    },
    {
      "cell_type": "code",
      "execution_count": 54,
      "metadata": {},
      "outputs": [
        {
          "name": "stdout",
          "output_type": "stream",
          "text": [
            "Tupla aninhada: ((1, 2, 3), (4, 5, 6))\n",
            "Tamanho da tupla: 3\n",
            "Maior valor na tupla: 3\n",
            "Menor valor na tupla: 1\n",
            "Tupla convertida de lista: (1, 2, 3, 4, 5)\n",
            "Valores desempacotados: a=1, b=2, c=3\n",
            "Tupla empacotada: (1, 2, 3)\n"
          ]
        }
      ],
      "source": [
        "# - Tuplas Aninhadas\n",
        "# As tuplas podem conter outras tuplas como elementos:\n",
        "t5 = (t1, t2)\n",
        "print(f\"Tupla aninhada: {t5}\")  # ((1, 2, 3), (4, 5, 6))\n",
        "\n",
        "# - Tamanho da Tupla\n",
        "# Você pode obter o número de elementos em uma tupla com a função len():\n",
        "print(f\"Tamanho da tupla: {len(t1)}\")  # 3\n",
        "\n",
        "# - Máximo e Mínimo\n",
        "# Você pode obter o maior e o menor valor em uma tupla com as funções max() e min():\n",
        "print(f\"Maior valor na tupla: {max(t1)}\")  # 3\n",
        "print(f\"Menor valor na tupla: {min(t1)}\")  # 1\n",
        "\n",
        "# - Conversão de Lista para Tupla\n",
        "# Você pode converter uma lista em uma tupla com a função tuple():\n",
        "lista = [1, 2, 3, 4, 5]\n",
        "t6 = tuple(lista)\n",
        "print(f\"Tupla convertida de lista: {t6}\")  # (1, 2, 3, 4, 5)\n",
        "\n",
        "# Definindo uma tupla\n",
        "cores = ('vermelho', 'verde', 'azul')\n",
        "# Convertendo a tupla para uma lista\n",
        "lista_cores = list(cores)\n",
        "print(f\"Lista: {lista_cores}\")  # ['vermelho', 'verde', 'azul']\n",
        "\n",
        "# - Desempacotamento de Tupla\n",
        "# Você pode desempacotar uma tupla atribuindo-a a uma lista de variáveis:\n",
        "a, b, c = t1\n",
        "print(f\"Valores desempacotados: a={a}, b={b}, c={c}\")  # a=1, b=2, c=3\n",
        "\n",
        "# - Empacotamento de Tupla\n",
        "# Quando criamos uma tupla, o processo é chamado de empacotamento:\n",
        "t7 = 1, 2, 3\n",
        "print(f\"Tupla empacotada: {t7}\")  # (1, 2, 3)"
      ]
    },
    {
      "cell_type": "markdown",
      "metadata": {},
      "source": [
        "#### 2.1.3.5 Operações avançadas com tuplas"
      ]
    },
    {
      "cell_type": "markdown",
      "metadata": {},
      "source": [
        "Vamos explorar como podemos utilizar laços (loops) com tuplas em Python, demonstrando algumas operações úteis:\n",
        "- **Iterar sobre tuplas**  \n",
        "Você pode percorrer cada elemento de uma tupla usando um laço _`for`_. Isso é útil para acessar e manipular cada item individualmente.\n",
        "- **Tuplas em laços de índice**  \n",
        "Se você precisar do índice dos elementos enquanto itera, pode usar _`enumerate()`_.\n",
        "- **Laços e Tuplas Aninhadas**  \n",
        "Se uma tupla contém outras tuplas, você pode usar _`desempacotamento`_ para acessr os valores.\n",
        "- **Combinando Tuplas com zip()**  \n",
        "O _`zip()`_ é útil para combinar elementos de duas ou mais tuplas em um laço."
      ]
    },
    {
      "cell_type": "code",
      "execution_count": null,
      "metadata": {},
      "outputs": [],
      "source": [
        "# Definindo uma tupla\n",
        "cores = ('vermelho', 'verde', 'azul')\n",
        "\n",
        "# Iterando sobre a tupla\n",
        "for cor in cores:\n",
        "    print(f\"Cor: {cor}\")"
      ]
    },
    {
      "cell_type": "code",
      "execution_count": null,
      "metadata": {},
      "outputs": [],
      "source": [
        "# Iterando com índice e valor\n",
        "for indice, cor in enumerate(cores):\n",
        "    print(f\"{indice}: {cor}\")"
      ]
    },
    {
      "cell_type": "code",
      "execution_count": null,
      "metadata": {},
      "outputs": [],
      "source": [
        "# Tupla aninhada\n",
        "pontos = ((1, 2), (3, 4), (5, 6))\n",
        "\n",
        "# Iterando sobre uma tupla aninhada\n",
        "for ponto in pontos:\n",
        "    x, y = ponto\n",
        "    print(f\"Coordenadas: x={x}, y={y}\")"
      ]
    },
    {
      "cell_type": "code",
      "execution_count": null,
      "metadata": {},
      "outputs": [],
      "source": [
        "# Duas tuplas\n",
        "números = (1, 2, 3)\n",
        "letras = ('a', 'b', 'c')\n",
        "\n",
        "# Combinando elementos das tuplas\n",
        "for número, letra in zip(números, letras):\n",
        "    print(f\"{número}: {letra}\")"
      ]
    },
    {
      "cell_type": "markdown",
      "metadata": {},
      "source": [
        "### 2.1.4 Dicionários"
      ]
    },
    {
      "cell_type": "markdown",
      "metadata": {},
      "source": [
        "Agora vamos explorar uma das estruturas de dados mais poderosas e flexíveis em Python: os `dicionários`. Dicionários em Python são `coleções desordenadas` de itens. Cada item nos dicionários é armazenado como um `par de chave e valor`, facilitando a rápida recuperação de dados."
      ]
    },
    {
      "cell_type": "markdown",
      "metadata": {},
      "source": [
        "#### 2.1.4.1 Criação e acesso"
      ]
    },
    {
      "cell_type": "markdown",
      "metadata": {},
      "source": [
        "Um dicionário é criado colocando elementos dentro de `{}`, separados por `,`, onde cada elemento é um par `chave:valor`.  \n",
        "Podemos também criar dicionários vazios usando apenas `{}` vazias."
      ]
    },
    {
      "cell_type": "code",
      "execution_count": 58,
      "metadata": {},
      "outputs": [
        {
          "name": "stdout",
          "output_type": "stream",
          "text": [
            "Dicionário: {'nome': 'João', 'idade': 30, 'cidade': 'São Paulo'}\n",
            "Dicionário vazio: {}\n"
          ]
        }
      ],
      "source": [
        "# Criando um dicionário\n",
        "meu_dicionario = {'nome': 'João', 'idade': 30, 'cidade': 'São Paulo'}\n",
        "print(f\"Dicionário: {meu_dicionario}\")\n",
        "\n",
        "# Criando um dicionário vazio\n",
        "dicionario_vazio = {}\n",
        "print(f\"Dicionário vazio: {dicionario_vazio}\")"
      ]
    },
    {
      "cell_type": "markdown",
      "metadata": {},
      "source": [
        "Você pode `acessar o item` de um dicionário **referenciando** sua `{}`"
      ]
    },
    {
      "cell_type": "code",
      "execution_count": 57,
      "metadata": {},
      "outputs": [
        {
          "name": "stdout",
          "output_type": "stream",
          "text": [
            "Idade de João: 35\n"
          ]
        }
      ],
      "source": [
        "# Acessando Itens\n",
        "print(f\"Idade de João: {meu_dicionario['idade']}\")  # Mustang"
      ]
    },
    {
      "cell_type": "markdown",
      "metadata": {},
      "source": [
        "Você pode obter uma visão das chaves e valores de um dicionário usando os métodos _`keys()`_ e _`values()`_."
      ]
    },
    {
      "cell_type": "code",
      "execution_count": 69,
      "metadata": {},
      "outputs": [
        {
          "name": "stdout",
          "output_type": "stream",
          "text": [
            "dict_keys(['nome', 'idade', 'cidade'])\n",
            "dict_values(['João', 30, 'São Paulo'])\n"
          ]
        }
      ],
      "source": [
        "# Obtendo todas as chaves\n",
        "chaves = meu_dicionario.keys()\n",
        "print(chaves)\n",
        "\n",
        "# Obtendo todos os valores\n",
        "valores = meu_dicionario.values()\n",
        "print(valores)"
      ]
    },
    {
      "cell_type": "markdown",
      "metadata": {},
      "source": [
        "Dicionários podem conter outros dicionários, o que é conhecido como dicionários `aninhados`"
      ]
    },
    {
      "cell_type": "code",
      "execution_count": 61,
      "metadata": {},
      "outputs": [
        {
          "name": "stdout",
          "output_type": "stream",
          "text": [
            "nome da rua: Rua Central\n"
          ]
        }
      ],
      "source": [
        "# Dicionário aninhado\n",
        "meu_dicionario = {\n",
        "    'nome': 'João',\n",
        "    'idade': 30,\n",
        "    'endereço': {\n",
        "        'rua': 'Rua Central',\n",
        "        'numero': '1000'\n",
        "    }\n",
        "}\n",
        "\n",
        "# Acessando elementos de um dicionário aninhado\n",
        "print(f\"nome da rua: {meu_dicionario['endereço']['rua']}\")  # Rua Central"
      ]
    },
    {
      "cell_type": "markdown",
      "metadata": {},
      "source": [
        "#### 2.1.4.2 Modificando um dicionário"
      ]
    },
    {
      "cell_type": "markdown",
      "metadata": {},
      "source": [
        "1. **Adicionando e Modificando Itens**  \n",
        "Dicionários são `mutáveis`, permitindo adicionar e modificar elementos:"
      ]
    },
    {
      "cell_type": "code",
      "execution_count": 56,
      "metadata": {},
      "outputs": [
        {
          "name": "stdout",
          "output_type": "stream",
          "text": [
            "{'nome': 'João', 'idade': 30, 'cidade': 'São Paulo', 'profissão': 'Engenheiro'}\n",
            "{'nome': 'João', 'idade': 35, 'cidade': 'São Paulo', 'profissão': 'Engenheiro'}\n"
          ]
        }
      ],
      "source": [
        "# Adicionando um novo par chave-valor\n",
        "meu_dicionario = {'nome': 'João', 'idade': 30, 'cidade': 'São Paulo'}\n",
        "meu_dicionario['profissão'] = 'Engenheiro'\n",
        "print(meu_dicionario)\n",
        "\n",
        "# Modificando um valor existente\n",
        "meu_dicionario['idade'] = 35\n",
        "print(meu_dicionario)"
      ]
    },
    {
      "cell_type": "markdown",
      "metadata": {},
      "source": [
        "2. **Removendo Itens**   \n",
        "Você pode remover itens de um dicionário usando o método _`pop()`_ ou a palavra-chave _`del`_:"
      ]
    },
    {
      "cell_type": "code",
      "execution_count": null,
      "metadata": {},
      "outputs": [],
      "source": [
        "# Removendo um item com pop()\n",
        "meu_dicionario.pop('idade')\n",
        "print(meu_dicionario)\n",
        "\n",
        "# Removendo um item com del\n",
        "del meu_dicionario['cidade']\n",
        "print(meu_dicionario)"
      ]
    },
    {
      "cell_type": "markdown",
      "metadata": {},
      "source": [
        "#### 2.1.4.3 Operações com dicionário"
      ]
    },
    {
      "cell_type": "markdown",
      "metadata": {},
      "source": [
        "1. **Iterando sobre Dicionários**  \n",
        "Dicionários podem ser iterados de várias maneiras:\n",
        "    - chaves\n",
        "    - valores\n",
        "    - pares chaves-valores"
      ]
    },
    {
      "cell_type": "code",
      "execution_count": 65,
      "metadata": {},
      "outputs": [
        {
          "name": "stdout",
          "output_type": "stream",
          "text": [
            "- Interando por chaves\n",
            "chave: nome\n",
            "chave: idade\n",
            "chave: cidade\n",
            "- Interando por valores\n",
            "valor: João\n",
            "valor: 30\n",
            "valor: São Paulo\n",
            "- Interando por par chave-valor\n",
            "chave: nome / valor: João\n",
            "chave: idade / valor: 30\n",
            "chave: cidade / valor: São Paulo\n"
          ]
        }
      ],
      "source": [
        "meu_dicionario = {'nome': 'João', 'idade': 30, 'cidade': 'São Paulo'}\n",
        "# Iterando pelas chaves\n",
        "print(f\"- Interando por chaves\")\n",
        "for chave in meu_dicionario:\n",
        "    print(f\"chave: {chave}\")\n",
        "\n",
        "# Iterando pelos valores\n",
        "print(f\"- Interando por valores\")\n",
        "for valor in meu_dicionario.values():\n",
        "    print(f\"valor: {valor}\")\n",
        "\n",
        "# Iterando pelos pares chave-valor\n",
        "print(f\"- Interando por par chave-valor\")\n",
        "for chave, valor in meu_dicionario.items():\n",
        "    print(f\"chave: {chave} / valor: {valor}\")"
      ]
    },
    {
      "cell_type": "markdown",
      "metadata": {},
      "source": [
        "2. **Iterando sobre Dicionários usando compreensão de lista**  \n",
        "Você pode usar a compreensão de lista (list comprehension) para criar listas a partir das chaves, valores ou itens de um dicionário."
      ]
    },
    {
      "cell_type": "code",
      "execution_count": null,
      "metadata": {},
      "outputs": [],
      "source": [
        "# Criando uma lista de chaves\n",
        "chaves_lista = [chave for chave in meu_dicionario]\n",
        "print(chaves_lista)\n",
        "\n",
        "# Criando uma lista de valores\n",
        "valores_lista = [valor for valor in meu_dicionario.values()]\n",
        "print(valores_lista)"
      ]
    },
    {
      "cell_type": "markdown",
      "metadata": {},
      "source": [
        "3. **Operações de busca em dicionários**  \n",
        "Você pode realizar busca em dicionário usando:\n",
        "    - a palavra reservada _`in`_\n",
        "        Para verificar se uma chave ou valor existe em um dicionário, você pode usar o operador in.  \n",
        "        Isso é útil para evitar erros ao tentar acessar chaves que podem não estar presentes no dicionário.\n",
        "    - usar o método _`get()`_  \n",
        "        Para buscar um item em um dicionário sem o risco de encontrar um erro caso a chave não exista, use o método _`get()`_  \n",
        "        Esse método retorna `None` (ou um valor padrão definido) se a chave não estiver no dicionário.\n",
        "        "
      ]
    },
    {
      "cell_type": "code",
      "execution_count": 76,
      "metadata": {},
      "outputs": [
        {
          "name": "stdout",
          "output_type": "stream",
          "text": [
            "Nome está no dicionário.\n",
            "Um dos valores é 30.\n",
            "João vive na Rua Central.\n",
            "Não especificado\n",
            "Não especificado\n"
          ]
        }
      ],
      "source": [
        "# Dicionário aninhado\n",
        "meu_dicionario = {\n",
        "    'nome': 'João',\n",
        "    'idade': 30,\n",
        "    'endereço': {\n",
        "        'rua': 'Rua Central',\n",
        "        'numero': '1000'\n",
        "    }\n",
        "}\n",
        "\n",
        "# Verificando a existência de uma chave\n",
        "if 'nome' in meu_dicionario:\n",
        "    print(\"Nome está no dicionário.\")\n",
        "\n",
        "# Verificando a existência de um valor\n",
        "if 30 in meu_dicionario.values():\n",
        "    print(\"Um dos valores é 30.\")\n",
        "\n",
        "# Verificando a existência de um valor em subdicionário\n",
        "if 'Rua Central' in meu_dicionario['endereço'].values():\n",
        "    print(\"João vive na Rua Central.\")\n",
        "\n",
        "# Buscando um valor com get()\n",
        "profissao = meu_dicionario.get('profissão', 'Não especificado')\n",
        "print(profissao)  # Retorna 'Não especificado' se 'profissão' não estiver presente\n",
        "\n",
        "# Se buscasse profissao com if seria assim\n",
        "if 'profissão' in meu_dicionario:\n",
        "    profissao = meu_dicionario['profissão']\n",
        "else:\n",
        "    profissao = 'Não especificado'\n",
        "print(profissao)\n"
      ]
    },
    {
      "cell_type": "markdown",
      "metadata": {},
      "source": [
        "#### 2.1.4.4 Conceitos Avançados"
      ]
    },
    {
      "cell_type": "markdown",
      "metadata": {},
      "source": [
        "1. **Uso de Tuplas como Chaves**  \n",
        "    - Dicionários podem usar tuplas como chaves, já que tuplas são imutáveis e, portanto, hashable. Isso é útil quando você precisa de uma chave composta por múltiplos valores."
      ]
    },
    {
      "cell_type": "code",
      "execution_count": 77,
      "metadata": {},
      "outputs": [
        {
          "name": "stdout",
          "output_type": "stream",
          "text": [
            "A localização (40.7128, -74.0060) é Nova Iorque.\n"
          ]
        }
      ],
      "source": [
        "# Dicionário usando tuplas como chaves\n",
        "coordenadas = {\n",
        "    (40.7128, -74.0060): \"Nova Iorque\",\n",
        "    (51.5074, -0.1278): \"Londres\"\n",
        "}\n",
        "\n",
        "# Acessando um valor usando uma chave tupla\n",
        "local = coordenadas.get((40.7128, -74.0060))\n",
        "print(f\"A localização (40.7128, -74.0060) é {local}.\")"
      ]
    },
    {
      "cell_type": "markdown",
      "metadata": {},
      "source": [
        "2. **Dicionários coleções**  \n",
        "    - Para mostrar como podemos ter coleções em dicionários, especialmente quando queremos armazenar informações sobre mais de uma pessoa, podemos estruturar o dicionário de forma que cada chave represente uma pessoa, e o valor associado a essa chave seja outro dicionário contendo detalhes sobre a pessoa. Vamos modificar o exemplo para incluir informações sobre múltiplas pessoas:"
      ]
    },
    {
      "cell_type": "code",
      "execution_count": 78,
      "metadata": {},
      "outputs": [
        {
          "name": "stdout",
          "output_type": "stream",
          "text": [
            "Rua de João: Rua Central\n",
            "Rua de Maria: Rua Lateral\n",
            "\n",
            "Nome: João\n",
            "idade: 30\n",
            "endereço:\n",
            "  rua: Rua Central\n",
            "  numero: 1000\n",
            "\n",
            "Nome: Maria\n",
            "idade: 25\n",
            "endereço:\n",
            "  rua: Rua Lateral\n",
            "  numero: 500\n"
          ]
        }
      ],
      "source": [
        "# Dicionário aninhado com informações sobre várias pessoas\n",
        "pessoas = {\n",
        "    'João': {\n",
        "        'idade': 30,\n",
        "        'endereço': {\n",
        "            'rua': 'Rua Central',\n",
        "            'numero': 1000\n",
        "        }\n",
        "    },\n",
        "    'Maria': {\n",
        "        'idade': 25,\n",
        "        'endereço': {\n",
        "            'rua': 'Rua Lateral',\n",
        "            'numero': 500\n",
        "        }\n",
        "    }\n",
        "}\n",
        "\n",
        "# Acessando elementos de um dicionário aninhado\n",
        "print(f\"Rua de João: {pessoas['João']['endereço']['rua']}\")\n",
        "print(f\"Rua de Maria: {pessoas['Maria']['endereço']['rua']}\")\n",
        "\n",
        "# Imprimindo informações formatadas linha a linha\n",
        "for nome, info in pessoas.items():\n",
        "    print(f\"\\nNome: {nome}\")\n",
        "    for chave, valor in info.items():\n",
        "        if isinstance(valor, dict):\n",
        "            print(f\"{chave}:\")\n",
        "            for subchave, subvalor in valor.items():\n",
        "                print(f\"  {subchave}: {subvalor}\")\n",
        "        else:\n",
        "            print(f\"{chave}: {valor}\")"
      ]
    },
    {
      "cell_type": "markdown",
      "metadata": {
        "colab_type": "text",
        "id": "BSw5VC7MaeVG"
      },
      "source": [
        "# Créditos\n",
        "-----------------------------------------------------------------------------------------------------------------------------\n",
        "*   @author Thales Valente\n",
        "*   @contact: thales.l.a.valente@gmail.com\n",
        "*   @date last version:     03/2024.\n",
        "*   @version 2.0\n",
        "*   @github link: https://github.com/thalesvalente/\n",
        "*\n",
        "*   @Copyright/License\n",
        "*   Educational Material\n",
        "*   All the products under this license are free software: they can be used for both academic and commercial purposes at absolutely no cost.\n",
        "*   There are no paperwork, no royalties, no GNU-like \"copyleft\" restrictions, either. Just download and use it.\n",
        "*   They are licensed under the terms of the MIT license reproduced below, and so are compatible with GPL and also qualifies as Open Source software.\n",
        "*   They are not in the public domain. The legal details are below.\n",
        "*\n",
        "*   The spirit of this license is that you are free to use this material for any purpose at no cost without having to ask us.\n",
        "*   The only requirement is that if you do use them, then you should give us credit by including the copyright notice below somewhere in your material.\n",
        "*\n",
        "*   Copyright © 2024 Educational Material\n",
        "*\n",
        "*   Permission is hereby granted, free of charge, to any person obtaining a copy of this material without restriction, including without limitation the rights to use, copy, modify, merge, publish, distribute, sub license, and/or sell copies of this Material, and to permit persons to whom the Material is furnished to do so, subject to the following conditions:\n",
        "*\n",
        "*   The above copyright notice and this permission notice shall be included in all copies or suavlantial portions of the material.\n",
        "*\n",
        "*   THE MATERIAL IS PROVIDED \"AS IS\", WITHOUT WARRANTY OF ANY KIND, EXPRESS OR IMPLIED, INCLUDING BUT NOT LIMITED TO THE WARRANTIES OF MERCHANTABILITY,  FITNESS FOR A PARTICULAR PURPOSE AND NONINFRINGEMENT. IN NO EVENT SHALL THE AUTHORS OR COPYRIGHT HOLDERS BE LIABLE FOR ANY CLAIM, DAMAGES OR OTHER LIABILITY, WHETHER IN AN ACTION OF CONTRACT, TORT OR OTHERWISE, ARISING FROM, OUT OF OR IN CONNECTION WITH THE MATERIAL OR THE USE OR OTHER DEALINGS IN THE MATERIAL.\n",
        "-----------------------------------------------------------------------------------------------------------------------------\n",
        "-----------------------------------------------------------------------------------------------------------------------------"
      ]
    }
  ],
  "metadata": {
    "colab": {
      "collapsed_sections": [],
      "include_colab_link": true,
      "name": "Mini_Tutorial_Python.ipynb",
      "provenance": [],
      "toc_visible": true,
      "version": "0.3.2"
    },
    "kernelspec": {
      "display_name": "moda",
      "language": "python",
      "name": "python3"
    },
    "language_info": {
      "codemirror_mode": {
        "name": "ipython",
        "version": 3
      },
      "file_extension": ".py",
      "mimetype": "text/x-python",
      "name": "python",
      "nbconvert_exporter": "python",
      "pygments_lexer": "ipython3",
      "version": "3.9.17"
    }
  },
  "nbformat": 4,
  "nbformat_minor": 0
}
