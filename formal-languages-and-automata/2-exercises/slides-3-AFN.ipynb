{
 "cells": [
  {
   "cell_type": "markdown",
   "metadata": {},
   "source": [
    "## Slide 30 - AFN"
   ]
  },
  {
   "cell_type": "markdown",
   "metadata": {},
   "source": [
    "### Definição Informal"
   ]
  },
  {
   "cell_type": "markdown",
   "metadata": {},
   "source": [
    "Um **Autômato Finito Não-determinístico (AFN)** é uma generalização dos autômatos finitos determinísticos (AFD). Enquanto em um AFD cada par de estado e símbolo de entrada leva a no máximo um estado seguinte, um AFN permite transições para múltiplos estados para o mesmo par de estado e símbolo de entrada. Isso introduz a possibilidade de várias computações possíveis para uma mesma palavra de entrada.\n",
    "Autômatos Finitos Não-determinísticos oferecem uma forma poderosa e flexível de modelar sistemas que têm múltiplas possíveis respostas a uma entrada dada, sendo essenciais para entender conceitos mais avançados em teoria da computação e processamento de linguagens formais.\n",
    "\n",
    "**Exemplo de AFN e Computações Possíveis**\n",
    "\n",
    "Consideremos um AFN simples ilustrado abaixo, juntamente com um diagrama mostrando as computações possíveis para a palavra \"1010\":"
   ]
  },
  {
   "cell_type": "code",
   "execution_count": 2,
   "metadata": {},
   "outputs": [
    {
     "name": "stdout",
     "output_type": "stream",
     "text": [
      "Collecting graphviz\n",
      "  Obtaining dependency information for graphviz from https://files.pythonhosted.org/packages/00/be/d59db2d1d52697c6adc9eacaf50e8965b6345cc143f671e1ed068818d5cf/graphviz-0.20.3-py3-none-any.whl.metadata\n",
      "  Using cached graphviz-0.20.3-py3-none-any.whl.metadata (12 kB)\n",
      "Using cached graphviz-0.20.3-py3-none-any.whl (47 kB)\n",
      "Installing collected packages: graphviz\n",
      "Successfully installed graphviz-0.20.3\n"
     ]
    },
    {
     "name": "stderr",
     "output_type": "stream",
     "text": [
      "WARNING: Ignoring invalid distribution -rotobuf (c:\\users\\selah\\anaconda3\\envs\\moda\\lib\\site-packages)\n",
      "WARNING: Ignoring invalid distribution -rotobuf (c:\\users\\selah\\anaconda3\\envs\\moda\\lib\\site-packages)\n"
     ]
    }
   ],
   "source": [
    "!pip install graphviz"
   ]
  },
  {
   "cell_type": "code",
   "execution_count": 13,
   "metadata": {},
   "outputs": [
    {
     "data": {
      "image/png": "[encoded data removed]",
      "text/plain": [
       "<Figure size 640x480 with 1 Axes>"
      ]
     },
     "metadata": {},
     "output_type": "display_data"
    }
   ],
   "source": [
    "import matplotlib.pyplot as plt\n",
    "import networkx as nx\n",
    "\n",
    "# Criar um grafo dirigido\n",
    "G = nx.DiGraph()\n",
    "\n",
    "# Adicionar os estados\n",
    "G.add_node('e1')\n",
    "G.add_node('e2')\n",
    "\n",
    "# Adicionar arestas\n",
    "G.add_edge('e1', 'e1', label='0,1')\n",
    "G.add_edge('e1', 'e2', label='0')\n",
    "\n",
    "# Layout específico\n",
    "pos = {'e1': (0, 0), 'e2': (1, 0)}  # Posições manuais para os nós\n",
    "\n",
    "# Desenho do grafo\n",
    "nx.draw_networkx_nodes(G, pos, node_size=2000, node_color='skyblue', alpha=0.6)\n",
    "nx.draw_networkx_labels(G, pos, font_size=12, font_family='sans-serif')\n",
    "\n",
    "# Estados finais ajustados para visualização\n",
    "nx.draw_networkx_nodes(G, pos, nodelist=['e2'], node_shape='o', node_size=2000, node_color='lightblue', edgecolors='black', linewidths=2)\n",
    "\n",
    "# Desenho das arestas com labels\n",
    "edges = nx.draw_networkx_edges(G, pos, arrowstyle='-|>', arrowsize=20, edge_color='gray', connectionstyle='arc3,rad=0.1')\n",
    "\n",
    "# Ajuste manual para a posição do label do loop\n",
    "label_pos = pos['e1'][0], pos['e1'][1] + 0.1  # Posição ajustada para o loop\n",
    "plt.text(label_pos[0], label_pos[1], '0,1', horizontalalignment='center', verticalalignment='center', color='red', fontsize=12)\n",
    "\n",
    "# Corrigindo a chamada para desenho dos rótulos das outras arestas\n",
    "nx.draw_networkx_edge_labels(G, pos, edge_labels={('e1', 'e2'): '0'}, font_color='red')\n",
    "\n",
    "# Ajustes finais e mostrar o gráfico\n",
    "plt.title('Diagrama do Autômato', size=15)\n",
    "plt.axis('off')  # Desativar os eixos\n",
    "plt.show()\n"
   ]
  },
  {
   "cell_type": "markdown",
   "metadata": {},
   "source": [
    "**Análise do AFN**\n",
    "\n",
    "- O AFN mostrado pode processar a palavra \"1010\" seguindo diferentes caminhos através do autômato, como ilustrado no diagrama da árvore de computação.\n",
    "- Para cada símbolo da palavra de entrada, o autômato pode transitar para um ou mais estados, dependendo das transições definidas para o símbolo e estado atual.\n",
    "\n",
    "**Linguagem Reconhecida pelo AFN**\n",
    "\n",
    "O AFN exemplificado acima é projetado para reconhecer palavras que:\n",
    "- Contêm qualquer sequência de zeros e uns ($\\{0,1\\}^*$), terminando em '0'.\n",
    "\n",
    "Em outras palavras, o autômato pode transitar da seguinte forma:\n",
    "- Estado `e1` é o estado inicial. De `e1`, pode-se:\n",
    "  - Transitar para si mesmo ao ler '0' ou '1'.\n",
    "  - Transitar para `e2` ao ler '0'.\n",
    "- Estado `e2` é o estado final, significando que qualquer palavra lida que termine em '0' e alcançe `e2` é aceita.\n",
    "\n",
    "Ao processar a palavra \"1010\" com nosso AFN, observamos o seguinte comportamento:\n",
    "\n",
    "- **Início**: Começa no estado `e1`.\n",
    "- **Primeiro Símbolo ('1')**: Lê '1' e permanece em `e1`.\n",
    "- **Segundo Símbolo ('0')**: Lê '0', podendo permanecer em `e1` ou transitar para `e2`.\n",
    "- **Terceiro Símbolo ('1')**: Lê '1', necessariamente volta para `e1`.\n",
    "- **Quarto Símbolo ('0')**: Lê '0', podendo permanecer em `e1` ou mover-se para `e2`.\n",
    "\n",
    "A palavra \"1010\" é reconhecida pelo AFN porque existe uma computação válida que termina no estado final após consumir todos os símbolos da palavra:\n",
    "e1 -> e1 -> e1 -> e2\n"
   ]
  },
  {
   "cell_type": "markdown",
   "metadata": {},
   "source": [
    "## Definição Formal"
   ]
  },
  {
   "cell_type": "markdown",
   "metadata": {},
   "source": [
    "Um **Autômato Finito Não-determinístico (AFN)** é formalmente definido como uma 5-tupla:\n",
    "\n",
    "$M = (\\Sigma, Q, \\delta, q_0, F)$\n",
    "\n",
    "onde:\n",
    "\n",
    "- **$\\Sigma$**: é o alfabeto de símbolos de entrada. Representa todos os símbolos que podem ser processados pelo autômato.\n",
    "- **$Q$**: é um conjunto finito de estados possíveis do autômato. Estes são os diferentes estados pelos quais o autômato pode passar durante a execução.\n",
    "- **$\\delta$**: é a função de transição, definida como $\\delta: Q \\times \\Sigma \\to 2^Q$. Esta função determina para cada par de estado e símbolo de entrada, o conjunto de possíveis estados seguintes.\n",
    "- **$q_0$**: é o estado inicial, tal que $q_0 \\in Q$. É o ponto de partida para qualquer processamento de entrada.\n",
    "- **$F$**: é o conjunto de estados finais, tal que $F \\subseteq Q$. Se uma computação termina em algum desses estados após o processamento de toda a entrada, então a palavra é considerada aceita pelo autômato.\n",
    "\n",
    "**Exemplo Ilustrativo**\n",
    "\n",
    "Considere um AFN simples $M$ que reconhece sequências de binários que terminam em '0':\n",
    "\n",
    "- $\\Sigma = \\{0, 1\\}$\n",
    "- $Q = \\{q_0, q_1, q_2\\}$\n",
    "- $\\delta$ é definida como:\n",
    "  - $\\delta(q_0, '0') = \\{q_0, q_1\\}$\n",
    "  - $\\delta(q_0, '1') = \\{q_0\\}$\n",
    "  - $\\delta(q_1, '0') = \\{q_2\\}$\n",
    "  - $\\delta(q_1, '1') = \\{\\}$\n",
    "  - $\\delta(q_2, '0') = \\{q_2\\}$\n",
    "  - $\\delta(q_2, '1') = \\{q_2\\}$\n",
    "- $q_0 = q_0$\n",
    "- $F = \\{q_2\\}$\n",
    "\n",
    "Este AFN não aceita todas as palavras dentro do conjuntos de exemplos \"00\", \"10\", \"110\", \"1000\", etc., que são todas sequências que terminam em '0'."
   ]
  },
  {
   "cell_type": "markdown",
   "metadata": {},
   "source": [
    "## Função Programa Estendida"
   ]
  },
  {
   "cell_type": "markdown",
   "metadata": {},
   "source": []
  },
  {
   "cell_type": "markdown",
   "metadata": {},
   "source": [
    "Seja $M = (\\Sigma, Q, \\delta, q_0, F)$ um autômato finito não-determinístico. A função programa estendida, denotada por $\\underline{\\delta}: 2^Q \\times \\Sigma^* \\to 2^Q$, é a extensão da função programa $\\delta: Q \\times \\Sigma \\to 2^Q$ para processar palavras inteiras em vez de apenas símbolos individuais.\n",
    "\n",
    "**Definição Indutiva da Função Programa Estendida**\n",
    "\n",
    "A função programa estendida $\\underline{\\delta}$ é definida indutivamente como segue:\n",
    "\n",
    "- **Caso Base**: $\\underline{\\delta}(P, \\epsilon) = P$\n",
    "  - Aqui, $P$ é um conjunto de estados, e $\\epsilon$ é a palavra vazia. A função retorna o próprio conjunto $P$ como o conjunto de estados alcançáveis.\n",
    "\n",
    "- **Passo Indutivo**: $\\underline{\\delta}(P, aw) = \\underline{\\delta}(\\bigcup_{q \\in P} \\delta(q, a), w)$\n",
    "  - Neste caso, para um conjunto de estados $P$, um símbolo $a$, e uma palavra subsequente $w$, a função primeiro aplica $\\delta$ a cada estado em $P$ com o símbolo $a$, combinando todos os resultados possíveis. Em seguida, aplica-se $\\underline{\\delta}$ recursivamente à palavra restante $w$.\n"
   ]
  },
  {
   "cell_type": "markdown",
   "metadata": {},
   "source": [
    "### Exemplo 1 de Aplicação da Função Programa Estendida"
   ]
  },
  {
   "cell_type": "markdown",
   "metadata": {},
   "source": [
    "Considere um conjunto de estados $\\{q_1, q_2, \\dots, q_n\\}$ e um símbolo $a$. A aplicação da função programa estendida a este conjunto e símbolo é definida como:\n",
    "\n",
    "$$\n",
    "\\underline{\\delta}(\\{q_1, q_2, \\dots, q_n\\}, a) = \\delta(q_1, a) \\cup \\delta(q_2, a) \\cup \\dots \\cup \\delta(q_n, a)\n",
    "$$\n",
    "\n",
    "Este resultado compila todos os estados possíveis alcançáveis a partir de qualquer estado em $\\{q_1, q_2, \\dots, q_n\\}$ ao processar o símbolo $a$, considerando todas as transições possíveis definidas por $\\delta$."
   ]
  },
  {
   "cell_type": "markdown",
   "metadata": {},
   "source": [
    "### Exemplo 2 - Passo a Passo da Função Programa Estendida de um AFN"
   ]
  },
  {
   "cell_type": "markdown",
   "metadata": {},
   "source": [
    "Suponhamos que temos um AFN $M = (\\Sigma, Q, \\delta, q_0, F)$ definido como segue:\n",
    "\n",
    "- $\\Sigma = \\{0, 1\\}$: alfabeto binário.\n",
    "- $Q = \\{q_0, q_1, q_2\\}$: conjunto de estados.\n",
    "- $\\delta$: função de transição dada por:\n",
    "  - $\\delta(q_0, 0) = \\{q_0\\}$\n",
    "  - $\\delta(q_0, 1) = \\{q_0, q_1\\}$\n",
    "  - $\\delta(q_1, 0) = \\{q_2\\}$\n",
    "  - $\\delta(q_1, 1) = \\{\\}$\n",
    "  - $\\delta(q_2, 0) = \\{\\}$\n",
    "  - $\\delta(q_2, 1) = \\{q_2\\}$\n",
    "- $q_0$: estado inicial.\n",
    "- $F = \\{q_2\\}$: conjunto de estados finais.\n",
    "\n",
    "**Processando a palavra \"101\" usando $\\underline{\\delta}$**\n",
    "\n",
    "Vamos calcular $\\underline{\\delta}$ passo a passo para a palavra \"101\" começando do estado inicial $q_0$.\n",
    "\n",
    "1. **Passo 1: Processar o primeiro símbolo '1'**\n",
    "   - Começamos com o conjunto inicial $P = \\{q_0\\}$.\n",
    "   - Aplicamos $\\delta(q_0, 1)$:\n",
    "     - $\\delta(q_0, 1) = \\{q_0, q_1\\}$\n",
    "   - Portanto, $\\underline{\\delta}(\\{q_0\\}, '1') = \\{q_0, q_1\\}$.\n",
    "\n",
    "2. **Passo 2: Processar o segundo símbolo '0'**\n",
    "   - Agora, $P = \\{q_0, q_1\\}$.\n",
    "   - Aplicamos $\\delta$ para cada estado em $P$ com o símbolo '0':\n",
    "     - $\\delta(q_0, 0) = \\{q_0\\}$\n",
    "     - $\\delta(q_1, 0) = \\{q_2\\}$\n",
    "   - Combinando os resultados, temos $\\underline{\\delta}(\\{q_0, q_1\\}, '0') = \\{q_0, q_2\\}$.\n",
    "\n",
    "3. **Passo 3: Processar o terceiro símbolo '1'**\n",
    "   - Agora, $P = \\{q_0, q_2\\}$.\n",
    "   - Aplicamos $\\delta$ para cada estado em $P$ com o símbolo '1':\n",
    "     - $\\delta(q_0, 1) = \\{q_0, q_1\\}$\n",
    "     - $\\delta(q_2, 1) = \\{q_2\\}$\n",
    "   - Combinando os resultados, temos $\\underline{\\delta}(\\{q_0, q_2\\}, '1') = \\{q_0, q_1, q_2\\}$.\n",
    "\n",
    "**Conclusão**\n",
    "\n",
    "O conjunto final de estados após processar \"101\" é $\\{q_0, q_1, q_2\\}$. Desde que $q_2$ está incluído no conjunto final e é um estado final, a palavra \"101\" é aceita pelo AFN.\n"
   ]
  },
  {
   "cell_type": "markdown",
   "metadata": {},
   "source": [
    "### Exemplo 3 - Passo a Passo da Função Programa Estendida de um AFN"
   ]
  },
  {
   "cell_type": "markdown",
   "metadata": {},
   "source": [
    "Considere o seguinte AFN $M = (\\Sigma, Q, \\delta, q_0, F)$:\n",
    "\n",
    "- $\\Sigma = \\{a, b, c\\}$: um alfabeto com três símbolos.\n",
    "- $Q = \\{q_0, q_1, q_2, q_3, q_4\\}$: conjunto de cinco estados.\n",
    "- $\\delta$: função de transição definida como:\n",
    "  - $\\delta(q_0, a) = \\{q_1\\}$\n",
    "  - $\\delta(q_0, b) = \\{q_2\\}$\n",
    "  - $\\delta(q_1, a) = \\{q_2\\}$\n",
    "  - $\\delta(q_1, b) = \\{q_3\\}$\n",
    "  - $\\delta(q_1, c) = \\{q_1, q_4\\}$\n",
    "  - $\\delta(q_2, a) = \\{q_0\\}$\n",
    "  - $\\delta(q_2, b) = \\{q_4\\}$\n",
    "  - $\\delta(q_3, c) = \\{q_2, q_3\\}$\n",
    "  - $\\delta(q_4, a) = \\{q_3\\}$\n",
    "  - $\\delta(q_4, b) = \\{q_2\\}$\n",
    "- $q_0$: estado inicial.\n",
    "- $F = \\{q_4\\}$: conjunto de estados finais.\n",
    "\n",
    "**Processando a palavra \"abcab\" usando $\\underline{\\delta}$**\n",
    "\n",
    "Vamos calcular $\\underline{\\delta}$ passo a passo para a palavra \"abcab\" começando do estado inicial $q_0$.\n",
    "\n",
    "1. **Passo 1: Processar o primeiro símbolo 'a'**\n",
    "   - Inicialmente, $P = \\{q_0\\}$.\n",
    "   - Aplicamos $\\delta(q_0, a)$:\n",
    "     - $\\delta(q_0, a) = \\{q_1\\}$\n",
    "   - Assim, $\\underline{\\delta}(\\{q_0\\}, 'a') = \\{q_1\\}$.\n",
    "\n",
    "2. **Passo 2: Processar o segundo símbolo 'b'**\n",
    "   - Agora, $P = \\{q_1\\}$.\n",
    "   - Aplicamos $\\delta$ para cada estado em $P$ com o símbolo 'b':\n",
    "     - $\\delta(q_1, b) = \\{q_3\\}$\n",
    "   - Com isso, $\\underline{\\delta}(\\{q_1\\}, 'b') = \\{q_3\\}$.\n",
    "\n",
    "3. **Passo 3: Processar o terceiro símbolo 'c'**\n",
    "   - Agora, $P = \\{q_3\\}$.\n",
    "   - Aplicamos $\\delta$ para cada estado em $P$ com o símbolo 'c':\n",
    "     - $\\delta(q_3, c) = \\{q_2, q_3\\}$\n",
    "   - Assim, $\\underline{\\delta}(\\{q_3\\}, 'c') = \\{q_2, q_3\\}$.\n",
    "\n",
    "4. **Passo 4: Processar o quarto símbolo 'a'**\n",
    "   - Agora, $P = \\{q_2, q_3\\}$.\n",
    "   - Aplicamos $\\delta$ para cada estado em $P$ com o símbolo 'a':\n",
    "     - $\\delta(q_2, a) = \\{q_0\\}$\n",
    "     - Não há transição definida de $q_3$ com 'a'.\n",
    "   - Resultando em, $\\underline{\\delta}(\\{q_2, q_3\\}, 'a') = \\{q_0\\}$.\n",
    "\n",
    "5. **Passo 5: Processar o quinto símbolo 'b'**\n",
    "   - Agora, $P = \\{q_0\\}$.\n",
    "   - Aplicamos $\\delta$ para cada estado em $P$ com o símbolo 'b':\n",
    "     - $\\delta(q_0, b) = \\{q_2\\}$\n",
    "   - Portanto, $\\underline{\\delta}(\\{q_0\\}, 'b') = \\{q_2\\}$.\n",
    "\n",
    "**Conclusão**\n",
    "\n",
    "Após processar \"abcab\", o conjunto final de estados é $\\{q_2\\}$. Como $q_2$ não está incluído no conjunto de estados finais $F = \\{q_4\\}$, a palavra \"abcab\" não é aceita pelo AFN.\n"
   ]
  },
  {
   "cell_type": "markdown",
   "metadata": {},
   "source": [
    "## Linguagens Aceitas e Rejeitadas por um AFN"
   ]
  },
  {
   "cell_type": "markdown",
   "metadata": {},
   "source": [
    "Quando tratamos de Autômatos Finitos Não-determinísticos (AFNs), as definições de linguagens aceitas e rejeitadas são cruciais para entender como esses autômatos classificam e reconhecem sequências de entrada.\n",
    "\n",
    "**Definição de Linguagem Aceita**\n",
    "\n",
    "A linguagem aceita por um AFN $M = (\\Sigma, Q, \\delta, q_0, F)$, denotada por $ACEITA(M)$ ou $L(M)$, é definida como o conjunto de todas as palavras sobre o alfabeto $\\Sigma^*$ que são aceitas pelo autômato. Formalmente, uma palavra $w$ é aceita se existe pelo menos um caminho a partir do estado inicial $q_0$ que, após processar $w$, termina em algum estado final em $F$:\n",
    "\n",
    "$$\n",
    "ACEITA(M) = \\{w \\mid \\text{existe } q \\in \\underline{\\delta}(\\{q_0\\}, w) \\text{ tal que } q \\in F\\}\n",
    "$$\n",
    "\n",
    "Esta definição implica que para uma palavra ser aceita, basta que haja ao menos uma sequência de transições válidas, a partir do estado inicial, que consuma todos os símbolos da palavra e alcance um estado final.\n",
    "\n",
    "**Definição de Linguagem Rejeitada**\n",
    "\n",
    "Analogamente, $REJEITA(M)$ é definida como o conjunto de todas as palavras do alfabeto $\\Sigma^*$ que são rejeitadas pelo AFN. Uma palavra é rejeitada se todos os caminhos possíveis a partir do estado inicial, após processar a palavra, não terminam em um estado final:\n",
    "\n",
    "$$\n",
    "REJEITA(M) = \\{w \\mid \\text{nenhum } q \\in \\underline{\\delta}(\\{q_0\\}, w) \\text{ está em } F\\}\n",
    "$$\n",
    "\n",
    "**Exemplo Ilustrativo**\n",
    "\n",
    "Considere um AFN $M = (\\Sigma, Q, \\delta, q_0, F)$ com:\n",
    "\n",
    "- $\\Sigma = \\{a, b, c\\}$\n",
    "- $Q = \\{q_0, q_1, q_2, q_3, q_4\\}$\n",
    "- $\\delta$: função de transição definida como:\n",
    "  - $\\delta(q_0, a) = \\{q_1\\}$\n",
    "  - $\\delta(q_0, b) = \\{q_2\\}$\n",
    "  - $\\delta(q_1, a) = \\{q_2\\}$\n",
    "  - $\\delta(q_1, b) = \\{q_3\\}$\n",
    "  - $\\delta(q_1, c) = \\{q_1, q_4\\}$\n",
    "  - $\\delta(q_2, a) = \\{q_0\\}$\n",
    "  - $\\delta(q_2, b) = \\{q_4\\}$\n",
    "  - $\\delta(q_3, c) = \\{q_2, q_3\\}$\n",
    "  - $\\delta(q_4, a) = \\{q_3\\}$\n",
    "  - $\\delta(q_4, b) = \\{q_2\\}$\n",
    "- Estado inicial $q_0$\n",
    "- Conjunto de estados finais $F = \\{q_4\\}$\n",
    "\n",
    "### Palavra \"abac\"\n",
    "\n",
    "Vamos calcular $\\underline{\\delta}$ passo a passo para a palavra \"abac\" começando do estado inicial $q_0$:\n",
    "\n",
    "1. **Passo 1: Processar 'a'**\n",
    "   - Partindo de $q_0$, $\\underline{\\delta}(\\{q_0\\}, 'a') = \\delta(q_0, 'a') = \\{q_1\\}$\n",
    "\n",
    "2. **Passo 2: Processar 'b'**\n",
    "   - De $q_1$, $\\underline{\\delta}(\\{q_1\\}, 'b') = \\delta(q_1, 'b') = \\{q_3\\}$\n",
    "\n",
    "3. **Passo 3: Processar 'a'**\n",
    "   - De $q_3$, $\\underline{\\delta}(\\{q_3\\}, 'a') = \\delta(q_3, 'a') = \\{\\}$ (nenhuma transição definida para 'a' de $q_3$)\n",
    "\n",
    "\n",
    "**Conclusão para 'abac':** A palavra é rejeitada, pois além de eu não finalizar a leitura dos símbolos o conjunto final de estados $\\{q_3\\}$ não está incluído em $F = \\{q_4\\}$\n",
    "\n",
    "Considere novamente nosso AFN com estados $\\{q_0, q_1, q_2, q_3, q_4\\}$ e alfabeto $\\{a, b, c\\}$. A palavra \"abac\" seria rejeitada, pois não existe um caminho a partir de $q_0$ que termina em $q_4$, um estado final. Em contrapartida, a palavra \"abcb\" seria aceita, pois existe um caminho a partir de $q_0 \\to q_1 \\to q_3 \\to q_2 \\to q_4$ que termina em $q_4$.\n",
    "\n",
    "Estas definições ajudam a estabelecer claramente quais sequências de entrada um AFN pode aceitar ou rejeitar, baseando-se na estrutura de seus estados e transições, e são essenciais para a análise e o design de autômatos para aplicações práticas."
   ]
  },
  {
   "cell_type": "markdown",
   "metadata": {},
   "source": [
    "### Exemplo 1 "
   ]
  },
  {
   "cell_type": "markdown",
   "metadata": {},
   "source": [
    "Considere a linguagem $L_5$, que inclui todas as palavras sobre o alfabeto $\\Sigma = \\{a, b\\}$ que possuem \"aa\" ou \"bb\" como subpalavra. Um autômato finito não-determinístico (AFN) que reconhece esta linguagem é definido como segue:\n",
    "\n",
    "- **Alfabeto**: $\\Sigma = \\{a, b\\}$\n",
    "- **Conjunto de estados**: $Q = \\{q_0, q_1, q_2, q_f\\}$\n",
    "- **Estado inicial**: $q_0$\n",
    "- **Conjunto de estados finais**: $F = \\{q_f\\}$\n",
    "- **Função de transição** $\\delta_5$: Definida pela tabela a seguir.\n",
    "\n",
    "**Tabela de Transições $\\delta_5$**\n",
    "\n",
    "| Estado Atual | Símbolo de Entrada | Estados Seguintes |\n",
    "|--------------|--------------------|-------------------|\n",
    "| $q_0$        | $a$                | $\\{q_1\\}$         |\n",
    "| $q_0$        | $b$                | $\\{q_2\\}$         |\n",
    "| $q_1$        | $a$                | $\\{q_f\\}$         |\n",
    "| $q_1$        | $b$                | $\\{q_2\\}$         |\n",
    "| $q_2$        | $a$                | $\\{q_1\\}$         |\n",
    "| $q_2$        | $b$                | $\\{q_f\\}$         |\n",
    "| $q_f$        | $a$                | $\\{q_f\\}$         |\n",
    "| $q_f$        | $b$                | $\\{q_f\\}$         |\n",
    "\n",
    "\n",
    "Esta tabela mostra como o autômato transita entre os estados dependendo do símbolo de entrada. Por exemplo, se o autômato está no estado $q_0$ e lê o símbolo 'a', ele transita para o estado $q_1$. Se estiver no estado $q_1$ e ler outro 'a', ele alcança o estado final $q_f$, indicando que a palavra contém \"aa\" como subpalavra.\n",
    "\n",
    "**Como o Autômato Funciona**\n",
    "\n",
    "- Partindo de $q_0$, o autômato transita para $q_1$ com a entrada 'a' ou para $q_2$ com a entrada 'b'.\n",
    "- Em $q_1$, uma subsequente entrada 'a' leva a $q_f$, reconhecendo a subpalavra \"aa\".\n",
    "- Em $q_2$, uma subsequente entrada 'b' também leva a $q_f$, reconhecendo a subpalavra \"bb\".\n",
    "- Uma vez em $q_f$, o autômato permanece neste estado com qualquer entrada subsequente, refletindo que uma subpalavra válida foi encontrada e a palavra é aceita.\n",
    "\n",
    "Este AFN efetivamente reconhece qualquer palavra que contenha as subpalavras \"aa\" ou \"bb\" e permanece no estado de aceitação uma vez que uma dessas condições é satisfeita."
   ]
  },
  {
   "cell_type": "markdown",
   "metadata": {},
   "source": [
    "### Exemplo 2"
   ]
  },
  {
   "cell_type": "markdown",
   "metadata": {},
   "source": [
    "**Tabela de Transições Corrigida para o Autômato**\n",
    "\n",
    "| Estado \\ Símbolo | a       | b       |\n",
    "|------------------|---------|---------|\n",
    "| $q_0$            | $q_0, q_1$ | $q_0, q_2$ |\n",
    "| $q_1$            | $q_f$     | -       |\n",
    "| $q_2$            | -       | $q_f$     |\n",
    "| $q_f$            | $q_f$     | $q_f$     |\n",
    "\n",
    "**Descrição das Transições**\n",
    "\n",
    "- **$q_0$**: \n",
    "  - Lendo 'a': Permanece em $q_0$ e também pode transitar para $q_1$.\n",
    "  - Lendo 'b': Permanece em $q_0$ e também pode transitar para $q_2$.\n",
    "- **$q_1$**: \n",
    "  - Lendo 'a': Transita para $q_f$, reconhecendo a sequência \"aa\".\n",
    "- **$q_2$**: \n",
    "  - Lendo 'b': Transita para $q_f$, reconhecendo a sequência \"bb\".\n",
    "- **$q_f$**: \n",
    "  - Lendo qualquer símbolo: Permanece em $q_f$, indicando que uma sequência válida foi encontrada e a palavra é aceita.\n",
    "\n",
    "Este autômato efetivamente verifica a presença de \"aa\" ou \"bb\" em qualquer posição dentro de uma palavra, uma vez que reconhece a primeira ocorrência de tais sequências e então permanece em um estado de aceitação.\n"
   ]
  },
  {
   "cell_type": "markdown",
   "metadata": {},
   "source": []
  },
  {
   "cell_type": "markdown",
   "metadata": {},
   "source": [
    "### Exemplo X - Autômato Finito Não-determinístico (AFN) para $\\{w \\mid w \\text{ possui 'aaa' como sufixo}\\}$"
   ]
  },
  {
   "cell_type": "markdown",
   "metadata": {},
   "source": [
    "Este AFN é projetado para aceitar strings que terminam especificamente com o sufixo \"aaa\". O AFN segue um padrão de transição que assegura a leitura deste sufixo ao final de qualquer sequência de entrada.\n",
    "\n",
    "**Definições Formais**\n",
    "\n",
    "- **Alfabeto**: $\\Sigma = \\{a, b\\}$\n",
    "- **Conjunto de estados**: $Q = \\{q_0, q_1, q_2, q_3\\}$\n",
    "- **Estado inicial**: $q_0$ (observe que $q_6$ mencionado parece ser um erro, ajustado para $q_0$)\n",
    "- **Conjunto de estados finais**: $F = \\{q_3\\}$\n",
    "- **Função de transição** $\\delta$: Definida como segue:\n",
    "\n",
    "**Tabela de Transições**\n",
    "\n",
    "| Estado | a     | b     |\n",
    "|--------|-------|-------|\n",
    "| q0     | q0, q1| q0    |\n",
    "| q1     | q2    | -     |\n",
    "| q2     | q3    | -     |\n",
    "| q3     | q3    | -     | (tirar a transição e corrigir a descrição)\n",
    "\n",
    "**Descrição das Transições**\n",
    "\n",
    "- **q0**: Estado inicial que aceita 'a' ou 'b'. Transita para si mesmo com 'b' para continuar aceitando qualquer caractere. Transita para q1 com 'a' para começar a verificar o sufixo \"aaa\".\n",
    "- **q1**: Após o primeiro 'a', espera por outro 'a' e transita para q2.\n",
    "- **q2**: Após o segundo 'a' consecutivo, espera por um terceiro 'a' e transita para q3.\n",
    "- **q3**: Estado final que, uma vez alcançado com o terceiro 'a', confirma que a string termina com \"aaa\". Qualquer 'a' subsequente mantém o estado em q3, enquanto 'b' não tem transição definida, significando que qualquer outro caractere finaliza a entrada invalidamente fora do sufixo \"aaa\".\n",
    "\n",
    "**Considerações**\n",
    "\n",
    "O autômato é desenhado para ser especialmente sensível ao final da entrada, assegurando que apenas as sequências terminando em \"aaa\" são aceitas. Qualquer desvio deste padrão específico resulta em uma rejeição da string."
   ]
  },
  {
   "cell_type": "markdown",
   "metadata": {},
   "source": [
    "### Exemplo 3 - Construa um AFD e um AFN que aceitem a linguagem {0, 1}∗1010"
   ]
  },
  {
   "cell_type": "markdown",
   "metadata": {},
   "source": [
    "#### AFD"
   ]
  },
  {
   "cell_type": "markdown",
   "metadata": {},
   "source": [
    "**Autômato Finito Determinístico (AFD) para a linguagem $\\{0, 1\\}^*1010$**\n",
    "\n",
    "O AFD será projetado para aceitar strings que terminam especificamente com a sequência \"1010\". Cada estado no AFD representa um progresso na sequência que estamos tentando reconhecer.\n",
    "\n",
    "**Estados e Transições do AFD**\n",
    "\n",
    "- **q0**: Estado inicial. Transita para q1 se '1' é lido; permanece em q0 se '0' é lido.\n",
    "- **q1**: Espera por '0' após o primeiro '1'. Transita para q2 se '0' é lido.\n",
    "- **q2**: Espera por '1' após \"10\". Transita para q3 se '1' é lido.\n",
    "- **q3**: Espera por '0' após \"101\". Transita para q4 se '0' é lido.\n",
    "- **q4**: Estado final. Capturou \"1010\".\n",
    "\n",
    "**Definições formais para o AFD que aceita strings que terminam com a sequência \"1010\":**\n",
    "\n",
    "- **Alfabeto**: $\\Sigma = \\{0, 1\\}$\n",
    "- **Conjunto de estados**: $Q = \\{q_0, q_1, q_2, q_3, q_4\\}$\n",
    "- **Estado inicial**: $q_0$\n",
    "- **Conjunto de estados finais**: $F = \\{q_4\\}$\n",
    "- **Função de transição** $\\delta$: Definida pela tabela a seguir.\n",
    "\n",
    "**Tabela de Transições**\n",
    "\n",
    "| Estado | 0    | 1    |\n",
    "|--------|------|------|\n",
    "| q0     | q0   | q1   |\n",
    "| q1     | q2   | q1   |\n",
    "| q2     | q2   | q3   |\n",
    "| q3     | q4   | q3   |\n",
    "| q4     |  \\-  |  \\-  |\n",
    "\n",
    "No AFD, uma vez que o estado q4 é alcançado, qualquer entrada subsequente ('0' ou '1') mantém o autômato nesse estado, indicando que a string foi aceita por terminar com \"1010\". (fazer correcoes)\n"
   ]
  },
  {
   "cell_type": "markdown",
   "metadata": {},
   "source": [
    "#### AFN"
   ]
  },
  {
   "cell_type": "markdown",
   "metadata": {},
   "source": [
    "**Autômato Finito Não-determinístico (AFN) para a linguagem $\\{0, 1\\}^*1010$**\n",
    "\n",
    "O AFN para a mesma linguagem pode ser construído de maneira mais flexível, utilizando a não-determinística para iniciar a sequência \"1010\" em qualquer ponto da leitura da string.\n",
    "\n",
    "**Estados e Transições do AFN**\n",
    "\n",
    "- **q0**: Estado inicial e também estado normal de leitura. Transita para q1 se '1' é lido e também volta para si mesmo se '0' ou '1' é lido, permitindo iniciar a sequência \"1010\" em qualquer ponto.\n",
    "- **q1**: Após ler o primeiro '1', espera por '0'. Transita para q2 se '0' é lido.\n",
    "- **q2**: Após \"10\", espera por '1'. Transita para q3 se '1' é lido.\n",
    "- **q3**: Após \"101\", espera por '0'. Transita para q4 se '0' é lido.\n",
    "- **q4**: Estado final que representa a aceitação da sequência \"1010\".\n",
    "\n",
    "**Definições formais para o AFN que aceita strings terminando com a sequência \"1010\":**\n",
    "\n",
    "- **Alfabeto**: $\\Sigma = \\{0, 1\\}$\n",
    "- **Conjunto de estados**: $Q = \\{q_0, q_1, q_2, q_3, q_4\\}$\n",
    "- **Estado inicial**: $q_0$\n",
    "- **Conjunto de estados finais**: $F = \\{q_4\\}$\n",
    "- **Função de transição** $\\delta$: Definida pela tabela a seguir.\n",
    "\n",
    "**Tabela de Transições**\n",
    "\n",
    "| Estado | 0      | 1      |\n",
    "|--------|--------|--------|\n",
    "| q0     | q0     | q0, q1 |\n",
    "| q1     | q2     | \\-     |\n",
    "| q2     | \\-     | q3     |\n",
    "| q3     | q4     | \\-     |\n",
    "| q4     | \\-     | \\-     |\n",
    "\n",
    "No AFN, o estado q0 é não-determinístico e permite a transição para o estado q1 em qualquer ponto onde um '1' é lido, iniciando a sequência \"1010\", enquanto continua lendo outras partes da string.\n"
   ]
  },
  {
   "cell_type": "markdown",
   "metadata": {},
   "source": [
    "### Exemplo 4 - Defina uma AFD e uma AFN que aceita strings onde o terceiro símbolo a partir da direita é '1'"
   ]
  },
  {
   "cell_type": "markdown",
   "metadata": {},
   "source": [
    "#### AFD"
   ]
  },
  {
   "cell_type": "markdown",
   "metadata": {},
   "source": [
    "Este AFD aceitará strings do alfabeto $\\{0,1\\}^*$ onde a terceira posição da direita para a esquerda é '1'.\n",
    "\n",
    "**Definições formais**\n",
    "- **Alfabeto**: $\\Sigma = \\{0, 1\\}$\n",
    "- **Conjunto de estados**: $Q = \\{q_0, q_1, q_{01}, q_{10}, q_{11}, q_{100}, q_{101}, q_{110}, q_{111}, q_f\\}$\n",
    "- **Estado inicial**: $q_0$\n",
    "- **Conjunto de estados finais**: $F = \\{q_{101}, q_{100}, q_{111}, q_{110}\\}$\n",
    "- **Função de transição** $\\delta$:\n",
    "\n",
    "**Tabela de Transições**\n",
    "\n",
    "| Estado | 0        | 1        |\n",
    "|--------|----------|----------|\n",
    "| q0     | q0       | q1       |\n",
    "| q1     | q_{10}   | q_{11}   |\n",
    "| q_{10} | q_{100}  | q_{101}  |\n",
    "| q_{11} | q_{110}  | q_{111}  |\n",
    "| q_{100}|  \\-      |  \\-      |\n",
    "| q_{101}|  \\-      |  \\-      |\n",
    "| q_{110}|  \\-      |  \\-      |\n",
    "| q_{111}|  \\-      |  \\-      |\n",
    "\n",
    "Este AFD move-se através dos estados à medida que lê cada dígito, armazenando os três últimos dígitos lidos. O estado final \\(q_f\\) é atingido e mantido uma vez que a string termina corretamente com o terceiro último dígito sendo '1'."
   ]
  },
  {
   "cell_type": "markdown",
   "metadata": {},
   "source": [
    "#### AFN"
   ]
  },
  {
   "cell_type": "markdown",
   "metadata": {},
   "source": [
    "Este AFN aceitará strings do alfabeto $\\{0,1\\}^*$ onde a terceira posição da direita para a esquerda é '1'.\n",
    "\n",
    "**Definições formais**\n",
    "- **Alfabeto**: $\\Sigma = \\{0, 1\\}$\n",
    "- **Conjunto de estados**: $Q = \\{q_0, q_1, q_2, q_3\\}$\n",
    "- **Estado inicial**: $q_0$\n",
    "- **Conjunto de estados finais**: $F = \\{q_3\\}$\n",
    "- **Função de transição** $\\delta$: Detalhada na tabela abaixo.\n",
    "\n",
    "**Tabela de Transições**\n",
    "\n",
    "| Estado | 0           | 1           |\n",
    "|--------|-------------|-------------|\n",
    "| q0     | q0, q1      | q1          |\n",
    "| q1     | q2          | q2          |\n",
    "| q2     | q3          | q3          |\n",
    "| q3     | -           | -           |\n",
    "\n",
    "**Descrição do Funcionamento**\n",
    "\n",
    "- **q0**: Estado inicial, transita para si mesmo com qualquer leitura ('0' ou '1'), iniciando a contagem ao ler '1' para q1. \n",
    "- **q1**: Este estado espera pelo próximo símbolo, transita para q2 com a leitura de '0' ou '1'.\n",
    "- **q2**: Transita para q3 com a leitura de '0' ou '1'.\n",
    "- **q3**: Estado final, não possui transições subsequentes, indicando que a sequência termina com '1' como o terceiro último símbolo.\n",
    "\n",
    "Este AFN começa a monitorar a entrada para uma possível sequência terminando com '1' no terceiro último lugar a partir do momento em que '1' é lido em q0. Após entrar em q1 e q2, ele verifica se o terceiro símbolo (em q3) é '1', confirmando a aceitação da string. Uma vez em q3, nenhuma entrada adicional altera o estado, o que satisfaz a condição da linguagem definida."
   ]
  },
  {
   "cell_type": "markdown",
   "metadata": {},
   "source": []
  },
  {
   "cell_type": "markdown",
   "metadata": {},
   "source": [
    "## Slide 43 - Equivalência de AFNs e AFDs"
   ]
  },
  {
   "cell_type": "markdown",
   "metadata": {},
   "source": [
    "Autômatos Finitos Não-determinísticos têm a capacidade de \"escolher\" entre múltiplas transições possíveis sem especificar qual caminho seguir.  \n",
    "**Vantagens:**  \n",
    "- Simplicidade de design\n",
    "    - construção\n",
    "    - aprendizagem\n",
    "    - entendimento\n",
    "- Paralelizar os caminhos possíveis de um AFN\n",
    "    - eficiência          \n",
    "    \n",
    "**Desvantagens:**  \n",
    "- Implementação\n",
    "    - complexidade\n",
    "    - concorrência\n",
    "\n",
    "Na prática, essa eficiência depende da capacidade de implementar esse paralelismo efetivamente. Em sistemas onde o paralelismo é limitado ou a sobrecarga de gerenciar múltiplos caminhos paralelos é significativa, a conversão de um AFN para um AFD pode resultar em uma implementação mais simples e, potencialmente, mais rápida, devido à natureza determinística dos AFDs, que seguem um único caminho de estados para cada cadeia de entrada\n"
   ]
  },
  {
   "cell_type": "markdown",
   "metadata": {},
   "source": [
    "Esta aula aborda como converter um Autômato Finito Não-determinístico (AFN) para um Autômato Finito Determinístico (AFD) usando o método de construção de subconjuntos. O processo permite que AFNs sejam convertidos para AFDs equivalentes que aceitam a mesma linguagem.\n",
    "\n",
    "**Definições Iniciais**\n",
    "\n",
    "- **AFN** $M = (\\Sigma, Q, \\delta, q_0, F)$\n",
    "  - $\\Sigma$: alfabeto de entrada\n",
    "  - $Q$: conjunto de estados do AFN\n",
    "  - $\\delta$: função de transição do AFN\n",
    "  - $q_0$: estado inicial do AFN\n",
    "  - $F$: conjunto de estados finais do AFN\n",
    "\n",
    "- **AFD Convertido** $M' = (\\Sigma, Q', \\delta', \\langle q_0 \\rangle, F')$\n",
    "  - $\\Sigma$: mesmo alfabeto de entrada\n",
    "  - $Q'$: conjunto de todas as combinações dos estados de $Q$\n",
    "  - $\\delta'$: função de transição do AFD\n",
    "  - $\\langle q_0 \\rangle$: estado inicial do AFD\n",
    "  - $F'$: conjunto de estados finais do AFD\n",
    "\n",
    "**Processo de Conversão**\n",
    "\n",
    "1. **Conjunto de Estados $Q'$**: Cada estado em $Q'$ é um conjunto de estados de $Q$, representando todas as possíveis combinações de estados que o AFN pode alcançar em um dado momento. Estados são denotados como $\\langle q_1q_2...q_n \\rangle$, onde cada $q_i$ é um estado de $Q$.\n",
    "\n",
    "2. **Função de Transição $\\delta'$**: Para cada estado combinado $\\langle q_1...q_n \\rangle$ e cada símbolo $a \\in \\Sigma$, $\\delta'(\\langle q_1...q_n \\rangle, a)$ é calculado tomando a união de $\\delta(q_i, a)$ para cada $i$. Isso resulta em um novo conjunto de estados que o AFD pode alcançar a partir do conjunto atual no símbolo lido.\n",
    "\n",
    "3. **Estado Inicial $\\langle q_0 \\rangle$**: O estado inicial do AFD é o conjunto que contém apenas o estado inicial do AFN.\n",
    "\n",
    "4. **Conjunto de Estados Finais $F'$**: Um estado combinado $\\langle q_1...q_n \\rangle$ pertence a $F'$ se pelo menos um dos $q_i$ é um estado final em $F$.  \n",
    "  \n",
    "**Exemplo Prático**\n",
    "\n",
    "Suponha um AFN simples $M$ com:\n",
    "- Estados: $\\{q_0, q_1, q_2\\}$\n",
    "- Alfabeto: $\\{a, b\\}$\n",
    "- Transições:\n",
    "  - $\\delta(q_0, a) = \\{q_0, q_1\\}$\n",
    "  - $\\delta(q_0, b) = \\{q_0, q_2\\}$\n",
    "  - $\\delta(q_1, a) = \\{q_2\\}$\n",
    "  - $\\delta(q_1, b) = \\{q_1\\}$\n",
    "  - $\\delta(q_2, a) = \\{q_1\\}$\n",
    "  - $\\delta(q_2, b) = \\{q_2\\}$\n",
    "- Estado inicial: $q_0$\n",
    "- Estados finais: $\\{q_2\\}$\n",
    "\n",
    "Vamos converter este AFN para um AFD usando o método de construção de subconjuntos.\n",
    "\n",
    "### Passo a Passo da Conversão\n",
    "\n",
    "1. **Identificar o estado inicial do AFD**:\n",
    "   - O estado inicial do AFD é $\\langle q_0 \\rangle$.\n",
    "\n",
    "2. **Calcular as transições para cada símbolo a partir de $\\langle q_0 \\rangle$**:\n",
    "   - $\\delta'(\\langle q_0 \\rangle, a) = \\langle q_0, q_1 \\rangle$ (porque $\\delta(q_0, a) = \\{q_0, q_1\\}$)\n",
    "   - $\\delta'(\\langle q_0 \\rangle, b) = \\langle q_0, q_2 \\rangle$ (porque $\\delta(q_0, b) = \\{q_0, q_2\\}$)\n",
    "\n",
    "3. **Calcular as transições para cada novo estado combinado**:\n",
    "   - $\\delta'(\\langle q_0, q_1 \\rangle, a) = \\langle q_0, q_1, q_2 \\rangle$ (porque $\\delta(q_0, a) = \\{q_0, q_1\\}$ e $\\delta(q_1, a) = \\{q_2\\}$)\n",
    "   - $\\delta'(\\langle q_0, q_1 \\rangle, b) = \\langle q_0, q_1, q_2 \\rangle$ (porque $\\delta(q_0, b) = \\{q_0, q_2\\}$ e $\\delta(q_1, b) = \\{q_1\\}$)\n",
    "   - $\\delta'(\\langle q_0, q_2 \\rangle, a) = \\langle q_0, q_1 \\rangle$ (porque $\\delta(q_0, a) = \\{q_0, q_1\\}$ e $\\delta(q_2, a) = \\{q_1\\}$)\n",
    "   - $\\delta'(\\langle q_0, q_2 \\rangle, b) = \\langle q_0, q_2 \\rangle$ (porque $\\delta(q_0, b) = \\{q_0, q_2\\}$ e $\\delta(q_2, b) = \\{q_2\\}$)\n",
    "   - $\\delta'(\\langle q_1, q_2 \\rangle, a) = \\langle q_1, q_2 \\rangle$ (porque $\\delta(q_1, a) = \\{q_2\\}$ e $\\delta(q_2, a) = \\{q_1\\}$)\n",
    "   - $\\delta'(\\langle q_1, q_2 \\rangle, b) = \\langle q_1, q_2 \\rangle$ (porque $\\delta(q_1, b) = \\{q_1\\}$ e $\\delta(q_2, b) = \\{q_2\\}$)\n",
    "\n",
    "4. **Construir a tabela de transições do AFD**:\n",
    "\n",
    "| Estado                   | a                       | b                       |\n",
    "|--------------------------|-------------------------|-------------------------|\n",
    "| $\\langle q_0 \\rangle$    | $\\langle q_0, q_1 \\rangle$ | $\\langle q_0, q_2 \\rangle$ |\n",
    "| $\\langle q_0, q_1 \\rangle$ | $\\langle q_0, q_1, q_2 \\rangle$ | $\\langle q_0, q_1, q_2 \\rangle$ |\n",
    "| $\\langle q_0, q_2 \\rangle$ | $\\langle q_0, q_1 \\rangle$ | $\\langle q_0, q_2 \\rangle$ |\n",
    "| $\\langle q_0, q_1, q_2 \\rangle$ | $\\langle q_0, q_1, q_2 \\rangle$ | $\\langle q_0, q_1, q_2 \\rangle$ |\n",
    "| $\\langle q_1, q_2 \\rangle$ | $\\langle q_1, q_2 \\rangle$ | $\\langle q_1, q_2 \\rangle$ |\n",
    "\n",
    "5. **Definir os estados finais do AFD**:\n",
    "   - Os estados finais do AFD são aqueles que contêm pelo menos um estado final do AFN. Portanto, os estados finais do AFD são:\n",
    "     - $\\langle q_0, q_2 \\rangle$\n",
    "     - $\\langle q_0, q_1, q_2 \\rangle$\n",
    "     - $\\langle q_1, q_2 \\rangle$"
   ]
  },
  {
   "cell_type": "code",
   "execution_count": 1,
   "metadata": {},
   "outputs": [
    {
     "data": {
      "text/plain": [
       "'afd_diagram.png'"
      ]
     },
     "execution_count": 1,
     "metadata": {},
     "output_type": "execute_result"
    }
   ],
   "source": [
    "## Diagrama de Estados do AFD\n",
    "\n",
    "\n",
    "# Importando a biblioteca necessária\n",
    "import graphviz\n",
    "\n",
    "# Criando um objeto Digraph\n",
    "dot = graphviz.Digraph()\n",
    "\n",
    "# Adicionando os estados\n",
    "states = ['q0', 'q0q1', 'q0q2', 'q0q1q2', 'q1q2']\n",
    "final_states = ['q0q2', 'q0q1q2', 'q1q2']\n",
    "for state in states:\n",
    "    if state in final_states:\n",
    "        dot.node(state, state, shape='doublecircle')\n",
    "    else:\n",
    "        dot.node(state, state, shape='circle')\n",
    "\n",
    "# Adicionando as transições\n",
    "transitions = {\n",
    "    'q0': {'a': 'q0q1', 'b': 'q0q2'},\n",
    "    'q0q1': {'a': 'q0q1q2', 'b': 'q0q1q2'},\n",
    "    'q0q2': {'a': 'q0q1', 'b': 'q0q2'},\n",
    "    'q0q1q2': {'a': 'q0q1q2', 'b': 'q0q1q2'},\n",
    "    'q1q2': {'a': 'q1q2', 'b': 'q1q2'},\n",
    "}\n",
    "\n",
    "for state, paths in transitions.items():\n",
    "    for symbol, target in paths.items():\n",
    "        dot.edge(state, target, label=symbol)\n",
    "\n",
    "# Visualizando o diagrama\n",
    "dot.render('afd_diagram', format='png', view=True)\n"
   ]
  },
  {
   "cell_type": "code",
   "execution_count": 2,
   "metadata": {},
   "outputs": [
    {
     "data": {
      "text/plain": [
       "'afn_diagram.png'"
      ]
     },
     "execution_count": 2,
     "metadata": {},
     "output_type": "execute_result"
    }
   ],
   "source": [
    "## Diagrama de Estados do AFN\n",
    "\n",
    "# Importando a biblioteca necessária\n",
    "import graphviz\n",
    "\n",
    "# Criando um objeto Digraph\n",
    "dot = graphviz.Digraph()\n",
    "\n",
    "# Adicionando os estados\n",
    "states = ['q0', 'q1', 'q2']\n",
    "final_states = ['q2']\n",
    "for state in states:\n",
    "    if state in final_states:\n",
    "        dot.node(state, state, shape='doublecircle')\n",
    "    else:\n",
    "        dot.node(state, state, shape='circle')\n",
    "\n",
    "# Adicionando as transições\n",
    "transitions = {\n",
    "    'q0': {'a': ['q0', 'q1'], 'b': ['q0', 'q2']},\n",
    "    'q1': {'a': ['q2'], 'b': ['q1']},\n",
    "    'q2': {'a': ['q1'], 'b': ['q2']},\n",
    "}\n",
    "\n",
    "for state, paths in transitions.items():\n",
    "    for symbol, targets in paths.items():\n",
    "        for target in targets:\n",
    "            dot.edge(state, target, label=symbol)\n",
    "\n",
    "# Visualizando o diagrama\n",
    "dot.render('afn_diagram', format='png', view=True)\n"
   ]
  },
  {
   "cell_type": "markdown",
   "metadata": {},
   "source": [
    "### Exercício 1"
   ]
  },
  {
   "cell_type": "markdown",
   "metadata": {},
   "source": [
    "**Definições do AFN $M$**\n",
    "\n",
    "- **Estados**: $\\{q_0, q_1, q_2, q_f\\}$\n",
    "- **Alfabeto**: $\\{a, b\\}$\n",
    "- **Transições**:\n",
    "  - $\\delta(q_0, a) = \\{q_0, q_1\\}$\n",
    "  - $\\delta(q_0, b) = \\{q_0\\}$\n",
    "  - $\\delta(q_1, a) = \\{q_2\\}$\n",
    "  - $\\delta(q_2, a) = \\{q_f\\}$\n",
    "- **Estado inicial**: $q_0$\n",
    "- **Estado final**: $q_f$\n",
    "\n",
    "Vamos gerar o diagrama do AFN usando a biblioteca `graphviz`."
   ]
  },
  {
   "cell_type": "code",
   "execution_count": 1,
   "metadata": {},
   "outputs": [
    {
     "data": {
      "text/plain": [
       "'afn_diagram2.png'"
      ]
     },
     "execution_count": 1,
     "metadata": {},
     "output_type": "execute_result"
    }
   ],
   "source": [
    "# Importando a biblioteca necessária\n",
    "import graphviz\n",
    "\n",
    "# Criando um objeto Digraph\n",
    "dot = graphviz.Digraph()\n",
    "\n",
    "# Adicionando os estados\n",
    "states = ['q0', 'q1', 'q2', 'qf']\n",
    "final_states = ['qf']\n",
    "for state in states:\n",
    "    if state in final_states:\n",
    "        dot.node(state, state, shape='doublecircle')\n",
    "    else:\n",
    "        dot.node(state, state, shape='circle')\n",
    "\n",
    "# Adicionando as transições\n",
    "transitions = {\n",
    "    'q0': {'a': ['q0', 'q1'], 'b': ['q0']},\n",
    "    'q1': {'a': ['q2']},\n",
    "    'q2': {'a': ['qf']},\n",
    "}\n",
    "\n",
    "for state, paths in transitions.items():\n",
    "    for symbol, targets in paths.items():\n",
    "        for target in targets:\n",
    "            dot.edge(state, target, label=symbol)\n",
    "\n",
    "# Visualizando o diagrama\n",
    "dot.render('afn_diagram2', format='png', view=True)"
   ]
  },
  {
   "cell_type": "markdown",
   "metadata": {},
   "source": [
    "**Definições do AFD $M$**\n",
    "\n",
    "- **Estados**: $Q' = \\{\\langle q_0 \\rangle, \\langle q_0, q_1 \\rangle, \\langle q_0, q_2 \\rangle, \\langle q_0, q_1, q_2 \\rangle, \\langle q_0, q_1, q_2, q_f \\rangle\\}$\n",
    "- **Alfabeto**: $\\{a, b\\}$\n",
    "- **Transições**:\n",
    "\n",
    "| Estado                         | a                                   | b                  |\n",
    "|--------------------------------|-------------------------------------|--------------------|\n",
    "| $\\langle q_0 \\rangle$          | $\\langle q_0, q_1 \\rangle$          | $\\langle q_0 \\rangle$  |\n",
    "| $\\langle q_0, q_1 \\rangle$     | $\\langle q_0, q_1, q_2 \\rangle$     | $\\langle q_0 \\rangle$  |\n",
    "| $\\langle q_0, q_1, q_2 \\rangle$| $\\langle q_0, q_1, q_2, q_f \\rangle$| $\\langle q_0 \\rangle$  |\n",
    "| $\\langle q_0, q_1, q_2, q_f \\rangle$| $\\langle q_0, q_1, q_2, q_f \\rangle$| $\\langle q_0 \\rangle$  |\n",
    "\n",
    "- **Estado inicial**: $\\langle q_0 \\rangle$\n",
    "- **Estados finais**: $F' = \\{\\langle q_0, q_1, q_2, q_f \\rangle\\}$  "
   ]
  },
  {
   "cell_type": "code",
   "execution_count": 2,
   "metadata": {},
   "outputs": [
    {
     "data": {
      "text/plain": [
       "'afd_diagram2.png'"
      ]
     },
     "execution_count": 2,
     "metadata": {},
     "output_type": "execute_result"
    }
   ],
   "source": [
    "# Importando a biblioteca necessária\n",
    "import graphviz\n",
    "\n",
    "# Criando um objeto Digraph\n",
    "dot = graphviz.Digraph()\n",
    "\n",
    "# Adicionando os estados\n",
    "states = ['q0', 'q0q1', 'q0q1q2', 'q0q1q2qf']\n",
    "final_states = ['q0q1q2qf']\n",
    "for state in states:\n",
    "    if state in final_states:\n",
    "        dot.node(state, state, shape='doublecircle')\n",
    "    else:\n",
    "        dot.node(state, state, shape='circle')\n",
    "\n",
    "# Adicionando as transições\n",
    "transitions = {\n",
    "    'q0': {'a': 'q0q1', 'b': 'q0'},\n",
    "    'q0q1': {'a': 'q0q1q2', 'b': 'q0'},\n",
    "    'q0q1q2': {'a': 'q0q1q2qf', 'b': 'q0'},\n",
    "    'q0q1q2qf': {'a': 'q0q1q2qf', 'b': 'q0'},\n",
    "}\n",
    "\n",
    "for state, paths in transitions.items():\n",
    "    for symbol, target in paths.items():\n",
    "        dot.edge(state, target, label=symbol)\n",
    "\n",
    "# Visualizando o diagrama\n",
    "dot.render('afd_diagram2', format='png', view=True)"
   ]
  },
  {
   "cell_type": "markdown",
   "metadata": {},
   "source": [
    "### Exercício 2 - Exemplos de Processamento de Cadeias"
   ]
  },
  {
   "cell_type": "markdown",
   "metadata": {},
   "source": [
    "\n",
    "1. **Processamento da cadeia \"aabb\"**:\n",
    "\n",
    "   - Estado Inicial: $\\langle q_0 \\rangle$\n",
    "   - Lê 'a': $\\langle q_0 \\rangle \\rightarrow \\langle q_0, q_1 \\rangle$\n",
    "   - Lê 'a': $\\langle q_0, q_1 \\rangle \\rightarrow \\langle q_0, q_1, q_2 \\rangle$\n",
    "   - Lê 'b': $\\langle q_0, q_1, q_2 \\rangle \\rightarrow \\langle q_0 \\rangle$\n",
    "   - Lê 'b': $\\langle q_0 \\rangle \\rightarrow \\langle q_0 \\rangle$\n",
    "   \n",
    "   Estado Final: $\\langle q_0 \\rangle$ (não aceito, pois não é um estado final)\n",
    "\n",
    "2. **Processamento da cadeia \"aa\"**:\n",
    "\n",
    "   - Estado Inicial: $\\langle q_0 \\rangle$\n",
    "   - Lê 'a': $\\langle q_0 \\rangle \\rightarrow \\langle q_0, q_1 \\rangle$\n",
    "   - Lê 'a': $\\langle q_0, q_1 \\rangle \\rightarrow \\langle q_0, q_1, q_2 \\rangle$\n",
    "   \n",
    "   Estado Final: $\\langle q_0, q_1, q_2 \\rangle$ (não aceito, pois não é um estado final)\n",
    "\n",
    "3. **Processamento da cadeia \"aaab\"**:\n",
    "\n",
    "   - Estado Inicial: $\\langle q_0 \\rangle$\n",
    "   - Lê 'a': $\\langle q_0 \\rangle \\rightarrow \\langle q_0, q_1 \\rangle$\n",
    "   - Lê 'a': $\\langle q_0, q_1 \\rangle \\rightarrow \\langle q_0, q_1, q_2 \\rangle$\n",
    "   - Lê 'a': $\\langle q_0, q_1, q_2 \\rangle \\rightarrow \\langle q_0, q_1, q_2, q_f \\rangle$\n",
    "   - Lê 'b': $\\langle q_0, q_1, q_2, q_f \\rangle \\rightarrow \\langle q_0 \\rangle$\n",
    "\n",
    "   Estado Final: $\\langle q_0 \\rangle$ (não aceito, pois não é um estado final)\n",
    "\n",
    "4. **Processamento da cadeia \"aaa\"**:\n",
    "\n",
    "   - Estado Inicial: $\\langle q_0 \\rangle$\n",
    "   - Lê 'a': $\\langle q_0 \\rangle \\rightarrow \\langle q_0, q_1 \\rangle$\n",
    "   - Lê 'a': $\\langle q_0, q_1 \\rangle \\rightarrow \\langle q_0, q_1, q_2 \\rangle$\n",
    "   - Lê 'a': $\\langle q_0, q_1, q_2 \\rangle \\rightarrow \\langle q_0, q_1, q_2, q_f \\rangle$\n",
    "   \n",
    "   Estado Final: $\\langle q_0, q_1, q_2, q_f \\rangle$ (aceito, pois é um estado final)\n",
    "\n",
    "---\n",
    "\n",
    "**Observações**\n",
    "\n",
    "- O autômato finito não determinístico (AFN) pode estar em vários estados ao mesmo tempo devido às transições não determinísticas.\n",
    "- A cadeia é aceita se ao final do processamento ela estiver em pelo menos um estado que pertença ao conjunto de estados finais $F'$.\n",
    "- Neste exemplo, os estados finais contêm o estado $q_f$.\n",
    "- No processamento da cadeia \"aaa\", o autômato termina no estado $\\langle q_0, q_1, q_2, q_f \\rangle$, que é um estado final, portanto a cadeia é aceita.\n",
    "- A cadeia é aceita se, ao final do processamento, o autômato estiver em pelo menos um estado que pertença ao conjunto de estados finais $F'$."
   ]
  },
  {
   "cell_type": "markdown",
   "metadata": {},
   "source": [
    "### Exemplo 3: AFN para AFD"
   ]
  },
  {
   "cell_type": "markdown",
   "metadata": {},
   "source": [
    "1. **AFN dado:**\n",
    "\n",
    "   - Conjunto de estados: $\\{q_0, q_1, q_f\\}$\n",
    "   - Alfabeto: $\\{0, 1\\}$\n",
    "   - Função de transição $\\delta$:\n",
    "     - $\\delta(q_0, 0) = \\{q_0, q_f\\}$\n",
    "     - $\\delta(q_f, 0) = \\{q_1\\}$\n",
    "     - $\\delta(q_1, 1) = \\{q_1\\}$\n",
    "     - $\\delta(q_0, 1) = \\{q_f\\}$\n",
    "     - $\\delta(q_f, 1) = \\{q_1\\}$\n",
    "   - Estado inicial: $q_0$\n",
    "   - Estado final: $\\{q_f\\}$\n",
    "\n",
    "2. **Construção do AFD correspondente:**\n",
    "\n",
    "   - Conjunto de estados do AFD: $Q' = \\{ \\{q_0\\}, \\{q_0, q_f\\}, \\{q_f\\}, \\{q_1\\}, \\{q_1, q_f\\}, \\{q_0, q_1, q_f\\} \\}$\n",
    "   - Estado inicial do AFD: $\\{q_0\\}$\n",
    "   - Estados finais do AFD: $\\{ \\{q_f\\}, \\{q_0, q_f\\}, \\{q_1, q_f\\}, \\{q_0, q_1, q_f\\} \\}$\n",
    "\n",
    "3. **Função de transição do AFD:**\n",
    "\n",
    "   | Estado              | 0                      | 1                      |\n",
    "   |---------------------|------------------------|------------------------|\n",
    "   | $\\{q_0\\}$           | $\\{q_0, q_f\\}$         | $\\{q_f\\}$              |\n",
    "   | $\\{q_0, q_f\\}$      | $\\{q_0, q_1, q_f\\}$    | $\\{q_1, q_f\\}$              |\n",
    "   | $\\{q_f\\}$           | $\\{q_1\\}$              | $\\{q_1\\}$              |\n",
    "   | $\\{q_1\\}$           | $\\emptyset$            | $\\{q_1\\}$              |\n",
    "   | $\\{q_1, q_f\\}$      | $\\{q_1\\}$              | $\\{q_1\\}$              |\n",
    "   | $\\{q_0, q_1, q_f\\}$ | $\\{q_0, q_1, q_f\\}$    | $\\{q_1, q_f\\}$              |\n",
    "\n",
    "---"
   ]
  },
  {
   "cell_type": "code",
   "execution_count": 30,
   "metadata": {},
   "outputs": [
    {
     "data": {
      "text/plain": [
       "'afn.png'"
      ]
     },
     "execution_count": 30,
     "metadata": {},
     "output_type": "execute_result"
    }
   ],
   "source": [
    "\n",
    "from graphviz import Digraph\n",
    "\n",
    "# Grafo do AFN\n",
    "afn = Digraph('AFN', filename='afn', format='png')\n",
    "afn.attr(rankdir='LR', size='8,5')\n",
    "\n",
    "# Estados\n",
    "afn.attr('node', shape='doublecircle')\n",
    "afn.node('q_f')\n",
    "afn.attr('node', shape='circle')\n",
    "afn.node('q_0')\n",
    "afn.node('q_1')\n",
    "\n",
    "# Transições\n",
    "afn.edge('q_0', 'q_0', label='0')\n",
    "afn.edge('q_0', 'q_f', label='0')\n",
    "afn.edge('q_0', 'q_f', label='1')\n",
    "afn.edge('q_f', 'q_1', label='0')\n",
    "afn.edge('q_f', 'q_1', label='1')\n",
    "afn.edge('q_1', 'q_1', label='1')\n",
    "\n",
    "afn.view()"
   ]
  },
  {
   "cell_type": "code",
   "execution_count": 28,
   "metadata": {},
   "outputs": [
    {
     "data": {
      "text/plain": [
       "'afd.png'"
      ]
     },
     "execution_count": 28,
     "metadata": {},
     "output_type": "execute_result"
    }
   ],
   "source": [
    "from graphviz import Digraph\n",
    "\n",
    "# Grafo do AFD\n",
    "afd = Digraph('AFD', filename='afd', format='png')\n",
    "afd.attr(rankdir='LR', size='8,5')\n",
    "\n",
    "# Estados\n",
    "afd.attr('node', shape='doublecircle')\n",
    "afd.node('q_f')\n",
    "afd.node('q_0_q_f')\n",
    "afd.node('q_1_q_f')\n",
    "afd.node('q_0_q_1_q_f')\n",
    "afd.attr('node', shape='circle')\n",
    "afd.node('q_0')\n",
    "afd.node('q_1')\n",
    "afd.node('empty')\n",
    "\n",
    "# Transições\n",
    "afd.edge('q_0', 'q_0_q_f', label='0')\n",
    "afd.edge('q_0', 'q_f', label='1')\n",
    "afd.edge('q_0_q_f', 'q_0_q_1_q_f', label='0')\n",
    "afd.edge('q_0_q_f', 'q_1_q_f', label='1')\n",
    "afd.edge('q_1', 'empty', label='0')\n",
    "afd.edge('q_1', 'q_1', label='1')\n",
    "afd.edge('q_f', 'q_1', label='0')\n",
    "afd.edge('q_f', 'q_1', label='1')\n",
    "afd.edge('q_1_q_f', 'q_1', label='0')\n",
    "afd.edge('q_1_q_f', 'q_1', label='1')\n",
    "afd.edge('q_0_q_1_q_f', 'q_0_q_1_q_f', label='0')\n",
    "afd.edge('q_0_q_1_q_f', 'q_1_q_f', label='1')\n",
    "\n",
    "afd.view()"
   ]
  },
  {
   "cell_type": "markdown",
   "metadata": {},
   "source": [
    "### Exemplo 4: AFN para AFD"
   ]
  },
  {
   "cell_type": "markdown",
   "metadata": {},
   "source": [
    "**Suponha um AFN simples $M$ com:** \n",
    "   - Conjunto de estados: $\\{q_0, q_1, q_2, q_3, q_f\\}$\n",
    "   - Alfabeto: $\\{0, 1\\}$\n",
    "   - Função de transição $\\delta$:\n",
    "     - $\\delta(q_0, 0) = \\{q_1\\}$\n",
    "     - $\\delta(q_1, 0) = \\{q_0\\}$\n",
    "     - $\\delta(q_2, 0) = \\{q_3\\}$\n",
    "     - $\\delta(q_3, 0) = \\{q_2\\}$\n",
    "     - $\\delta(q_0, 1) = \\{q_2, q_f\\}$\n",
    "     - $\\delta(q_1, 1) = \\{q_3, q_f\\}$\n",
    "     - $\\delta(q_2, 1) = \\{q_1, q_f\\}$\n",
    "     - $\\delta(q_3, 1) = \\{q_1, q_f\\}$\n",
    "   - Estado inicial: $q_0$\n",
    "   - Estado final: $\\{q_f\\}$\n",
    "\n",
    "Vamos converter este AFN para um AFD usando o método de construção de subconjuntos.\n",
    "1. **Identificar o estado inicial do AFD**:\n",
    "   - O estado inicial do AFD é $\\langle q_0 \\rangle$.\n",
    "\n",
    "2. **Calcular as transições para cada símbolo a partir de $\\langle q_0 \\rangle$**:\n",
    "   - $\\delta'(\\langle q_0 \\rangle, 0) = \\langle q_1 \\rangle$ (porque $\\delta(q_0, 0) = \\{q_1\\}$)\n",
    "   - $\\delta'(\\langle q_0 \\rangle, 1) = \\langle q_2, q_f \\rangle$ (porque $\\delta(q_0, 1) = \\{q_2, q_f\\}$)\n",
    "\n",
    "3. **Calcular as transições para cada novo estado combinado**:\n",
    "   - $\\delta'(\\langle q_1 \\rangle, 0) = \\langle q_0 \\rangle$ (porque $\\delta(q_1, 0) = \\{q_0\\}$)\n",
    "   - $\\delta'(\\langle q_1 \\rangle, 1) = \\langle q_3, q_f \\rangle$ (porque $\\delta(q_1, 1) = \\{q_3, q_f\\}$)\n",
    "   - $\\delta'(\\langle q_2, q_f \\rangle, 0) = \\langle q_3 \\rangle$ (porque $\\delta(q_2, 0) = \\{q_3\\}$)\n",
    "   - $\\delta'(\\langle q_2, q_f \\rangle, 1) = \\langle q_1, q_f \\rangle$ (porque $\\delta(q_2, 1) = \\{q_1, q_f\\}$)\n",
    "   - $\\delta'(\\langle q_3 \\rangle, 0) = \\langle q_2 \\rangle$ (porque $\\delta(q_3, 0) = \\{q_2\\}$)\n",
    "   - $\\delta'(\\langle q_3 \\rangle, 1) = \\langle q_1, q_f \\rangle$ (porque $\\delta(q_3, 1) = \\{q_1, q_f\\}$)\n",
    "   - $\\delta'(\\langle q_3, q_f \\rangle, 0) = \\langle q_2 \\rangle$ (porque $\\delta(q_3, 0) = \\{q_2\\}$ e $\\delta(q_f, 0) = \\emptyset$)\n",
    "   - $\\delta'(\\langle q_3, q_f \\rangle, 1) = \\langle q_1, q_f \\rangle$ (porque $\\delta(q_3, 1) = \\{q_1, q_f\\}$ e $\\delta(q_f, 1) = \\emptyset$)\n",
    "   - $\\delta'(\\langle q_1, q_f \\rangle, 0) = \\langle q_0 \\rangle$ (porque $\\delta(q_1, 0) = \\{q_0\\}$ e $\\delta(q_f, 0) = \\emptyset$)\n",
    "   - $\\delta'(\\langle q_1, q_f \\rangle, 1) = \\langle q_3, q_f \\rangle$ (porque $\\delta(q_1, 1) = \\{q_3, q_f\\}$ e $\\delta(q_f, 1) = \\emptyset$)\n",
    "\n",
    "4. **Construir a tabela de transições do AFD**:\n",
    "\n",
    "  | Estado                         | 0                       | 1                       |\n",
    "  |-------------------------------|-------------------------|-------------------------|\n",
    "  | $\\langle q_0 \\rangle$         | $\\langle q_1 \\rangle$   | $\\langle q_2, q_f \\rangle$ |\n",
    "  | $\\langle q_1 \\rangle$         | $\\langle q_0 \\rangle$   | $\\langle q_3, q_f \\rangle$ |\n",
    "  | $\\langle q_2, q_f \\rangle$    | $\\langle q_3 \\rangle$   | $\\langle q_1, q_f \\rangle$ |\n",
    "  | $\\langle q_3 \\rangle$         | $\\langle q_2 \\rangle$   | $\\langle q_1, q_f \\rangle$ |\n",
    "  | $\\langle q_3, q_f \\rangle$    | $\\langle q_2 \\rangle$   | $\\langle q_1, q_f \\rangle$ |\n",
    "  | $\\langle q_1, q_f \\rangle$    | $\\langle q_0 \\rangle$   | $\\langle q_3, q_f \\rangle$ |\n",
    "\n",
    "5. **Definir os estados finais do AFD**:\n",
    "   - Os estados finais do AFD são aqueles que contêm pelo menos um estado final do AFN. Portanto, os estados finais do AFD são:\n",
    "     - $\\langle q_2, q_f \\rangle$\n",
    "     - $\\langle q_1, q_f \\rangle$\n",
    "     - $\\langle q_3, q_f \\rangle$\n",
    "     - $\\langle q_f \\rangle$"
   ]
  },
  {
   "cell_type": "code",
   "execution_count": 1,
   "metadata": {},
   "outputs": [
    {
     "data": {
      "text/plain": [
       "'afn.png'"
      ]
     },
     "execution_count": 1,
     "metadata": {},
     "output_type": "execute_result"
    }
   ],
   "source": [
    "## Gerar o Diagrama do AFN\n",
    "from graphviz import Digraph\n",
    "\n",
    "# Grafo do AFN\n",
    "afn = Digraph('AFN', filename='afn', format='png')\n",
    "afn.attr(rankdir='LR', size='10,7')\n",
    "\n",
    "# Estados\n",
    "afn.attr('node', shape='doublecircle')\n",
    "afn.node('q_f')\n",
    "\n",
    "afn.attr('node', shape='circle')\n",
    "afn.node('q_0')\n",
    "afn.node('q_1')\n",
    "afn.node('q_2')\n",
    "afn.node('q_3')\n",
    "\n",
    "# Transições\n",
    "afn.edge('q_0', 'q_1', label='0')\n",
    "afn.edge('q_0', 'q_2', label='1')\n",
    "afn.edge('q_0', 'q_f', label='1')\n",
    "afn.edge('q_1', 'q_0', label='0')\n",
    "afn.edge('q_1', 'q_3', label='1')\n",
    "afn.edge('q_1', 'q_f', label='1')\n",
    "afn.edge('q_2', 'q_3', label='0')\n",
    "afn.edge('q_2', 'q_1', label='1')\n",
    "afn.edge('q_2', 'q_f', label='1')\n",
    "afn.edge('q_3', 'q_2', label='0')\n",
    "afn.edge('q_3', 'q_1', label='1')\n",
    "afn.edge('q_3', 'q_f', label='1')\n",
    "\n",
    "# Visualizar o grafo\n",
    "afn.view()\n"
   ]
  },
  {
   "cell_type": "code",
   "execution_count": 2,
   "metadata": {},
   "outputs": [
    {
     "data": {
      "text/plain": [
       "'afd.png'"
      ]
     },
     "execution_count": 2,
     "metadata": {},
     "output_type": "execute_result"
    }
   ],
   "source": [
    "from graphviz import Digraph\n",
    "\n",
    "# Grafo do AFD\n",
    "afd = Digraph('AFD', filename='afd', format='png')\n",
    "afd.attr(rankdir='LR', size='10,7')\n",
    "\n",
    "# Estados\n",
    "afd.attr('node', shape='doublecircle')\n",
    "afd.node('q_2_q_f')\n",
    "afd.node('q_1_q_f')\n",
    "afd.node('q_3_q_f')\n",
    "afd.node('q_f')\n",
    "\n",
    "afd.attr('node', shape='circle')\n",
    "afd.node('q_0')\n",
    "afd.node('q_1')\n",
    "afd.node('q_2')\n",
    "afd.node('q_3')\n",
    "\n",
    "# Transições\n",
    "afd.edge('q_0', 'q_1', label='0')\n",
    "afd.edge('q_0', 'q_2_q_f', label='1')\n",
    "afd.edge('q_1', 'q_0', label='0')\n",
    "afd.edge('q_1', 'q_3_q_f', label='1')\n",
    "afd.edge('q_2_q_f', 'q_3', label='0')\n",
    "afd.edge('q_2_q_f', 'q_1_q_f', label='1')\n",
    "afd.edge('q_3', 'q_2', label='0')\n",
    "afd.edge('q_3', 'q_1_q_f', label='1')\n",
    "afd.edge('q_3_q_f', 'q_2', label='0')\n",
    "afd.edge('q_3_q_f', 'q_1_q_f', label='1')\n",
    "afd.edge('q_1_q_f', 'q_0', label='0')\n",
    "afd.edge('q_1_q_f', 'q_3_q_f', label='1')\n",
    "\n",
    "# Visualizar o grafo\n",
    "afd.view()"
   ]
  },
  {
   "cell_type": "markdown",
   "metadata": {},
   "source": [
    "### Exemplo 5 - AFN para AFD"
   ]
  },
  {
   "cell_type": "markdown",
   "metadata": {},
   "source": [
    "**Suponha um AFN simples $M$ com:**  \n",
    "   - Conjunto de estados: $\\{q_0, q_1, q_2, q_f\\}$\n",
    "   - Alfabeto: $\\{a, b\\}$\n",
    "   - Função de transição $\\delta$:\n",
    "     - $\\delta(q_0, a) = \\{q_0, q_1\\}$\n",
    "     - $\\delta(q_1, a) = \\{q_f\\}$\n",
    "     - $\\delta(q_f, a) = \\{q_f\\}$\n",
    "     - $\\delta(q_0, b) = \\{q_0, q_2\\}$\n",
    "     - $\\delta(q_2, b) = \\{q_f\\}$\n",
    "     - $\\delta(q_f, b) = \\{q_f\\}$\n",
    "   - Estado inicial: $q_0$\n",
    "   - Estado final: $\\{q_f\\}$\n",
    "\n",
    "Vamos converter este AFN para um AFD usando o método de construção de subconjuntos.\n",
    "1. **Identificar o estado inicial do AFD**:\n",
    "   - O estado inicial do AFD é $\\langle q_0 \\rangle$.\n",
    "\n",
    "2. **Calcular as transições para cada símbolo a partir de $\\langle q_0 \\rangle$**:\n",
    "   - $\\delta'(\\langle q_0 \\rangle, a) = \\langle q_0, q_1 \\rangle$ (porque $\\delta(q_0, a) = \\{q_0, q_1\\}$)\n",
    "   - $\\delta'(\\langle q_0 \\rangle, b) = \\langle q_0, q_2 \\rangle$ (porque $\\delta(q_0, b) = \\{q_0, q_2\\}$)\n",
    "\n",
    "3. **Calcular as transições para cada novo estado combinado**:\n",
    "   - $\\delta'(\\langle q_0, q_1 \\rangle, a) = \\langle q_0, q_1, q_f \\rangle$ (porque $\\delta(q_0, a) = \\{q_0, q_1\\}$ e $\\delta(q_1, a) = \\{q_f\\}$)\n",
    "   - $\\delta'(\\langle q_0, q_1 \\rangle, b) = \\langle q_0, q_2 \\rangle$ (porque $\\delta(q_0, b) = \\{q_0, q_2\\}$)\n",
    "   - $\\delta'(\\langle q_0, q_2 \\rangle, a) = \\langle q_0, q_1 \\rangle$ (porque $\\delta(q_0, a) = \\{q_0, q_1\\}$)\n",
    "   - $\\delta'(\\langle q_0, q_2 \\rangle, b) = \\langle q_0, q_2, q_f \\rangle$ (porque $\\delta(q_0, b) = \\{q_0, q_2\\}$ e $\\delta(q_2, b) = \\{q_f\\}$)\n",
    "   - $\\delta'(\\langle q_0, q_1, q_f \\rangle, a) = \\langle q_0, q_1, q_f \\rangle$ (porque $\\delta(q_0, a) = \\{q_0, q_1\\}$ e $\\delta(q_f, a) = \\{q_f\\}$)\n",
    "   - $\\delta'(\\langle q_0, q_1, q_f \\rangle, b) = \\langle q_0, q_2, q_f \\rangle$ (porque $\\delta(q_0, b) = \\{q_0, q_2\\}$ e $\\delta(q_f, b) = \\{q_f\\}$)\n",
    "   - $\\delta'(\\langle q_0, q_2, q_f \\rangle, a) = \\langle q_0, q_1, q_f \\rangle$ (porque $\\delta(q_0, a) = \\{q_0, q_1\\}$ e $\\delta(q_f, a) = \\{q_f\\}$)\n",
    "   - $\\delta'(\\langle q_0, q_2, q_f \\rangle, b) = \\langle q_0, q_2, q_f \\rangle$ (porque $\\delta(q_0, b) = \\{q_0, q_2\\}$, $\\delta(q_2, b) = \\{q_f\\}$ e $\\delta(q_f, b) = \\{q_f\\}$)\n",
    "\n",
    "\n",
    "4. **Construir a tabela de transições do AFD**:  \n",
    "\n",
    "      | Estado                         | a                                 | b                                 |\n",
    "      |-------------------------------|-----------------------------------|-----------------------------------|\n",
    "      | $\\langle q_0 \\rangle$         | $\\langle q_0, q_1 \\rangle$        | $\\langle q_0, q_2 \\rangle$        |\n",
    "      | $\\langle q_0, q_1 \\rangle$    | $\\langle q_0, q_1, q_f \\rangle$   | $\\langle q_0, q_2 \\rangle$        |\n",
    "      | $\\langle q_0, q_2 \\rangle$    | $\\langle q_0, q_1 \\rangle$        | $\\langle q_0, q_2, q_f \\rangle$   |\n",
    "      | $\\langle q_0, q_1, q_f \\rangle$ | $\\langle q_0, q_1, q_f \\rangle$  | $\\langle q_0, q_2, q_f \\rangle$   |\n",
    "      | $\\langle q_0, q_2, q_f \\rangle$ | $\\langle q_0, q_1, q_f \\rangle$  | $\\langle q_0, q_2, q_f \\rangle$   |\n",
    "      \n",
    "\n",
    "5. **Definir os estados finais do AFD**:\n",
    "   - Os estados finais do AFD são aqueles que contêm pelo menos um estado final do AFN. Portanto, os estados finais do AFD são:\n",
    "     - $\\langle q_0, q_1, q_f \\rangle$\n",
    "     - $\\langle q_0, q_2, q_f \\rangle$\n",
    "     - $\\langle q_f \\rangle$"
   ]
  },
  {
   "cell_type": "code",
   "execution_count": 8,
   "metadata": {},
   "outputs": [
    {
     "data": {
      "text/plain": [
       "'afn.png'"
      ]
     },
     "execution_count": 8,
     "metadata": {},
     "output_type": "execute_result"
    }
   ],
   "source": [
    "from graphviz import Digraph\n",
    "\n",
    "# Grafo do AFN\n",
    "afn = Digraph('AFN', filename='afn', format='png')\n",
    "afn.attr(rankdir='LR', size='10,7')\n",
    "\n",
    "# Estados\n",
    "afn.attr('node', shape='doublecircle')\n",
    "afn.node('q_f')\n",
    "afn.attr('node', shape='circle')\n",
    "afn.node('q_0')\n",
    "afn.node('q_1')\n",
    "afn.node('q_2')\n",
    "\n",
    "# Transições\n",
    "afn.edge('q_0', 'q_0', label='a')\n",
    "afn.edge('q_0', 'q_1', label='a')\n",
    "afn.edge('q_1', 'q_f', label='a')\n",
    "afn.edge('q_f', 'q_f', label='a')\n",
    "afn.edge('q_0', 'q_0', label='b')\n",
    "afn.edge('q_0', 'q_2', label='b')\n",
    "afn.edge('q_2', 'q_f', label='b')\n",
    "afn.edge('q_f', 'q_f', label='b')\n",
    "\n",
    "afn.view()"
   ]
  },
  {
   "cell_type": "code",
   "execution_count": 7,
   "metadata": {},
   "outputs": [
    {
     "data": {
      "text/plain": [
       "'afd.png'"
      ]
     },
     "execution_count": 7,
     "metadata": {},
     "output_type": "execute_result"
    }
   ],
   "source": [
    "from graphviz import Digraph\n",
    "\n",
    "# Grafo do AFD\n",
    "afd = Digraph('AFD', filename='afd', format='png')\n",
    "afd.attr(rankdir='LR', size='10,7')\n",
    "\n",
    "# Estados\n",
    "afd.attr('node', shape='doublecircle')\n",
    "#afd.node('q_f')\n",
    "afd.node('q_0_q_1_q_f')\n",
    "afd.node('q_0_q_2_q_f')\n",
    "\n",
    "afd.attr('node', shape='circle')\n",
    "afd.node('q_0')\n",
    "afd.node('q_0_q_1')\n",
    "afd.node('q_0_q_2')\n",
    "afd.node('q_0_q_1_q_f')\n",
    "#afd.node('q_1')\n",
    "#afd.node('q_2')\n",
    "\n",
    "# Transições\n",
    "afd.edge('q_0', 'q_0_q_1', label='a')\n",
    "afd.edge('q_0', 'q_0_q_2', label='b')\n",
    "afd.edge('q_0_q_1', 'q_0_q_1_q_f', label='a')\n",
    "afd.edge('q_0_q_1', 'q_0_q_2', label='b')\n",
    "afd.edge('q_0_q_2', 'q_0_q_1', label='a')\n",
    "afd.edge('q_0_q_2', 'q_0_q_2_q_f', label='b')\n",
    "afd.edge('q_0_q_1_q_f', 'q_0_q_1_q_f', label='a')\n",
    "afd.edge('q_0_q_1_q_f', 'q_0_q_2_q_f', label='b')\n",
    "afd.edge('q_0_q_2_q_f', 'q_0_q_1_q_f', label='a')\n",
    "afd.edge('q_0_q_2_q_f', 'q_0_q_2_q_f', label='b')\n",
    "#afd.edge('q_1', 'q_f', label='a')\n",
    "#afd.edge('q_2', 'q_f', label='b')\n",
    "#afd.edge('q_f', 'q_f', label='a')\n",
    "#afd.edge('q_f', 'q_f', label='b')\n",
    "\n",
    "# Visualizar o grafo\n",
    "afd.view()\n"
   ]
  },
  {
   "cell_type": "markdown",
   "metadata": {},
   "source": [
    "## Slide 61 - Minimização de AFD: Construção da Tabela de Não-Equivalentes"
   ]
  },
  {
   "cell_type": "markdown",
   "metadata": {},
   "source": [
    "A minimização de um AFD consiste em encontrar um autômato equivalente que tenha o menor número possível de estados. Para isso, utilizamos a tabela de distinção, também conhecida como tabela de não-equivalentes, para identificar estados que podem ser combinados.\n",
    "\n",
    "**Pré-requisitos para a Minimização**\n",
    "\n",
    "Antes de iniciar a minimização, o autômato deve cumprir certos requisitos:\n",
    "\n",
    "1. **Ser Determinístico:** O autômato deve ser um AFD. Se for um AFN ou AF-epsilon, deve ser convertido para AFD.\n",
    "2. **Não Ter Estados Inacessíveis:** Todos os estados devem ser alcançáveis a partir do estado inicial.\n",
    "3. **Função de Transição Total:** Todas as transições devem estar definidas. Transições não especificadas devem levar a um estado de \"lixo\" que não é final."
   ]
  },
  {
   "cell_type": "markdown",
   "metadata": {},
   "source": [
    "### Passos para Minimização de AFD"
   ]
  },
  {
   "cell_type": "markdown",
   "metadata": {},
   "source": [
    "**1. Construção da Tabela de Não-Equivalentes**\n",
    "\n",
    "   - Liste todos os pares possíveis de estados.\n",
    "   - Inicialmente, marque os pares onde um estado é final e o outro não é final como não-equivalentes.\n",
    "   - Iterativamente, marque pares de estados como não-equivalentes se, para algum símbolo de entrada, as transições levam a estados que já foram marcados como não-equivalentes.\n",
    "\n",
    "**2. Combinação de Estados:**\n",
    "   - Os pares que não são marcados como não-equivalentes são considerados equivalentes e podem ser combinados."
   ]
  },
  {
   "cell_type": "markdown",
   "metadata": {},
   "source": [
    "### Exemplo"
   ]
  },
  {
   "cell_type": "markdown",
   "metadata": {},
   "source": [
    "Considerando o AFD com as seguintes características:\n",
    "\n",
    "- **Estados:** $ Q = \\{q_0, q_1, q_2, q_3, q_4, q_5\\} $\n",
    "- **Alfabeto:** $ \\Sigma = \\{a, b\\} $\n",
    "- **Transições:**\n",
    "  - $ \\delta(q_0, a) = q_2, \\delta(q_0, b) = q_1 $\n",
    "  - $ \\delta(q_1, a) = q_1, \\delta(q_1, b) = q_0 $\n",
    "  - $ \\delta(q_2, a) = q_4, \\delta(q_2, b) = q_5 $\n",
    "  - $ \\delta(q_3, a) = q_5, \\delta(q_3, b) = q_4 $\n",
    "  - $ \\delta(q_4, a) = q_3, \\delta(q_4, b) = q_2 $\n",
    "  - $ \\delta(q_5, a) = q_2, \\delta(q_5, b) = q_3 $\n",
    "\n",
    "- **Estado inicial:** $ q_0 $\n",
    "- **Estados finais:** $ F = \\{q_0, q_4, q_5\\} $\n",
    "\n",
    "-**Passo 1: Construção da Tabela de Não-Equivalentes**\n",
    "\n",
    "1.1 **Identificar Estados Finais e Não Finais:**\n",
    "   - **Estados finais**: $\\{q_0, q_4, q_5\\}$\n",
    "   - **Estados não finais**: $\\{q_1, q_2, q_3\\}$\n",
    "\n",
    "1.2 **Inicializar a Tabela de Não-Equivalentes:**  \n",
    "   - Liste todos os pares possíveis de estados.\n",
    "   - Marque os pares onde um estado é final e o outro não é final como não-equivalentes.  \n",
    "     \n",
    "   |        |     |     |     |     |     |\n",
    "   |--------|-----|-----|-----|-----|-----|\n",
    "   | **q1** |  X  |-----|-----|-----|-----|\n",
    "   | **q2** |  X  |     |-----|-----|-----|\n",
    "   | **q3** |  X  |     |     |-----|-----|\n",
    "   | **$\\{q_4\\}$** |     |  X  |  X  |  X  |-----|\n",
    "   | **$\\{q_5\\}$** |     |  X  |  X  |  X  |     |\n",
    "   | **Estado** | **$\\{q_0\\}$** |  q1  |  q2  |  q3  |  **$\\{q_4\\}$**   |\n",
    "\n",
    "-**Passo 2: Iteração para Marcar Não-Equivalências**\n",
    "\n",
    "Iterativamente marque pares de estados como não-equivalentes se, para algum símbolo de entrada, as transições levam a estados que já foram marcados como não-equivalentes.\n",
    "\n",
    "1. **Primeiro Ciclo de Iterações** \n",
    "   - **Comparar $(q_1, q_2)$:**\n",
    "      - Para símbolo 'a', $\\delta(q_1, a) = q_1$ e $\\delta(q_2, a) = q_4$\n",
    "      - Para símbolo 'b', $\\delta(q_1, b) = q_0$ e $\\delta(q_2, b) = q_5$\n",
    "      - Verificar $(q_1, q_4)$\n",
    "         - Marcado como não-equivalente.\n",
    "      - Verificar $(q_0, q_5)$\n",
    "         - Não Marcado como não-equivalente.\n",
    "   - **Conclusão:** Marcar $(q_1, q_2)$ como não-equivalente, pois $(q_1, q_4)$ é marcado como não-equivalente\n",
    "\n",
    "   - **Atualizar a Tabela para Não-Equivalências**  \n",
    "     \n",
    "   |        |     |     |     |     |     |\n",
    "   |--------|-----|-----|-----|-----|-----|\n",
    "   | **q1** |  X  |-----|-----|-----|-----|\n",
    "   | **q2** |  X  |  **$\\{x\\}$**  |-----|-----|-----|\n",
    "   | **q3** |  X  |     |     |-----|-----|\n",
    "   | **$\\{q_4\\}$** |     |  X  |  X  |  X  |-----|\n",
    "   | **$\\{q_5\\}$** |     |  X  |  X  |  X  |     |\n",
    "   | **Estado** | **$\\{q_0\\}$** |  q1  |  q2  |  q3  |  **$\\{q_4\\}$**   |\n",
    "\n",
    "2. **Segundo Ciclo de Iterações** \n",
    "  - **Comparar $(q_1, q_3)$:**\n",
    "      - Para símbolo 'a', $\\delta(q_1, a) = q_1$ e $\\delta(q_3, a) = q_5$\n",
    "      - Para símbolo 'b', $\\delta(q_1, b) = q_0$ e $\\delta(q_3, b) = q_4$\n",
    "      - Verificar $(q_1, q_5)$\n",
    "         - Marcado como não-equivalente..\n",
    "      - Verificar $(q_0, q_4)$\n",
    "         - Não Marcado como não-equivalente.\n",
    "   - **Conclusão:** Marcar $(q_1, q_3)$ como não-equivalente, pois $(q_1, q_5)$ é marcado como não-equivalente\n",
    "\n",
    "   - **Atualizar a Tabela para Não-Equivalências**\n",
    "\n",
    "   |        |     |     |     |     |     |\n",
    "   |--------|-----|-----|-----|-----|-----|\n",
    "   | **q1** |  X  |-----|-----|-----|-----|\n",
    "   | **q2** |  X  |  **$\\{x\\}$**  |-----|-----|-----|\n",
    "   | **q3** |  X  |  **$\\{x\\}$**   |    |-----|-----|\n",
    "   | **$\\{q_4\\}$** |     |  X  |  X  |  X  |-----|\n",
    "   | **$\\{q_5\\}$** |     |  X  |  X  |  X  |     |\n",
    "   | **Estado** | **$\\{q_0\\}$** |  q1  |  q2  |  q3  |  **$\\{q_4\\}$**   |\n",
    "\n",
    "3. **Terceiro Ciclo de Iterações** \n",
    "   - **Comparar $(q_2, q_3)$:**\n",
    "      - Para símbolo 'a', $\\delta(q_2, a) = q_4$ e $\\delta(q_3, a) = q_5$\n",
    "      - Para símbolo 'b', $\\delta(q_2, b) = q_5$ e $\\delta(q_3, b) = q_4$\n",
    "       - Verificar $(q_4, q_5)$\n",
    "         - Não Marcado como não-equivalente.\n",
    "      - Verificar $(q_5, q_4)$\n",
    "         - Não Marcado como não-equivalente.\n",
    "      - **Conclusão:** Não marcar $(q_2, q_3)$ como não-equivalente, pois não chegamos a pares marcados.\n",
    "\n",
    "   - **Comparar $(q_4, q_5)$:**\n",
    "      - Para símbolo 'a', $\\delta(q_4, a) = q_3$ e $\\delta(q_5, a) = q_2$\n",
    "      - Para símbolo 'b', $\\delta(q_4, b) = q_2$ e $\\delta(q_5, b) = q_3$\n",
    "       - Verificar $(q_2, q_3)$\n",
    "         - Não Marcado como não-equivalente.\n",
    "      - Verificar $(q_2, q_3)$\n",
    "         - Não Marcado como não-equivalente.\n",
    "      - **Conclusão:** Não Marcar $(q_0, q_4)$ como não-equivalente, pois não chegamos a pares marcados.\n",
    "\n",
    "   - **Comparar $(q_0, q_4)$:**\n",
    "      - Para símbolo 'a', $\\delta(q_0, a) = q_2$ e $\\delta(q_4, a) = q_3$\n",
    "      - Para símbolo 'b', $\\delta(q_0, b) = q_1$ e $\\delta(q_4, b) = q_2$\n",
    "       - Verificar $(q_2, q_3)$\n",
    "         - Não Marcado como não-equivalente.\n",
    "      - Verificar $(q_1, q_2)$\n",
    "         - Marcado como não-equivalente.\n",
    "      - **Conclusão:** Marcar $(q_0, q_4)$ como não-equivalente, pois $(q_1, q_2)$ é marcado como não-equivalente.\n",
    "\n",
    "   - **Atualizar a Tabela para Não-Equivalências**\n",
    "\n",
    "   |        |     |     |     |     |     |\n",
    "   |--------|-----|-----|-----|-----|-----|\n",
    "   | **q1** |  X  |-----|-----|-----|-----|\n",
    "   | **q2** |  X  |  **$\\{x\\}$**  |-----|-----|-----|\n",
    "   | **q3** |  X  |  **$\\{x\\}$**  |    |-----|-----|\n",
    "   | **$\\{q_4\\}$** | **$\\{x\\}$**  |  X  |  X  |  X  |-----|\n",
    "   | **$\\{q_5\\}$** |     |  X  |  X  |  X  |     |\n",
    "   | **Estado** | **$\\{q_0\\}$** |  q1  |  q2  |  q3  |  **$\\{q_4\\}$**   |\n",
    "\n",
    "4. **Quarto Ciclo de Iterações** \n",
    "   - **Comparar $(q_0, q_5)$:**\n",
    "      - Para símbolo 'a', $\\delta(q_0, a) = q_2$ e $\\delta(q_5, a) = q_2$\n",
    "      - Para símbolo 'b', $\\delta(q_0, b) = q_1$ e $\\delta(q_5, b) = q_3$\n",
    "       - Verificar $(q_2, q_2)$\n",
    "         - Não Marcado como não-equivalente.\n",
    "      - Verificar $(q_1, q_3)$\n",
    "         - Marcado como não-equivalente.\n",
    "      - **Conclusão:** Marcar $(q_0, q_5)$ como não-equivalente, pois $(q_1, q_3)$ é marcado como não-equivalente\n",
    "\n",
    "   - **Atualizar a Tabela para Não-Equivalências**\n",
    "\n",
    "   |        |     |     |     |     |     |\n",
    "   |--------|-----|-----|-----|-----|-----|\n",
    "   | **q1** |  X  |-----|-----|-----|-----|\n",
    "   | **q2** |  X  |  **$\\{x\\}$**  |-----|-----|-----|\n",
    "   | **q3** |  X  |  **$\\{x\\}$**  |    |-----|-----|\n",
    "   | **$\\{q_4\\}$** | **$\\{x\\}$**  |  X  |  X  |  X  |-----|\n",
    "   | **$\\{q_5\\}$** | **$\\{x\\}$**  |  X  |  X  |  X  |     |\n",
    "   | **Estado** | **$\\{q_0\\}$** |  q1  |  q2  |  q3  |  **$\\{q_4\\}$**   |\n",
    "\n",
    "-**Passo 3: Unificação de Estados Equivalentes**\n",
    "\n",
    "Os pares não marcados como não-equivalentes são considerados equivalentes e podem ser unificados. Neste caso, temos:\n",
    "\n",
    "- $(q_2, q_3)$\n",
    "- $(q_4, q_5)$\n",
    "\n",
    " -**Passo 4: Redesenho do Autômato Minimizado**\n",
    "\n",
    "Após unificar os estados equivalentes, redesenhamos o autômato para refletir a estrutura minimizada.\n",
    "\n",
    "**Estados Unificados:**\n",
    "\n",
    "- $q_{23}$ = combinação de $q_2$ e $q_3$\n",
    "- $q_{45}$ = combinação de $q_4$ e $q_5$\n",
    "\n",
    "**Novo AFD**\n",
    "- **Estados:** $ Q' = \\{q_0, q_1, q_{23}, q_{45}\\} $\n",
    "- **Alfabeto:** $ \\Sigma = \\{a, b\\} $\n",
    "- **Transições:**\n",
    "  - $ \\delta(q_0, a) = q_{23}, \\delta(q_0, b) = q_1 $\n",
    "  - $ \\delta(q_1, a) = q_1, \\delta(q_1, b) = q_0 $\n",
    "  - $ \\delta(q_{23}, a) = q_{45}, \\delta(q_{23}, b) = q_{45} $\n",
    "  - $ \\delta(q_{45}, a) = q_{23}, \\delta(q_{45}, b) = q_{23} $\n",
    "\n",
    "- **Estado inicial:** $ q_0 $\n",
    "- **Estados finais:** $ F' = \\{q_0, q_{45}\\} $\n",
    "\n",
    " -**Passo 5: Exclusão de estados inúteis**\n",
    "   - Neste exemplo, não há estados inúteis. Se houvesse, eles poderiam ser deletados."
   ]
  },
  {
   "cell_type": "code",
   "execution_count": 10,
   "metadata": {},
   "outputs": [
    {
     "data": {
      "text/plain": [
       "'afd_min.png'"
      ]
     },
     "execution_count": 10,
     "metadata": {},
     "output_type": "execute_result"
    }
   ],
   "source": [
    "from graphviz import Digraph\n",
    "\n",
    "# Grafo do AFD minimizado\n",
    "afd_min = Digraph('AFD_Min', filename='afd_min', format='png')\n",
    "afd_min.attr(rankdir='LR', size='10,7')\n",
    "\n",
    "# Estados\n",
    "afd_min.attr('node', shape='doublecircle')\n",
    "afd_min.node('q_0')\n",
    "afd_min.node('q_{45}')\n",
    "afd_min.attr('node', shape='circle')\n",
    "afd_min.node('q_1')\n",
    "afd_min.node('q_{23}')\n",
    "\n",
    "# Transições\n",
    "afd_min.edge('q_0', 'q_{23}', label='a')\n",
    "afd_min.edge('q_0', 'q_1', label='b')\n",
    "afd_min.edge('q_1', 'q_1', label='a')\n",
    "afd_min.edge('q_1', 'q_0', label='b')\n",
    "afd_min.edge('q_{23}', 'q_{45}', label='a')\n",
    "afd_min.edge('q_{23}', 'q_{45}', label='b')\n",
    "afd_min.edge('q_{45}', 'q_{23}', label='a')\n",
    "afd_min.edge('q_{45}', 'q_{23}', label='b')\n",
    "\n",
    "# Visualizar o grafo\n",
    "afd_min.view()"
   ]
  }
 ],
 "metadata": {
  "kernelspec": {
   "display_name": "moda",
   "language": "python",
   "name": "python3"
  },
  "language_info": {
   "codemirror_mode": {
    "name": "ipython",
    "version": 3
   },
   "file_extension": ".py",
   "mimetype": "text/x-python",
   "name": "python",
   "nbconvert_exporter": "python",
   "pygments_lexer": "ipython3",
   "version": "3.9.17"
  }
 },
 "nbformat": 4,
 "nbformat_minor": 2
}
