{
 "cells": [
  {
   "cell_type": "markdown",
   "metadata": {},
   "source": [
    "## Slide 40 - Gramática"
   ]
  },
  {
   "cell_type": "markdown",
   "metadata": {},
   "source": [
    "### Definição Informal"
   ]
  },
  {
   "cell_type": "markdown",
   "metadata": {},
   "source": [
    "**Gramáticas** - Também conhecidas como **dispositivos generativos**, **dispositivos de síntese** ou **dispositivos de geração de cadeias**, as gramáticas constituem sistemas formais baseados em regras de substituição, através dos quais é possível sintetizar, de forma exaustiva, o conjunto das cadeias que compõem uma determinada linguagem.\n",
    "\n",
    "\n",
    "Por exemplo, em português, tem-se, dentre outras, a seguinte regra de formação de sentenças: \"uma sentença pode consistir de uma frase nominal seguida de um predicado\". Concisamente, tem-se:\n",
    "\n",
    "- `<sentenca> -> <frase_nominal> + <predicado>`\n",
    "\n",
    "A definição acima pode ser mais precisa, fazendo-se:\n",
    "\n",
    "- `<frase_nominal> -> <artigo> <substantivo>,`\n",
    "- `<predicado> -> <verbo>`\n",
    "\n",
    "Ao associar palavras às classes sintáticas, podem-se formar sentenças:\n",
    "\n",
    "- `<artigo>`: a, o, um, uma\n",
    "- `<substantivo>`: menino, cachorro\n",
    "- `<verbo>`: anda, corre"
   ]
  },
  {
   "cell_type": "markdown",
   "metadata": {},
   "source": [
    "Para exemplificar a gramática em código, podemos criar uma simples implementação em Python que gera sentenças com base nas regras definidas:"
   ]
  },
  {
   "cell_type": "code",
   "execution_count": null,
   "metadata": {},
   "outputs": [
    {
     "name": "stdout",
     "output_type": "stream",
     "text": [
      "a cachorro anda\n"
     ]
    }
   ],
   "source": [
    "import random\n",
    "\n",
    "artigos = ['a', 'o', 'um', 'uma']\n",
    "substantivos = ['menino', 'cachorro']\n",
    "verbos = ['anda', 'corre']\n",
    "\n",
    "def gerar_sentenca():\n",
    "    artigo = random.choice(artigos)\n",
    "    substantivo = random.choice(substantivos)\n",
    "    verbo = random.choice(verbos)\n",
    "    return f\"{artigo} {substantivo} {verbo}\"\n",
    "\n",
    "# Exemplo de geração de sentença\n",
    "print(gerar_sentenca())"
   ]
  },
  {
   "cell_type": "markdown",
   "metadata": {},
   "source": [
    "### Definição Formal"
   ]
  },
  {
   "cell_type": "markdown",
   "metadata": {},
   "source": [
    "Formalmente, uma gramática G pode ser definida como sendo uma quádrupla:\n",
    "\n",
    "G = (V, $\\Sigma$, P, S)\n",
    "\n",
    "onde:\n",
    "\n",
    "- \\(V\\): é o **vocabulário** da gramática; corresponde a um conjunto finito e não vazio de símbolos.\n",
    "    - Pense no vocabulário como todas as palavras que você pode usar em uma língua. Em gramática, são os símbolos com os quais você trabalha, incluindo tanto os terminais quanto os não terminais.\n",
    "- \\($\\Sigma$\\): é o conjunto finito e não vazio dos **símbolos terminais** da gramática. É o alfabeto.\n",
    "    - Estes são os elementos básicos, como as letras do alfabeto, que você não pode mais dividir em partes menores.\n",
    "- \\(P\\): é o conjunto finito e não vazio de **produções** ou **regras de substituição** da gramática.\n",
    "    - São as regras que dizem como você pode combinar ou transformar os símbolos para formar sentenças válidas na linguagem.\n",
    "- \\(S\\): é a **raiz** da gramática, \\(S $\\in$ V\\).\n",
    "    - Este é o ponto de partida da gramática, o símbolo a partir do qual todas as sentenças são derivadas.\n",
    "- \\(N = V - $\\Sigma$\\): é o conjunto de **símbolos não terminais** da gramática. São as classes sintáticas.\n",
    "    - Estes são os símbolos que podem ser substituídos ou expandidos em outros símbolos, servindo como intermediários na construção de sentenças.\n",
    "\n",
    "Podemos ilustrar esses conceitos com um código simples que define uma gramática básica:"
   ]
  },
  {
   "cell_type": "code",
   "execution_count": 11,
   "metadata": {},
   "outputs": [
    {
     "name": "stdout",
     "output_type": "stream",
     "text": [
      "Vocabulário: {'b', 'S', 'A', 'a', 'B'}\n",
      "Símbolos terminais: {'b', 'a'}\n",
      "Produções: {'S': ['A B'], 'A': ['a'], 'B': ['b']}\n",
      "Raiz: S\n",
      "Símbolos não terminais: {'B', 'S', 'A'}\n"
     ]
    }
   ],
   "source": [
    "# Definição da gramática G\n",
    "V = {'S', 'A', 'B', 'a', 'b'}  # Vocabulário\n",
    "Sigma = {'a', 'b'}             # Símbolos terminais\n",
    "P = {                          # Produções\n",
    "    'S': ['A B'],\n",
    "    'A': ['a'],\n",
    "    'B': ['b']\n",
    "}\n",
    "S = 'S'                        # Raiz\n",
    "\n",
    "# Símbolos não terminais\n",
    "N = V - Sigma\n",
    "\n",
    "print(\"Vocabulário:\", V)\n",
    "print(\"Símbolos terminais:\", Sigma)\n",
    "print(\"Produções:\", P)\n",
    "print(\"Raiz:\", S)\n",
    "print(\"Símbolos não terminais:\", N)"
   ]
  },
  {
   "cell_type": "markdown",
   "metadata": {},
   "source": [
    "### Forma das Produções Gramaticais"
   ]
  },
  {
   "cell_type": "markdown",
   "metadata": {},
   "source": [
    "O conjunto $P$ de produções gramaticais obedece à forma geral:\n",
    "\n",
    "- $\\alpha$ $\\rightarrow$ $\\beta$, com $\\alpha$ $\\in$ $V^*NV^*$ e $\\beta$ $\\in$ $V^*$\n",
    "\n",
    "onde:\n",
    "\n",
    "- $\\alpha$ é uma cadeia constituída de quaisquer combinações de símbolos de $V$, contendo pelo menos um símbolo não-terminal.\n",
    "- $\\beta$ é uma cadeia qualquer, eventualmente vazia, de elementos de $V$.\n",
    "\n",
    "Portanto, o conjunto $P$ pode ser expresso como uma relação:\n",
    "\n",
    "- $P$ = { ($\\alpha$, $\\beta$) | ($\\alpha$, $\\beta$) $\\in$ $V^*NV^*$ $\\times$ $V^*$ })\n",
    "    - $P$: As regras que definem como os símbolos da gramática podem ser combinados ou transformados. Elas são essenciais para construir sentenças na linguagem que a gramática descreve.\n",
    "    - $\\alpha$ $\\rightarrow$ $\\beta$: Esta notação descreve uma regra de produção onde α pode ser substituído por β.\n",
    "    - α deve ser uma sequência de símbolos que inclui pelo menos um símbolo não terminal (indicado por N). $V^∗$ significa qualquer sequência de símbolos do vocabulário, incluindo a sequência vazia.\n",
    "    - $\\beta$ $\\in$ $V^*$: pode ser qualquer sequência de símbolos do vocabulário, incluindo a possibilidade de ser uma sequência vazia (ou seja, não ter nenhum símbolo)."
   ]
  },
  {
   "cell_type": "markdown",
   "metadata": {},
   "source": [
    "#### Exemplo "
   ]
  },
  {
   "cell_type": "markdown",
   "metadata": {},
   "source": [
    "Considere uma gramática simples com as seguintes características:\n",
    "\n",
    "- Vocabulário V = \\{$\\text{\"A\"}$, $\\text{\"B\"}$, $\\text{\"a\"}$, $\\text{\"b\"}$\\}, onde \"A\" e \"B\" são símbolos não terminais e \"a\" e \"b\" são símbolos terminais.\n",
    "- Símbolo inicial $S$ é \"A\".\n",
    "- As produções $P$ são definidas como:\n",
    "  - $A \\rightarrow aB$: Aqui, \"A\" pode ser substituído por \"aB\".\n",
    "  - $B \\rightarrow b$ : Aqui, \"B\" pode ser substituído por \"b\".\n",
    "\n",
    "Seguindo estas regras, podemos formar a sentença \"ab\" ao aplicar as produções:\n",
    "\n",
    "1. Substituímos \"A\" por \"aB\" (de acordo com a primeira regra de produção).\n",
    "2. Em seguida, substituímos \"B\" por \"b\" (conforme a segunda regra), resultando na sentença final \"ab\".\n",
    "\n",
    "Vamos representar essa gramática em Python e gerar a sentença conforme as regras de produção, onde:\n",
    "\n",
    "- $V$: Conjunto de símbolos, tanto terminais ($'a'$, $'b'$) quanto não terminais ($'A'$, $'B'$). O vocabulário da gramática.\n",
    "- $P$: Dicionário representando as regras de produção. Cada chave é um símbolo não terminal, e o valor é uma lista de substituições possíveis. Por exemplo, $'A': ['aB']$ indica que $A$ pode ser substituído por $aB$.\n",
    "- $S$: O símbolo inicial da gramática. A geração de sentenças começa a partir deste símbolo."
   ]
  },
  {
   "cell_type": "code",
   "execution_count": null,
   "metadata": {},
   "outputs": [
    {
     "name": "stdout",
     "output_type": "stream",
     "text": [
      "Sentença gerada: ab\n"
     ]
    }
   ],
   "source": [
    "# Definição da gramática\n",
    "V = {'A', 'B', 'a', 'b'}  # Vocabulário\n",
    "P = {                     # Produções\n",
    "    'A': ['aB'],\n",
    "    'B': ['b']\n",
    "}\n",
    "S = 'A'                   # Símbolo inicial\n",
    "\n",
    "# Função para aplicar as produções e gerar a sentença\n",
    "def gerar_sentenca(S, P):\n",
    "    sentenca = S\n",
    "    # sentenca = aB\n",
    "    # symbol = a\n",
    "    while any(symbol in P for symbol in sentenca):\n",
    "        \n",
    "        for symbol in sentenca:\n",
    "            # symbol = B\n",
    "            # P = {'A': ['aB'], 'B': ['b']}\n",
    "            if symbol in P:\n",
    "                # Substitui o símbolo não terminal pela sua produção\n",
    "                sentenca = sentenca.replace(symbol, P[symbol][0], 1)\n",
    "                break\n",
    "    return sentenca\n",
    "\n",
    "# Gerar e imprimir a sentença\n",
    "sentenca_gerada = gerar_sentenca(S, P)\n",
    "print(\"Sentença gerada:\", sentenca_gerada)"
   ]
  },
  {
   "cell_type": "markdown",
   "metadata": {},
   "source": [
    "- `gerar_sentenca(S, P)`: Função que gera sentenças a partir do símbolo inicial $S$ usando as regras de produção $P$.\n",
    "- Inicia com sentenca sendo o símbolo inicial $S$.\n",
    "- Continua substituindo os símbolos não terminais em sentenca pelas suas substituições em $P$ até que não haja mais símbolos não terminais.\n",
    "- `while any(symbol in P for symbol in sentenca)`: Loop que continua enquanto houver símbolos não terminais em sentenca que podem ser substituídos.\n",
    "- Dentro do loop, `for symbol in sentenca` percorre cada símbolo de sentenca.\n",
    "- Se o símbolo atual está em $P$, substitui a primeira ocorrência desse símbolo na sentença por sua produção em $P$.\n",
    "- A substituição é feita uma vez por iteração do loop `while` para garantir o processamento adequado de todos os símbolos não terminais.\n",
    "Retorna a sentenca final gerada."
   ]
  },
  {
   "cell_type": "markdown",
   "metadata": {},
   "source": [
    "### Forma Sentencial"
   ]
  },
  {
   "cell_type": "markdown",
   "metadata": {},
   "source": [
    "**Forma sentencial**: é qualquer cadeia obtida pela aplicação recorrente das regras de substituição:\n",
    "\n",
    "1. A raiz $S$ da gramática é por definição uma forma sentencial.\n",
    "2. Seja $\\alpha\\rho\\beta$ uma forma sentencial, com $\\alpha$ e $\\beta$ cadeias quaisquer de terminais e/ou não-terminais, e seja $\\rho \\to \\gamma$ uma produção da gramática. Então, dessa regra àquela forma sentencial, substituindo a ocorrência de $\\rho$ por $\\gamma$, produz uma nova forma sentencial $\\alpha\\gamma\\beta$.\n",
    "\n",
    "Esta forma de substituição é chamada de **derivação direta** e é denotada por:\n",
    "\n",
    "$\\alpha\\rho\\beta \\underset{G}{\\implies} \\alpha\\gamma\\beta$\n",
    "\n",
    "Em outras palavras:\n",
    "- Uma forma sentencial em uma gramática é uma sequência de símbolos que pode ser gerada a partir do símbolo inicial (raiz) pela aplicação sucessiva das regras de produção da gramática. \n",
    "- A definição de forma sentencial e derivação direta aqui nos diz que, se você tem uma cadeia de símbolos (incluindo terminais e não terminais) e uma regra de produção aplicável, você pode substituir o não terminal na cadeia pela sua produção para obter uma nova cadeia, representando um passo na geração de sentenças na linguagem definida pela gramática."
   ]
  },
  {
   "cell_type": "markdown",
   "metadata": {},
   "source": [
    "Como exemplo de especificação de gramáticas, tem-se $G_1 = (V_1, \\Sigma_1, P_1, S)$, com:\n",
    "\n",
    "- $V_1 = \\{ 0,1,2,3,S,A \\}$\n",
    "- $\\Sigma_1 = \\{ 0, 1, 2, 3 \\}$\n",
    "- $N_1 = \\{ S, A \\}$\n",
    "- $P_1 = \\{ S \\to 0S33, S \\to A, A \\to 12, A \\to \\epsilon \\}$\n",
    "onde:\n",
    "1. $V_1$ \n",
    "    - é o conjunto de todos os símbolos (terminais e não-terminais) na gramática. Esses símbolos são os elementos básicos usados para construir as sentenças na linguagem definida pela gramática.\n",
    "1. $\\Sigma_1$ \n",
    "    - é o conjunto de símbolos terminais. Estes são os elementos que não podem ser substituídos por outras regras na gramática e aparecem na forma final das sentenças.\n",
    "1. $N_1$ \n",
    "    - representa os símbolos não-terminais, que são os símbolos que podem ser substituídos conforme as regras de produção. Eles servem como placeholders ou variáveis que são refinados em símbolos mais específicos (terminais ou não terminais) através do processo de derivação.\n",
    "1. $P_1$\n",
    "    - são as regras de produção que definem como os símbolos não-terminais podem ser transformados ou substituídos para formar cadeias na linguagem. Cada regra de produção indica como um símbolo não terminal pode ser expandido ou convertido em uma sequência de símbolos terminais e/ou não terminais.\n"
   ]
  },
  {
   "cell_type": "markdown",
   "metadata": {},
   "source": [
    "### Derivação\n"
   ]
  },
  {
   "cell_type": "markdown",
   "metadata": {},
   "source": [
    "- **Derivação**: É a sequência de zero ou mais derivações diretas $\\alpha \\implies \\beta \\ldots \\implies \\mu$. É denotada por $\\alpha \\overset{*}{\\implies} \\mu$.\n",
    "- **Derivação não-trivial**: É aquela em que ocorre a aplicação de pelo menos uma produção. É denotada por $\\alpha \\overset{+}{\\implies} \\mu$.\n",
    "- **Sentença**: Se, pela aplicação de uma derivação não-trivial à raiz `S` de uma gramática, for possível obter uma cadeia `w` formada exclusivamente de símbolos terminais, diz-se que `w`, além de ser uma forma sentencial, é também uma sentença, e denota-se a sua derivação por $S \\overset{+}{\\implies} w$.\n",
    "\n",
    "**Exemplo**\n",
    "\n",
    "Considere uma gramática $G_1$, com as seguintes regras de produções:\n",
    "- $S \\to 0S33$\n",
    "- $S \\to A$\n",
    "\n",
    "- $S$ é uma forma sentencial.\n",
    "- $0S33$ é uma forma sentencial, pois $S \\implies 0S33$.\n",
    "- $S \\implies 0S33$ é uma derivação direta.\n",
    "- 0`0S33`33 e 00`A`3333 são formas sentenciais, pois $0S33 \\implies 00S3333 \\implies 00A3333$ através das produções $S \\to 0S33$ e $S \\to A$, aplicadas nesta ordem.\n",
    "\n",
    "No exemplo com $G1$, começamos com $S$ e aplicamos as regras de produção para obter cadeias mais longas. Cada aplicação de uma regra é uma derivação direta, e juntas formam uma derivação que leva a uma forma sentencial ou uma sentença completa se a cadeia final contiver apenas símbolos terminais. Portanto, 0`S`33, 0`0S33`33 e 0`0A33`33 são todas formas sentenciais derivadas de $S$ usando as regras da gramática $G1$.\n"
   ]
  },
  {
   "cell_type": "markdown",
   "metadata": {},
   "source": [
    "#### Explicação Detalhada para Iniciantes"
   ]
  },
  {
   "cell_type": "markdown",
   "metadata": {},
   "source": [
    "- Derivação: Imagine que você está montando um quebra-cabeça, e a cada passo, você encaixa uma peça. Cada peça que você coloca é como uma etapa na derivação: você está construindo sua sentença, peça por peça (ou símbolo por símbolo).\n",
    "- Derivação não-trivial: Uma derivação não-trivial significa que você realmente colocou pelo menos uma peça no quebra-cabeça. Em termos de gramática, significa que pelo menos uma regra de produção foi aplicada para transformar um símbolo não terminal em outro conjunto de símbolos.\n",
    "- Sentença: Quando todas as peças do quebra-cabeça estão encaixadas, e você vê a imagem completa, você tem uma sentença completa na gramática. Isso significa que, começando pelo símbolo inicial $S$, você aplicou regras de produção suficientes para chegar a uma sequência de símbolos terminais (as peças finais do quebra-cabeça)."
   ]
  },
  {
   "cell_type": "markdown",
   "metadata": {},
   "source": [
    "#### Questão 1"
   ]
  },
  {
   "cell_type": "markdown",
   "metadata": {},
   "source": [
    "Escreva uma função em Python chamada `gerar_forma_sentencial` que, dada uma gramática e um símbolo inicial, gera uma nova forma sentencial realizando apenas uma derivação direta a partir do símbolo inicial.\n",
    "\n",
    "A gramática é definida pelo seguinte conjunto de regras e símbolos:\n",
    "\n",
    "- **Símbolos Não Terminais (N)**: `S`, `A`\n",
    "  - Estes são os símbolos que podem ser substituídos conforme as regras de produção da gramática.\n",
    "\n",
    "- **Símbolos Terminais (Σ)**: `0`, `1`, `3`\n",
    "  - Estes são os símbolos que aparecem na forma final das sentenças e não são substituídos por outras regras.\n",
    "\n",
    "- **Produções (P)**:\n",
    "  - `S -> 0S33`: Esta regra indica que o símbolo não terminal `S` pode ser substituído por `0S33`.\n",
    "  - `S -> A`: Esta regra indica que o símbolo não terminal `S` também pode ser substituído por `A`.\n",
    "  - `A -> 1`: Esta regra indica que o símbolo não terminal `A` pode ser substituído por `1`.\n",
    "\n",
    "- **Símbolo Inicial**: `S`\n",
    "  - `S` é o ponto de partida para a geração de sentenças na linguagem definida pela gramática.\n",
    "\n",
    "ou, \n",
    "\n",
    "$G = (V, \\Sigma, P, S)$, com:\n",
    "\n",
    "- $V = \\{ 0, 1, 3, S, A \\}$\n",
    "- $\\Sigma = \\{ 0, 1, 3 \\}$\n",
    "- $N = \\{ S, A \\}$\n",
    "- $P = \\{ S \\to 0S33, S \\to A, A \\to 1 \\}$\n",
    "\n",
    "\n",
    "Este conjunto de regras forma a gramática. Em python, realizar derivações para somente o 'S' e sua primeira possibilidade, que pode ser representada em Python como:\n",
    "\n",
    "```python\n",
    "P = {'S': ['0S33', 'A'], 'A': ['1']}\n",
    "simbolo_inicial = 'S'\n"
   ]
  },
  {
   "cell_type": "code",
   "execution_count": 6,
   "metadata": {},
   "outputs": [
    {
     "name": "stdout",
     "output_type": "stream",
     "text": [
      "Forma sentencial gerada: 0S33\n"
     ]
    }
   ],
   "source": [
    "def gerar_forma_sentencial(P, simbolo_inicial):\n",
    "    # Verifica se o símbolo inicial tem produções na gramática\n",
    "    #S\n",
    "    if simbolo_inicial in P:\n",
    "        # Escolhe a primeira produção disponível para o símbolo inicial\n",
    "        # P[S][0] = 0S33\n",
    "        producao = P[simbolo_inicial][0]\n",
    "        # Gera a forma sentencial substituindo o símbolo inicial pela produção\n",
    "        forma_sentencial = simbolo_inicial.replace(simbolo_inicial, producao)\n",
    "        return forma_sentencial\n",
    "    return simbolo_inicial  # Retorna o próprio símbolo se não houver produções\n",
    "\n",
    "# Exemplo de uso\n",
    "P = {'S': ['0S33', 'A'], 'A': ['1']}\n",
    "simbolo_inicial = 'S'\n",
    "forma_sentencial = gerar_forma_sentencial(P, simbolo_inicial)\n",
    "print(\"Forma sentencial gerada:\", forma_sentencial)\n"
   ]
  },
  {
   "cell_type": "markdown",
   "metadata": {},
   "source": [
    "- A função gerar_forma_sentencial aceita uma gramática (gramatica) e um símbolo inicial (simbolo_inicial).\n",
    "- Primeiro, verifica se o símbolo inicial tem regras de produção associadas na gramática.\n",
    "- Se houver produções disponíveis, a função seleciona a primeira produção da lista para esse símbolo.\n",
    "- Então, substitui o símbolo inicial na forma sentencial pela produção escolhida, criando assim uma nova forma sentencial.\n",
    "- Se o símbolo inicial não tiver produções na gramática, a função simplesmente retorna o próprio símbolo inicial, indicando que nenhuma derivação foi possível.\n",
    "- O resultado é a nova forma sentencial após aplicar uma única derivação direta a partir do símbolo inicial."
   ]
  },
  {
   "cell_type": "markdown",
   "metadata": {},
   "source": [
    "#### Questão 1"
   ]
  },
  {
   "cell_type": "markdown",
   "metadata": {},
   "source": [
    "Escreva uma função em Python chamada gerar_derivações que recebe a gramática anterior, um símbolo inicial, e um número máximo de derivações. A função deve gerar todas as formas sentenciais possíveis para a primeira substituição (S e sua primeira substituição somente) dentro do limite de derivações. Exemplo: S no nível 0, 0S33, no nível 1, 00S3333 no nível 2, 000S333333 no nivel 3 e assim por diante."
   ]
  },
  {
   "cell_type": "code",
   "execution_count": null,
   "metadata": {},
   "outputs": [
    {
     "name": "stdout",
     "output_type": "stream",
     "text": [
      "Forma sentencial após 2 derivações: 00S3333\n"
     ]
    }
   ],
   "source": [
    "def gerar_forma_sentencial(P, forma_sentencial):\n",
    "    nova_forma = forma_sentencial\n",
    "    # S\n",
    "    # 0S33\n",
    "    for simbolo in forma_sentencial:\n",
    "        if simbolo in P:\n",
    "            producao = P[simbolo][0]\n",
    "            nova_forma = nova_forma.replace(simbolo, producao, 1)\n",
    "            # 0S33\n",
    "            # 00S3333\n",
    "            break  # Apenas uma substituição por derivação\n",
    "    return nova_forma\n",
    "\n",
    "def gerar_derivacoes(P, simbolo_inicial, n):\n",
    "    forma_atual = simbolo_inicial\n",
    "    for _ in range(n):\n",
    "        # S\n",
    "        # 0S33\n",
    "        # 0 0S33 33\n",
    "        # 00 0S33 3333\n",
    "        forma_atual = gerar_forma_sentencial(P, forma_atual)\n",
    "    return forma_atual\n",
    "\n",
    "# Exemplo de uso\n",
    "P = {'S': ['0S33', 'A'], 'A': ['1']}\n",
    "simbolo_inicial = 'S'\n",
    "num_derivacoes = 2\n",
    "forma_sentencial = gerar_derivacoes(P, simbolo_inicial, num_derivacoes)\n",
    "print(\"Forma sentencial após\", num_derivacoes, \"derivações:\", forma_sentencial)\n"
   ]
  },
  {
   "cell_type": "markdown",
   "metadata": {},
   "source": [
    "- `gerar_forma_sentencial`: Esta função gera a próxima forma sentencial pela aplicação da primeira produção encontrada para o símbolo inicial.\n",
    "- `gerar_derivacoes`: Esta função controla o número de derivações a serem realizadas. Ela inicia com o simbolo_inicial e aplica a função gerar_forma_sentencial repetidamente, conforme o número de derivações (n) especificado.\n",
    "- A cada iteração do loop, forma_atual é atualizada para a nova forma sentencial gerada pela função gerar_forma_sentencial.\n",
    "- Após completar o número de derivações desejado, a última forma sentencial é retornada."
   ]
  },
  {
   "cell_type": "markdown",
   "metadata": {},
   "source": [
    "#### Questão 2"
   ]
  },
  {
   "cell_type": "markdown",
   "metadata": {},
   "source": [
    "Escreva uma função em Python chamada gerar_formas_sentenciais que, dada uma gramática simples e um símbolo inicial, gera `todas` as derivações `somente para um determinado nível de derivações`, ou seja, derivações para todos os símbolos deriváveis no nível N. Por exemplo, dada as regras ${'S': ['0S33', 'A'], 'A': ['1']}$ e o símbolo inicial $S$, a função deve ser capaz de gerar formas sentenciais como {'S'} para o nível 0, {'0S33', 'A'} para o nível 1, {'0A33', '00S3333', '1'} para o nível 2, e assim por diante."
   ]
  },
  {
   "cell_type": "code",
   "execution_count": null,
   "metadata": {},
   "outputs": [
    {
     "name": "stdout",
     "output_type": "stream",
     "text": [
      "Formas sentenciais geradas: {'0S33', 'A'}\n"
     ]
    }
   ],
   "source": [
    "def gerar_forma_sentencial(P, forma_sentencial):\n",
    "    nova_forma = []\n",
    "    # forma_sentencial = S\n",
    "    for simbolo in forma_sentencial:\n",
    "        # simbolo = S\n",
    "        if simbolo in P:\n",
    "            # producao = 0S33\n",
    "            for producao in P[simbolo]:\n",
    "                nova_forma.append(forma_sentencial.replace(simbolo, producao, 1))\n",
    "                # nova_forma.append('0S33')\n",
    "                # nova_forma.append('A')\n",
    "                ## 1\n",
    "            break  # Para considerar a primeira substituição possível para o símbolo\n",
    "    return nova_forma if nova_forma else [forma_sentencial]\n",
    "\n",
    "def gerar_derivacoes(P, simbolo_inicial, n):\n",
    "    formas_sentenciais = [simbolo_inicial]\n",
    "    for _ in range(n):\n",
    "        novas_formas = []\n",
    "        # Formas sententenciais = ['S']\n",
    "        for forma in formas_sentenciais:\n",
    "            # forma = S\n",
    "            # novas_formas = ['']\n",
    "            novas_formas.extend(gerar_forma_sentencial(P, forma))\n",
    "            # novas_formas = ['0S33', `A`]\n",
    "        formas_sentenciais = novas_formas\n",
    "        # formas_sentenciais = ['S']\n",
    "    return set(formas_sentenciais)\n",
    "\n",
    "# Exemplo de uso\n",
    "P = {'S': ['0S33', 'A'], 'A': ['1']}\n",
    "simbolo_inicial = 'S'\n",
    "max_derivacoes = 1\n",
    "formas_sentenciais = gerar_derivacoes(P, simbolo_inicial, max_derivacoes)\n",
    "print(\"Formas sentenciais geradas:\", formas_sentenciais)\n"
   ]
  },
  {
   "cell_type": "markdown",
   "metadata": {},
   "source": [
    "#### Questão 3"
   ]
  },
  {
   "cell_type": "markdown",
   "metadata": {},
   "source": [
    "Escreva uma função em Python chamada gerar_formas_sentenciais que, dada uma gramática simples e um símbolo inicial, gera as `todas` as derivações `para todos os níveis de derivações`, ou seja, derivações para todos os símbolos deriváveis até nível N. Por exemplo, dada as regras ${'S': ['0S33', 'A'], 'A': ['1']}$ e o símbolo inicial $S$, a função deve ser capaz de gerar formas sentenciais como {'S'} para o nível 0, {'0S33', 'S', 'A'} para o nível 1, {'0A33', '0S33', 'A', '1', 'S', '00S3333'} para o nível 2, e assim por diante.\n",
    "Dica: Use o código da questão anterior e modifique uma única linha!"
   ]
  },
  {
   "cell_type": "code",
   "execution_count": 14,
   "metadata": {},
   "outputs": [
    {
     "name": "stdout",
     "output_type": "stream",
     "text": [
      "Formas sentenciais geradas: {'0A33', '0S33', 'A', '1', 'S', '00S3333'}\n"
     ]
    }
   ],
   "source": [
    "def gerar_forma_sentencial(gramatica, forma_sentencial):\n",
    "    nova_forma = []\n",
    "    for simbolo in forma_sentencial:\n",
    "        if simbolo in gramatica:\n",
    "            for producao in gramatica[simbolo]:\n",
    "                nova_forma.append(forma_sentencial.replace(simbolo, producao, 1))\n",
    "            break  # Para considerar a primeira substituição possível para o símbolo\n",
    "    return nova_forma if nova_forma else [forma_sentencial]\n",
    "\n",
    "def gerar_derivacoes(gramatica, simbolo_inicial, n):\n",
    "    formas_sentenciais = [simbolo_inicial]\n",
    "    for _ in range(n):\n",
    "        novas_formas = []\n",
    "        for forma in formas_sentenciais:\n",
    "            novas_formas.extend(gerar_forma_sentencial(gramatica, forma))\n",
    "        # Linha modificada\n",
    "        # formas_sentenciais = novas_formas\n",
    "        formas_sentenciais.extend(novas_formas)\n",
    "    return set(formas_sentenciais)\n",
    "\n",
    "# Exemplo de uso\n",
    "gramatica = {'S': ['0S33', 'A'], 'A': ['1']}\n",
    "simbolo_inicial = 'S'\n",
    "max_derivacoes = 2\n",
    "formas_sentenciais = gerar_derivacoes(gramatica, simbolo_inicial, max_derivacoes)\n",
    "print(\"Formas sentenciais geradas:\", formas_sentenciais)\n"
   ]
  },
  {
   "cell_type": "markdown",
   "metadata": {},
   "source": [
    "#### outra forma de resolver"
   ]
  },
  {
   "cell_type": "code",
   "execution_count": 53,
   "metadata": {},
   "outputs": [
    {
     "name": "stdout",
     "output_type": "stream",
     "text": [
      "Formas sentenciais geradas: {'0133', '00S3333', '0S33', '00A3333', '000S333333', 'A', 'S', '0A33', '1'}\n"
     ]
    }
   ],
   "source": [
    "def gerar_formas_sentenciais(gramatica, simbolo_inicial, max_derivacoes):\n",
    "    formas_sentenciais = [simbolo_inicial]\n",
    "    for _ in range(max_derivacoes):\n",
    "        novas_formas = []\n",
    "        for forma in formas_sentenciais:\n",
    "            for simbolo in forma:\n",
    "                if simbolo in gramatica:\n",
    "                    for producao in gramatica[simbolo]:\n",
    "                        novas_formas.append(forma.replace(simbolo, producao, 1))\n",
    "        formas_sentenciais.extend(novas_formas)\n",
    "    return set(formas_sentenciais)\n",
    "\n",
    "# Exemplo de uso\n",
    "gramatica = {'S': ['0S33', 'A'], 'A': ['1']}\n",
    "simbolo_inicial = 'S'\n",
    "max_derivacoes = 3\n",
    "formas_sentenciais = gerar_formas_sentenciais(gramatica, simbolo_inicial, max_derivacoes)\n",
    "print(\"Formas sentenciais geradas:\", formas_sentenciais)\n"
   ]
  },
  {
   "cell_type": "markdown",
   "metadata": {},
   "source": [
    "### Continuação"
   ]
  },
  {
   "cell_type": "markdown",
   "metadata": {},
   "source": [
    "#### Exemplos"
   ]
  },
  {
   "cell_type": "markdown",
   "metadata": {},
   "source": [
    "Dado $G_1 = (V_1, \\Sigma_1, P_1, S)$, com:\n",
    "\n",
    "- $V_1 = \\{ 0,1,2,3,S,A \\}$\n",
    "- $\\Sigma_1 = \\{ 0, 1, 2, 3 \\}$\n",
    "- $N_1 = \\{ S, A \\}$\n",
    "- $P_1 = \\{ S \\to 0S33, S \\to A, A \\to 12, A \\to \\epsilon \\}$\n",
    "\n",
    "\n",
    "Considerando a gramática $G_1$ definida anteriormente, temos os seguintes exemplos de derivações e sentenças:\n",
    "\n",
    "- Derivações não-triviais:\n",
    "  - $S \\overset{+}{\\implies} 0S33$: Aplicando uma vez a produção $S \\to 0S33$.\n",
    "  - $S \\overset{+}{\\implies} 00A3333$: Aplicando duas vezes a produção $S \\to 0S33$, seguido por $S \\to A$.\n",
    "  \n",
    "- Derivações:\n",
    "  - $00S3333 \\overset{*}{\\implies} 00S3333$: Aqui, não aplicamos nenhuma produção, portanto, a cadeia permanece a mesma.\n",
    "  - $0S33 \\overset{*}{\\implies} 00A3333$: Aplicando primeiro $S \\to 0S33$ e depois $S \\to A$.\n",
    "\n",
    "- Sentenças:\n",
    "  - $12$: Obtida diretamente pela produção $A \\to 12$.\n",
    "  - $00123333$: Obtida por uma série de derivações a partir de $S$, passando por $0S33$, $00S3333$, $00A3333$ e finalmente $00123333$.\n",
    "\n",
    "\n",
    "\n"
   ]
  },
  {
   "cell_type": "markdown",
   "metadata": {},
   "source": [
    "### Linguagem definida pela Gramática G"
   ]
  },
  {
   "cell_type": "markdown",
   "metadata": {},
   "source": [
    "Quando falamos sobre a \"linguagem definida por uma gramática $G$\", estamos nos referindo ao conjunto completo de sentenças que podem ser geradas usando as regras dessa gramática. Essas sentenças são sequências de símbolos terminais, que são os elementos finais da linguagem.\n",
    "\n",
    "**Formalmente**\n",
    "\n",
    "A linguagem $L(G)$ de uma gramática $G$ é o conjunto de todas as sentenças $w$ que podem ser formadas a partir do símbolo inicial $S$ da gramática, utilizando suas regras de produção:\n",
    "\n",
    "$L(G) = \\{ w \\in \\Sigma^* | S \\overset{+}{\\implies} w \\}$\n",
    "\n",
    "- $\\Sigma^*$ representa o conjunto de todas as possíveis sequências de símbolos terminais.\n",
    "- $S \\overset{+}{\\implies} w$ significa que a sentença $w$ pode ser derivada do símbolo inicial $S$ através de uma ou mais aplicações das regras de produção.\n"
   ]
  },
  {
   "cell_type": "markdown",
   "metadata": {},
   "source": [
    "#### Exemplo com $G_1$"
   ]
  },
  {
   "cell_type": "markdown",
   "metadata": {},
   "source": [
    "\n",
    "Para a gramática $G_1$, a linguagem $L_1(G_1)$ pode ser expressa como:\n",
    "\n",
    "$L_1(G_1) = \\{ 0^m 1^n 2^n 3^{2m} | m \\geq 0\\ e\\ (n=0\\ ou\\ n=1 )\\}$\n",
    "\n",
    "Isso significa que as sentenças em $L_1(G_1)$ são formadas por uma série de '0's seguidos por um número igual de '1's e '2's e, finalmente, o dobro do número de '0's em '3's. Aqui, $m$ pode ser zero ou mais, enquanto $n$ pode ser zero ou um.\n",
    "\n",
    "**Exemplos de Sentenças**\n",
    "\n",
    "Exemplos de sentenças que podem ser geradas por $G_1$ incluem:\n",
    "\n",
    "- $\\epsilon$ (cadeia vazia, para $m = 0$ e $n = 0$)\n",
    "- $12$ (para $m = 0$ e $n = 1$)\n",
    "- $033$ (para $m = 1$ e $n = 0$)\n",
    "- $01233$ (para $m = 1$ e $n = 1$)\n",
    "- $003333$ (para $m = 2$ e $n = 0$)\n",
    "- $00123333$ (para $m = 2$ e $n = 1$)\n",
    "\n",
    "Estes exemplos ilustram como as regras de produção de $G_1$ são aplicadas para criar sentenças válidas na linguagem definida pela gramática."
   ]
  },
  {
   "cell_type": "markdown",
   "metadata": {},
   "source": [
    "#### Gramática $G_2$"
   ]
  },
  {
   "cell_type": "markdown",
   "metadata": {},
   "source": [
    "Vamos analisar a gramática $G_2$ e entender como a sentença \"aabbcc\" pode ser gerada a partir dela.\n",
    "\n",
    "**Definição de $G_2$**\n",
    "\n",
    "Considere a gramática $G_2 = (V_2, \\Sigma_2, P_2, S)$, definida como:\n",
    "\n",
    "- $V_2 = \\{ a, b, c, S, B, C \\}$\n",
    "  - Este é o conjunto de todos os símbolos utilizados na gramática, incluindo tanto símbolos terminais quanto não terminais.\n",
    "- $\\Sigma_2 = \\{ a, b, c \\}$\n",
    "  - Este é o conjunto de símbolos terminais, ou seja, os elementos que aparecem na forma final das sentenças geradas pela gramática.\n",
    "- $P_2$ contém as regras de produção:\n",
    "  - $S \\to aSBC$\n",
    "  - $S \\to abC$\n",
    "  - $CB \\to BC$\n",
    "  - $bB \\to bb$\n",
    "  - $bC \\to bc$\n",
    "  - $cC \\to cc$\n",
    "  - Estas regras definem como os símbolos não terminais podem ser substituídos para formar sentenças.\n",
    "\n",
    "**Linguagem $L_2(G_2)$**\n",
    "\n",
    "A linguagem gerada por $G_2$ é denotada por $L_2(G_2)$ e consiste em todas as sentenças que podem ser geradas seguindo as regras de produção de $G_2$:\n",
    "\n",
    "- $L_2(G_2) = \\{ a^n b^n c^n | n \\geq 1 \\}$\n",
    "  - Isso significa que a linguagem contém sentenças com números iguais de 'a's, 'b's e 'c's em sequência, começando com pelo menos um de cada.\n",
    "\n",
    "**Geração da Sentença \"aabbcc\"**\n",
    "\n",
    "Para entender como a sentença \"aabbcc\" é gerada usando $G_2$, siga estas etapas de derivação:\n",
    "\n",
    "1. **Comece com o símbolo inicial $S$.**\n",
    "   - Iniciamos com o símbolo inicial da gramática, $S$.\n",
    "\n",
    "2. **Aplicar a regra $S \\to aSBC$**\n",
    "   - Substituindo $S$ por \"aSBC\", obtemos \"`aSBC`\".\n",
    "\n",
    "3. **Aplicar a regra $S \\to abC$**\n",
    "   - Na cadeia \"aSBC\", substituímos o $S$ por \"abC\", resultando em \"a`abC`BC\".\n",
    "\n",
    "4. **Aplicar a regra $CB \\to BC$**\n",
    "   - Na cadeia \"aabCBC\", aplicamos a regra $CB \\to BC$ para trocar a posição dos símbolos, levando a \"aab`BC`C\".\n",
    "\n",
    "5. **Aplicar a regra $bB \\to bb$**\n",
    "   - Usando a regra $bB \\to bb$, transformamos \"aabBCC\" em \"aa`bb`CC\".\n",
    "\n",
    "6. **Aplicar a regra $bC \\to bc$**\n",
    "   - Em seguida, aplicamos a regra $bC \\to bc$ em \"aabbCC\", o que resulta em \"aab`bc`C\".\n",
    "\n",
    "7. **Aplicar a regra $cC \\to cc$**\n",
    "   - Finalmente, aplicando $cC \\to cc$ em \"aabbcC\", obtemos \"aabb`cc`\".\n",
    "\n",
    "Portanto, a sequência correta de derivações para obter \"aabbcc\" de $G_2$ é:\n",
    "\n",
    "$S \\implies aSBC \\implies aaSBCC \\implies aabCBCC \\implies aabBCCC \\implies aabbCCC \\implies aabbcc$\n",
    "\n",
    "Isso é realizado pelas produções:\n",
    "\n",
    "$S \\to aSBC, S \\to abC, CB \\to BC, bB \\to bb, cC \\to cc$\n",
    "\n",
    "\n",
    "Com isso, seguimos as etapas corretas de derivação usando as produções fornecidas pela gramática $G_2$, alcançando a sentença \"aabbcc\".\n",
    "É importante notar que a formação da sentença \"aabbcc\" da gramática $G_2$ envolve uma sequência estratégica de aplicações das regras de produção, garantindo que cada 'a', 'b', e 'c' esteja na ordem correta e em números iguais.\n",
    "\n"
   ]
  },
  {
   "cell_type": "markdown",
   "metadata": {},
   "source": [
    "#### Exemplo\n",
    "Podemos fazer um código que faça uma geração direta de todas as cadeias. Mas essa resolução adiciona mais complexidade.\n"
   ]
  },
  {
   "cell_type": "code",
   "execution_count": 2,
   "metadata": {},
   "outputs": [
    {
     "name": "stdout",
     "output_type": "stream",
     "text": [
      "Início: Sigma^0 = {''}\n",
      "\n",
      "Gerando Sigma^1 (comprimento 1):\n",
      "Adicionando 'a' à lista de cadeias\n",
      "Adicionando 'b' à lista de cadeias\n",
      "Sigma^1 = ['a', 'b']\n",
      "\n",
      "Gerando Sigma^2 (comprimento 2):\n",
      "Adicionando 'a' à lista de cadeias\n",
      "Adicionando 'b' à lista de cadeias\n",
      "Adicionando 'aa' à lista de cadeias\n",
      "Adicionando 'ab' à lista de cadeias\n",
      "Adicionando 'ba' à lista de cadeias\n",
      "Adicionando 'bb' à lista de cadeias\n",
      "Sigma^2 = ['a', 'b', 'aa', 'ab', 'ba', 'bb']\n",
      "\n",
      "Gerando Sigma^3 (comprimento 3):\n",
      "Adicionando 'a' à lista de cadeias\n",
      "Adicionando 'b' à lista de cadeias\n",
      "Adicionando 'aa' à lista de cadeias\n",
      "Adicionando 'ab' à lista de cadeias\n",
      "Adicionando 'ba' à lista de cadeias\n",
      "Adicionando 'bb' à lista de cadeias\n",
      "Adicionando 'aa' à lista de cadeias\n",
      "Adicionando 'ab' à lista de cadeias\n",
      "Adicionando 'ba' à lista de cadeias\n",
      "Adicionando 'bb' à lista de cadeias\n",
      "Adicionando 'aaa' à lista de cadeias\n",
      "Adicionando 'aab' à lista de cadeias\n",
      "Adicionando 'aba' à lista de cadeias\n",
      "Adicionando 'abb' à lista de cadeias\n",
      "Adicionando 'baa' à lista de cadeias\n",
      "Adicionando 'bab' à lista de cadeias\n",
      "Adicionando 'bba' à lista de cadeias\n",
      "Adicionando 'bbb' à lista de cadeias\n",
      "Sigma^3 = ['a', 'b', 'aa', 'ab', 'ba', 'bb', 'aa', 'ab', 'ba', 'bb', 'aaa', 'aab', 'aba', 'abb', 'baa', 'bab', 'bba', 'bbb']\n",
      "\n",
      "Cadeias de caracteres formadas pelo alfabeto até o comprimento 3 (Sigma^*):\n",
      "['', 'a', 'b', 'a', 'b', 'aa', 'ab', 'ba', 'bb', 'a', 'b', 'aa', 'ab', 'ba', 'bb', 'aa', 'ab', 'ba', 'bb', 'aaa', 'aab', 'aba', 'abb', 'baa', 'bab', 'bba', 'bbb']\n"
     ]
    }
   ],
   "source": [
    "# Definindo o alfabeto\n",
    "sigma = ['a', 'b']\n",
    "\n",
    "# Função para gerar e imprimir cadeias do alfabeto até um comprimento máximo\n",
    "def generate_and_print_chains(alfabeto, max_length):\n",
    "    chains = ['']  # Inicia com a cadeia vazia (para Sigma^0)\n",
    "    print(\"Início: Sigma^0 = {''}\")\n",
    "\n",
    "    for length in range(1, max_length + 1):\n",
    "        new_chains = []\n",
    "        print(f\"\\nGerando Sigma^{length} (comprimento {length}):\")\n",
    "        \n",
    "        for chain in chains:\n",
    "            for character in alfabeto:\n",
    "                new_chain = chain + character\n",
    "                new_chains.append(new_chain)\n",
    "                print(f\"Adicionando '{new_chain}' à lista de cadeias\")\n",
    "        \n",
    "        print(f\"Sigma^{length} = {new_chains}\")\n",
    "        chains.extend(new_chains)  # Extenda após a impressão para manter o rastreamento correto\n",
    "\n",
    "    return chains\n",
    "\n",
    "# Gerando e exibindo cadeias até o comprimento 3\n",
    "sigma_star = generate_and_print_chains(sigma, 3)\n",
    "print(\"\\nCadeias de caracteres formadas pelo alfabeto até o comprimento 3 (Sigma^*):\")\n",
    "print(sigma_star)\n"
   ]
  },
  {
   "cell_type": "markdown",
   "metadata": {},
   "source": [
    "#### Questão 5"
   ]
  },
  {
   "cell_type": "markdown",
   "metadata": {},
   "source": [
    "Parece que há uma confusão está no loop que gera as novas cadeias, pois cadeias de passos anteriores estão sendo  repetidas. Dessa forma, precisamos garantir que cada conjunto de cadeias de um determinado comprimento seja gerado corretamente antes de prosseguir para o próximo comprimento. Corrija o problema com uma linha de código"
   ]
  },
  {
   "cell_type": "code",
   "execution_count": 5,
   "metadata": {},
   "outputs": [
    {
     "name": "stdout",
     "output_type": "stream",
     "text": [
      "Início: Sigma^0 = {''}\n",
      "\n",
      "Gerando Sigma^1 (comprimento 1):\n",
      "Adicionando 'a' à lista de cadeias\n",
      "Adicionando 'b' à lista de cadeias\n",
      "Sigma^1 = ['a', 'b']\n",
      "\n",
      "Gerando Sigma^2 (comprimento 2):\n",
      "Adicionando 'aa' à lista de cadeias\n",
      "Adicionando 'ab' à lista de cadeias\n",
      "Adicionando 'ba' à lista de cadeias\n",
      "Adicionando 'bb' à lista de cadeias\n",
      "Sigma^2 = ['aa', 'ab', 'ba', 'bb']\n",
      "\n",
      "Gerando Sigma^3 (comprimento 3):\n",
      "Adicionando 'aaa' à lista de cadeias\n",
      "Adicionando 'aab' à lista de cadeias\n",
      "Adicionando 'aba' à lista de cadeias\n",
      "Adicionando 'abb' à lista de cadeias\n",
      "Adicionando 'baa' à lista de cadeias\n",
      "Adicionando 'bab' à lista de cadeias\n",
      "Adicionando 'bba' à lista de cadeias\n",
      "Adicionando 'bbb' à lista de cadeias\n",
      "Sigma^3 = ['aaa', 'aab', 'aba', 'abb', 'baa', 'bab', 'bba', 'bbb']\n",
      "\n",
      "Cadeias de caracteres formadas pelo alfabeto até o comprimento 3 (Sigma^*):\n",
      "['', 'a', 'b', 'aa', 'ab', 'ba', 'bb', 'aaa', 'aab', 'aba', 'abb', 'baa', 'bab', 'bba', 'bbb']\n"
     ]
    }
   ],
   "source": [
    "# Definindo o alfabeto\n",
    "sigma = ['a', 'b']\n",
    "\n",
    "# Função para gerar e imprimir cadeias do alfabeto até um comprimento máximo\n",
    "def generate_and_print_chains(alfabeto, max_length):\n",
    "    chains = ['']  # Inicia com a cadeia vazia (para Sigma^0)\n",
    "    print(\"Início: Sigma^0 = {''}\")\n",
    "\n",
    "    for length in range(1, max_length + 1):\n",
    "        new_chains = []\n",
    "        print(f\"\\nGerando Sigma^{length} (comprimento {length}):\")\n",
    "        # 2**2 = 4\n",
    "        # Gere cadeias de caracteres apenas a partir das cadeias do comprimento anterior\n",
    "        previous_chains = chains[-(len(alfabeto)**(length-1)):] if length > 1 else ['']\n",
    "        \n",
    "        for chain in previous_chains:\n",
    "            for character in alfabeto:\n",
    "                new_chain = chain + character\n",
    "                new_chains.append(new_chain)\n",
    "                print(f\"Adicionando '{new_chain}' à lista de cadeias\")\n",
    "        \n",
    "        chains.extend(new_chains)\n",
    "        print(f\"Sigma^{length} = {new_chains}\")\n",
    "\n",
    "    return chains\n",
    "\n",
    "# Gerando e exibindo cadeias até o comprimento 3\n",
    "sigma_star = generate_and_print_chains(sigma, 3)\n",
    "print(\"\\nCadeias de caracteres formadas pelo alfabeto até o comprimento 3 (Sigma^*):\")\n",
    "print(sigma_star)\n"
   ]
  },
  {
   "cell_type": "markdown",
   "metadata": {},
   "source": [
    "# Slide 50 - Gramáticas Equivalentes"
   ]
  },
  {
   "cell_type": "markdown",
   "metadata": {},
   "source": [
    "## Exemplos 1"
   ]
  },
  {
   "cell_type": "markdown",
   "metadata": {},
   "source": [
    "**Gramáticas Equivalentes**\n",
    "\n",
    "Duas ou mais gramáticas são consideradas **equivalentes** quando definem a mesma linguagem. Isso significa que, apesar de possivelmente terem regras de produção diferentes, elas geram o mesmo conjunto de sentenças.\n",
    "\n",
    "**Exemplo de Gramáticas Equivalentes**\n",
    "\n",
    "Considere as gramáticas $G_3$ e $G_4$:\n",
    "\n",
    "- $G_3 = (\\{a, b, S\\}, \\{a, b\\}, \\{S \\to aS, S \\to a, S \\to bS, S \\to b, S \\to aSb\\}, S)$\n",
    "- $G_4 = (\\{a, b, S, X \\}, \\{a, b\\}, \\{S \\to XS, S \\to X, X \\to a, X \\to b\\}, S)$\n",
    "\n",
    "**Linguagem Definida por $G_3$ e $G_4$**\n",
    "\n",
    "Ambas as gramáticas $G_3$ e $G_4$ definem a mesma linguagem, que pode ser expressa como $\\{a, b\\}^+$. Isso significa que a linguagem consiste em uma ou mais combinações dos símbolos 'a' e 'b'.\n",
    "\n",
    "- Em $G_3$, as regras permitem a geração de cadeias compostas por 'a' e 'b', onde 'a' e 'b' podem aparecer sozinhos ou seguidos por $S$, e até mesmo 'a' seguido por 'b' através de $S$.\n",
    "- Em $G_4$, a introdução de $X$ como um passo intermediário serve para gerar 'a' ou 'b', e $S$ pode ser seguido por mais $XS$, permitindo uma construção similar à de $G_3$.\n",
    "\n",
    "**Conclusão:**\n",
    "\n",
    "As gramáticas $G_3$ e $G_4$ são equivalentes porque ambas definem a mesma linguagem de cadeias não vazias de 'a' e 'b', indicadas por $\\{a, b\\}^+$, onde o símbolo '$^+$' denota uma ou mais repetições dos elementos 'a' e 'b'.\n"
   ]
  },
  {
   "cell_type": "markdown",
   "metadata": {},
   "source": [
    "**Gramáticas Equivalentes $G_3$ e $G_4$**\n",
    "\n",
    "Duas gramáticas são consideradas equivalentes se elas geram a mesma linguagem, ou seja, o conjunto de todas as sentenças que podem ser derivadas de cada gramática é o mesmo.\n",
    "\n",
    "**Gramáticas Definidas**\n",
    "\n",
    "- $G_3$ é definida como:\n",
    "  - Conjunto de símbolos: $\\{a, b, S\\}$\n",
    "  - Símbolos terminais: $\\{a, b\\}$\n",
    "  - Regras de produção:\n",
    "    - $S \\to aS$\n",
    "    - $S \\to a$\n",
    "    - $S \\to bS$\n",
    "    - $S \\to b$\n",
    "    - $S \\to aSb$\n",
    "  - Símbolo inicial: $S$\n",
    "\n",
    "- $G_4$ é definida como:\n",
    "  - Conjunto de símbolos: $\\{a, b, S, X\\}$\n",
    "  - Símbolos terminais: $\\{a, b\\}$\n",
    "  - Regras de produção:\n",
    "    - $S \\to XS$\n",
    "    - $S \\to X$\n",
    "    - $X \\to a$\n",
    "    - $X \\to b$\n",
    "  - Símbolo inicial: $S$\n",
    "\n",
    "**Linguagem Gerada por $G_3$ e $G_4$**\n",
    "\n",
    "Ambas as gramáticas geram a linguagem $\\{a, b\\}^+$, que representa todas as cadeias possíveis compostas de 'a' e 'b', com pelo menos um símbolo presente.\n",
    "\n",
    "**Exemplos de Derivações**\n",
    "\n",
    "**Em $G_3$**\n",
    "\n",
    "Para gerar a cadeia \"aab\", podemos seguir estas etapas de derivação em $G_3$:\n",
    "\n",
    "1. $S \\to aS$\n",
    "2. $aS \\to aaS$\n",
    "3. $aaS \\to aab$\n",
    "\n",
    "**Em $G_4$**\n",
    "\n",
    "Para gerar a mesma cadeia \"aab\", as etapas de derivação em $G_4$ seriam:\n",
    "\n",
    "1. $S \\to XS$\n",
    "2. $XS \\to aS$\n",
    "3. $aS \\to aXS$\n",
    "4. $aXS \\to aaS$\n",
    "5. $aaS \\to aab$\n",
    "\n",
    "**Conclusão**\n",
    "\n",
    "Embora as regras de produção em $G_3$ e $G_4$ sejam diferentes, ambas as gramáticas permitem gerar todas as possíveis combinações de 'a' e 'b', demonstrando que elas são equivalentes ao definir a mesma linguagem $\\{a, b\\}^+$.\n"
   ]
  },
  {
   "cell_type": "markdown",
   "metadata": {},
   "source": [
    "## Exemplos 2"
   ]
  },
  {
   "cell_type": "markdown",
   "metadata": {},
   "source": [
    "**Mais exemplos de Gramáticas e suas Linguagens**\n",
    "\n",
    "Considere as seguintes gramáticas e as linguagens que definem:\n",
    "\n",
    "- Gramática $G_0$\n",
    "    - **Gramática**: $G_0 = (\\{a, b, S\\}, \\{a, b\\}, \\{S \\to aS, S \\to bS, S \\to \\epsilon\\}, S)$\n",
    "    - **Linguagem**: $L_0(G_0) = \\Sigma^*$\n",
    "    - Essa gramática gera todas as cadeias possíveis, incluindo a cadeia vazia, sobre o alfabeto $\\{a, b\\}$.\n",
    "\n",
    "- Gramática $G_1$\n",
    "    - **Gramática**: $G_1 = (\\{a, b, S\\}, \\{a, b\\}, \\{S \\to aS, S \\to bS, S \\to a, S \\to b\\}, S)$\n",
    "    - **Linguagem**: $L_1(G_1) = \\Sigma^+$\n",
    "    - Esta gramática gera todas as cadeias não vazias sobre o alfabeto $\\{a, b\\}$.\n",
    "\n",
    "- Gramática $G_2$\n",
    "    - **Gramática**: $G_2 = (\\{a, b, S, X \\}, \\{a, b\\}, \\{S \\to aX, X \\to aX, X \\to bX, X \\to \\epsilon\\}, S)$\n",
    "    - **Linguagem**: $L_2(G_2)$ representa todas as cadeias sobre $\\{a,b\\}$ que começam com $a$.\n",
    "\n",
    "- Gramática $G_3$\n",
    "    - **Gramática**: $G_3 = (\\{a, b, S, X \\}, \\{a, b\\}, \\{S \\to aX, X \\to aX, X \\to bX, X \\to b\\}, S)$\n",
    "    - **Linguagem**: $L_3(G_3)$ define todas as cadeias sobre $\\{a,b\\}$ que começam com $a$ e terminam com $b$.\n",
    "\n",
    "- Gramática $G_4$\n",
    "    - **Gramática**: $G_4 = (\\{a, b, S, X \\}, \\{a, b\\}, \\{S \\to XbXbX, X \\to aX, X \\to \\epsilon\\}, S)$\n",
    "    - **Linguagem**: $L_4(G_4)$ engloba todas as cadeias sobre $\\{a,b\\}$ que contêm exatamente dois $bs$.\n",
    "\n",
    "- Gramática $G_5$\n",
    "    - **Gramática**: $G_5 = (\\{a, b, S, X \\}, \\{a, b\\}, \\{S \\to bX, X \\to aX, X \\to \\epsilon\\}, S)$\n",
    "    - **Linguagem**: $L_5(G_5)$ inclui todas as cadeias sobre $\\{a,b\\}$ que começam com um único $b$ e tem 0 ou mais $as$.\n",
    "\n",
    "Cada uma dessas gramáticas especifica regras que formam as estruturas das cadeias em suas respectivas linguagens, ilustrando a diversidade e a flexibilidade das gramáticas na definição de conjuntos específicos de cadeias.\n"
   ]
  },
  {
   "cell_type": "markdown",
   "metadata": {},
   "source": [
    "**Detalhamento das Gramáticas e Suas Linguagens Equivalentes**\n",
    "\n",
    "**Gramática $G_0$**\n",
    "- **Gramática**: $G_0 = (\\{a, b, S\\}, \\{a, b\\}, \\{S \\to aS, S \\to bS, S \\to \\epsilon\\}, S)$\n",
    "- **Linguagem**: $L_0(G_0) = \\Sigma^*$\n",
    "  - Esta gramática gera todas as cadeias possíveis, incluindo a cadeia vazia, sobre o alfabeto $\\{a, b\\}$.\n",
    "  - **Exemplo de derivação**:\n",
    "    - $S \\to aS \\to abS \\to ab$\n",
    "\n",
    "**Gramática $G_1$**\n",
    "- **Gramática**: $G_1 = (\\{a, b, S\\}, \\{a, b\\}, \\{S \\to aS, S \\to bS, S \\to a, S \\to b\\}, S)$\n",
    "- **Linguagem**: $L_1(G_1) = \\Sigma^+$\n",
    "  - Esta gramática gera todas as cadeias não vazias sobre o alfabeto $\\{a, b\\}$.\n",
    "  - **Exemplo de derivação**:\n",
    "    - $S \\to aS \\to aaS \\to aab$\n",
    "\n",
    "**Gramática $G_2$**\n",
    "- **Gramática**: $G_2 = (\\{a, b, S, X \\}, \\{a, b\\}, \\{S \\to aX, X \\to aX, X \\to bX, X \\to \\epsilon\\}, S)$\n",
    "- **Linguagem**: $L_2(G_2)$ representa todas as cadeias sobre $\\{a,b\\}$ que começam com $a$.\n",
    "  - **Exemplo de derivação**:\n",
    "    - $S \\to aX \\to aaX \\to aab$\n",
    "\n",
    "**Gramática $G_3$**\n",
    "- **Gramática**: $G_3 = (\\{a, b, S, X \\}, \\{a, b\\}, \\{S \\to aX, X \\to aX, X \\to bX, X \\to b\\}, S)$\n",
    "- **Linguagem**: $L_3(G_3)$ define todas as cadeias sobre $\\{a,b\\}$ que começam com $a$ e terminam com $b$.\n",
    "  - **Exemplo de derivação**:\n",
    "    - $S \\to aX \\to aaX \\to aab$\n",
    "\n",
    "**Gramática $G_4$**\n",
    "- **Gramática**: $G_4 = (\\{a, b, S, X \\}, \\{a, b\\}, \\{S \\to XbXbX, X \\to aX, X \\to \\epsilon\\}, S)$\n",
    "- **Linguagem**: $L_4(G_4)$ engloba todas as cadeias sobre $\\{a,b\\}$ que contêm exatamente dois $b$s.\n",
    "  - **Exemplo de derivação**:\n",
    "    - $S \\to XbXbX \\to abXbX \\to abbX \\to abb$\n",
    "\n",
    "**Gramática $G_5$**\n",
    "- **Gramática**: $G_5 = (\\{a, b, S, X \\}, \\{a, b\\}, \\{S \\to bX, X \\to aX, X \\to \\epsilon\\}, S)$\n",
    "- **Linguagem**: $L_5(G_5)$ inclui todas as cadeias sobre $\\{a,b\\}$ que começam com um único $b$.\n",
    "  - **Exemplo de derivação**:\n",
    "    - $S \\to bX \\to baX \\to baa$\n",
    "\n",
    "**Conclusão sobre Equivalências**\n",
    "- $G_0$ e $G_1$ são semelhantes, mas $G_0$ inclui a cadeia vazia (representada por $\\epsilon$), enquanto $G_1$ não.\n",
    "- As gramáticas $G_2$, $G_3$, $G_4$ e $G_5$ definem subconjuntos específicos do alfabeto $\\{a, b\\}$, com restrições como cadeias que começam ou terminam com um determinado símbolo ou contêm um número exato de um símbolo.\n"
   ]
  },
  {
   "cell_type": "markdown",
   "metadata": {},
   "source": [
    "# Old"
   ]
  },
  {
   "cell_type": "markdown",
   "metadata": {},
   "source": [
    "#### Questão 6"
   ]
  },
  {
   "cell_type": "markdown",
   "metadata": {},
   "source": [
    "Neste código, ajustamos a lógica para que previous_chains armazene as cadeias do comprimento imediatamente anterior, evitando a repetição de cadeias ao gerar as de comprimento superior. Agora, para cada novo comprimento, o programa concatena caracteres apenas às cadeias do comprimento anterior, o que deve eliminar as repetições e erros na geração das cadeias. Podemos ainda usar uma estrutura de dados chamada `set`. Essa estrutura de dados evita de guardarmos elementos repetidos, mesmo que tentemos fazer. Resolva o problema usando essa estrutura de dados"
   ]
  },
  {
   "cell_type": "code",
   "execution_count": 6,
   "metadata": {},
   "outputs": [
    {
     "name": "stdout",
     "output_type": "stream",
     "text": [
      "Início: Sigma^0 = {''}\n",
      "\n",
      "Gerando Sigma^1 (comprimento 1):\n",
      "Adicionando 'a' à lista de cadeias\n",
      "Adicionando 'b' à lista de cadeias\n",
      "Sigma^1 = ['a', 'b']\n",
      "\n",
      "Gerando Sigma^2 (comprimento 2):\n",
      "Adicionando 'a' à lista de cadeias\n",
      "Adicionando 'b' à lista de cadeias\n",
      "Adicionando 'aa' à lista de cadeias\n",
      "Adicionando 'ab' à lista de cadeias\n",
      "Adicionando 'ba' à lista de cadeias\n",
      "Adicionando 'bb' à lista de cadeias\n",
      "Sigma^2 = ['bb', 'ba', 'aa', 'b', 'ab', 'a']\n",
      "\n",
      "Gerando Sigma^3 (comprimento 3):\n",
      "Adicionando 'a' à lista de cadeias\n",
      "Adicionando 'b' à lista de cadeias\n",
      "Adicionando 'bba' à lista de cadeias\n",
      "Adicionando 'bbb' à lista de cadeias\n",
      "Adicionando 'baa' à lista de cadeias\n",
      "Adicionando 'bab' à lista de cadeias\n",
      "Adicionando 'aaa' à lista de cadeias\n",
      "Adicionando 'aab' à lista de cadeias\n",
      "Adicionando 'ba' à lista de cadeias\n",
      "Adicionando 'bb' à lista de cadeias\n",
      "Adicionando 'aba' à lista de cadeias\n",
      "Adicionando 'abb' à lista de cadeias\n",
      "Adicionando 'aa' à lista de cadeias\n",
      "Adicionando 'ab' à lista de cadeias\n",
      "Sigma^3 = ['baa', 'bb', 'abb', 'ba', 'bba', 'aa', 'b', 'aab', 'bbb', 'ab', 'aba', 'aaa', 'bab', 'a']\n",
      "\n",
      "Cadeias de caracteres formadas pelo alfabeto até o comprimento 3 (Sigma^*):\n",
      "['', 'a', 'aa', 'aaa', 'aab', 'ab', 'aba', 'abb', 'b', 'ba', 'baa', 'bab', 'bb', 'bba', 'bbb']\n"
     ]
    }
   ],
   "source": [
    "# Definindo o alfabeto\n",
    "sigma = ['a', 'b']\n",
    "\n",
    "# Função para gerar e imprimir cadeias do alfabeto até um comprimento máximo\n",
    "def generate_and_print_chains(alfabeto, max_length):\n",
    "    chains = set([''])  # Inicia com a cadeia vazia (para Sigma^0) em um conjunto\n",
    "    print(\"Início: Sigma^0 = {''}\")\n",
    "\n",
    "    for length in range(1, max_length + 1):\n",
    "        print(f\"\\nGerando Sigma^{length} (comprimento {length}):\")\n",
    "        \n",
    "        new_chains = set()\n",
    "        for chain in chains:\n",
    "            for character in alfabeto:\n",
    "                new_chain = chain + character\n",
    "                new_chains.add(new_chain)  # Adiciona a nova cadeia ao conjunto\n",
    "                print(f\"Adicionando '{new_chain}' à lista de cadeias\")\n",
    "\n",
    "        chains = chains.union(new_chains)  # Une o conjunto atual com o novo conjunto de cadeias\n",
    "        print(f\"Sigma^{length} = {list(new_chains)}\")\n",
    "\n",
    "    return chains\n",
    "\n",
    "# Gerando e exibindo cadeias até o comprimento 3\n",
    "sigma_star = generate_and_print_chains(sigma, 3)\n",
    "print(\"\\nCadeias de caracteres formadas pelo alfabeto até o comprimento 3 (Sigma^*):\")\n",
    "print(sorted(sigma_star))  # Convertendo o conjunto em uma lista ordenada para impressão\n"
   ]
  },
  {
   "cell_type": "markdown",
   "metadata": {},
   "source": [
    "## Slide 18 - Operações e Propriedades"
   ]
  },
  {
   "cell_type": "markdown",
   "metadata": {},
   "source": [
    "### Questão 7  \n",
    "Considere os conjuntos de strings $L = \\{ \"001\", \"10\", \"111\" \\}$ e $M = \\{ \\epsilon, \"001\" \\}$, onde $\\epsilon$ representa a string vazia. Escreva um programa em Python que calcule a concatenação de $L$ e $M$, representada por $LM$. $LM$ é o conjunto de todas as strings formadas pela concatenação de cada elemento em $L$ com cada elemento em $M$."
   ]
  },
  {
   "cell_type": "markdown",
   "metadata": {},
   "source": [
    "#### Resolução 1  \n",
    "Usando `set`"
   ]
  },
  {
   "cell_type": "code",
   "execution_count": 13,
   "metadata": {},
   "outputs": [
    {
     "name": "stdout",
     "output_type": "stream",
     "text": [
      "LM = {'10001', '001', '10', '111', '001001', '111001'}\n"
     ]
    }
   ],
   "source": [
    "# Definindo os conjuntos de strings\n",
    "L = {\"001\", \"10\", \"111\"}\n",
    "M = {\"\", \"001\"}\n",
    "\n",
    "# Função para concatenar dois conjuntos de strings\n",
    "def concatenate_sets(set1, set2):\n",
    "    concatenated_set = set()\n",
    "    for element1 in set1:\n",
    "        for element2 in set2:\n",
    "            concatenated_set.add(element1 + element2)\n",
    "    return concatenated_set\n",
    "\n",
    "# Calculando a concatenação de L e M\n",
    "LM = concatenate_sets(L, M)\n",
    "\n",
    "# Exibindo o resultado\n",
    "print(\"LM =\", LM)\n"
   ]
  },
  {
   "cell_type": "markdown",
   "metadata": {},
   "source": [
    "**Explicação**\n",
    "- `L` e `M` são definidos como conjuntos de strings.\n",
    "- A função `concatenate_sets` recebe dois conjuntos, `set1` e `set2`, e itera sobre cada elemento de set1 e set2 para concatenar os elementos correspondentes, formando assim um novo conjunto que contém todos os resultados da concatenação.\n",
    "- A concatenação de `L` e `M (LM)` é então calculada usando essa função.\n",
    "- O resultado, `LM`, é impresso e deve conter todas as strings resultantes da concatenação de cada string em `L` com cada string em `M`.\n",
    "- No exemplo dado, `LM` incluirá as strings `\"001\", \"001001\", \"10\", \"10001\", \"111\", e \"111001\"`, correspondendo à concatenação de todos os elementos de `L` com todos os elementos de `M`."
   ]
  },
  {
   "cell_type": "markdown",
   "metadata": {},
   "source": [
    "#### Resolução 2\n",
    "Usando `itertools.product` para realizar o produto cartesiano"
   ]
  },
  {
   "cell_type": "code",
   "execution_count": 14,
   "metadata": {},
   "outputs": [
    {
     "name": "stdout",
     "output_type": "stream",
     "text": [
      "LM = {'10001', '001', '10', '111', '001001', '111001'}\n"
     ]
    }
   ],
   "source": [
    "# Definindo os conjuntos de strings\n",
    "L = {\"001\", \"10\", \"111\"}\n",
    "M = {\"\", \"001\"}\n",
    "\n",
    "# Usando produto cartesiano para concatenar os conjuntos\n",
    "import itertools\n",
    "\n",
    "LM = {''.join(pair) for pair in itertools.product(L, M)}\n",
    "\n",
    "# Exibindo o resultado\n",
    "print(\"LM =\", LM)"
   ]
  },
  {
   "cell_type": "markdown",
   "metadata": {},
   "source": [
    "- **`L` e `M`** são definidos como conjuntos de strings, com `M` contendo a string vazia $\\epsilon$ e \"001\".\n",
    "- Utilizamos a função `product` do módulo `itertools` para criar o produto cartesiano de `L` e `M`. Isso nos dá todos os pares possíveis de elementos entre `L` e `M`.\n",
    "- A compreensão de conjunto `{''.join(pair) for pair in itertools.product(L, M)}` concatena cada par de strings formando o conjunto `LM`.\n",
    "- `LM` contém todas as strings resultantes da concatenação de elementos de `L` com elementos de `M`, como \"001\", \"001001\", \"10\", \"10001\", \"111\", e \"111001\".\n"
   ]
  },
  {
   "cell_type": "markdown",
   "metadata": {},
   "source": [
    "## Slide 19 - Fechamento reflexivo e transitivo"
   ]
  },
  {
   "cell_type": "markdown",
   "metadata": {},
   "source": [
    "### Linguagem"
   ]
  },
  {
   "cell_type": "markdown",
   "metadata": {},
   "source": [
    "O **fechamento reflexivo e transitivo** é um conceito da teoria de linguagens formais e autômatos, geralmente aplicado a conjuntos de cadeias ou relações. Ou seja, dada uma linguagem $L$, é basicamente uma maneira de obter todas as possíveis cadeias (sequências de símbolos) que você pode formar usando as cadeias originais em $L$, quantas vezes quiser, incluindo a possibilidade de não usar nenhuma cadeia (que é representada pela cadeia vazia $ϵ$). Vamos explorar esse conceito em detalhes e compará-lo com a reflexividade e transitividade em funções ou relações.\n",
    "\n",
    "**Fechamento Reflexivo**\n",
    "- **Linguagens Formais**: No contexto de linguagens formais, o fechamento reflexivo de uma linguagem $L$ permite a inclusão da cadeia vazia $\\epsilon$. Isso significa que, independentemente de não selecionar nenhum elemento de $L$, a cadeia vazia é considerada uma concatenação válida de zero elementos de $L$.\n",
    "- **Relações**: Em teoria de relações, uma relação é considerada reflexiva se cada elemento estiver relacionado a si mesmo. Por exemplo, na relação de igualdade, cada número é igual a ele mesmo.\n",
    "\n",
    "**Fechamento Transitivo**\n",
    "- **Linguagens Formais**: O fechamento transitivo de uma linguagem $L$ envolve criar novas cadeias por meio da concatenação repetida de elementos de $L$. Se $L = \\{a, b\\}$, então $L^*$ (o fechamento transitivo de $L$) incluiria cadeias como $aa$, $ab$, $ba$, $bb$, $aaa$, e assim por diante, abrangendo todas as concatenações possíveis dos elementos de $L$.\n",
    "- **Relações**: Na teoria de relações, transitividade implica que se um elemento $a$ está relacionado a um elemento $b$, e $b$ está relacionado a um elemento $c$, então $a$ deve estar relacionado a $c$. Isso é diferente da concatenação em linguagens, que se concentra na combinação de cadeias.\n",
    "\n",
    "**Diferenças e Semelhanças**\n",
    "- **Operação vs. Propriedade**: O fechamento reflexivo e transitivo em linguagens é uma operação que gera um conjunto novo a partir do original, enquanto reflexividade e transitividade em relações são propriedades que descrevem como os elementos de um conjunto estão interconectados.\n",
    "- **Resultado vs. Condição**: No fechamento reflexivo e transitivo, estamos interessados no resultado (o conjunto de todas as cadeias possíveis), enquanto em reflexividade e transitividade, o foco está em se a relação satisfaz certas condições.\n",
    "- **Completude**: Ambos os conceitos lidam com a ideia de completude. No fechamento reflexivo e transitivo, trata-se da completude das cadeias que podem ser formadas; nas relações reflexivas e transitivas, é sobre a completude das conexões dentro do conjunto.\n",
    "\n",
    "Essas explicações ilustram como o fechamento reflexivo e transitivo expande um conjunto de cadeias em linguagens formais, enquanto a reflexividade e a transitividade em relações descrevem as conexões dentro de um conjunto."
   ]
  },
  {
   "cell_type": "markdown",
   "metadata": {},
   "source": [
    "Se você tem um conjunto $L$ com algumas cadeias de caracteres, então $L∗$ incluirá:\n",
    "- A cadeia vazia $ϵ$\n",
    "- Todas as cadeias em $L$ (isso é $L^1$)\n",
    "- Todas as cadeias que podem ser formadas concatenando duas cadeias em $L$ (isso é $L^2$)\n",
    "E assim por diante, para 3 cadeias, 4 cadeias, etc.\n"
   ]
  },
  {
   "cell_type": "markdown",
   "metadata": {},
   "source": [
    "#### Questão 4  \n",
    "Seja $L$ o conjunto de todas as cadeias formadas apenas pelo símbolo '0'. Calcule $L^*$, o fechamento reflexivo e transitivo de $L$, o que representa todas as cadeias que podem ser formadas concatenando zero ou mais vezes as cadeias em $L$."
   ]
  },
  {
   "cell_type": "code",
   "execution_count": 6,
   "metadata": {},
   "outputs": [
    {
     "name": "stdout",
     "output_type": "stream",
     "text": [
      "Início: L^0 = {''}\n",
      "Adicionando 'bab' à L^1\n",
      "Adicionando 'aba' à L^1\n",
      "L^1 = ['', 'aba', 'bab']\n",
      "Adicionando 'ababab' à L^2\n",
      "Adicionando 'abaaba' à L^2\n",
      "Adicionando 'babbab' à L^2\n",
      "Adicionando 'bababa' à L^2\n",
      "L^2 = ['', 'aba', 'abaaba', 'ababab', 'bab', 'bababa', 'babbab']\n",
      "Adicionando 'babbabbab' à L^3\n",
      "Adicionando 'babbababa' à L^3\n",
      "Adicionando 'abaababab' à L^3\n",
      "Adicionando 'abaabaaba' à L^3\n",
      "Adicionando 'babababab' à L^3\n",
      "Adicionando 'bababaaba' à L^3\n",
      "Adicionando 'abababbab' à L^3\n",
      "Adicionando 'ababababa' à L^3\n",
      "L^3 = ['', 'aba', 'abaaba', 'abaabaaba', 'abaababab', 'ababab', 'ababababa', 'abababbab', 'bab', 'bababa', 'bababaaba', 'babababab', 'babbab', 'babbababa', 'babbabbab']\n",
      "Adicionando 'abaabaababab' à L^4\n",
      "Adicionando 'abaabaabaaba' à L^4\n",
      "Adicionando 'abaabababbab' à L^4\n",
      "Adicionando 'abaababababa' à L^4\n",
      "Adicionando 'babbabababab' à L^4\n",
      "Adicionando 'babbababaaba' à L^4\n",
      "Adicionando 'bababaababab' à L^4\n",
      "Adicionando 'bababaabaaba' à L^4\n",
      "Adicionando 'bababababbab' à L^4\n",
      "Adicionando 'babababababa' à L^4\n",
      "Adicionando 'abababababab' à L^4\n",
      "Adicionando 'ababababaaba' à L^4\n",
      "Adicionando 'babbabbabbab' à L^4\n",
      "Adicionando 'babbabbababa' à L^4\n",
      "Adicionando 'abababbabbab' à L^4\n",
      "Adicionando 'abababbababa' à L^4\n",
      "L^4 = ['', 'aba', 'abaaba', 'abaabaaba', 'abaabaabaaba', 'abaabaababab', 'abaababab', 'abaababababa', 'abaabababbab', 'ababab', 'ababababa', 'ababababaaba', 'abababababab', 'abababbab', 'abababbababa', 'abababbabbab', 'bab', 'bababa', 'bababaaba', 'bababaabaaba', 'bababaababab', 'babababab', 'babababababa', 'bababababbab', 'babbab', 'babbababa', 'babbababaaba', 'babbabababab', 'babbabbab', 'babbabbababa', 'babbabbabbab']\n",
      "Adicionando 'babbabbabbabbab' à L^5\n",
      "Adicionando 'babbabbabbababa' à L^5\n",
      "Adicionando 'abaabaabababbab' à L^5\n",
      "Adicionando 'abaabaababababa' à L^5\n",
      "Adicionando 'babbabbabababab' à L^5\n",
      "Adicionando 'babbabbababaaba' à L^5\n",
      "Adicionando 'bababaabaababab' à L^5\n",
      "Adicionando 'bababaabaabaaba' à L^5\n",
      "Adicionando 'abababbabababab' à L^5\n",
      "Adicionando 'abababbababaaba' à L^5\n",
      "Adicionando 'abaabaabaababab' à L^5\n",
      "Adicionando 'abaabaabaabaaba' à L^5\n",
      "Adicionando 'abaabababababab' à L^5\n",
      "Adicionando 'abaababababaaba' à L^5\n",
      "Adicionando 'ababababababbab' à L^5\n",
      "Adicionando 'abababababababa' à L^5\n",
      "Adicionando 'bababababbabbab' à L^5\n",
      "Adicionando 'bababababbababa' à L^5\n",
      "Adicionando 'bababaabababbab' à L^5\n",
      "Adicionando 'bababaababababa' à L^5\n",
      "Adicionando 'babbababaababab' à L^5\n",
      "Adicionando 'babbababaabaaba' à L^5\n",
      "Adicionando 'ababababaababab' à L^5\n",
      "Adicionando 'ababababaabaaba' à L^5\n",
      "Adicionando 'babbababababbab' à L^5\n",
      "Adicionando 'babbabababababa' à L^5\n",
      "Adicionando 'bababababababab' à L^5\n",
      "Adicionando 'babababababaaba' à L^5\n",
      "Adicionando 'abababbabbabbab' à L^5\n",
      "Adicionando 'abababbabbababa' à L^5\n",
      "Adicionando 'abaabababbabbab' à L^5\n",
      "Adicionando 'abaabababbababa' à L^5\n",
      "L^5 = ['', 'aba', 'abaaba', 'abaabaaba', 'abaabaabaaba', 'abaabaabaabaaba', 'abaabaabaababab', 'abaabaababab', 'abaabaababababa', 'abaabaabababbab', 'abaababab', 'abaababababa', 'abaababababaaba', 'abaabababababab', 'abaabababbab', 'abaabababbababa', 'abaabababbabbab', 'ababab', 'ababababa', 'ababababaaba', 'ababababaabaaba', 'ababababaababab', 'abababababab', 'abababababababa', 'ababababababbab', 'abababbab', 'abababbababa', 'abababbababaaba', 'abababbabababab', 'abababbabbab', 'abababbabbababa', 'abababbabbabbab', 'bab', 'bababa', 'bababaaba', 'bababaabaaba', 'bababaabaabaaba', 'bababaabaababab', 'bababaababab', 'bababaababababa', 'bababaabababbab', 'babababab', 'babababababa', 'babababababaaba', 'bababababababab', 'bababababbab', 'bababababbababa', 'bababababbabbab', 'babbab', 'babbababa', 'babbababaaba', 'babbababaabaaba', 'babbababaababab', 'babbabababab', 'babbabababababa', 'babbababababbab', 'babbabbab', 'babbabbababa', 'babbabbababaaba', 'babbabbabababab', 'babbabbabbab', 'babbabbabbababa', 'babbabbabbabbab']\n",
      "\n",
      "L* = ['', 'aba', 'abaaba', 'abaabaaba', 'abaabaabaaba', 'abaabaabaabaaba', 'abaabaabaababab', 'abaabaababab', 'abaabaababababa', 'abaabaabababbab', 'abaababab', 'abaababababa', 'abaababababaaba', 'abaabababababab', 'abaabababbab', 'abaabababbababa', 'abaabababbabbab', 'ababab', 'ababababa', 'ababababaaba', 'ababababaabaaba', 'ababababaababab', 'abababababab', 'abababababababa', 'ababababababbab', 'abababbab', 'abababbababa', 'abababbababaaba', 'abababbabababab', 'abababbabbab', 'abababbabbababa', 'abababbabbabbab', 'bab', 'bababa', 'bababaaba', 'bababaabaaba', 'bababaabaabaaba', 'bababaabaababab', 'bababaababab', 'bababaababababa', 'bababaabababbab', 'babababab', 'babababababa', 'babababababaaba', 'bababababababab', 'bababababbab', 'bababababbababa', 'bababababbabbab', 'babbab', 'babbababa', 'babbababaaba', 'babbababaabaaba', 'babbababaababab', 'babbabababab', 'babbabababababa', 'babbababababbab', 'babbabbab', 'babbabbababa', 'babbabbababaaba', 'babbabbabababab', 'babbabbabbab', 'babbabbabbababa', 'babbabbabbabbab']\n"
     ]
    }
   ],
   "source": [
    "# Definindo a linguagem L\n",
    "L = {'aba', 'bab'}\t\n",
    "\n",
    "# Função para calcular o fechamento reflexivo e transitivo de L\n",
    "def reflexive_transitive_closure(language, max_length=5):\n",
    "    closure = {''}  # Inclui a cadeia vazia para o fechamento reflexivo\n",
    "    print(\"Início: L^0 = {''}\")\n",
    "    \n",
    "    for i in range(1, max_length + 1):\n",
    "        new_elements = set()\n",
    "        for element in closure:\n",
    "            for char in language:\n",
    "                new_chain = element + char\n",
    "                if new_chain not in closure:\n",
    "                    new_elements.add(new_chain)\n",
    "                    print(f\"Adicionando '{new_chain}' à L^{i}\")\n",
    "        \n",
    "        if not new_elements:\n",
    "            print(f\"Nenhum novo elemento adicionado para L^{i}\")\n",
    "            break\n",
    "        \n",
    "        closure.update(new_elements)\n",
    "        print(f\"L^{i} = {sorted(closure)}\")\n",
    "\n",
    "    return closure\n",
    "\n",
    "# Calculando L*\n",
    "L_star = reflexive_transitive_closure(L)\n",
    "print(\"\\nL* =\", sorted(L_star))\n"
   ]
  },
  {
   "cell_type": "markdown",
   "metadata": {},
   "source": [
    "### Alfabeto"
   ]
  },
  {
   "cell_type": "markdown",
   "metadata": {},
   "source": [
    "- **Conjunto Vazio $\\varnothing$**: \n",
    "  - O conjunto vazio $\\varnothing$ contém zero cadeias e representa a menor linguagem possível definida sobre um alfabeto $\\Sigma$. Ele é crucial em teoria da computação porque serve como a base para construir linguagens mais complexas, representando a ideia de \"nada\" ou \"ausência\" em termos de cadeias de caracteres.\n",
    "\n",
    "- **Fechamento Reflexivo e Transitivo $\\Sigma^*$**:\n",
    "  - $\\Sigma^*$ é o conjunto de todas as possíveis cadeias que podem ser formadas com os elementos de $\\Sigma$, incluindo a cadeia vazia $\\epsilon$. Este conjunto é a maior de todas as linguagens que se pode definir sobre $\\Sigma$, pois inclui todas as combinações possíveis de elementos em $\\Sigma$ em qualquer comprimento, começando do zero (cadeia vazia).\n",
    "\n",
    "- **Conjunto Potência $2^{\\Sigma^*}$**:\n",
    "  - $2^{\\Sigma^*}$ representa o conjunto de todos os subconjuntos possíveis formados a partir de $\\Sigma^*$, incluindo o próprio $\\Sigma^*$ e o conjunto vazio $\\varnothing$. Ele corresponde ao conjunto de todas as possíveis linguagens que podem ser definidas sobre $\\Sigma$, abrangendo todas as variações e combinações de cadeias possíveis.\n",
    "  - É interessante notar que $\\varnothing$ e $\\Sigma^*$ são elementos de $2^{\\Sigma^*}$, evidenciando a abrangência deste conjunto, que vai da menor à maior linguagem possível sobre o alfabeto $\\Sigma$.\n",
    "\n",
    "Essas observações realçam a estrutura hierárquica e inclusiva dos conjuntos em teoria das linguagens formais, desde o conjunto mais simples $\\varnothing$ até o conjunto potência $2^{\\Sigma^*}$, que encapsula todas as linguagens possíveis."
   ]
  },
  {
   "cell_type": "markdown",
   "metadata": {},
   "source": [
    "Considere o alfabeto $\\Sigma = \\{a, b, c\\}$ e uma propriedade $P$ que define que todas as cadeias devem iniciar com o símbolo 'a'. Vamos explorar algumas linguagens derivadas de $\\Sigma$ e como elas se relacionam com a propriedade $P$:\n",
    "\n",
    "- **Linguagem $L_0$**:\n",
    "  - Definida como $L_0 = \\varnothing$, é a menor linguagem possível sobre $\\Sigma$. Ela não contém nenhuma cadeia e, portanto, não contribui para a propriedade $P$.\n",
    "\n",
    "- **Linguagem $L_1$**:\n",
    "  - Contém cadeias que começam com 'a' e segue a propriedade $P$: $L_1 = \\{a, ab, ac, abc, acb\\}$. Esta é uma linguagem finita e satisfaz a condição de iniciar todas as cadeias com 'a'.\n",
    "\n",
    "- **Linguagem $L_2$**:\n",
    "  - É uma linguagem infinita que também obedece a $P$, definida como $L_2 = \\{a\\}\\{a\\}^*\\{b\\}^*\\{c\\}^*$. Isso significa que $L_2$ começa com 'a', seguido por zero ou mais 'a's, 'b's e 'c's, em qualquer quantidade.\n",
    "\n",
    "- **Linguagem $L_3$**:\n",
    "  - A maior linguagem que observa $P$, definida por $L_3 = \\{a\\}\\{a,b,c\\}^*$, consiste em todas as cadeias que começam com 'a' seguido por qualquer combinação de 'a', 'b', e 'c'. Ela é infinita e engloba todas as cadeias que podem ser formadas segundo $P$.\n",
    "\n",
    "- **Subconjuntos e Pertinência**:\n",
    "  - Todas estas linguagens, $L_0$, $L_1$, $L_2$, e $L_3$, são subconjuntos de $\\Sigma^*$ e elementos do conjunto potência $2^{\\Sigma^*}$, que representa todas as possíveis linguagens definidas sobre $\\Sigma$.\n",
    "\n",
    "- **Diversidade de Linguagens**:\n",
    "  - Além de $L_0$, $L_1$, $L_2$ e $L_3$, existem muitas outras linguagens que podem ser construídas a partir de $\\Sigma$ seguindo diferentes regras ou propriedades.\n",
    "\n",
    "Este exemplo demonstra a variedade e a complexidade das linguagens que podem ser definidas a partir de um alfabeto básico, dependendo das propriedades ou regras especificadas, desde o conjunto vazio até linguagens infinitamente expansíveis."
   ]
  },
  {
   "cell_type": "markdown",
   "metadata": {},
   "source": [
    "### Questão 5 - Slide 26"
   ]
  },
  {
   "cell_type": "markdown",
   "metadata": {},
   "source": [
    "### Exemplo de Fechamento Transitivo\n",
    "\n",
    "Explore o conceito de fechamento transitivo no alfabeto $\\Sigma = \\{n, (, ), +, *, -, /\\}$:\n",
    "\n",
    "**Resposta**  \n",
    "O fechamento transitivo é uma operação fundamental em linguagens formais que gera um conjunto contendo todas as possíveis sequências (ou cadeias) de elementos de um alfabeto, concatenadas em qualquer quantidade, incluindo a cadeia vazia ($ϵ$) para o fechamento reflexivo. Vamos explorar esse conceito usando o alfabeto:  \n",
    "\n",
    "- $\\Sigma^*$ representa o conjunto de todas as possíveis cadeias formadas pelos símbolos em $\\Sigma$, incluindo a cadeia vazia ($\\epsilon$). Exemplos de cadeias em $\\Sigma^*$ incluem \"n\", \"n+n\", \"-n\\)\", \"*/\", e \"n()\\)\", representando a vasta gama de expressões que podem ser criadas.\n",
    "\n",
    "- $\\Sigma^+$ é similar ao $\\Sigma^*$, mas não inclui a cadeia vazia ($\\epsilon$). Assim, contém cadeias como \"n\", \"n+n\", \"-n)\", \"n()\", e \"n-(n*n)\", refletindo todas as combinações possíveis de elementos em $\\Sigma$ com um ou mais símbolos.\n",
    "\n",
    "- A relação $\\Sigma^+ = \\Sigma^* - \\{\\epsilon\\}$ demonstra que $\\Sigma^+$ pode ser derivado de $\\Sigma^*$ pela remoção da cadeia vazia, ressaltando a conexão entre esses dois conjuntos no contexto do fechamento transitivo.\n"
   ]
  },
  {
   "cell_type": "markdown",
   "metadata": {},
   "source": [
    "## Slide 28 - Reversão"
   ]
  },
  {
   "cell_type": "markdown",
   "metadata": {},
   "source": [
    "### Questão 6"
   ]
  },
  {
   "cell_type": "markdown",
   "metadata": {},
   "source": [
    "Dada a linguagem $L_2 = \\{\\epsilon, a, ab, abc\\}$, escreva uma função em Python que determine o reverso dessa linguagem, denotado por $L_2^R$. O reverso de uma linguagem é um conjunto de cadeias onde cada cadeia é o inverso das cadeias originais de $L_2$."
   ]
  },
  {
   "cell_type": "code",
   "execution_count": 5,
   "metadata": {},
   "outputs": [
    {
     "name": "stdout",
     "output_type": "stream",
     "text": [
      "L2^R = {'', 'ba', 'cba', 'a'}\n"
     ]
    }
   ],
   "source": [
    "# Definindo a linguagem L2\n",
    "L2 = {'', 'a', 'ab', 'abc'}\n",
    "\n",
    "# Função para calcular o reverso de uma linguagem\n",
    "def reverse_language(language):\n",
    "    return {sentence[::-1] for sentence in language}\n",
    "\n",
    "# Calculando L2^R\n",
    "L1 = reverse_language(L2)\n",
    "\n",
    "# Exibindo o resultado\n",
    "print(\"L2^R =\", L1)"
   ]
  },
  {
   "cell_type": "markdown",
   "metadata": {},
   "source": [
    "***Explicação do Código***\n",
    "\n",
    "- A linguagem $L_2$ é inicialmente definida como um conjunto de cadeias: $\\epsilon$ (cadeia vazia), 'a', 'ab', e 'abc'.\n",
    "- A função `reverse_language` recebe a linguagem $L_2$ como argumento e utiliza a compreensão de conjunto para criar um novo conjunto. Para cada sentença em $L_2$, a sentença é invertida (`sentence[::-1]`) e adicionada ao novo conjunto.\n",
    "- O resultado `L1` é o conjunto de todas as sentenças de $L_2$ invertidas, ou seja, $L_2^R$.\n",
    "- Ao imprimir `L1`, obtemos o reverso de $L_2$, que neste caso será $\\{\\epsilon, a, ba, cba\\}$.\n"
   ]
  },
  {
   "cell_type": "markdown",
   "metadata": {},
   "source": [
    "## Slide 29 - Propriedade de Prefixo e Sufixo Próprio"
   ]
  },
  {
   "cell_type": "markdown",
   "metadata": {},
   "source": [
    "**Prefixo Próprio:** Uma cadeia $\\alpha$ é um prefixo próprio de outra cadeia $\\alpha\\beta$ se $\\beta$ não é vazia ($\\epsilon$). Isso significa que $\\alpha$ é o início de $\\alpha\\beta$, mas $\\alpha\\beta$ contém mais caracteres além de $\\alpha$. Em uma linguagem com a propriedade de prefixo próprio, nenhuma cadeia na linguagem é um prefixo próprio de outra cadeia dentro dessa mesma linguagem.\n",
    "\n",
    "**Sufixo Próprio:** Similarmente, uma cadeia $\\alpha$ é um sufixo próprio de outra cadeia $\\beta\\alpha$ se $\\beta$ não é vazia. Aqui, $\\alpha$ aparece no final de $\\beta\\alpha$, e $\\beta\\alpha$ contém mais caracteres antes de $\\alpha$. Uma linguagem com a propriedade de sufixo próprio não tem nenhuma cadeia que seja sufixo próprio de outra cadeia na linguagem."
   ]
  },
  {
   "cell_type": "markdown",
   "metadata": {},
   "source": [
    "Dada a linguagem $L = \\{a, ab, abc, bc, c\\}$, escreva uma função em Python que determine se $L$ tem a propriedade de prefixo próprio e sufixo próprio. Mostre os elementos que violam estas propriedades, se houver."
   ]
  },
  {
   "cell_type": "code",
   "execution_count": 6,
   "metadata": {},
   "outputs": [
    {
     "name": "stdout",
     "output_type": "stream",
     "text": [
      "'ab' é um prefixo próprio de 'abc'\n",
      "L tem a propriedade de prefixo próprio? False\n",
      "'bc' é um sufixo próprio de 'abc'\n",
      "L tem a propriedade de sufixo próprio? False\n"
     ]
    }
   ],
   "source": [
    "L = {'a', 'ab', 'abc', 'bc', 'c'}\n",
    "\n",
    "# Verificando a propriedade de prefixo próprio\n",
    "def has_proper_prefix(language):\n",
    "    for element in language: #a\n",
    "        for other in language:#ab\n",
    "            if element != other and other.startswith(element):\n",
    "                print(f\"'{element}' é um prefixo próprio de '{other}'\")\n",
    "                return False\n",
    "    return True\n",
    "\n",
    "# Verificando a propriedade de sufixo próprio\n",
    "def has_proper_suffix(language):\n",
    "    for element in language:#bc\n",
    "        for other in language:#abc\n",
    "            if element != other and other.endswith(element):\n",
    "                print(f\"'{element}' é um sufixo próprio de '{other}'\")\n",
    "                return False\n",
    "    return True\n",
    "\n",
    "print(\"L tem a propriedade de prefixo próprio?\", has_proper_prefix(L))\n",
    "print(\"L tem a propriedade de sufixo próprio?\", has_proper_suffix(L))"
   ]
  },
  {
   "cell_type": "markdown",
   "metadata": {},
   "source": [
    "### Questão 7"
   ]
  },
  {
   "cell_type": "markdown",
   "metadata": {},
   "source": [
    "Dada as linguagens abaixo disposta em um dicionário, escreva uma função em Python que determine se cada uma delas tem a propriedade de prefixo próprio e sufixo próprio. Mostre os elementos que violam estas propriedades, se houver."
   ]
  },
  {
   "cell_type": "code",
   "execution_count": 13,
   "metadata": {},
   "outputs": [
    {
     "name": "stdout",
     "output_type": "stream",
     "text": [
      "'pref' é um prefixo próprio de 'prefix'\n",
      "L1 tem a propriedade de prefixo próprio? False\n",
      "L1 tem a propriedade de sufixo próprio? True\n",
      "Portanto, L1 tem somente a propriedade de sufixo próprio.\n",
      "\n",
      "'pref' é um prefixo próprio de 'prefix'\n",
      "'fix' é um sufixo próprio de 'prefix'\n",
      "L2 tem a propriedade de prefixo próprio? False\n",
      "L2 tem a propriedade de sufixo próprio? False\n",
      "Portanto, L2 não possui as propriedades de prefixo e sufixo próprio.\n",
      "\n",
      "L3 tem a propriedade de prefixo próprio? True\n",
      "L3 tem a propriedade de sufixo próprio? True\n",
      "Portanto, L3 possui ambas as propriedades de prefixo e sufixo próprio.\n",
      "\n",
      "'at' é um sufixo próprio de 'sat'\n",
      "L4 tem a propriedade de prefixo próprio? True\n",
      "L4 tem a propriedade de sufixo próprio? False\n",
      "Portanto, L4 tem somente a propriedade de prefixo próprio.\n",
      "\n"
     ]
    }
   ],
   "source": [
    "languages = [\n",
    "    ('L1', {'prefix', 'pref', 'xfix'}),\n",
    "    ('L2', {'prefix', 'pref', 'fix'}),\n",
    "    ('L3', {'alpha', 'beta', 'gamma'}),\n",
    "    ('L4', {\"bat\",\"sat\",\"at\"})\n",
    "]\n",
    "\n",
    "# Função para verificar a propriedade de prefixo próprio\n",
    "def has_proper_prefix(language):\n",
    "    for element in language:\n",
    "        for other in language:\n",
    "            if element != other and other.startswith(element):\n",
    "                print(f\"'{element}' é um prefixo próprio de '{other}'\")\n",
    "                return False\n",
    "    return True\n",
    "\n",
    "# Função para verificar a propriedade de sufixo próprio\n",
    "def has_proper_suffix(language):\n",
    "    for element in language:\n",
    "        for other in language:\n",
    "            if element != other and other.endswith(element):\n",
    "                print(f\"'{element}' é um sufixo próprio de '{other}'\")\n",
    "                return False\n",
    "    return True\n",
    "\n",
    "# Testando as propriedades para cada linguagem\n",
    "for name, lang in languages:\n",
    "    prefix = has_proper_prefix(lang)\n",
    "    suffix = has_proper_suffix(lang)\n",
    "    print(f\"{name} tem a propriedade de prefixo próprio? {prefix}\")\n",
    "    print(f\"{name} tem a propriedade de sufixo próprio? {suffix}\")\n",
    "    if prefix and not suffix:\n",
    "        print(f\"Portanto, {name} tem somente a propriedade de prefixo próprio.\\n\")\n",
    "    elif not prefix and suffix:\n",
    "        print(f\"Portanto, {name} tem somente a propriedade de sufixo próprio.\\n\")\n",
    "    elif prefix and suffix:\n",
    "        print(f\"Portanto, {name} possui ambas as propriedades de prefixo e sufixo próprio.\\n\")\n",
    "    else:\n",
    "        print(f\"Portanto, {name} não possui as propriedades de prefixo e sufixo próprio.\\n\")\n"
   ]
  },
  {
   "cell_type": "markdown",
   "metadata": {},
   "source": [
    "## Slide 31 - Quociente de Linguagens"
   ]
  },
  {
   "cell_type": "markdown",
   "metadata": {},
   "source": [
    "**Definição**\n",
    "Sejam $L_1$ e $L_2$ duas linguagens. O quociente de $L_1$ por $L_2$, denotado por $L_1 / L_2$, é definido como o conjunto de todas as cadeias $x$ tal que a concatenação de $x$ com qualquer cadeia $y$ de $L_2$ resulta em uma cadeia que pertence a $L_1$.\n",
    "\n",
    "#### Formulação Matemática\n",
    "$$\n",
    "L_1 / L_2 = \\{x \\mid xy \\in L_1, y \\in L_2\\}\n",
    "$$\n",
    "\n",
    "#### Exemplo Prático\n",
    "Considere as linguagens:\n",
    "- $L = \\{a, aab, baa\\}$\n",
    "- $A = \\{a\\}$\n",
    "\n",
    "Para calcular o quociente $L/A$, procuramos por cadeias em $L$ que, ao serem concatenadas com 'a' (os elementos de $A$), ainda pertencem a $L$.\n",
    "\n",
    "- Da cadeia 'a' em $L$, removendo 'a' de $A$, sobra o $\\epsilon$ (cadeia vazia).\n",
    "- Da cadeia 'aab' em $L$, removendo 'a' de $A$, sobra 'aa'. No entanto, 'aa' não é incluída porque não satisfaz a condição de formar uma cadeia em $L$ ao ser concatenada com 'a'.\n",
    "- Da cadeia 'baa' em $L$, removendo 'a' de $A$, sobra 'ba'.\n",
    "\n",
    "Portanto, o quociente $L/A$ é $\\{\\epsilon, ba\\}$.\n"
   ]
  },
  {
   "cell_type": "markdown",
   "metadata": {},
   "source": [
    "### Questão 8 - Slide 32"
   ]
  },
  {
   "cell_type": "markdown",
   "metadata": {},
   "source": [
    "Considere as linguagens seguintes:\n",
    "\n",
    "- $L_1 = \\{a^i b \\mid i \\geq 0\\}$\n",
    "- $L_2 = \\{a^i b c^i \\mid i \\geq 0\\}$\n",
    "- $L_3 = \\{b\\}$\n",
    "- $L_4 = \\{a^i b \\mid i \\geq 1\\}$\n",
    "- $L_5 = \\{b c^i \\mid i \\geq 0\\}$\n",
    "- $L_6 = \\{c^i b \\mid i \\geq 0\\}$\n",
    "- $L_7 = \\{a^i \\mid i \\geq 0\\}$\n",
    "\n",
    "### Descrição das Linguagens\n",
    "\n",
    "- **$L_1 = \\{a^i b \\mid i \\geq 0\\}$**\n",
    "  \n",
    "  Esta linguagem consiste em cadeias formadas pela repetição de 'a' zero ou mais vezes seguida por um 'b'. Isso inclui 'b' (quando $i=0$), 'ab' ($i=1$), 'aab' ($i=2$), e assim por diante.\n",
    "\n",
    "- **$L_2 = \\{a^i b c^i \\mid i \\geq 0\\}$**\n",
    "  \n",
    "  Aqui, as cadeias começam e terminam com o mesmo número de 'a's e 'c's respectivamente, com um 'b' no meio. Exemplos incluem 'b' ($i=0$), 'abc' ($i=1$), 'aabcc' ($i=2$), etc.\n",
    "\n",
    "- **$L_3 = \\{b\\}$**\n",
    "  \n",
    "  Esta linguagem é a mais simples e contém uma única cadeia: 'b'.\n",
    "\n",
    "- **$L_4 = \\{a^i b \\mid i \\geq 1\\}$**\n",
    "  \n",
    "  Similar a $L_1$, mas aqui temos pelo menos um 'a' antes do 'b', ou seja, não inclui apenas 'b'. Exemplos são 'ab' ($i=1$), 'aab' ($i=2$), etc.\n",
    "\n",
    "- **$L_5 = \\{b c^i \\mid i \\geq 0\\}$**\n",
    "  \n",
    "  Consiste em cadeias que começam com 'b' seguidas por zero ou mais 'c's. Inclui 'b' ($i=0$), 'bc' ($i=1$), 'bcc' ($i=2$), e assim por diante.\n",
    "\n",
    "- **$L_6 = \\{c^i b \\mid i \\geq 0\\}$**\n",
    "  \n",
    "  Similar a $L_5$, mas aqui 'c's precedem o 'b'. Isso inclui 'b' ($i=0$), 'cb' ($i=1$), 'ccb' ($i=2$), etc.\n",
    "\n",
    "- **$L_7 = \\{a^i \\mid i \\geq 0\\}$**\n",
    "  \n",
    "  Esta linguagem inclui somente cadeias de 'a's de qualquer comprimento, incluindo a cadeia vazia $\\epsilon$ quando $i=0$, 'a' ($i=1$), 'aa' ($i=2$), e assim por diante.\n",
    "\n",
    "\n",
    "**Quocientes de Linguagens: Exemplos Detalhados**\n",
    "\n",
    "1. **$L_1 / L_3 = ?$**\n",
    "\n",
    "   - $L_1 = \\{a^i b \\mid i \\geq 0\\}$ inclui cadeias como 'b', 'ab', 'aab', 'aaab', etc.\n",
    "   - $L_3 = \\{b\\}$ contém apenas a cadeia 'b'.\n",
    "\n",
    "   O quociente $L_1 / L_3$ procura cadeias em $L_1$ que, ao serem concatenadas com 'b' de $L_3$, resultam em cadeias ainda em $L_1$. Portanto, o resultado é composto por cadeias de 'a's de qualquer comprimento.\n",
    "\n",
    "   **Resposta**: $L_1 / L_3$ são todas as cadeias formadas por 'a', que é $L_7 = \\{a^i \\mid i \\geq 0\\}$.\n",
    "\n",
    "2. **$L_1 / L_4 = ?$**\n",
    "Considere as seguintes linguagens:\n",
    "\n",
    "    - $L_1 = \\{a^i b \\mid i \\geq 0\\}$: Contém cadeias como 'b', 'ab', 'aab', etc., onde 'b' é precedido por zero ou mais 'a's.\n",
    "    - $L_4 = \\{a^i b \\mid i \\geq 1\\}$: Similar a $L_1$, mas começa com pelo menos um 'a', então não inclui 'b' sozinha. Contém 'ab', 'aab', 'aaab', etc.\n",
    "\n",
    "        - O Quociente $L_1 / L_4$\n",
    "\n",
    "            Ao calcular $L_1 / L_4$, procuramos por cadeias em $L_1$ que, ao serem concatenadas com qualquer cadeia de $L_4$, resultem em uma cadeia que ainda pertence a $L_1$.\n",
    "\n",
    "        -  **Exemplos Detalhados para $L_1 / L_4$**:\n",
    "\n",
    "            - Cadeia 'b' em $L_1$: Não pode ser formada removendo algo de $L_4$.\n",
    "            - Cadeia 'ab' em $L_1$: Forma $\\epsilon$ ao remover 'ab', então $\\epsilon \\in L_1 / L_4$.\n",
    "            - Cadeia 'aab' em $L_1$: Ao remover 'ab', restam 'a', então 'a $\\in L_1 / L_4$.\n",
    "            - Cadeia 'aaab' em $L_1$: Removendo 'ab', restam 'aa', então 'aa' está em $L_1 / L_4$.\n",
    "            - Cadeia 'aaaab' em $L_1$: Removendo 'ab', restam 'aaa', assim 'aaa' está em $L_1 / L_4$.\n",
    "            - Continuando assim, todas as cadeias de 'a's de qualquer comprimento estão em $L_1 / L_4$.\n",
    "\n",
    "    Portanto, $L_1 / L_4$ é composto por todas as cadeias de 'a's, ou seja, é igual a $L_7$.\n",
    "\n",
    "    **Conclusão:**\n",
    "\n",
    "    - Cada cadeia em $L_1 / L_4$ é formada pela remoção de 'ab' das cadeias em $L_1$, resultando em cadeias compostas apenas por 'a's.\n",
    "    - Portanto, **$L_1 / L_4 = L_7 = \\{a^i \\mid i \\geq 0\\}$**, que representa todas as possíveis sequências de 'a's, incluindo a cadeia vazia.\n",
    "\n",
    "3. **$L_5 / L_7 = ?$**\n",
    "\n",
    "   - $L_5 = \\{b c^i \\mid i \\geq 0\\}$ começa com 'b' seguido por zero ou mais 'c's. (b, bc, bcc, bccc)\n",
    "   - $L_7 = \\{a^i \\mid i \\geq 0\\}$ inclui somente cadeias de 'a's de qualquer comprimento ($\\epsilon$, a, aa, aaa...)\n",
    "\n",
    "   Para $L_5 / L_7$, como $L_7$ contém apenas cadeias de 'a's, e nenhuma cadeia em $L_5$ pode resultar em uma cadeia em $L_5$ ao ser concatenada com 'a's, o resultado é o conjunto vazio.\n",
    "\n",
    "   **Resposta**: $L_5 / L_7$ é $\\varnothing$, pois não há como obter cadeias de $L_5$ ao concatenar com cadeias de $L_7$.\n",
    "\n",
    "4. **$L_2 / L_6 = ?$**\n",
    "\n",
    "   - $L_2 = \\{a^i b c^i \\mid i \\geq 0\\}$ onde o número de 'a's e 'c's é o mesmo, envolvendo um 'b'.  \n",
    "    (b, abc, aabcc, aaabccc, ...)\n",
    "   - $L_6 = \\{c^i b \\mid i \\geq 0\\}$ contém cadeias que começam com zero ou mais 'c's seguidos por 'b'.  \n",
    "   (b, cb, ccb, cccb, ...)\n",
    "\n",
    "   **Processo para encontrar $L_2 / L_6$**\n",
    "\n",
    "    Ao tentar formar o quociente $L_2 / L_6$, encontramos dificuldades:\n",
    "    - As cadeias em $L_2$ são estruturadas de forma que 'b' esteja sempre entre o mesmo número de 'a's e 'c's.\n",
    "    - As cadeias em $L_6$ não se encaixam como sufixos diretos em $L_2$ porque os 'c's em $L_2$ estão sempre precedidos por 'b'.\n",
    "    - Portanto, não há uma correspondência direta que permita remover um sufixo de $L_6$ de uma cadeia em $L_2$ mantendo a cadeia resultante dentro de $L_2$.\n",
    "\n",
    "    **Conclusão:** \n",
    "    - Nenhuma cadeia em $L_6$ se ajusta perfeitamente como um sufixo removível das cadeias em $L_2$ devido à estrutura específica de $L_2$ que requer um número igual de 'a's e 'c's separados por um único 'b'.\n",
    "    - Consequentemente, não é possível formar uma cadeia em $L_2$ removendo partes que são consistentes com $L_6$.\n",
    "    - Dado que não podemos satisfazer a condição para o quociente $L_2 / L_6$ com as cadeias fornecidas em ambas as linguagens, o resultado é o conjunto vazio $\\varnothing$.\n",
    "    - Assim, temos $L_2 / L_6 = \\varnothing$, indicando que não existem cadeias em $L_2$ das quais podemos remover um sufixo de $L_6$ e ainda termos uma cadeia que pertença a $L_2$.\n",
    "\n"
   ]
  },
  {
   "cell_type": "markdown",
   "metadata": {},
   "source": [
    "## Slide 33 - Substituição"
   ]
  },
  {
   "cell_type": "markdown",
   "metadata": {},
   "source": [
    "A **substituição** é uma operação fundamental em muitos aspectos da computação e análise de linguagens formais onde você associa cada símbolo de um alfabeto a um conjunto de cadeias de outro alfabeto. Pode-se pensar nisso como uma regra que diz como cada letra de um alfabeto pode ser transformada em palavras de outro alfabeto. Ou seja, é uma maneira de transformar cadeias de um alfabeto em cadeias de outro alfabeto, seguindo um conjunto de regras predefinidas. \n",
    "\n",
    "**Definição Formal**\n",
    "Se temos dois alfabetos:\n",
    "- $\\Sigma_1$: O alfabeto de origem.\n",
    "- $\\Sigma_2$: O alfabeto de destino.\n",
    "\n",
    "Uma substituição $s$ é uma função que para cada símbolo em $\\Sigma_1$, associa um conjunto de cadeias (palavras) formadas pelos símbolos em $\\Sigma_2$. Em termos matemáticos, a substituição é descrita como:\n",
    "$$s: \\Sigma_1 \\to 2^{\\Sigma_2^*}$$\n",
    "onde $2^{\\Sigma_2^*}$ representa o conjunto de todos os subconjuntos de cadeias possíveis em $\\Sigma_2$.\n",
    "\n",
    "**Exemplo Prático**\n",
    "Considerando:\n",
    "- $\\Sigma_1 = \\{a, b, c\\}$\n",
    "- $\\Sigma_2 = \\{x, y, z\\}$\n",
    "\n",
    "Podemos definir uma substituição $s$ como:\n",
    "- $s(a) = \\{x\\}$: O símbolo 'a' é substituído por 'x'.\n",
    "- $s(b) = \\{y, yy\\}$: O símbolo 'b' pode ser substituído por 'y' ou 'yy'.\n",
    "- $s(c) = \\{z, zz, zzz\\}$: O símbolo 'c' pode ser substituído por 'z', 'zz', ou 'zzz'.\n",
    "\n",
    "**Como Funciona**\n",
    "- Quando aplicamos a substituição, cada letra do alfabeto $\\Sigma_1$ é transformada nas possíveis cadeias definidas pela função $s$.\n",
    "- Por exemplo, se temos uma cadeia 'abc' em $\\Sigma_1$, após a substituição, poderíamos obter cadeias como 'xyz', 'xyzz', 'xyzzz', etc., dependendo de como escolhemos substituir cada letra.\n",
    "\n",
    "Agora vamos aplicar essa substituição em várias cadeias do alfabeto $\\Sigma_1$:\n",
    "\n",
    "1. Para a cadeia 'a' em $\\Sigma_1$:\n",
    "   - Após a substituição, obtemos 'x', porque $s(a) = \\{x\\}$.\n",
    "\n",
    "2. Para a cadeia 'b' em $\\Sigma_1$:\n",
    "   - Podemos obter 'y' ou 'yy', porque $s(b) = \\{y, yy\\}$.\n",
    "\n",
    "3. Para a cadeia 'ab' em $\\Sigma_1$:\n",
    "   - Podemos obter 'xy' ou 'xyy', combinando as possibilidades de substituição para 'a' e 'b'.\n",
    "\n",
    "4. Para a cadeia 'bc' em $\\Sigma_1$:\n",
    "   - As opções incluem 'yz', 'yzz', 'yzzz', 'yyz', 'yyzz', e 'yyzzz', combinando as substituições para 'b' e 'c'.\n",
    "\n",
    "5. Para a cadeia 'abc' em $\\Sigma_1$:\n",
    "   - Podemos ter 'xyz', 'xyzz', 'xyzzz', 'xyyz', 'xyyzz', 'xyyzzz', e assim por diante, escolhendo uma substituição para cada símbolo em 'abc'.\n"
   ]
  },
  {
   "cell_type": "markdown",
   "metadata": {},
   "source": [
    "Além de aplicar substituições a elementos individuais de um alfabeto, também podemos aplicar uma substituição a uma cadeia inteira. Esta operação é definida de maneira indutiva, ou seja, construída passo a passo, aplicando a substituição a cada símbolo da cadeia.\n",
    "\n",
    "#### Definição Indutiva\n",
    "Seja $s$ uma substituição e $w$ uma cadeia, a aplicação de $s$ em $w$, denotada por $s(w)$, segue estas regras:\n",
    "\n",
    "- Para a cadeia vazia $\\epsilon$, $s(\\epsilon) = \\epsilon$.\n",
    "- Para uma cadeia $a\\alpha$, onde $a$ é um símbolo do alfabeto $\\Sigma_1$ e $\\alpha$ é uma subsequência de cadeias em $\\Sigma_1^*$, temos:\n",
    "  $$s(a\\alpha) = s(a)s(\\alpha)$$\n",
    "\n",
    "Ou seja, a substituição de uma cadeia é o resultado da concatenação das substituições de cada um de seus símbolos.\n",
    "\n",
    "#### Exemplo Prático\n",
    "\n",
    "Suponha a cadeia $w = abc$ e a seguinte substituição $s$:\n",
    "\n",
    "- $s(a) = \\{x\\}$\n",
    "- $s(b) = \\{y, yy\\}$\n",
    "- $s(c) = \\{z, zz, zzz\\}$\n",
    "\n",
    "Então, para aplicar a substituição em $w$:\n",
    "\n",
    "1. Começamos com $s(abc)$.\n",
    "2. Aplicamos a substituição ao primeiro símbolo e ao restante da cadeia:\n",
    "   $$s(abc) = s(a)s(bc)$$\n",
    "3. Continuamos aplicando a substituição para cada parte:\n",
    "   $$s(a) = \\{x\\}$$\n",
    "   $$s(bc) = s(b)s(c)$$\n",
    "   $$s(b) = \\{y, yy\\}$$\n",
    "   $$s(c) = \\{z, zz, zzz\\}$$\n",
    "4. Combinando todas as possíveis substituições de $s(a)$ e $s(b)$ com $s(c)$, obtemos um conjunto de cadeias resultantes de $s(abc)$.\n",
    "\n",
    "Portanto, $s(abc)$ gera um conjunto de cadeias que inclui combinações como 'xyz', 'xyzz', 'xyzzz', 'xyyz', 'xyyzz', 'xyyzzz', e assim por diante."
   ]
  },
  {
   "cell_type": "markdown",
   "metadata": {},
   "source": [
    "Vamos aplicar a substituição em uma cadeia mais complexa, digamos $w = abac$, usando a mesma substituição $s$ do exemplo anterior:\n",
    "\n",
    "- $s(a) = \\{x\\}$\n",
    "- $s(b) = \\{y, yy\\}$\n",
    "- $s(c) = \\{z, zz, zzz\\}$\n",
    "\n",
    "A cadeia $w = abac$ será analisada e transformada pela substituição $s$.\n",
    "\n",
    "1. Começamos decompondo a cadeia e aplicando a substituição passo a passo:\n",
    "   $$s(abac) = s(a)s(bac)$$\n",
    "\n",
    "2. Aplicando a substituição ao primeiro símbolo e ao restante da cadeia sequencialmente:\n",
    "   - Para o primeiro 'a': $s(a) = \\{x\\}$\n",
    "   - Para o restante 'bac': \n",
    "     $$s(bac) = s(b)s(ac)$$\n",
    "\n",
    "3. Continuamos desdobrando cada parte:\n",
    "   - Para 'b': $s(b) = \\{y, yy\\}$\n",
    "   - Para 'ac':\n",
    "     $$s(ac) = s(a)s(c)$$\n",
    "   - Para o segundo 'a': $s(a) = \\{x\\}$\n",
    "   - Para 'c': $s(c) = \\{z, zz, zzz\\}$\n",
    "\n",
    "4. Agora, combinamos as substituições de cada símbolo para obter o resultado final:\n",
    "   - Combinando $s(a)$, $s(b)$, e $s(ac)$, temos múltiplas combinações possíveis, dependendo das escolhas em $s(b)$ e $s(c)$.\n",
    "\n",
    "**Exemplo Concreto de Combinações**\n",
    "- Considerando uma das possíveis substituições para 'b' e 'c', podemos ter:\n",
    "  - Se escolhemos 'y' para 'b' e 'z' para 'c', uma das combinações possíveis para $s(abac)$ seria 'xyxz'.\n",
    "  - Se escolhemos 'yy' para 'b' e 'zzz' para 'c', outra combinação possível seria 'xyyxzzz'.  \n",
    "\n",
    "Assim, a substituição $s$ é aplicada a cada parte da cadeia $w = abac$, gerando um conjunto de cadeias resultantes que refletem todas as combinações possíveis de substituições conforme definido por $s$.\n"
   ]
  },
  {
   "cell_type": "markdown",
   "metadata": {},
   "source": [
    "## Slide 35"
   ]
  },
  {
   "cell_type": "markdown",
   "metadata": {},
   "source": [
    "A operação de substituição, previamente discutida no contexto de cadeias individuais, pode ser ampliada para ser aplicada a uma linguagem completa. Isso nos permite transformar todas as cadeias em uma linguagem de acordo com regras de substituição específicas.\n",
    "\n",
    "#### Definição para Linguagens\n",
    "Seja $s$ uma substituição e $L$ uma linguagem, então a aplicação de $s$ em $L$, denotada por $s(L)$, é definida como:\n",
    "\n",
    "$$s(L) = \\{y | y = s(x)\\ para\\ x \\in L\\}$$\n",
    "\n",
    "Isso significa que para cada cadeia $x$ em $L$, aplicamos a substituição $s$ para gerar uma nova cadeia $y$, e o conjunto de todas essas novas cadeias forma a linguagem $s(L)$.\n",
    "\n",
    "#### Exemplo Prático\n",
    "\n",
    "Suponha a linguagem $L = \\{a^ib^ic^i | i \\geq 1\\}$ sobre o alfabeto $\\Sigma_1 = \\{a,b,c\\}$. Cada cadeia em $L$ consiste em 'a's, 'b's e 'c's em número igual, mas variável.\n",
    "\n",
    "Se definirmos uma substituição $s$ tal que:\n",
    "\n",
    "- $s(a) = \\{x\\}$\n",
    "- $s(b) = \\{y, yy\\}$\n",
    "- $s(c) = \\{z, zz, zzz\\}$\n",
    "\n",
    "Então, ao aplicar $s$ a $L$, consideramos todas as possíveis combinações geradas pela substituição:\n",
    "\n",
    "- Para uma cadeia $a^ib^ic^i$ em $L$, onde $i \\geq 1$, $s$ mapeia cada 'a' para 'x', cada 'b' para 'y' ou 'yy', e cada 'c' para 'z', 'zz' ou 'zzz'.\n",
    "- Assim, $s(L)$ incluirá cadeias como $x^iy^jz^k$ onde $i\\geq 1$, $i\\leq j \\leq 2i$, e $i\\leq k \\leq 3i$ refletindo as múltiplas possibilidades de substituição para 'b' e 'c'.\n",
    "\n",
    "#### Conclusão\n",
    "\n",
    "Aplicar uma substituição a uma linguagem permite a transformação de todas as suas cadeias em novas cadeias, seguindo as regras de substituição definidas. Isso resulta em uma nova linguagem que pode ter características e estruturas complexas, dependendo das regras de substituição aplicadas."
   ]
  }
 ],
 "metadata": {
  "kernelspec": {
   "display_name": "moda",
   "language": "python",
   "name": "python3"
  },
  "language_info": {
   "codemirror_mode": {
    "name": "ipython",
    "version": 3
   },
   "file_extension": ".py",
   "mimetype": "text/x-python",
   "name": "python",
   "nbconvert_exporter": "python",
   "pygments_lexer": "ipython3",
   "version": "3.9.17"
  }
 },
 "nbformat": 4,
 "nbformat_minor": 2
}
