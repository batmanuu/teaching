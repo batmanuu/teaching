{
 "cells": [
  {
   "cell_type": "markdown",
   "metadata": {},
   "source": [
    "## Slide 7 - Gramática Livre de Contexto (GLC)"
   ]
  },
  {
   "cell_type": "markdown",
   "metadata": {},
   "source": [
    "Uma **Gramática Livre de Contexto (GLC)** $G$ é definida pela quádrupla:\n",
    "$$G = (V, T, P, S)$$\n",
    "onde:\n",
    "- $V$ é o conjunto de variáveis (não-terminais),\n",
    "- $T$ é o conjunto de símbolos terminais,\n",
    "- $P$ é o conjunto de regras de produção da forma $A \\to \\alpha$, com $A \\in V$ e $\\alpha \\in (V \\cup T)^*$,\n",
    "- $S$ é o símbolo inicial da gramática.\n",
    "\n",
    "A gramática é denominada \"livre de contexto\" porque as regras de produção permitem que o não-terminal $A$ seja substituído por $\\alpha$ independentemente do contexto ao redor de $A$.\n",
    "- Gramáticas Livres de Contexto são poderosas para descrever a sintaxe de linguagens de programação e estruturas aninhadas, como parênteses balanceados e tags HTML/XML correspondentes.\n",
    "- Elas são mais expressivas que gramáticas regulares e podem gerar linguagens que não são regulares, como $\\{a^n b^n \\mid n \\geq 0\\}$ (sequências de 'a's seguidas por 'b's em número igual).\n"
   ]
  },
  {
   "cell_type": "markdown",
   "metadata": {},
   "source": [
    "### Exemplos 1"
   ]
  },
  {
   "cell_type": "markdown",
   "metadata": {},
   "source": [
    "\n",
    "1. **GLC para palavras com parênteses balanceados:**\n",
    "   - $S \\to SS$\n",
    "   - $S \\to (S)$\n",
    "   - $S \\to \\epsilon$\n",
    "   - Esta gramática gera todas as strings de parênteses corretamente balanceados, como \"\", \"()\", \"(())\", etc.\n",
    "\n",
    "**Utilização em Análise Sintática**  \n",
    "- Em compiladores, GLCs são usadas para definir a gramática de uma linguagem de programação.\n",
    "- A análise sintática, que verifica se uma string pode ser gerada por uma gramática, utiliza algoritmos baseados em GLC para analisar e converter código fonte em uma estrutura de dados compreensível pelo computador (geralmente uma árvore sintática).\n",
    "\n",
    "**Importância dessa gramática em computação:**\n",
    "- Esta gramática é crucial porque define uma estrutura de **duplo balanceamento**, essencial em linguagens de programação bloco-estruturadas e no manejo de parênteses balanceados. Ela exemplifica como as linguagens podem ser definidas para garantir uma correspondência correta entre elementos simétricos, fundamental na análise sintática de linguagens de programação.\n",
    "\n",
    "**Discussão**\n",
    "\n",
    "A relevância dessa GLC se estende à compreensão de como os compiladores verificam a correta estruturação do código, ajudando a prevenir erros de sintaxe que poderiam levar a falhas de execução ou comportamentos inesperados dos programas. Além disso, as GLCs são utilizadas para modelar muitos aspectos das linguagens naturais em processamento de linguagem natural (PLN)."
   ]
  },
  {
   "cell_type": "markdown",
   "metadata": {},
   "source": [
    "### Exemplos 2"
   ]
  },
  {
   "cell_type": "markdown",
   "metadata": {},
   "source": [
    "Considere a linguagem $L_1 = \\{ a^n b^n | n \\geq 0 \\}$. A Gramática Livre de Contexto $G_1$ que gera $L_1$ é definida por:\n",
    "$$ G_1 = (\\{ S \\}, \\{ a, b \\}, \\{ S \\to aSb | S \\to \\epsilon \\}, S) $$\n",
    "\n",
    "**Derivação de um exemplo:**\n",
    "- Para gerar a palavra \"aabb\", seguimos a seguinte derivação:\n",
    "  $$ S \\implies aSb \\implies aaSbb \\implies aa\\epsilon bb \\implies aabb $$\n",
    "\n",
    "\n",
    "**Exemplo 2.1: Geração da palavra \"ab\"**\n",
    "\n",
    "- **Gramática:** $G_1 = (\\{ S \\}, \\{ a, b \\}, \\{ S \\to aSb | S \\to \\epsilon \\}, S)$\n",
    "- **Objetivo:** Gerar a palavra \"ab\"\n",
    "- **Derivação:**\n",
    "  - Início: $S$\n",
    "  - Aplicação da regra $S \\to aSb$: $aSb$\n",
    "  - Aplicação da regra $S \\to \\epsilon$: $a\\epsilon b = ab$\n",
    "\n",
    "Este processo mostra como a palavra \"ab\" é construída, começando do símbolo inicial $S$ e aplicando regras de substituição para chegar à palavra final.\n",
    "\n",
    "**Exemplo 2.2: Geração da palavra \"aabb\"**\n",
    "\n",
    "- **Objetivo:** Gerar a palavra \"aabb\"\n",
    "- **Derivação:**\n",
    "  - Início: $S$\n",
    "  - Aplicação da regra $S \\to aSb$: $aSb$\n",
    "  - Aplicação da regra $S \\to aSb$ novamente: $aaSbb$\n",
    "  - Aplicação da regra $S \\to \\epsilon$: $aa\\epsilon bb = aabb$\n",
    "\n",
    "**Exemplo 2.3: Geração da palavra \"aaabbb\"**\n",
    "\n",
    "- **Objetivo:** Gerar a palavra \"aaabbb\"\n",
    "- **Derivação:**\n",
    "  - Início: $S$\n",
    "  - Aplicação da regra $S \\to aSb$: $aSb$\n",
    "  - Aplicação da regra $S \\to aSb$ novamente: $aaSbb$\n",
    "  - Aplicação da regra $S \\to aSb$ mais uma vez: $aaaSbbb$\n",
    "  - Aplicação da regra $S \\to \\epsilon$: $aaa\\epsilon bbb = aaabbb$\n"
   ]
  },
  {
   "cell_type": "markdown",
   "metadata": {},
   "source": [
    "### Exemplos 3"
   ]
  },
  {
   "cell_type": "markdown",
   "metadata": {},
   "source": [
    "Considere a linguagem $\\boldsymbol{L_2}$, que compreende expressões aritméticas contendo colchetes balanceados, dois operadores, e um operando. A Gramática Livre de Contexto $\\boldsymbol{G_2}$ que gera $L_2$ é definida por:\n",
    "\n",
    "- **Variáveis (Não-terminais):** $V = \\{E\\}$\n",
    "- **Terminais:** $T = \\{+, *, [, ], x\\}$\n",
    "- **Produções ($P_2$):**\n",
    "  $$ P_2 = \\{\n",
    "  E \\to E+E, \\quad\n",
    "  E \\to E*E, \\quad\n",
    "  E \\to [E], \\quad\n",
    "  E \\to x\n",
    "  \\}$$  \n",
    "  ou ainda:\n",
    "    $$ P_2 = \\{  E \\to E+E | E*E | [E] | x \\}$$\n",
    "- **Símbolo Inicial:** $S = E$  \n",
    "\n",
    "Essa gramática permite a construção de expressões aritméticas onde operadores e operandos estão estruturados de maneira a respeitar os colchetes como delimitadores de subexpressões.\n",
    "\n",
    "**Derivação de um Exemplo: $[x+x]*x$**\n",
    "\n",
    "A palavra \"$[x+x]*x$\" pode ser gerada pela seguinte sequência de derivações:\n",
    "- Início: $E$\n",
    "- Aplicação da regra $E \\to E*E$: \n",
    "  - $E*E$\n",
    "- Substituição do primeiro $E$ por $[E]$: \n",
    "  - $[E]*E$\n",
    "- Expansão de $[E]$ para $[E+E]$: \n",
    "  - $[E+E]*E$\n",
    "- Substituição do primeiro $E$ dentro dos colchetes por $x$: \n",
    "  - $[x+E]*E$\n",
    "- Substituição do segundo $E$ dentro dos colchetes por $x$: \n",
    "  - $[x+x]*E$\n",
    "- Substituição do último $E$ por $x$: \n",
    "  - $[x+x]*x$\n",
    "\n",
    "**Discussão: Unicidade da Sequência de Derivação**\n",
    "\n",
    "A questão de se a sequência de derivação é única para uma dada palavra em uma GLC levanta a discussão sobre a **ambiguidade** da gramática. Uma gramática é ambígua se uma palavra pode ser derivada de mais de uma maneira. No caso da gramática $G_2$:\n",
    "\n",
    "- Dada a estrutura das produções, múltiplas derivações podem ser possíveis para uma mesma expressão aritmética, especialmente devido à presença de múltiplos operadores e a possibilidade de inserção de expressões entre colchetes.\n",
    "\n",
    "**Exemplo de possível ambiguidade:**\n",
    "\n",
    "Considere a palavra \"$x+x*x$\":\n",
    "- Pode ser derivada como $(x+x)*x$ ou $x+(x*x)$ dependendo da aplicação das regras $E \\to E+E$ e $E \\to E*E$, evidenciando a ambiguidade na gramática.\n",
    "- Assim, a gramática $\\boldsymbol{G_2}$ é potencialmente ambígua. A mesma palavra pode ser derivada de diferentes maneiras dependendo da ordem de aplicação das regras de produção, especialmente em expressões com múltiplos operadores e operandos. Isso pode ser problemático em contextos como a análise de linguagens de programação, onde a semântica precisa ser claramente definida e unívoca.\n",
    "\n",
    "Essa discussão é fundamental para entender a importância de uma definição clara e precisa de gramáticas, especialmente na concepção de linguagens de programação e em compiladores, onde a ambiguidade pode levar a interpretações errôneas de código."
   ]
  },
  {
   "cell_type": "markdown",
   "metadata": {},
   "source": [
    "## Slide 12 - Gramática Livre de Contexto (GLC)"
   ]
  },
  {
   "cell_type": "markdown",
   "metadata": {},
   "source": [
    "Uma **Árvore de Derivação** oferece uma maneira visual e estruturada de representar o processo de derivação de uma palavra em uma gramática livre de contexto. É particularmente útil para entender como uma palavra é construída a partir das regras de produção de uma gramática. As características de uma árvore de derivação incluem:\n",
    "\n",
    "1. **Raiz:** \n",
    "    - A raiz da árvore é sempre o símbolo inicial da gramática.\n",
    "2. **Vértices não-folhas:** \n",
    "    - Estes são os não-terminais. \n",
    "    - Cada nó não-folha $A$ com filhos $X_1, X_2, ..., X_n$ representa a aplicação da regra de produção $A \\to X_1 X_2 ... X_n$.\n",
    "3. **Vértices folha:** \n",
    "    - Estes são terminais ou o símbolo $\\epsilon$. \n",
    "    - Eles representam os símbolos terminais da palavra final ou a palavra vazia, indicando o fim de uma cadeia de derivações para aquele ramo."
   ]
  },
  {
   "cell_type": "markdown",
   "metadata": {},
   "source": [
    "### Exemplo 1"
   ]
  },
  {
   "cell_type": "markdown",
   "metadata": {},
   "source": [
    "\n",
    "Consideremos a gramática $G_2$ para expressões aritméticas com colchetes balanceados:\n",
    "\n",
    "- **Gramática $G_2$:** $G_2 = (\\{ E\\},\\{+,*,[,],x \\},\\{E\\to E+E | E*E | [E] | x \\},E)$"
   ]
  },
  {
   "cell_type": "code",
   "execution_count": 14,
   "metadata": {},
   "outputs": [
    {
     "name": "stdout",
     "output_type": "stream",
     "text": [
      "digraph \"Derivation Trees\" {\n",
      "\trankdir=TB size=\"8,5\"\n",
      "\tsubgraph cluster_0 {\n",
      "\t\tstyle=invisible\n",
      "\t\tS0 [label=S]\n",
      "\t\ta1 [label=a shape=none]\n",
      "\t\tS1 [label=S]\n",
      "\t\tb1 [label=b shape=none]\n",
      "\t\ta2 [label=a shape=none]\n",
      "\t\tS2 [label=S]\n",
      "\t\tb2 [label=b shape=none]\n",
      "\t\tS3 [label=\"ε\" shape=none]\n",
      "\t\tS0 -> a1\n",
      "\t\tS0 -> S1\n",
      "\t\tS0 -> b1\n",
      "\t\tS1 -> a2\n",
      "\t\tS1 -> S2\n",
      "\t\tS1 -> b2\n",
      "\t\tS2 -> S3\n",
      "\t\tlabel=\"Duplo desbalanceamento\"\n",
      "\t}\n",
      "\tsubgraph cluster_1 {\n",
      "\t\tstyle=invisible\n",
      "\t\tE0 [label=E]\n",
      "\t\tE1 [label=E]\n",
      "\t\tplus [label=\"*\" shape=none]\n",
      "\t\tE2 [label=E]\n",
      "\t\tx0 [label=x shape=none]\n",
      "\t\topen [label=\"[\" shape=none]\n",
      "\t\tE3 [label=E]\n",
      "\t\tclose [label=\"]\" shape=none]\n",
      "\t\tE4 [label=E]\n",
      "\t\tadd [label=\"+\" shape=none]\n",
      "\t\tE5 [label=E]\n",
      "\t\tx1 [label=x shape=none]\n",
      "\t\tx2 [label=x shape=none]\n",
      "\t\tE0 -> E1\n",
      "\t\tE0 -> E2\n",
      "\t\tE0 -> plus\n",
      "\t\tE1 -> open\n",
      "\t\tE1 -> E3\n",
      "\t\tE1 -> close\n",
      "\t\tE2 -> x0\n",
      "\t\tE3 -> E4\n",
      "\t\tE3 -> add\n",
      "\t\tE3 -> E5\n",
      "\t\tE4 -> x1\n",
      "\t\tE5 -> x2\n",
      "\t\tlabel=\"Expressão aritmética\"\n",
      "\t}\n",
      "}\n",
      "\n"
     ]
    }
   ],
   "source": [
    "from graphviz import Digraph\n",
    "\n",
    "def create_derivation_trees():\n",
    "    dot = Digraph('Derivation Trees', filename='derivation_trees', format='png')\n",
    "    dot.attr(rankdir='TB', size='8,5')\n",
    "\n",
    "    # Subgrafo para a árvore de derivação do duplo desbalanceamento\n",
    "    with dot.subgraph(name='cluster_0') as c:\n",
    "        c.attr(style='invisible')\n",
    "        c.node('S0', 'S')\n",
    "        c.node('a1', 'a', shape='none')\n",
    "        c.node('S1', 'S')\n",
    "        c.node('b1', 'b', shape='none')\n",
    "        c.node('a2', 'a', shape='none')\n",
    "        c.node('S2', 'S')\n",
    "        c.node('b2', 'b', shape='none')\n",
    "        c.node('S3', 'ε', shape='none')\n",
    "        c.edges([('S0', 'a1'), ('S0', 'S1'), ('S0', 'b1')])\n",
    "        c.edges([('S1', 'a2'), ('S1', 'S2'), ('S1', 'b2')])\n",
    "        c.edges([('S2', 'S3')])\n",
    "        c.attr(label='Duplo desbalanceamento')\n",
    "\n",
    "    # Subgrafo para a árvore de derivação da expressão aritmética\n",
    "    with dot.subgraph(name='cluster_1') as c:\n",
    "        c.attr(style='invisible')\n",
    "        c.node('E0', 'E')\n",
    "\n",
    "        c.node('E1', 'E')\n",
    "        c.node('plus', '*', shape='none')\n",
    "        c.node('E2', 'E')\n",
    "\n",
    "        c.node('x0', 'x', shape='none')\n",
    "\n",
    "        c.node('open', '[', shape='none')\n",
    "        c.node('E3', 'E')\n",
    "        c.node('close', ']', shape='none')\n",
    "\n",
    "        c.node('E4', 'E')\n",
    "        c.node('add', '+', shape='none')\n",
    "        c.node('E5', 'E')\n",
    "        \n",
    "        c.node('x1', 'x', shape='none')\n",
    "        c.node('x2', 'x', shape='none')\n",
    "\n",
    "        c.edges([('E0', 'E1'), ('E0', 'E2'), ('E0', 'plus')])\n",
    "        c.edges([('E1', 'open'), ('E1', 'E3'), ('E1', 'close')])\n",
    "        c.edges([('E2', 'x0')])\n",
    "        c.edges([('E3', 'E4'), ('E3', 'add'), ('E3', 'E5')])\n",
    "        c.edges([('E4', 'x1')])\n",
    "        c.edges([('E5', 'x2')])\n",
    "        c.attr(label='Expressão aritmética')\n",
    "\n",
    "    print(dot.source)\n",
    "    dot.render('derivation_trees_output', view=True)\n",
    "\n",
    "create_derivation_trees()\n"
   ]
  },
  {
   "cell_type": "markdown",
   "metadata": {},
   "source": [
    "**Interpretação da expansão da Expressão Aritmética**\n",
    "- A raiz é o símbolo inicial `E`.\n",
    "- O primeiro `E` se expande usando a produção `E -> E*E`, criando dois novos nós `E`.\n",
    "- O primeiro `E` à esquerda do `*` expande para `[E]`, e então para `[E+E]` dentro dos colchetes.\n",
    "- Dentro dos colchetes, `E` se expande para `x` e depois `x + E`, com o último `E` também se tornando `x`.\n",
    "- O segundo `E` à direita do `*` expande diretamente para `x`.\n",
    "\n",
    "**Interpretação do Duplo Desbalanceamento:**\n",
    "- A **raiz** é o símbolo inicial `S`.\n",
    "- O símbolo `S` se expande usando a produção `S -> aSb`, introduzindo terminais `a` e `b` e um novo não-terminal `S` entre eles.\n",
    "- Este novo `S` segue a mesma regra de produção `S -> aSb` repetidamente, criando uma estrutura aninhada onde cada novo `S` está encapsulado por `a` e `b`.\n",
    "- No nível mais interno, `S` utiliza a produção `S -> ε` (épsilon), que é a produção que gera a cadeia vazia, concluindo a expansão dos não-terminais.\n",
    "- Cada expansão de `S` em `aSb` adiciona um par `a` e `b`, garantindo que para cada `a` inicial haja um `b` correspondente no final, resultando em palavras da forma `a^n b^n`.\n"
   ]
  },
  {
   "cell_type": "markdown",
   "metadata": {},
   "source": [
    "### Exemplo 2"
   ]
  },
  {
   "cell_type": "markdown",
   "metadata": {},
   "source": [
    "**Árvore de Derivação para $x + x \\times x$:**\n",
    "\n",
    "- A **raiz** é o símbolo inicial `E`.\n",
    "- O nó raiz `E` se expande em `E + E`, separando a expressão em duas partes.\n",
    "- A esquerda `E` da adição se resolve diretamente para `x`.\n",
    "- O `E` à direita do `+` se expande para $E \\times E$, representando a operação de multiplicação.\n",
    "- Cada `E` na expressão de multiplicação resolve para `x`, completando a árvore.\n",
    "\n",
    "**Vários Caminhos de Derivação:**\n",
    "\n",
    "1. **Derivação direta:**\n",
    "   - $ E \\rightarrow E + E \\rightarrow x + E \\rightarrow x + (E \\times E) \\rightarrow x + (x \\times x) $\n",
    "\n",
    "2. **Derivação com expansão antecipada da multiplicação:**\n",
    "   - $ E \\rightarrow E + E \\rightarrow E + (E \\times E) \\rightarrow E + (x \\times E) \\rightarrow E + (x \\times x) \\rightarrow x + (x \\times x) $\n",
    "\n",
    "3. **Início com multiplicação:**\n",
    "   - $ E \\rightarrow E + E \\rightarrow (E \\times E) + E \\rightarrow (x \\times E) + E \\rightarrow (x \\times x) + E \\rightarrow (x \\times x) + x $\n",
    "\n",
    "Cada caminho ilustra como diferentes derivações podem levar ao mesmo resultado final, mostrando a não-determinística natureza das gramáticas livres de contexto ao derivar expressões.  \n",
    "Agora, vamos gerar o código Python para desenhar a árvore de derivação da expressão $x + x \\times x$\n"
   ]
  },
  {
   "cell_type": "code",
   "execution_count": 19,
   "metadata": {},
   "outputs": [
    {
     "name": "stdout",
     "output_type": "stream",
     "text": [
      "digraph \"Derivation Trees\" {\n",
      "\trankdir=TB size=\"8,5\"\n",
      "\tE0 [label=E]\n",
      "\tE1 [label=E]\n",
      "\tplus [label=\"+\" shape=none]\n",
      "\tE2 [label=E]\n",
      "\tE3 [label=E]\n",
      "\ttimes [label=\"*\" shape=none]\n",
      "\tE4 [label=E]\n",
      "\tx1 [label=x shape=none]\n",
      "\tx2 [label=x shape=none]\n",
      "\tx3 [label=x shape=none]\n",
      "\tE0 -> E1\n",
      "\tE0 -> plus\n",
      "\tE0 -> E2\n",
      "\tE2 -> E3\n",
      "\tE2 -> times\n",
      "\tE2 -> E4\n",
      "\tE1 -> x1\n",
      "\tE3 -> x2\n",
      "\tE4 -> x3\n",
      "}\n",
      "\n"
     ]
    },
    {
     "data": {
      "text/plain": [
       "'derivation_tree.png'"
      ]
     },
     "execution_count": 19,
     "metadata": {},
     "output_type": "execute_result"
    }
   ],
   "source": [
    "from graphviz import Digraph\n",
    "\n",
    "# Criação da árvore de derivação\n",
    "dot = Digraph('Derivation Trees', filename='derivation_trees', format='png')\n",
    "dot.attr(rankdir='TB', size='8,5')\n",
    "dot.node('E0', 'E')\n",
    "dot.node('E1', 'E')\n",
    "dot.node('plus', '+', shape='none')\n",
    "dot.node('E2', 'E')\n",
    "dot.node('E3', 'E')\n",
    "dot.node('times', '*', shape='none')\n",
    "dot.node('E4', 'E')\n",
    "dot.node('x1', 'x', shape='none')\n",
    "dot.node('x2', 'x', shape='none')\n",
    "dot.node('x3', 'x', shape='none')\n",
    "\n",
    "# Construindo a árvore\n",
    "dot.edge('E0', 'E1')\n",
    "dot.edge('E0', 'plus')\n",
    "dot.edge('E0', 'E2')\n",
    "dot.edge('E2', 'E3')\n",
    "dot.edge('E2', 'times')\n",
    "dot.edge('E2', 'E4')\n",
    "dot.edge('E1', 'x1')\n",
    "dot.edge('E3', 'x2')\n",
    "dot.edge('E4', 'x3')\n",
    "\n",
    "# Visualização da árvore\n",
    "print(dot.source)\n",
    "dot.render('derivation_tree', view=True)\n"
   ]
  },
  {
   "cell_type": "markdown",
   "metadata": {},
   "source": [
    "## Slide 17 - Árvore de Derivação e Tipos de Derivação**"
   ]
  },
  {
   "cell_type": "markdown",
   "metadata": {},
   "source": [
    "### Derivação Mais à Esquerda**"
   ]
  },
  {
   "cell_type": "markdown",
   "metadata": {},
   "source": [
    "**Definição:** Uma derivação mais à esquerda em uma gramática livre de contexto ocorre quando, a cada passo da derivação, a substituição (ou produção) é aplicada ao não-terminal mais à esquerda ainda não substituído na cadeia.\n",
    "\n",
    "- **Exemplo Prático:**\n",
    "  - Considere a palavra $x + x \\times x$ e a gramática $G = (\\{E\\}, \\{x, +, \\times\\}, P, E)$ onde $P$ inclui as regras:\n",
    "    - $E \\to E + E$\n",
    "    - $E \\to E \\times E$\n",
    "    - $E \\to x$\n",
    "  - **Desenvolvimento**\n",
    "    - Começamos com $E$.\n",
    "    - $E \\implies E + E$ (substituímos o $E$ mais à esquerda por $E + E$)\n",
    "    - $E + E \\implies E + E$ (substituímos o $E$ mais à esquerda por $x$)\n",
    "    - $x + E \\implies x + E \\times E$ (substituímos o $E$ mais à esquerda por $E \\times E$)\n",
    "    - $x + E \\times E \\implies x + x \\times E$ (substituímos o $E$ mais à esquerda por $x$)\n",
    "    - $x + x \\times E \\implies x + x \\times x$ (substituímos o $E$ restante por $x$)"
   ]
  },
  {
   "cell_type": "markdown",
   "metadata": {},
   "source": [
    "### Derivação Mais à Direita"
   ]
  },
  {
   "cell_type": "markdown",
   "metadata": {},
   "source": [
    "**Definição:** Uma derivação mais à direita em uma gramática livre de contexto ocorre quando, a cada passo da derivação, a substituição é aplicada ao não-terminal mais à direita ainda não substituído na cadeia.\n",
    "\n",
    "- **Exemplo Prático:**\n",
    "  - Usando a mesma palavra e gramática do exemplo anterior.\n",
    "  - **Desenvolvimento**\n",
    "    - Começamos com $E$.\n",
    "    - $E \\implies E + E$ (substituímos o $E$ mais à direita por $E + E$)\n",
    "    - $E + E \\implies E + E \\times E$ (substituímos o $E$ mais à direita por $E \\times E$)\n",
    "    - $E + E \\times E \\implies E + E \\times x$ (substituímos o $E$ mais à direita por $x$)\n",
    "    - $E + E \\times x \\implies E + x \\times x$ (substituímos o $E$ mais à direita por $x$)\n",
    "    - $E + x \\times x \\implies x + x \\times x$ (substituímos o $E$ restante por $x$)"
   ]
  },
  {
   "cell_type": "markdown",
   "metadata": {},
   "source": [
    "## Slide 18 - Ambiguidade"
   ]
  },
  {
   "cell_type": "markdown",
   "metadata": {},
   "source": [
    "**Definição de Ambiguidade:**\n",
    "- Uma gramática livre de contexto é considerada ambígua se uma mesma palavra pode ser gerada por mais de uma árvore de derivação. Isso significa que existem múltiplas maneiras de aplicar as regras da gramática para obter a mesma sequência de símbolos.\n",
    "\n",
    "**Exemplo de Ambiguidade:**\n",
    "- Considere a palavra $ x+x \\times x $ e a gramática $ G = (\\{E\\}, \\{x, +, \\times\\}, P, E) $ com as regras:\n",
    "  - $ E \\to E + E $\n",
    "  - $ E \\to E \\times E $\n",
    "  - $ E \\to x $\n",
    "\n",
    "- Esta palavra pode ser gerada por duas árvores de derivação distintas, ilustrando a ambiguidade na gramática. As duas derivações possíveis são mostradas abaixo:\n",
    "\n",
    "1. Árvore de Derivação para Derivação Mais à Esquerda\n",
    "    - Primeira árvore (operação de adição feita por último):\n",
    "      - $ E $\n",
    "      - $ \\to E + E $\n",
    "      - $ \\to (E \\times E) + E $\n",
    "      - $ \\to (x \\times x) + x $\n",
    "  \n",
    "2. Árvore de Derivação para Derivação Mais à Direita\n",
    "    - Segunda árvore (operação de multiplicação feita por último):\n",
    "      - $ E $\n",
    "      - $ \\to E + E $\n",
    "      - $ \\to E + (E \\times E) $\n",
    "      - $ \\to x + (x \\times x) $\n",
    "\n",
    "**Visualização das Árvores de Derivação:**\n",
    "- As duas árvores de derivação apresentadas visualmente demonstram como as regras podem ser aplicadas de maneiras diferentes para alcançar o mesmo resultado final, o que caracteriza a ambiguidade da gramática.\n",
    "\n",
    "**Impacto da Ambiguidade:**\n",
    "  - A ambiguidade de uma gramática pode complicar a análise sintática automatizada\n",
    "  - diferentes análises podem levar a interpretações distintas da mesma entrada. \n",
    "  - É crucial, especialmente em contextos de programação e processamento de linguagens, garantir que as gramáticas sejam inequívocas para evitar ambiguidades que possam resultar em comportamentos inesperados ou erros de interpretação.\n",
    "\n",
    "**Conclusão:**\n",
    "- A existência de múltiplas árvores de derivação para uma única palavra é um indicativo claro de ambiguidade\n",
    "- Nestes casos, esforços para desambiguar gramáticas são fundamentais na concepção de compiladores e intérpretes mais eficazes e confiáveis.\n"
   ]
  },
  {
   "cell_type": "markdown",
   "metadata": {},
   "source": [
    "## Slide 36 - Autômato com Pilha"
   ]
  },
  {
   "cell_type": "markdown",
   "metadata": {},
   "source": [
    "**Definição e Uso:**\n",
    "- **Autômatos com Pilha** são modelos computacionais que podem reconhecer as **Linguagens Livres de Contexto**. \n",
    "- Estes autômatos são equipados com uma memória auxiliar na forma de uma pilha, permitindo-lhes armazenar uma quantidade ilimitada de informação.\n",
    "  \n",
    "**Características Principais:**\n",
    "- **Pilha**: Serve como memória auxiliar do autômato. Permite operações de empilhar (push), que adiciona um símbolo ao topo da pilha, e desempilhar (pop), que remove o símbolo do topo.\n",
    "- **Não-determinismo**: Um autômato com pilha pode ter mais de uma transição possível para um mesmo estado e símbolo de entrada, ou pode mover-se sem consumir nenhum símbolo de entrada (transição $\\epsilon$).\n",
    "\n",
    "**Visualização da Pilha em Operação:**\n",
    "- A imagem a seguir mostra o conceito de uma pilha utilizada em autômatos com pilha, destacando como os símbolos são adicionados e removidos do topo da pilha, e indicando o sentido de crescimento da pilha.\n",
    "\n",
    "![Pilha em Autômato com Pilha](pilha.png)\n",
    "\n",
    "**Importância do Não-Determinismo:**\n",
    "- O não-determinismo é crucial porque permite que o autômato explore várias possibilidades de processamento simultaneamente, o que é particularmente útil para processar linguagens que requerem mais poder computacional do que aquele oferecido pelos autômatos finitos."
   ]
  },
  {
   "cell_type": "markdown",
   "metadata": {},
   "source": [
    "**Definição Formal:**\n",
    "- Um APN é formalmente definido como uma 6-tupla:\n",
    "  $ M = (\\Sigma, Q, \\delta, q_0, F, V) $\n",
    "  onde:\n",
    "  - $\\Sigma$: Alfabeto de entrada.\n",
    "  - $Q$: Conjunto finito de estados.\n",
    "  - $\\delta$: Função de transição, definida como:\n",
    "    $$ \\delta: Q \\times (\\Sigma \\cup \\{\\epsilon\\}) \\times (\\Gamma \\cup \\{\\epsilon\\}) \\rightarrow 2^{Q \\times \\Gamma^*} $$\n",
    "  - $q_0$: Estado inicial, com $q_0 \\in Q$.\n",
    "  - $F$: Conjunto de estados finais, com $F \\subseteq Q$.\n",
    "  - $V$: Alfabeto da pilha.\n",
    "\n",
    "**Funcionamento:**\n",
    "- O autômato lê símbolos de entrada e utiliza uma pilha para armazenar símbolos que ajudam a controlar o processo de aceitação de palavras.\n",
    "- As transições podem depender do \n",
    "  - estado atual\n",
    "  - do símbolo de entrada (ou de um $\\epsilon$-movimento) e \n",
    "  - do topo da pilha\n",
    "- As transições podem resultar em mudanças de estado e operações de empilhar ou desempilhar símbolos na pilha.\n",
    "\n",
    "Graficamente, a função programa pode ser representada como:  \n",
    "![Gráfico de Autômato com Pilha](funcao_grafico.png)\n"
   ]
  },
  {
   "cell_type": "markdown",
   "metadata": {},
   "source": [
    "**Funcionamento Detalhado da Função de Transição ($\\delta$):**\n",
    "- A função de transição de um Autômato com Pilha Não-determinístico manipula a pilha enquanto processa a entrada.\n",
    "\n",
    "**Aspectos Importantes da Função $\\delta$:**\n",
    "- **Totalidade:** A função $\\delta$ pode ser total, cobrindo todas as combinações possíveis de estado atual, símbolo de entrada (ou $\\epsilon$), e símbolo no topo da pilha.\n",
    "- **Não-determinismo:** \n",
    "  - O uso do símbolo $\\epsilon$ para a entrada ou a pilha introduz não-determinismo:\n",
    "    - **Na entrada:** Permite transições sem consumir um símbolo da entrada.\n",
    "    - **Na pilha:** Permite transições sem necessariamente depender do símbolo no topo da pilha.\n",
    "- **Operações na Pilha:** \n",
    "  - Um $\\epsilon$ na operação de pilha indica que não há modificação na pilha (não empilha nem desempilha nada).\n",
    "- **Uso do Símbolo $?$:**\n",
    "  - O símbolo $?$ tem interpretações específicas dependendo de onde é usado:\n",
    "    - **Na leitura da fita:** Pode indicar se toda a entrada foi consumida, ou seja, se a leitura da fita chegou ao fim.\n",
    "    - **Na leitura da pilha:** Pode ser usado para verificar se a pilha está vazia.\n",
    "\n",
    "**Exemplo de Uso em Análise de Linguagem:**\n",
    "- Autômatos com pilha são amplamente utilizados na análise sintática em compiladores, onde a precisão na manipulação da pilha e a capacidade de lidar com entradas complexas são essenciais."
   ]
  },
  {
   "cell_type": "markdown",
   "metadata": {},
   "source": [
    "**Critérios de Parada em Autômatos com Pilha:**\n",
    "\n",
    "Autômatos com Pilha (APs) têm várias maneiras de finalizar o processamento de uma entrada. Eles podem aceitar, rejeitar ou até mesmo entrar em um ciclo infinito, dependendo das condições abaixo:\n",
    "\n",
    "1. **Aceitação:**\n",
    "   - **Por estado final:** O AP pode parar se atingir um estado final e não houver mais entrada para processar. Isso significa que a palavra foi aceita pelo autômato.\n",
    "   - **Por pilha vazia:** Alguns APs são configurados para aceitar quando a pilha é completamente consumida, independentemente do estado em que se encontram.\n",
    "\n",
    "2. **Rejeição:**\n",
    "   - Um AP rejeita uma entrada se todos os caminhos de computação possíveis levarem a configurações que não podem mais avançar (por exemplo, não há transições aplicáveis) ou se terminarem em estados não-finais sem consumir toda a entrada.\n",
    "\n",
    "3. **Loop Infinito:**\n",
    "   - Um AP pode entrar em um loop infinito se, em pelo menos um de seus caminhos de computação, ele repetir a mesma configuração indefinidamente sem consumir a entrada. Se qualquer caminho entra em loop infinito, considera-se que o AP pode potencialmente nunca parar para essa entrada.\n",
    "\n",
    "**Exemplos de Comportamento:**\n",
    "- **Aceitação por estado final:** Um AP que lê strings binárias e verifica se têm números iguais de 0s e 1s pode parar em um estado final se a condição for verdadeira.\n",
    "- **Rejeição:** Um AP que verifica parênteses balanceados rejeitará a entrada `)(` pois não pode processá-la corretamente.\n",
    "- **Loop Infinito:** Um AP que adiciona símbolos à pilha por cada 0 lido e nunca os remove pode entrar em loop infinito com a entrada `000...`."
   ]
  },
  {
   "cell_type": "markdown",
   "metadata": {},
   "source": [
    "### Exemplo 1"
   ]
  },
  {
   "cell_type": "markdown",
   "metadata": {},
   "source": [
    "**Autômato com Pilha para $L = \\{ a^n b^n | n \\geq 0 \\}$**:\n",
    "\n",
    "A linguagem $L$ consiste em strings onde o número de 'a's é igual ao número de 'b's. Um Autômato com Pilha (AP) pode reconhecer essa linguagem usando uma pilha para contar os 'a's e verificar se eles são seguidos pelo mesmo número de 'b's.\n",
    "\n",
    "**Descrição do Autômato:**\n",
    "- **Estados:**\n",
    "  - $q_0$: Estado inicial onde o AP começa a operação e empilha cada 'a' lido.\n",
    "  - $q_1$: Estado onde o AP começa a desempilhar por cada 'b' lido.\n",
    "  - $q_f$: Estado final que indica que a palavra foi aceita.\n",
    "- **Transições:**\n",
    "  - $ (a, \\epsilon, B) $: Em $q_0$, para cada 'a' lido, empilha um 'B'.\n",
    "  - $ (b, B, \\epsilon) $: Em $q_1$, para cada 'b' lido, desempilha um 'B'.\n",
    "  - $ (?, ?, \\epsilon) $: Transições que permitem mover-se entre $q_0$ e $q_1$ sem modificar a pilha, e de $q_1$ para $q_f$ se a pilha estiver vazia.\n",
    "- **Alfabeto de Pilha:**\n",
    "  - Utiliza o símbolo 'B' como marcador na pilha.\n",
    "\n",
    "**Funcionamento:**\n",
    "- O autômato inicia em $q_0$ e empilha um 'B' para cada 'a' lido, garantindo que cada 'a' tenha um correspondente 'b' posterior.\n",
    "- Ao ler o primeiro 'b', o autômato transita para $q_1$ e começa a desempilhar, verificando se o número de 'b's corresponde ao número de 'a's empilhados.\n",
    "- Se todos os 'b's forem lidos e a pilha estiver vazia, o autômato transita para $q_f$, indicando que a palavra pertence à linguagem $L$.\n",
    "\n",
    "**Visualização:**\n",
    "A imagem do autômato seria inserida aqui, mostrando visualmente os estados e transições.\n"
   ]
  }
 ],
 "metadata": {
  "kernelspec": {
   "display_name": "moda",
   "language": "python",
   "name": "python3"
  },
  "language_info": {
   "codemirror_mode": {
    "name": "ipython",
    "version": 3
   },
   "file_extension": ".py",
   "mimetype": "text/x-python",
   "name": "python",
   "nbconvert_exporter": "python",
   "pygments_lexer": "ipython3",
   "version": "3.9.17"
  }
 },
 "nbformat": 4,
 "nbformat_minor": 2
}
